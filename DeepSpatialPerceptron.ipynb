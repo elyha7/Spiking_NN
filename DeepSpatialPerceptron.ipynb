{
 "cells": [
  {
   "cell_type": "code",
   "execution_count": 1,
   "metadata": {
    "collapsed": true
   },
   "outputs": [],
   "source": [
    "%matplotlib inline\n",
    "from Stupid_digits import *\n",
    "from sklearn.metrics import accuracy_score\n",
    "from mpl_toolkits.mplot3d import Axes3D\n",
    "from matplotlib import pyplot as plt\n",
    "from matplotlib import animation\n",
    "from copy import copy\n",
    "from utils import *\n",
    "from Stupid_digits import stupid_digits_dataset"
   ]
  },
  {
   "cell_type": "code",
   "execution_count": 2,
   "metadata": {
    "collapsed": false
   },
   "outputs": [],
   "source": [
    "#X,y,shape = load_mnist()\n",
    "X,y=stupid_digits_dataset(1000)"
   ]
  },
  {
   "cell_type": "code",
   "execution_count": null,
   "metadata": {
    "collapsed": false
   },
   "outputs": [],
   "source": [
    "X = X.reshape(10000,-1)\n",
    "y = y.reshape(10000)\n",
    "print(X.shape)\n",
    "print(y.shape)"
   ]
  },
  {
   "cell_type": "code",
   "execution_count": 3,
   "metadata": {
    "collapsed": false
   },
   "outputs": [
    {
     "data": {
      "image/png": "[encoded data removed]",
      "text/plain": [
       "<matplotlib.figure.Figure at 0x7ff313957250>"
      ]
     },
     "metadata": {},
     "output_type": "display_data"
    }
   ],
   "source": [
    "#X,y = stupid_digits_dataset(1000)\n",
    "#print(X.shape)\n",
    "#print(y.shape)\n",
    "plt.figure('data')\n",
    "for _ in np.arange(16):\n",
    "    plt.subplot(4,4,_+1)\n",
    "    plt.imshow(X[_].reshape(5,5), interpolation='None')\n",
    "    plt.axis('off')\n",
    "plt.show()"
   ]
  },
  {
   "cell_type": "code",
   "execution_count": 4,
   "metadata": {
    "collapsed": false
   },
   "outputs": [],
   "source": [
    "from brian2 import *\n",
    "import numpy as np\n",
    "from time import clock\n",
    "\n",
    "import json\n",
    "import codecs\n",
    "\n",
    "def sv_json(obj, path, encoding=\"cp1251\"):\n",
    "    with codecs.open(path, \"w\", encoding=encoding) as f:\n",
    "        json.dump(obj, f, indent=1, ensure_ascii=0)\n",
    "        \n",
    "def ld_json(path, encoding=\"cp1251\"):\n",
    "    with codecs.open(path, \"r\", encoding=encoding) as f:\n",
    "        return json.load(f)\n",
    "\n",
    "start_scope()\n",
    "\n",
    "time_per_image = 100*ms\n",
    "time_step = 0.1*ms\n",
    "#alpha = 30*ms\n",
    "#beta = 500*ms\n",
    "tau = 20*ms # tau for neuron's voltage 'v'\n",
    "tau_I = 15*ms # tau for neuron's current 'I'\n",
    "tau_h = 50*ms # tau for neuron's treshold\n",
    "\n",
    "lr = 1.\n",
    "lr_intr = 1.\n",
    "lr_rec = 1.\n",
    "wmax = 1.\n",
    "decay = 0.00\n",
    "\n",
    "c_inp = 1.\n",
    "c_intr = 1.\n",
    "c_out = 1.\n",
    "c_intr_out = 1.\n",
    "c_rec = 1.\n",
    "\n",
    "c_diff = 1.0\n",
    "\n",
    "eqs_input_neuron = '''\n",
    "rates : Hz\n",
    "da/dt = -a/alpha : 1\n",
    "dtheta/dt = -theta/beta : 1\n",
    "diff = a - c_diff * theta : 1\n",
    "train :1\n",
    "x :1\n",
    "y :1\n",
    "z :1\n",
    "'''\n",
    "\n",
    "eqs_hidden_neuron_pos = '''\n",
    "dv/dt = (-v+I)/tau : 1 (unless refractory)\n",
    "dI_inp/dt = -I_inp/tau_I :1\n",
    "dI_intr/dt = -I_intr/tau_I :1\n",
    "I = I_inp + I_intr: 1\n",
    "da/dt = -a/alpha : 1\n",
    "dtheta/dt = -theta/beta : 1\n",
    "diff = a - c_diff * theta : 1\n",
    "dhold_hidden/dt = -hold_hidden/tau_h : 1\n",
    "hold = clip(hold_hidden, 1, 100) : 1\n",
    "train :1\n",
    "x :1\n",
    "y :1\n",
    "z :1\n",
    "'''\n",
    "\n",
    "eqs_hidden_neuron_neg = '''\n",
    "dv/dt = (-v+I)/tau : 1 (unless refractory)\n",
    "dI_inp/dt = -I_inp/tau_I :1\n",
    "I = I_inp: 1\n",
    "da/dt = -a/alpha : 1\n",
    "dtheta/dt = -theta/beta : 1\n",
    "diff = a - c_diff * theta : 1\n",
    "dhold_hidden/dt = -hold_hidden/tau_h : 1\n",
    "hold = clip(hold_hidden, 0, 100) : 1\n",
    "train :1\n",
    "x :1\n",
    "y :1\n",
    "z :1\n",
    "'''\n",
    "\n",
    "eqs_output_neuron_pos = '''\n",
    "dv/dt = (-v+I)/tau : 1 (unless refractory)\n",
    "dI_inp/dt = -I_inp/tau_I :1\n",
    "dI_intr/dt = -I_intr/tau_I :1\n",
    "I_teacher :1\n",
    "I = I_inp + I_intr + I_teacher : 1\n",
    "da/dt = -a/alpha : 1\n",
    "dtheta/dt = -theta/beta : 1\n",
    "diff = a - c_diff * theta : 1\n",
    "dhold_output/dt = -hold_output/tau_h  : 1\n",
    "hold = clip(hold_output, 1, 100) : 1\n",
    "train :1\n",
    "x :1\n",
    "y :1\n",
    "z :1\n",
    "'''\n",
    "\n",
    "eqs_output_neuron_neg = '''\n",
    "dv/dt = (-v+I)/tau : 1 (unless refractory)\n",
    "dI_inp/dt = -I_inp/tau_I :1\n",
    "I = I_inp : 1\n",
    "da/dt = -a/alpha : 1\n",
    "dtheta/dt = -theta/beta : 1\n",
    "diff = a - c_diff * theta : 1\n",
    "dhold_output/dt = -hold_output/tau_h  : 1\n",
    "hold = clip(hold_output, 0, 100) : 1\n",
    "train :1\n",
    "x :1\n",
    "y :1\n",
    "z :1\n",
    "'''\n",
    "\n",
    "\n",
    "eqs_syn = '''\n",
    "distance = sqrt((x_post - x_pre)**2 + (y_post - y_pre)**2 + (z_post - z_pre)**2) :1\n",
    "dw/dt = -train_pre*w/(decay_time)*distance: 1\n",
    "'''\n",
    "\n",
    "eqs_output_syn = '''\n",
    "dw/dt = -train_pre*w/(decay_time)*15: 1\n",
    "'''\n",
    "\n",
    "# equations that describe changes if presynaptic spike of the forward-riented synapse of input layer occures\n",
    "eqs_input_pre = '''\n",
    "I_inp_post += w * c_inp\n",
    "a_pre += 1./n_hidden *1*ms/(alpha)\n",
    "theta_pre += 1./n_hidden *1*ms/(beta)\n",
    "w = clip(w + train_pre*(lr*a_post*diff_post/distance), 0, wmax)\n",
    "'''\n",
    "\n",
    "# equations that describe changes if postsynaptic spike of the forward synapse occures\n",
    "eqs_input_post = '''\n",
    "'''\n",
    "\n",
    "# equations that describe changes if spike of the intr synapse occures\n",
    "eqs_intrinsic_pos_pre = '''\n",
    "I_inp_post += w * c_intr\n",
    "a_pre += 1.*ms/(alpha)\n",
    "theta_pre += 1.*ms/(beta)\n",
    "w = clip(w + train_pre*(lr*a_post*diff_post), 0, wmax)\n",
    "'''\n",
    "\n",
    "eqs_intrinsic_pos_post = '''\n",
    "a_post += 1*ms/(alpha)\n",
    "theta_post += 1*ms/(beta)\n",
    "'''\n",
    "\n",
    "eqs_intrinsic_neg_pre = '''\n",
    "I_intr_post += w * c_intr\n",
    "w = clip(w + train_pre*(lr_intr*a_post*diff_post/distance), -wmax, 0)\n",
    "'''\n",
    "\n",
    "eqs_intrinsic_neg_post = '''\n",
    "'''\n",
    "\n",
    "# equations that describe changes if presynaptic spike of the forward synapse of hidden layer occures\n",
    "eqs_output_pre = '''\n",
    "I_inp_post += w * c_inp\n",
    "w = clip(w + train_pre*(lr*a_post*diff_post), 0, wmax)\n",
    "'''\n",
    "\n",
    "#a_post += 1./classes *1*ms/(alpha)\n",
    "#theta_post += 1./classes *1*ms/(beta)\n",
    "# equations that describe changes if postsynaptic spike of the forward synapse of hidden layer occures\n",
    "eqs_output_post = '''\n",
    "'''\n",
    "\n",
    "reset_hidden = '''\n",
    "v = 0\n",
    "hold_hidden = 1.2*hold_hidden\n",
    "'''\n",
    "\n",
    "reset_output = '''\n",
    "v = 0\n",
    "hold_output += 1.2*hold_output\n",
    "'''\n",
    "\n",
    "class DeepSpatialPerceptron(object):\n",
    "    def __init__(self, X, y, params_to_optimize, time_step = 0.1*ms, time_per_image = 100*ms, inits = None, monitor = None, cheat = False, mod = True, \n",
    "                high_verbosity=True, web=False):   \n",
    "        '''\n",
    "        X - np.array with shape (N samples, N features)\n",
    "        y - np.array with shape (N samples)\n",
    "        n_hiiden - number of hidden neurons\n",
    "        inits  - list of 4 lists that contain 'distribution' and 'condition' parameters \n",
    "        for input, intrinsic, output and intrinsic_output connections\n",
    "            Example: inits = [['equal_[0,1]', None], ['equal_[-1,0]', 'i!=j'], \n",
    "                     ['equal_[0,1]', 'reciprocal'], ['equal_[-1,0]', 'i!=j']]\n",
    "        monitor - dictionary with keys 'P', 'G', 'H' or connection names. Each key argument value is 2-d list.\n",
    "        First one is a list of what parameters to record for the object in the key name and second one is dt.\n",
    "            Example: monitor = {'H':[['a','I'], 25*ms]}\n",
    "        cheat - True if you wanna use pretrained model with first layer initialized from some objects of training data\n",
    "        '''\n",
    "        self.high_verbosity = high_verbosity\n",
    "        self.web = web\n",
    "        global alpha, beta, lr, lr_intr, c_inp, c_intr, c_diff, Teacher_amplitude, decay_time\n",
    "        self.time_step = time_step\n",
    "        self.time_per_image = time_per_image\n",
    "\n",
    "        alpha = params_to_optimize['alpha']\n",
    "        beta = params_to_optimize['beta']\n",
    "        lr = params_to_optimize['lr']\n",
    "        lr_intr = params_to_optimize['lr_intr']\n",
    "        c_inp = params_to_optimize['c_inp']\n",
    "        c_intr = params_to_optimize['c_intr']\n",
    "        c_diff = params_to_optimize['c_diff']\n",
    "        Teacher_amplitude = params_to_optimize['Teacher_amplitude']\n",
    "        decay_time = params_to_optimize['decay_time']\n",
    "        \n",
    "        self.X = X\n",
    "        if self.X is not None:\n",
    "            global n_input\n",
    "            n_input = int(X.shape[1])\n",
    "        else:\n",
    "            raise ValueError('No data provided to the simulation')\n",
    "        \n",
    "        self.y = y\n",
    "        global classes\n",
    "        classes = int(len(set(y)))\n",
    "        #classes = 10\n",
    "        \n",
    "        # list to store initial values for synapses in order [input, intrinsic, output, intrinsic_output]\n",
    "        if inits:\n",
    "            pass\n",
    "        else:\n",
    "            inits = [['spatial', None], ['equal_[0,1]', None], ['ones', 'i==j'], \n",
    "                     ['equal_[-1,0]', 'i!=j']]\n",
    "         \n",
    "        #creatitng the network: groups and synapses\n",
    "        \n",
    "        self.P = NeuronGroup(n_input, eqs_input_neuron, threshold='rand()<rates*dt', method='linear', \n",
    "                             refractory=2*ms, dt = time_step, name='P')\n",
    "        self.M = NeuronGroup(n_input, eqs_input_neuron, threshold='rand()<rates*dt', method='linear', \n",
    "                             refractory=2*ms, dt = time_step, name='M')\n",
    "        \n",
    "        self.G_pos = NeuronGroup(n_hidden, eqs_hidden_neuron_pos, method='linear', threshold='v > hold', \n",
    "                        reset=reset_hidden, refractory=2*ms, dt=time_step, name = 'G_pos')\n",
    "        self.G_neg = NeuronGroup(n_hidden_neg, eqs_hidden_neuron_neg, method='linear', threshold='v > hold', \n",
    "                        reset=reset_hidden, refractory=2*ms, dt=time_step, name = 'G_neg')\n",
    "        \n",
    "        self.H_pos = NeuronGroup(classes, eqs_output_neuron_pos, method='linear', threshold='v > hold', \n",
    "                        reset=reset_output, refractory=2*ms, dt=time_step, name = 'H_pos')\n",
    "        self.H_neg = NeuronGroup(classes, eqs_output_neuron_neg, method='linear', threshold='v > hold', \n",
    "                        reset=reset_output, refractory=2*ms, dt=time_step, name = 'H_neg')\n",
    "        \n",
    "        # set random values to a and theta for all groups, set train parameter of the group to 1.\n",
    "        self.random_init_groups([self.P, self.M, self.G_pos, self.G_neg, self.H_pos, self.H_neg], [1, 1, 1, 1, 1, 0])\n",
    "        self.P.z = np.zeros_like(self.P.z)\n",
    "        self.M.z = np.ones_like(self.M.z)*(-0.2)\n",
    "        self.G_pos.z = np.ones_like(self.G_pos.z)*2\n",
    "        self.G_neg.z = np.ones_like(self.G_neg.z)*2.5\n",
    "        self.H_pos.z = np.ones_like(self.H_pos.z)*4\n",
    "        self.H_neg.z = np.ones_like(self.H_neg.z)*4.5\n",
    "        #inits = [['spatial', None], ['equal_[0,1]', None], ['ones', 'i==j'], ['-ones', 'i!=j']]\n",
    "        self.create_synapse('input_syn', self.P, self.G_pos, eqs_syn, eqs_input_pre, eqs_input_post,\n",
    "                           distribution=inits[0][0], condition=inits[0][1])\n",
    "        self.create_synapse('input_inverse_syn', self.M, self.G_pos, eqs_syn, eqs_input_pre, eqs_input_post,\n",
    "                           distribution=inits[0][0], condition=inits[0][1])\n",
    "        \n",
    "        self.create_synapse('intrinsic_syn_pos', self.G_pos, self.G_neg, eqs_syn, \n",
    "                            eqs_intrinsic_pos_pre, eqs_intrinsic_pos_post, \n",
    "                            distribution=inits[1][0], condition=inits[0][1])#, method='linear')\n",
    "        self.create_synapse('intrinsic_syn_neg', self.G_neg, self.G_pos, eqs_syn, \n",
    "                            eqs_intrinsic_neg_pre, eqs_intrinsic_neg_post, \n",
    "                            distribution=inits[3][0], condition=inits[0][1])#, method='linear')\n",
    "        self.create_synapse('intrinsic_neg_comp', self.G_neg, self.G_neg, eqs_syn, \n",
    "                            eqs_intrinsic_neg_pre, eqs_intrinsic_neg_post, \n",
    "                            distribution='zeros', condition=inits[3][1])#, method='linear')\n",
    "        \n",
    "        self.create_synapse('output_syn', self.G_pos, self.H_pos, eqs_output_syn, eqs_output_pre, eqs_output_post,\n",
    "                           distribution=inits[1][0], condition=inits[1][1])#, method='linear')\n",
    "        \n",
    "        self.create_synapse('intrinsic_output_syn_pos', self.H_pos, self.H_neg, eqs_syn, \n",
    "                            eqs_intrinsic_pos_pre, eqs_intrinsic_pos_post, \n",
    "                            distribution=inits[2][0], condition=inits[2][1])#, method='linear')\n",
    "        self.create_synapse('intrinsic_output_syn_neg', self.H_neg, self.H_pos, eqs_syn, \n",
    "                            eqs_intrinsic_neg_pre, eqs_intrinsic_neg_post, \n",
    "                            distribution=inits[3][0], condition=inits[3][1])#, method='linear')\n",
    "        \n",
    "        if self.high_verbosity:\n",
    "            self.plot_3D_network([[self.P, self.G_pos, self.input_syn], \n",
    "                                 [self.M, self.G_pos, self.input_inverse_syn], \n",
    "                                 #[self.G_neg, self.G_pos, self.intrinsic_syn_neg],\n",
    "                                 [self.G_pos, self.H_pos, self.output_syn]])\n",
    "        # operation to do during simulation every dt \n",
    "        self.network_op = NetworkOperation(self.update_func, dt=time_per_image)\n",
    "        \n",
    "        # params to give for constructing the simulation\n",
    "        params = [self.P, self.M, self.G_pos, self.G_neg, self.H_pos,  self.H_neg, \n",
    "                  self.input_syn, self.input_inverse_syn, \n",
    "                  self.intrinsic_syn_pos, self.intrinsic_syn_neg, \n",
    "                  self.output_syn, \n",
    "                  self.intrinsic_output_syn_pos, self.intrinsic_output_syn_neg,\n",
    "                  self.network_op]\n",
    "        \n",
    "        self.monitor = monitor\n",
    "        # adding monitors to the simulation params\n",
    "        # TO DO: OPTIMIZE!!!!!\n",
    "        if self.monitor:\n",
    "            if 'P' in self.monitor.keys():\n",
    "                self.StateMonitorP = StateMonitor(self.P, self.monitor['P'][0], record=self.monitor['P'][2],\n",
    "                                                  dt=monitor['P'][1],\n",
    "                                                  name = 'StateMonitorP')\n",
    "                params.append(self.StateMonitorP)\n",
    "            else:\n",
    "                self.StateMonitorP = None\n",
    "            \n",
    "            if 'M' in self.monitor.keys():\n",
    "                self.StateMonitorM = StateMonitor(self.M, self.monitor['M'][0], record=self.monitor['M'][2],\n",
    "                                                  dt=monitor['M'][1],\n",
    "                                                  name = 'StateMonitorM')\n",
    "                params.append(self.StateMonitorM)\n",
    "            else:\n",
    "                self.StateMonitorM = None\n",
    "                \n",
    "            if 'G_pos' in monitor.keys():\n",
    "                self.StateMonitorG_pos = StateMonitor(self.G_pos, self.monitor['G_pos'][0], record=self.monitor['G_pos'][2],\n",
    "                                                  dt=monitor['G_pos'][1],\n",
    "                                                  name = 'StateMonitorG_pos')\n",
    "                params.append(self.StateMonitorG_pos)\n",
    "            else:\n",
    "                self.StateMonitorG_pos = None\n",
    "            \n",
    "            if 'G_neg' in monitor.keys():\n",
    "                self.StateMonitorG_neg = StateMonitor(self.G_pos, self.monitor['G_neg'][0], record=self.monitor['G_neg'][2],\n",
    "                                                  dt=monitor['G_neg'][1],\n",
    "                                                  name = 'StateMonitorG_neg')\n",
    "                params.append(self.StateMonitorG_neg)\n",
    "            else:\n",
    "                self.StateMonitorG_neg = None\n",
    "                \n",
    "                \n",
    "            if 'H_pos' in monitor.keys():\n",
    "                self.StateMonitorH_pos = StateMonitor(self.H_pos, self.monitor['H_pos'][0], record=self.monitor['H_pos'][2], \n",
    "                                                  dt=monitor['H_pos'][1],\n",
    "                                                  name = 'StateMonitorH_pos')\n",
    "                params.append(self.StateMonitorH_pos)\n",
    "            else:\n",
    "                self.StateMonitorH_pos = None\n",
    "            \n",
    "            if 'H_neg' in monitor.keys():\n",
    "                self.StateMonitorH_neg = StateMonitor(self.H_neg, self.monitor['H_neg'][0], record=self.monitor['H_neg'][2], \n",
    "                                                  dt=monitor['H_neg'][1],\n",
    "                                                  name = 'StateMonitorH_neg')\n",
    "                params.append(self.StateMonitorH_neg)\n",
    "            else:\n",
    "                self.StateMonitorH_neg = None\n",
    "                \n",
    "                \n",
    "            if 'Input_weights' in monitor.keys():\n",
    "                self.SynapseMonitorInput = StateMonitor(self.input_syn, self.monitor['Input_weights'][0], \n",
    "                                                        record=self.monitor['Input_weights'][2],\n",
    "                                                        dt = monitor['Input_weights'][1],\n",
    "                                                        name = 'SynapseMonitorInput')\n",
    "                params.append(self.SynapseMonitorInput)\n",
    "            else:\n",
    "                self.SynapseMonitorInput = None\n",
    "                \n",
    "            if 'Input_inverse_weights' in monitor.keys():\n",
    "                self.SynapseMonitorInput_inverse = StateMonitor(self.input_inverse_syn, self.monitor['Input_inverse_weights'][0], \n",
    "                                                        record=self.monitor['Input_inverse_weights'][2],\n",
    "                                                        dt = monitor['Input_inverse_weights'][1],\n",
    "                                                        name = 'SynapseMonitorInput_inverse')\n",
    "                params.append(self.SynapseMonitorInput_inverse)\n",
    "            else:\n",
    "                self.SynapseMonitorInput_inverse = None\n",
    "                \n",
    "            if 'Intrinsic_weights_neg' in monitor.keys():\n",
    "                self.SynapseMonitorIntrinsi_negc = StateMonitor(self.intrinsic_syn_neg, self.monitor['Intrinsic_weights_neg'][0],\n",
    "                                                        record=self.monitor['Intrinsic_weights_neg'][2],\n",
    "                                                        dt = monitor['Intrinsic_weights_neg'][1],\n",
    "                                                        name = 'SynapseMonitorIntrinsic_neg')\n",
    "                params.append(self.SynapseMonitorIntrinsic_neg)\n",
    "            else:\n",
    "                self.SynapseMonitorIntrinsic_neg = None\n",
    "                \n",
    "            if 'Output_weights' in monitor.keys():\n",
    "                self.SynapseMonitorOutput = StateMonitor(self.output_syn, self.monitor['Output_weights'][0],\n",
    "                                                        record=self.monitor['Output_weights'][2],\n",
    "                                                        dt = monitor['Output_weights'][1],\n",
    "                                                        name = 'SynapseMonitorOutput')\n",
    "                params.append(self.SynapseMonitorOutput)\n",
    "            else:\n",
    "                self.SynapseMonitorOutput = None\n",
    "                \n",
    "            if 'Intrinsic_output_weights_neg' in monitor.keys():\n",
    "                self.SynapseMonitorIntrinsicOutput_neg = StateMonitor(self.intrinsic_output_syn_neg, self.monitor['Intrinsic_output_weights_neg'][0],\n",
    "                                                        record=self.monitor['Intrinsic_output_weights_neg'][2], \n",
    "                                                        dt = monitor['Intrinsic_output_weights_neg'][1],\n",
    "                                                        name = 'SynapseMonitorIntrinsicOutput_neg')\n",
    "                params.append(self.SynapseMonitorIntrinsicOutput_neg)\n",
    "            else:\n",
    "                self.SynapseMonitorIntrinsicOutput_neg = None\n",
    "        \n",
    "        # setting params to the simulation\n",
    "        self.network = Network(params)\n",
    "        if self.high_verbosity:\n",
    "            print ('Network created using:')\n",
    "            for param in params:\n",
    "                print ('\\t'+param.name + '   dt = '+str(param.clock.dt))\n",
    "            \n",
    "        self.shown_labels = [] #list to store shown labels during lifetime of the simulation\n",
    "        self.predictions = [] #list to store preds during lifetime of the simulation\n",
    "        self.counter = 0 # counter for shown images during lifetime of the simulation\n",
    "        self.mod = mod # binary, True if train mod, False for test mod\n",
    "        self.clocks = [] # clocks list per image to monitor if there are to many params to record and RAM is dying \n",
    "        self.clocks.append(0)\n",
    "        \n",
    "        # never use this\n",
    "        if cheat:\n",
    "            dig_y = y[:int(n_hidden)]\n",
    "            dig_X = X[:int(n_hidden)]\n",
    "            for s in np.arange(int(n_hidden)):\n",
    "                for j in np.arange(int(n_input)):\n",
    "                    # shape dig_X = (n_hidden, n_input)\n",
    "                    # shape inp_syn is a vectorizes matrix\n",
    "                    # W_11 ..... W_n1\n",
    "                    # ..\n",
    "                    # W_1m ..... W_nm\n",
    "                    # n = post length, m = pre length\n",
    "                    self.input_syn.w[s+j*int(n_hidden)] = dig_X[s][j]\n",
    "            print ('I used cheat initialisation')\n",
    "    \n",
    "    def random_init_groups(self, groups, trains):\n",
    "        '''\n",
    "        random inits for a and theta of neuron groups + setting trains for neuron groups\n",
    "        groups - list of NeuronGroup objects, trains - list of train values (Ex. [1, 1, 1] if all are trainable)'''\n",
    "        if self.high_verbosity:\n",
    "            print ()\n",
    "        for group,tr in zip(groups, trains):\n",
    "            if tr:\n",
    "                group.train = np.ones_like(group.train)\n",
    "                if self.high_verbosity:\n",
    "                    print (group.name + ' ' + str(group.N) + ' trainable')\n",
    "            else:\n",
    "                group.train = np.zeros_like(group.train)\n",
    "                if self.high_verbosity:\n",
    "                    print (group.name + ' non-trainable')\n",
    "            group.a = np.random.rand(len(group))*0.5\n",
    "            group.theta = np.random.rand(len(group))*0.5\n",
    "            \n",
    "            if group == self.P or group == self.M or group == self.G_pos or group == self.G_neg:\n",
    "                base_step =1.\n",
    "                step_mult = 3\n",
    "                step=base_step*step_mult\n",
    "                if group == self.G_pos:\n",
    "                    step = base_step*step_mult\n",
    "                if group == self.G_neg:\n",
    "                    step= base_step*step_mult*(self.G_pos.N/self.G_neg.N)\n",
    "                    right = base_step*step_mult*(sqrt(self.G_pos.N)/2.0-0.5)\n",
    "                    left = - right\n",
    "                #Grid_rad = sqrt(group.N)\n",
    "                right = step*(sqrt(group.N)/2.0-0.5)\n",
    "                left = - right\n",
    "                q=0\n",
    "                for m in np.arange(left, right+1, step):\n",
    "                    for k in np.arange(left, right+1, step):\n",
    "                        group.x[q]=k\n",
    "                        group.y[q]=m\n",
    "                        q += 1\n",
    "        if self.high_verbosity:\n",
    "            print ()\n",
    "    \n",
    "    def create_synapse(self, name, pre, post, eqs, on_pre, on_post, distribution = 'equal_[0,1]', condition = None):\n",
    "        \n",
    "        '''\n",
    "        AUTO-creating synapses between pre and post NeuronGroup with name='name'\n",
    "        eqs, on_pre, on_post -  standart paramtres for Synapses\n",
    "        distribution - string, initial values for weights\n",
    "        condition - string, some cpecific conditions for connecting, same as in connect() method for Synapses\n",
    "        extra value for conditions is 'reciprocal'. Should be used if Synapse object has w_rec reciprocal weights'''\n",
    "        \n",
    "        exec('self.'+ name + '= Synapses(pre, post, eqs, on_pre = on_pre, on_post = on_post, dt = time_step)')\n",
    "        if self.high_verbosity:\n",
    "            print ('{} -> {}, initial distribution = {}'.format(pre.name, post.name, distribution))\n",
    "        if condition:\n",
    "            if condition == 'reciprocal':\n",
    "                exec('self.'+ name + '.connect()')\n",
    "            else:\n",
    "                exec('self.'+ name + \".connect(condition = '\" + condition +\"')\")\n",
    "        else: \n",
    "            exec('self.'+ name + '.connect()')\n",
    "\n",
    "        if distribution == 'equal_[0,1]':    \n",
    "            exec('self.' + name +'.w = np.random.random(len(pre)*len(post))')\n",
    "        if distribution == 'equal_[-1,1]'and condition == 'i!=j':\n",
    "            exec('self.' + name +'.w = (np.random.random(len(pre)*(len(post)-1)) - 0.5) * 2.')\n",
    "        if distribution == 'equal_[-1,0]'and condition == 'i!=j':\n",
    "            exec('self.' + name +'.w = (np.random.random(len(pre)*(len(post)-1)) - 1.)')  \n",
    "        if distribution == 'norm':\n",
    "            exec('self.' + name +'.w = np.random.randn(len(pre)*len(post))')\n",
    "        if distribution == 'zeros':\n",
    "            exec('self.' + name +'.w = np.zeros_like(self.' + name +'.w)')     \n",
    "        if distribution == 'ones':\n",
    "            exec('self.' + name +'.w = np.ones_like(self.' + name +'.w)')\n",
    "        if distribution == 'spatial':\n",
    "            matrix_weights = []\n",
    "            if name == 'input_syn':\n",
    "                #matrix_weights = np.array([[self.input_syn.w[int(r + j * int(self.input_syn.target.N))]\n",
    "                #        for j in np.arange(int(self.input_syn.source.N))] \n",
    "                #        for r in np.arange(int(self.input_syn.target.N))]).reshape(int(self.input_syn.target.N), \n",
    "                #                                                                   int(sqrt(self.input_syn.source.N)), \n",
    "                #                                                                   int(sqrt(self.input_syn.source.N)))\n",
    "                self.input_syn.w = np.random.random(len(pre)*len(post))/np.array(self.input_syn.distance) \n",
    "                \n",
    "                \n",
    "            if name == 'input_inverse_syn':\n",
    "                #matrix_weights = np.array([[self.input_inverse_syn.w[int(r + j * int(self.input_inverse_syn.target.N))]\n",
    "                #        for j in np.arange(int(self.input_inverse_syn.source.N))] \n",
    "                #        for r in np.arange(int(self.input_inverse_syn.target.N))]).reshape(int(self.input_inverse_syn.target.N),\n",
    "                #                                                                           int(sqrt(self.input_inverse_syn.source.N)), \n",
    "                #                                                                           int(sqrt(self.input_inverse_syn.source.N)))\n",
    "                self.input_inverse_syn.w = np.random.random(len(pre)*len(post))/np.array(self.input_inverse_syn.distance)\n",
    "        if condition == 'reciprocal':\n",
    "                exec('self.' + name +'.w_rec = np.array(self.' + name +'.w).transpose()')\n",
    "\n",
    "    def plot_3D_network(self, pair_groups):\n",
    "        fig = plt.figure()\n",
    "        ax = fig.add_subplot(111, projection='3d')\n",
    "        colors = ['b','g','y','r','c']\n",
    "        for _,pair_group in enumerate(pair_groups):\n",
    "            ax.scatter(pair_group[0].x, pair_group[0].y, pair_group[0].z)\n",
    "            #if pair_group[1] == self.H_pos:\n",
    "            #    ax.scatter(pair_group[1].x, pair_group[1].y, pair_group[1].z)\n",
    "                \n",
    "            for m in np.arange(int(pair_group[1].N)):\n",
    "                for k in np.arange(int(pair_group[0].N)):\n",
    "                    if pair_group[2].w[int(m+k*pair_group[1].N)] > 0.3 or pair_group[2].w[int(m+k*pair_group[1].N)] < - 0.3:\n",
    "                        ax.plot([pair_group[0].x[k], pair_group[1].x[m]],\n",
    "                                [pair_group[0].y[k], pair_group[1].y[m]],\n",
    "                                [pair_group[0].z[k], pair_group[1].z[m]], colors[_])\n",
    "        show()\n",
    "            \n",
    "    def sample_data(self):\n",
    "        '''\n",
    "        Sampling random X vector from X and corresponding label from y\n",
    "        '''\n",
    "        sample = np.random.randint(0, self.X.shape[0])\n",
    "        #sample = 0\n",
    "        self.clocks.append(clock())\n",
    "        return self.X[sample], self.y[sample]\n",
    "\n",
    "    def update_func(self):\n",
    "            \n",
    "            # active phase\n",
    "            if self.counter % 2 == 0:\n",
    "        \n",
    "                image_sample, label_sample = self.sample_data()\n",
    "                if self.high_verbosity:\n",
    "                    print ('Processing {} image with label {}'.format(self.counter/2, label_sample))\n",
    "\n",
    "                self.P.rates = [k*250*Hz for k in image_sample]\n",
    "                self.M.rates = [(1-k)*250*Hz for k in image_sample]\n",
    "                if self.mod:\n",
    "                    self.H_pos.I_teacher = np.zeros_like(self.H_pos.I_teacher)\n",
    "                    self.H_pos.I_teacher[int(label_sample)] = Teacher_amplitude\n",
    "                else: \n",
    "                    self.H_pos.I_teacher = np.zeros_like(self.H_pos.I_teacher)\n",
    "                    #no unsupervised learning\n",
    "                    self.H_pos.train = np.zeros_like(self.H_pos.train)\n",
    "                    self.H_neg.train = np.zeros_like(self.H_neg.train)\n",
    "                    self.G_pos.train = np.zeros_like(self.G_pos.train)\n",
    "                    self.G_neg.train = np.zeros_like(self.G_neg.train)\n",
    "                    self.P.train = np.zeros_like(self.P.train)\n",
    "                    self.M.train = np.zeros_like(self.M.train)\n",
    "                # saving shown labels\n",
    "                self.shown_labels.append(int(label_sample))\n",
    "            # resting phase\n",
    "            else:\n",
    "                if self.web:\n",
    "                    if 'plot_H_pos' in self.web:\n",
    "                        window = np.max(self.StateMonitorH_pos.t/ms)\n",
    "                        window = np.arange(window-np.max([np.min([window, 2000]), 50]), window)\n",
    "                        self.plot_H_pos(self.monitor['H_pos']['variables'], window, np.arange(len(self.H_pos)))\n",
    "                    if 'imshow_forward_weights_H_pos' in self.web:\n",
    "                        self.imshow_forward_weights('H_pos',5,2,5,5)\n",
    "                    if 'imshow_intrinsic_weights_H_pos' in self.web:\n",
    "                        self.imshow_intrinsic_weights('H_pos',5,2,2,5)\n",
    "                \n",
    "                self.P.rates = np.zeros_like(self.P.rates)\n",
    "                self.M.rates = np.zeros_like(self.M.rates)\n",
    "                self.G_pos.I_inp = np.zeros_like(self.G_pos.I_inp)\n",
    "                self.G_pos.I_intr = np.zeros_like(self.G_pos.I_intr)\n",
    "                self.G_neg.I_inp = np.zeros_like(self.G_neg.I_inp)\n",
    "                self.H_pos.I_inp = np.zeros_like(self.H_pos.I_inp)\n",
    "                self.H_pos.I_intr = np.zeros_like(self.H_pos.I_intr)\n",
    "                self.H_neg.I_inp = np.zeros_like(self.H_neg.I_inp)\n",
    "                if self.mod:\n",
    "                    self.H_pos.I_teacher = np.zeros_like(self.H_pos.I_teacher)\n",
    "                \n",
    "                # saving predictions\n",
    "                pred = np.argmax(np.mean(self.StateMonitorH_pos.a[:,-int(self.time_per_image/(2.*ms)):], axis=1))\n",
    "                self.predictions.append(pred)\n",
    "                if self.high_verbosity:\n",
    "                    #print(self.StateMonitorH['a'][:,-1])\n",
    "                    print('a_max in H', np.max(self.StateMonitorH_pos.a[:,-1]))\n",
    "                    print('I_inp_min in H', np.min(self.StateMonitorH_pos.I_inp[:,-1]))\n",
    "                    print('I_inp_max in H', np.max(self.StateMonitorH_pos.I_inp[:,-1]))\n",
    "                    #print('I_intr_min in H', np.min(self.StateMonitorH.I_intr[:,-1]))\n",
    "                    #print('I_intr_max in H', np.max(self.StateMonitorH.I_intr[:,-1]))\n",
    "                    if self.predictions[-1] == self.shown_labels[-1]:\n",
    "                        print ('correct', pred)\n",
    "                    else:\n",
    "                        print ('incorrect', pred)\n",
    "            self.counter += 1\n",
    "\n",
    "    def run(self, runtime):\n",
    "        self.network.run(runtime)\n",
    "        \n",
    "    def save_weights(seld, path,encoding=\"cp1251\"):\n",
    "        print (\"сохранение сети в файл\", path)\n",
    "        weights = {}\n",
    "        '''weights['Input_weights'] = list(self.input_syn.w)\n",
    "        weights['Intrinsic_weights'] = list(self.intrinsic_syn.w)\n",
    "        weights['Output_weights'] = list(self.output_syn.w)\n",
    "        weights['Reciprocal_weights'] = list(self.output_syn.w_rec)\n",
    "        weights['Intrinsic_output_weights'] = list(self.intrinsic_output_syn.w)\n",
    "        '''\n",
    "        sv_json(weights, path, encoding=encoding)\n",
    "    \n",
    "    def load_weights(self, p,encoding=\"cp1251\"):\n",
    "        print (\"загрузка сети из файла\", path)\n",
    "        '''weights = ld_json(p, encoding=encoding)\n",
    "        self.input_syn.w = weights['Input_weights']\n",
    "        self.intrinsic_syn.w = weights['Intrinsic_weights']\n",
    "        self.output_syn.w = weights['Output_weights']\n",
    "        self.output_syn.w_rec = weights['Reciprocal_weights']\n",
    "        self.intrinsic_output_syn.w = weights['Intrinsic_output_weights']\n",
    "        '''\n",
    "    def plot_clocks(self):\n",
    "        '''\n",
    "        Plot values of np.diff(self.clocks) to look of there are some errors during \"run\". If there \n",
    "        are huge picks in the middle of simulation on this graph, than it is likely that there are to \n",
    "        much recording variables or neurons in Monitors.\n",
    "        '''\n",
    "        figure('plot_clocks')\n",
    "        plot(np.arange(1, len(self.clocks)), np.diff(self.clocks))\n",
    "        show()\n",
    "    \n",
    "    def plot_M(self, variables, interval, neuron_indexes):\n",
    "\n",
    "        figure('M', figsize=(10, len(variables)*5))\n",
    "        for _, m in enumerate(variables):\n",
    "            subplot(len(variables), 1, _+1)\n",
    "            title(m)\n",
    "            for j in neuron_indexes:\n",
    "                exec('plot(interval, self.StateMonitorM.'+str(m)+'[j], label = str(j))')\n",
    "            legend(loc='best')\n",
    "        show()\n",
    "        \n",
    "    def plot_H_pos(self, variables, interval, neuron_indexes):\n",
    "        '''\n",
    "        Plotting all recording variables for H group on 'interval' period for 'neuron_indexes' neurons.\n",
    "        Note that neuron_indexes is a sub-list from monitor['H'][2] list (remember if it was 'True', than all neurons \n",
    "        of this NeuronGroup are recorded)\n",
    "        '''\n",
    "        figure('H_pos', figsize=(10, len(variables)*5))\n",
    "        for _, m in enumerate(variables):\n",
    "            subplot(len(variables), 1, _+1)\n",
    "            title(m)\n",
    "            for j in neuron_indexes:\n",
    "                exec('plot(interval, self.StateMonitorH_pos.'+str(m)+'[j], label = str(j))')\n",
    "            legend(loc='best')\n",
    "        show()\n",
    "        \n",
    "    def plot_H_neg(self, variables, interval, neuron_indexes):\n",
    "        '''\n",
    "        Plotting all recording variables for H group on 'interval' period for 'neuron_indexes' neurons.\n",
    "        Note that neuron_indexes is a sub-list from monitor['H'][2] list (remember if it was 'True', than all neurons \n",
    "        of this NeuronGroup are recorded)\n",
    "        '''\n",
    "        figure('H_neg', figsize=(10, len(variables)*5))\n",
    "        for _, m in enumerate(variables):\n",
    "            subplot(len(variables), 1, _+1)\n",
    "            title(m)\n",
    "            for j in neuron_indexes:\n",
    "                exec('plot(interval, self.StateMonitorH_neg.'+str(m)+'[j], label = str(j))')\n",
    "            legend(loc='best')\n",
    "        show()\n",
    "    \n",
    "    def plot_G_pos(self, variables, interval, neuron_indexes):\n",
    "        '''\n",
    "        Plotting all recording variables for G group on 'interval' period for 'neuron_indexes' neurons.\n",
    "        Note that neuron_indexes is a sub-list from monitor['G'][2] list (remember if it was 'True', than all neurons \n",
    "        of this NeuronGroup are recorded).\n",
    "        '''\n",
    "        figure('G_pos', figsize=(10, len(variables)*5))\n",
    "        for _, m in enumerate(variables):\n",
    "            subplot(len(variables), 1, _+1)\n",
    "            title(m)\n",
    "            for j in neuron_indexes:\n",
    "                exec('plot(interval, self.StateMonitorG_pos.'+str(m)+'[j], label = str(j))')\n",
    "            legend(loc='best')\n",
    "        show()\n",
    "        \n",
    "    def plot_G_neg(self, variables, interval, neuron_indexes):\n",
    "        '''\n",
    "        Plotting all recording variables for G group on 'interval' period for 'neuron_indexes' neurons.\n",
    "        Note that neuron_indexes is a sub-list from monitor['G'][2] list (remember if it was 'True', than all neurons \n",
    "        of this NeuronGroup are recorded).\n",
    "        '''\n",
    "        figure('G_neg', figsize=(10, len(variables)*5))\n",
    "        for _, m in enumerate(variables):\n",
    "            subplot(len(variables), 1, _+1)\n",
    "            title(m)\n",
    "            for j in neuron_indexes:\n",
    "                exec('plot(interval, self.StateMonitorG_neg.'+str(m)+'[j], label = str(j))')\n",
    "            legend(loc='best')\n",
    "        show()\n",
    "        \n",
    "    def plot_weights(self, weights_type, interval, weights_indexes):\n",
    "        '''\n",
    "        Plotting weights evolution for 'weights_type' on 'interval' period of time for 'weights_indexes' weights.\n",
    "        Note that weights_indexes is a sub-list from monitor[$weights_type][2] list (remember if it was 'True', than all weights \n",
    "        of this type in this Synapse are recorded)\n",
    "        '''\n",
    "        \n",
    "        if weights_type == 'Input_weights':\n",
    "            if self.SynapseMonitorInput:\n",
    "                values = self.SynapseMonitorInput.w\n",
    "            else:\n",
    "                raise NameError('There was no record of this synapse')\n",
    "            values = self.SynapseMonitorInput.w\n",
    "        elif weights_type == 'Intrinsic_weights':\n",
    "            if self.SynapseMonitorIntrinsic:\n",
    "                values = self.SynapseMonitorIntrinsic.w\n",
    "            else:\n",
    "                raise NameError('There was no record of this synapse')\n",
    "        elif weights_type == 'Output_weights':\n",
    "            if self.SynapseMonitorOutput:\n",
    "                values = self.SynapseMonitorOutput.w\n",
    "            else:\n",
    "                raise NameError('There was no record of this synapse')\n",
    "        elif weights_type == 'Reciprocal_weights':\n",
    "            if self.SynapseMonitorOutput:\n",
    "                values = self.SynapseMonitorOutput.w_rec\n",
    "            else:\n",
    "                raise NameError('There was no record of this synapse')\n",
    "        elif weights_type == 'Intrinsic_output_weights':\n",
    "            if self.SynapseMonitorIntrinsicOutput:\n",
    "                values = self.SynapseMonitorIntrinsicOutput.w\n",
    "            else:\n",
    "                raise NameError('There was no record of this synapse')\n",
    "        else:\n",
    "            raise NameError('Incorrect weights_type')\n",
    "        \n",
    "        \n",
    "        figure(weights_type, figsize=(10, 5))\n",
    "        title(weights_type)\n",
    "        for j in weights_indexes:\n",
    "            plot(interval, values[j], label = str(j))\n",
    "        legend(loc='best')\n",
    "        show()\n",
    "        \n",
    "    def imshow_forward_weights(self, gr, N, M, n, m, j=0):\n",
    "        '''\n",
    "        Plotting forward weights of 'gr' NeuronGroup on one figure.\n",
    "        gr - 'G' or 'H'\n",
    "        N, M - height and width of figure in subplots\n",
    "        n, m - height and width of weight image\n",
    "        '''\n",
    "        if gr == 'G_pos':\n",
    "            group1 = self.P\n",
    "            group2 = self.G_pos\n",
    "            group3 = self.M\n",
    "            name1 = 'sim '+str(j)+' imshow_input_weights'\n",
    "            name2 = 'sim '+str(j)+' imshow_input_inverse_weights'\n",
    "            np_images1 = np.array(self.input_syn.w)\n",
    "            np_images2 = np.array(self.input_inverse_syn.w)\n",
    "            \n",
    "            images_shape1=[len(group1), len(group2)]\n",
    "            self.one_image(np_mts=np_images1, mts_shape=images_shape1, N=N, M=M, n=n, m=m, frame=None,\n",
    "                       name=name1)\n",
    "        \n",
    "            images_shape2=[len(group3), len(group2)]\n",
    "            self.one_image(np_mts=np_images2, mts_shape=images_shape2, N=N, M=M, n=n, m=m, frame=None,\n",
    "                       name=name2)\n",
    "        elif gr == 'H_pos':\n",
    "            group1 = self.G_pos\n",
    "            group2 = self.H_pos\n",
    "            name = 'imshow_output_weights'\n",
    "            np_images = np.array(self.output_syn.w)\n",
    "            images_shape=[len(group1), len(group2)]\n",
    "            self.one_image(np_mts=np_images, mts_shape=images_shape, N=N, M=M, n=n, m=m, frame=None,\n",
    "                       name=name)\n",
    "        else:\n",
    "            raise NameError('No such group')\n",
    "        \n",
    "    def imshow_reciprocal_weights(self, gr, N, M, n, m, delta=False):\n",
    "        '''\n",
    "        Plotting reciprocal weights of 'gr' NeuronGroup on one figure.\n",
    "        gr - 'H'\n",
    "        N, M - height and width of figure in subplots\n",
    "        n, m - height and width of weight image\n",
    "        delta - True if you wanna see difference between forward and reciprocal weights\n",
    "        '''\n",
    "        if gr == 'H':\n",
    "            group1 = self.G\n",
    "            group2 = self.H\n",
    "            name = 'imshow_reciprocal_weights'\n",
    "            np_images = np.array(self.output_syn.w_rec)\n",
    "        else:\n",
    "            raise NameError('No such group')\n",
    "            \n",
    "        if delta:\n",
    "            np_images2 = np.array(self.output_syn.w)\n",
    "            np_images = np_images2 - np_images\n",
    "            \n",
    "        images_shape=[len(group1), len(group2)]\n",
    "        self.one_image(np_mts=np_images, mts_shape=images_shape, N=N, M=M, n=n, m=m, frame=None,\n",
    "                       name=name)\n",
    "        \n",
    "    \n",
    "    def imshow_intrinsic_weights(self, gr, N, M, n, m):\n",
    "        '''\n",
    "        Plotting intrinsic weights of 'gr' NeuronGroup on one figure.\n",
    "        gr - 'G' or 'H'\n",
    "        N, M - height and width of figure in subplots\n",
    "        n, m - height and width of weight image\n",
    "        '''\n",
    "        if gr == 'G':\n",
    "            group = self.G\n",
    "            z = self.intrinsic_syn.w\n",
    "        elif gr == 'H':\n",
    "            group = self.H\n",
    "            z = self.intrinsic_output_syn.w\n",
    "        else:\n",
    "            raise NameError('No such group')\n",
    "        \n",
    "        for i in np.arange(int(len(group))):\n",
    "            z = insert(z, i+int(len(group))*i, 0)\n",
    "    \n",
    "        np_mts = np.array(z)\n",
    "        mts_shape=[len(group), len(group)]\n",
    "        \n",
    "        self.one_image(np_mts=np_mts, mts_shape=mts_shape, N=N, M=M, n=n, m=m, intrinsic=True, \n",
    "                       name='imshow_intrinsic_weights')\n",
    "        \n",
    "    def one_image(self, np_mts, mts_shape, N, M, n, m, frame=None, intrinsic=False, name=None):\n",
    "        '''\n",
    "        Plotting image of np_mts frame\n",
    "        np_mts - numpy array of multivariate timeseries (or just numpy array for fixed frame)\n",
    "        mts_shape - list [amount of neurons in pre group, amount of neurons in post group]\n",
    "        frame - frame of timeseries, None if np_mts is just numpy array of weights instead of synapse monitor\n",
    "        N, M - height and width of figure in \"subplots\"\n",
    "        n, m - height and width of weight image\n",
    "        intrinsic - True if visualising intrinsic weights\n",
    "        name - unique name of the figure\n",
    "        '''\n",
    "        if intrinsic:\n",
    "            images = np.array(np_mts).reshape(int(mts_shape[1]), int(n), int(m))\n",
    "        else:\n",
    "            images = [[np_mts[r + j * int(mts_shape[1])][frame]\n",
    "                        for j in np.arange(mts_shape[0])] \n",
    "                        for r in np.arange(mts_shape[1])]\n",
    "            images = np.array(images).reshape(int(mts_shape[1]), int(n), int(m))\n",
    "\n",
    "        horizontal_lines = np.ones((1, M*(m+1)+1))*(np.nan)\n",
    "\n",
    "        for i in np.arange(N):\n",
    "            horizontal_line = np.ones((images[0].shape[0],1))*(np.nan)\n",
    "            for j in np.arange(M):\n",
    "                im = np.hstack((images[int(j+i*M)],np.ones((images[int(j+i*M)].shape[0],1))*(np.nan)))\n",
    "                horizontal_line = np.hstack((horizontal_line, im))\n",
    "            horizontal_line = np.vstack((horizontal_line, np.ones((1, M*(m+1)+1))*(np.nan)))\n",
    "            horizontal_lines = np.vstack((horizontal_lines, horizontal_line))\n",
    "\n",
    "        figure(name, figsize=(10, 10*N/M))\n",
    "        title(name)\n",
    "        imshow(horizontal_lines, interpolation=None, cmap='winter')\n",
    "        colorbar()\n",
    "        axis('off')\n",
    "        show()"
   ]
  },
  {
   "cell_type": "code",
   "execution_count": 5,
   "metadata": {
    "collapsed": false,
    "scrolled": false
   },
   "outputs": [
    {
     "name": "stderr",
     "output_type": "stream",
     "text": [
      "INFO       The synaptic equation for the variable w does not specify whether it should be integrated at every timestep (\"clock-driven\") or only at spiking events (\"event-driven\"). It will be integrated at every timestep which can slow down your simulation unnecessarily if you only need the values of this variable whenever a spike occurs. Specify the equation as clock-driven explicitly to avoid this warning. [brian2.synapses.synapses.clock_driven]\n"
     ]
    },
    {
     "name": "stdout",
     "output_type": "stream",
     "text": [
      "('SIMULATION', 0, {'beta': 120. * msecond, 'lr': 0.1, 'c_diff': 1.0, 'Teacher_amplitude': 25.0, 'c_inp': 1.0, 'alpha': 15. * msecond, 'decay_time': 10. * second, 'lr_intr': 0.1, 'c_intr': 0.10000000000000001})\n",
      "train\n"
     ]
    },
    {
     "name": "stderr",
     "output_type": "stream",
     "text": [
      "INFO       No numerical integration method specified for group 'synapses_1', using method 'linear' (took 0.24s). [brian2.stateupdaters.base.method_choice]\n",
      "INFO       No numerical integration method specified for group 'synapses_2', using method 'linear' (took 0.15s). [brian2.stateupdaters.base.method_choice]\n",
      "INFO       No numerical integration method specified for group 'synapses_3', using method 'linear' (took 0.15s). [brian2.stateupdaters.base.method_choice]\n",
      "INFO       No numerical integration method specified for group 'synapses_5', using method 'linear' (took 0.06s). [brian2.stateupdaters.base.method_choice]\n",
      "INFO       No numerical integration method specified for group 'synapses_6', using method 'linear' (took 0.16s). [brian2.stateupdaters.base.method_choice]\n",
      "INFO       No numerical integration method specified for group 'synapses_7', using method 'linear' (took 0.15s). [brian2.stateupdaters.base.method_choice]\n",
      "INFO       No numerical integration method specified for group 'synapses', using method 'linear' (took 0.17s). [brian2.stateupdaters.base.method_choice]\n"
     ]
    },
    {
     "name": "stdout",
     "output_type": "stream",
     "text": [
      "test\n"
     ]
    },
    {
     "name": "stderr",
     "output_type": "stream",
     "text": [
      "INFO       No numerical integration method specified for group 'synapses_1', using method 'linear' (took 0.19s). [brian2.stateupdaters.base.method_choice]\n",
      "INFO       No numerical integration method specified for group 'synapses_2', using method 'linear' (took 0.15s). [brian2.stateupdaters.base.method_choice]\n",
      "INFO       No numerical integration method specified for group 'synapses_3', using method 'linear' (took 0.17s). [brian2.stateupdaters.base.method_choice]\n",
      "INFO       No numerical integration method specified for group 'synapses_5', using method 'linear' (took 0.05s). [brian2.stateupdaters.base.method_choice]\n",
      "INFO       No numerical integration method specified for group 'synapses_6', using method 'linear' (took 0.16s). [brian2.stateupdaters.base.method_choice]\n",
      "INFO       No numerical integration method specified for group 'synapses_7', using method 'linear' (took 0.15s). [brian2.stateupdaters.base.method_choice]\n",
      "INFO       No numerical integration method specified for group 'synapses', using method 'linear' (took 0.17s). [brian2.stateupdaters.base.method_choice]\n"
     ]
    },
    {
     "name": "stdout",
     "output_type": "stream",
     "text": [
      "0.08\n",
      "('SIMULATION', 1, {'beta': 120. * msecond, 'lr': 0.1, 'c_diff': 1.0, 'Teacher_amplitude': 25.0, 'c_inp': 0.75, 'alpha': 15. * msecond, 'decay_time': 15. * second, 'lr_intr': 0.1, 'c_intr': 0.29999999999999999})\n",
      "train\n"
     ]
    },
    {
     "name": "stderr",
     "output_type": "stream",
     "text": [
      "INFO       No numerical integration method specified for group 'synapses_10', using method 'linear' (took 0.18s). [brian2.stateupdaters.base.method_choice]\n",
      "INFO       No numerical integration method specified for group 'synapses_11', using method 'linear' (took 0.23s). [brian2.stateupdaters.base.method_choice]\n",
      "INFO       No numerical integration method specified for group 'synapses_13', using method 'linear' (took 0.10s). [brian2.stateupdaters.base.method_choice]\n",
      "INFO       No numerical integration method specified for group 'synapses_14', using method 'linear' (took 0.24s). [brian2.stateupdaters.base.method_choice]\n",
      "INFO       No numerical integration method specified for group 'synapses_15', using method 'linear' (took 0.23s). [brian2.stateupdaters.base.method_choice]\n",
      "INFO       No numerical integration method specified for group 'synapses_8', using method 'linear' (took 0.23s). [brian2.stateupdaters.base.method_choice]\n",
      "INFO       No numerical integration method specified for group 'synapses_9', using method 'linear' (took 0.23s). [brian2.stateupdaters.base.method_choice]\n"
     ]
    },
    {
     "name": "stdout",
     "output_type": "stream",
     "text": [
      "test\n"
     ]
    },
    {
     "name": "stderr",
     "output_type": "stream",
     "text": [
      "INFO       No numerical integration method specified for group 'synapses_10', using method 'linear' (took 0.19s). [brian2.stateupdaters.base.method_choice]\n",
      "INFO       No numerical integration method specified for group 'synapses_11', using method 'linear' (took 0.14s). [brian2.stateupdaters.base.method_choice]\n",
      "INFO       No numerical integration method specified for group 'synapses_13', using method 'linear' (took 0.05s). [brian2.stateupdaters.base.method_choice]\n",
      "INFO       No numerical integration method specified for group 'synapses_14', using method 'linear' (took 0.14s). [brian2.stateupdaters.base.method_choice]\n",
      "INFO       No numerical integration method specified for group 'synapses_15', using method 'linear' (took 0.16s). [brian2.stateupdaters.base.method_choice]\n",
      "INFO       No numerical integration method specified for group 'synapses_8', using method 'linear' (took 0.14s). [brian2.stateupdaters.base.method_choice]\n",
      "INFO       No numerical integration method specified for group 'synapses_9', using method 'linear' (took 0.15s). [brian2.stateupdaters.base.method_choice]\n"
     ]
    },
    {
     "name": "stdout",
     "output_type": "stream",
     "text": [
      "0.18\n",
      "('SIMULATION', 2, {'beta': 160. * msecond, 'lr': 0.1, 'c_diff': 1.0, 'Teacher_amplitude': 22.5, 'c_inp': 0.5, 'alpha': 20. * msecond, 'decay_time': 3.3 * second, 'lr_intr': 0.1, 'c_intr': 1.0})\n",
      "train\n"
     ]
    },
    {
     "name": "stderr",
     "output_type": "stream",
     "text": [
      "INFO       No numerical integration method specified for group 'synapses_1', using method 'linear' (took 0.19s). [brian2.stateupdaters.base.method_choice]\n",
      "INFO       No numerical integration method specified for group 'synapses_2', using method 'linear' (took 0.14s). [brian2.stateupdaters.base.method_choice]\n",
      "INFO       No numerical integration method specified for group 'synapses_3', using method 'linear' (took 0.15s). [brian2.stateupdaters.base.method_choice]\n",
      "INFO       No numerical integration method specified for group 'synapses_5', using method 'linear' (took 0.05s). [brian2.stateupdaters.base.method_choice]\n",
      "INFO       No numerical integration method specified for group 'synapses_6', using method 'linear' (took 0.15s). [brian2.stateupdaters.base.method_choice]\n",
      "INFO       No numerical integration method specified for group 'synapses_7', using method 'linear' (took 0.15s). [brian2.stateupdaters.base.method_choice]\n",
      "INFO       No numerical integration method specified for group 'synapses', using method 'linear' (took 0.15s). [brian2.stateupdaters.base.method_choice]\n"
     ]
    },
    {
     "name": "stdout",
     "output_type": "stream",
     "text": [
      "test\n"
     ]
    },
    {
     "name": "stderr",
     "output_type": "stream",
     "text": [
      "INFO       No numerical integration method specified for group 'synapses_1', using method 'linear' (took 0.18s). [brian2.stateupdaters.base.method_choice]\n",
      "INFO       No numerical integration method specified for group 'synapses_2', using method 'linear' (took 0.14s). [brian2.stateupdaters.base.method_choice]\n",
      "INFO       No numerical integration method specified for group 'synapses_3', using method 'linear' (took 0.16s). [brian2.stateupdaters.base.method_choice]\n",
      "INFO       No numerical integration method specified for group 'synapses_5', using method 'linear' (took 0.05s). [brian2.stateupdaters.base.method_choice]\n",
      "INFO       No numerical integration method specified for group 'synapses_6', using method 'linear' (took 0.15s). [brian2.stateupdaters.base.method_choice]\n",
      "INFO       No numerical integration method specified for group 'synapses_7', using method 'linear' (took 0.16s). [brian2.stateupdaters.base.method_choice]\n",
      "INFO       No numerical integration method specified for group 'synapses', using method 'linear' (took 0.14s). [brian2.stateupdaters.base.method_choice]\n"
     ]
    },
    {
     "name": "stdout",
     "output_type": "stream",
     "text": [
      "0.11\n",
      "('SIMULATION', 3, {'beta': 80. * msecond, 'lr': 0.1, 'c_diff': 1.0, 'Teacher_amplitude': 15.0, 'c_inp': 0.29999999999999999, 'alpha': 10. * msecond, 'decay_time': 10. * second, 'lr_intr': 0.1, 'c_intr': 0.29999999999999999})\n",
      "train\n"
     ]
    },
    {
     "name": "stderr",
     "output_type": "stream",
     "text": [
      "INFO       No numerical integration method specified for group 'synapses_10', using method 'linear' (took 0.20s). [brian2.stateupdaters.base.method_choice]\n",
      "INFO       No numerical integration method specified for group 'synapses_11', using method 'linear' (took 0.15s). [brian2.stateupdaters.base.method_choice]\n",
      "INFO       No numerical integration method specified for group 'synapses_13', using method 'linear' (took 0.06s). [brian2.stateupdaters.base.method_choice]\n",
      "INFO       No numerical integration method specified for group 'synapses_14', using method 'linear' (took 0.16s). [brian2.stateupdaters.base.method_choice]\n",
      "INFO       No numerical integration method specified for group 'synapses_15', using method 'linear' (took 0.15s). [brian2.stateupdaters.base.method_choice]\n",
      "INFO       No numerical integration method specified for group 'synapses_8', using method 'linear' (took 0.15s). [brian2.stateupdaters.base.method_choice]\n",
      "INFO       No numerical integration method specified for group 'synapses_9', using method 'linear' (took 0.15s). [brian2.stateupdaters.base.method_choice]\n"
     ]
    },
    {
     "name": "stdout",
     "output_type": "stream",
     "text": [
      "test\n"
     ]
    },
    {
     "name": "stderr",
     "output_type": "stream",
     "text": [
      "INFO       No numerical integration method specified for group 'synapses_10', using method 'linear' (took 0.19s). [brian2.stateupdaters.base.method_choice]\n",
      "INFO       No numerical integration method specified for group 'synapses_11', using method 'linear' (took 0.15s). [brian2.stateupdaters.base.method_choice]\n",
      "INFO       No numerical integration method specified for group 'synapses_13', using method 'linear' (took 0.05s). [brian2.stateupdaters.base.method_choice]\n",
      "INFO       No numerical integration method specified for group 'synapses_14', using method 'linear' (took 0.15s). [brian2.stateupdaters.base.method_choice]\n",
      "INFO       No numerical integration method specified for group 'synapses_15', using method 'linear' (took 0.15s). [brian2.stateupdaters.base.method_choice]\n",
      "INFO       No numerical integration method specified for group 'synapses_8', using method 'linear' (took 0.15s). [brian2.stateupdaters.base.method_choice]\n",
      "INFO       No numerical integration method specified for group 'synapses_9', using method 'linear' (took 0.15s). [brian2.stateupdaters.base.method_choice]\n"
     ]
    },
    {
     "name": "stdout",
     "output_type": "stream",
     "text": [
      "0.09\n",
      "('SIMULATION', 4, {'beta': 160. * msecond, 'lr': 0.1, 'c_diff': 1.0, 'Teacher_amplitude': 4.5, 'c_inp': 0.29999999999999999, 'alpha': 20. * msecond, 'decay_time': 3.3 * second, 'lr_intr': 0.1, 'c_intr': 0.5})\n",
      "train\n"
     ]
    },
    {
     "name": "stderr",
     "output_type": "stream",
     "text": [
      "INFO       No numerical integration method specified for group 'synapses_1', using method 'linear' (took 0.18s). [brian2.stateupdaters.base.method_choice]\n",
      "INFO       No numerical integration method specified for group 'synapses_2', using method 'linear' (took 0.15s). [brian2.stateupdaters.base.method_choice]\n",
      "INFO       No numerical integration method specified for group 'synapses_3', using method 'linear' (took 0.16s). [brian2.stateupdaters.base.method_choice]\n",
      "INFO       No numerical integration method specified for group 'synapses_5', using method 'linear' (took 0.05s). [brian2.stateupdaters.base.method_choice]\n",
      "INFO       No numerical integration method specified for group 'synapses_6', using method 'linear' (took 0.16s). [brian2.stateupdaters.base.method_choice]\n",
      "INFO       No numerical integration method specified for group 'synapses_7', using method 'linear' (took 0.15s). [brian2.stateupdaters.base.method_choice]\n",
      "INFO       No numerical integration method specified for group 'synapses', using method 'linear' (took 0.16s). [brian2.stateupdaters.base.method_choice]\n"
     ]
    },
    {
     "name": "stdout",
     "output_type": "stream",
     "text": [
      "test\n"
     ]
    },
    {
     "name": "stderr",
     "output_type": "stream",
     "text": [
      "INFO       No numerical integration method specified for group 'synapses_1', using method 'linear' (took 0.19s). [brian2.stateupdaters.base.method_choice]\n",
      "INFO       No numerical integration method specified for group 'synapses_2', using method 'linear' (took 0.14s). [brian2.stateupdaters.base.method_choice]\n",
      "INFO       No numerical integration method specified for group 'synapses_3', using method 'linear' (took 0.15s). [brian2.stateupdaters.base.method_choice]\n",
      "INFO       No numerical integration method specified for group 'synapses_5', using method 'linear' (took 0.05s). [brian2.stateupdaters.base.method_choice]\n",
      "INFO       No numerical integration method specified for group 'synapses_6', using method 'linear' (took 0.15s). [brian2.stateupdaters.base.method_choice]\n",
      "INFO       No numerical integration method specified for group 'synapses_7', using method 'linear' (took 0.15s). [brian2.stateupdaters.base.method_choice]\n",
      "INFO       No numerical integration method specified for group 'synapses', using method 'linear' (took 0.17s). [brian2.stateupdaters.base.method_choice]\n"
     ]
    },
    {
     "name": "stdout",
     "output_type": "stream",
     "text": [
      "0.14\n",
      "('SIMULATION', 5, {'beta': 160. * msecond, 'lr': 0.1, 'c_diff': 1.0, 'Teacher_amplitude': 9.0, 'c_inp': 0.5, 'alpha': 20. * msecond, 'decay_time': 15. * second, 'lr_intr': 0.1, 'c_intr': 0.5})\n",
      "train\n"
     ]
    },
    {
     "name": "stderr",
     "output_type": "stream",
     "text": [
      "INFO       No numerical integration method specified for group 'synapses_10', using method 'linear' (took 0.18s). [brian2.stateupdaters.base.method_choice]\n",
      "INFO       No numerical integration method specified for group 'synapses_11', using method 'linear' (took 0.14s). [brian2.stateupdaters.base.method_choice]\n",
      "INFO       No numerical integration method specified for group 'synapses_13', using method 'linear' (took 0.05s). [brian2.stateupdaters.base.method_choice]\n",
      "INFO       No numerical integration method specified for group 'synapses_14', using method 'linear' (took 0.15s). [brian2.stateupdaters.base.method_choice]\n",
      "INFO       No numerical integration method specified for group 'synapses_15', using method 'linear' (took 0.14s). [brian2.stateupdaters.base.method_choice]\n",
      "INFO       No numerical integration method specified for group 'synapses_8', using method 'linear' (took 0.14s). [brian2.stateupdaters.base.method_choice]\n",
      "INFO       No numerical integration method specified for group 'synapses_9', using method 'linear' (took 0.14s). [brian2.stateupdaters.base.method_choice]\n"
     ]
    },
    {
     "name": "stdout",
     "output_type": "stream",
     "text": [
      "test\n"
     ]
    },
    {
     "name": "stderr",
     "output_type": "stream",
     "text": [
      "INFO       No numerical integration method specified for group 'synapses_10', using method 'linear' (took 0.18s). [brian2.stateupdaters.base.method_choice]\n",
      "INFO       No numerical integration method specified for group 'synapses_11', using method 'linear' (took 0.14s). [brian2.stateupdaters.base.method_choice]\n",
      "INFO       No numerical integration method specified for group 'synapses_13', using method 'linear' (took 0.05s). [brian2.stateupdaters.base.method_choice]\n",
      "INFO       No numerical integration method specified for group 'synapses_14', using method 'linear' (took 0.14s). [brian2.stateupdaters.base.method_choice]\n",
      "INFO       No numerical integration method specified for group 'synapses_15', using method 'linear' (took 0.16s). [brian2.stateupdaters.base.method_choice]\n",
      "INFO       No numerical integration method specified for group 'synapses_8', using method 'linear' (took 0.14s). [brian2.stateupdaters.base.method_choice]\n",
      "INFO       No numerical integration method specified for group 'synapses_9', using method 'linear' (took 0.15s). [brian2.stateupdaters.base.method_choice]\n"
     ]
    },
    {
     "name": "stdout",
     "output_type": "stream",
     "text": [
      "0.09\n",
      "('SIMULATION', 6, {'beta': 200. * msecond, 'lr': 0.1, 'c_diff': 1.0, 'Teacher_amplitude': 7.5, 'c_inp': 1.0, 'alpha': 25. * msecond, 'decay_time': 15. * second, 'lr_intr': 0.1, 'c_intr': 0.29999999999999999})\n",
      "train\n"
     ]
    },
    {
     "name": "stderr",
     "output_type": "stream",
     "text": [
      "INFO       No numerical integration method specified for group 'synapses_1', using method 'linear' (took 0.18s). [brian2.stateupdaters.base.method_choice]\n",
      "INFO       No numerical integration method specified for group 'synapses_2', using method 'linear' (took 0.14s). [brian2.stateupdaters.base.method_choice]\n",
      "INFO       No numerical integration method specified for group 'synapses_3', using method 'linear' (took 0.16s). [brian2.stateupdaters.base.method_choice]\n",
      "INFO       No numerical integration method specified for group 'synapses_5', using method 'linear' (took 0.05s). [brian2.stateupdaters.base.method_choice]\n",
      "INFO       No numerical integration method specified for group 'synapses_6', using method 'linear' (took 0.15s). [brian2.stateupdaters.base.method_choice]\n",
      "INFO       No numerical integration method specified for group 'synapses_7', using method 'linear' (took 0.14s). [brian2.stateupdaters.base.method_choice]\n",
      "INFO       No numerical integration method specified for group 'synapses', using method 'linear' (took 0.14s). [brian2.stateupdaters.base.method_choice]\n"
     ]
    },
    {
     "name": "stdout",
     "output_type": "stream",
     "text": [
      "test\n"
     ]
    },
    {
     "name": "stderr",
     "output_type": "stream",
     "text": [
      "INFO       No numerical integration method specified for group 'synapses_1', using method 'linear' (took 0.18s). [brian2.stateupdaters.base.method_choice]\n",
      "INFO       No numerical integration method specified for group 'synapses_2', using method 'linear' (took 0.14s). [brian2.stateupdaters.base.method_choice]\n",
      "INFO       No numerical integration method specified for group 'synapses_3', using method 'linear' (took 0.14s). [brian2.stateupdaters.base.method_choice]\n",
      "INFO       No numerical integration method specified for group 'synapses_5', using method 'linear' (took 0.05s). [brian2.stateupdaters.base.method_choice]\n",
      "INFO       No numerical integration method specified for group 'synapses_6', using method 'linear' (took 0.14s). [brian2.stateupdaters.base.method_choice]\n",
      "INFO       No numerical integration method specified for group 'synapses_7', using method 'linear' (took 0.15s). [brian2.stateupdaters.base.method_choice]\n",
      "INFO       No numerical integration method specified for group 'synapses', using method 'linear' (took 0.16s). [brian2.stateupdaters.base.method_choice]\n"
     ]
    },
    {
     "name": "stdout",
     "output_type": "stream",
     "text": [
      "0.04\n",
      "('SIMULATION', 7, {'beta': 200. * msecond, 'lr': 0.1, 'c_diff': 1.0, 'Teacher_amplitude': 30.0, 'c_inp': 0.10000000000000001, 'alpha': 25. * msecond, 'decay_time': 10. * second, 'lr_intr': 0.1, 'c_intr': 0.75})\n",
      "train\n"
     ]
    },
    {
     "name": "stderr",
     "output_type": "stream",
     "text": [
      "INFO       No numerical integration method specified for group 'synapses_10', using method 'linear' (took 0.18s). [brian2.stateupdaters.base.method_choice]\n",
      "INFO       No numerical integration method specified for group 'synapses_11', using method 'linear' (took 0.15s). [brian2.stateupdaters.base.method_choice]\n",
      "INFO       No numerical integration method specified for group 'synapses_13', using method 'linear' (took 0.05s). [brian2.stateupdaters.base.method_choice]\n",
      "INFO       No numerical integration method specified for group 'synapses_14', using method 'linear' (took 0.15s). [brian2.stateupdaters.base.method_choice]\n",
      "INFO       No numerical integration method specified for group 'synapses_15', using method 'linear' (took 0.15s). [brian2.stateupdaters.base.method_choice]\n",
      "INFO       No numerical integration method specified for group 'synapses_8', using method 'linear' (took 0.16s). [brian2.stateupdaters.base.method_choice]\n",
      "INFO       No numerical integration method specified for group 'synapses_9', using method 'linear' (took 0.14s). [brian2.stateupdaters.base.method_choice]\n"
     ]
    },
    {
     "name": "stdout",
     "output_type": "stream",
     "text": [
      "test\n"
     ]
    },
    {
     "name": "stderr",
     "output_type": "stream",
     "text": [
      "INFO       No numerical integration method specified for group 'synapses_10', using method 'linear' (took 0.18s). [brian2.stateupdaters.base.method_choice]\n",
      "INFO       No numerical integration method specified for group 'synapses_11', using method 'linear' (took 0.14s). [brian2.stateupdaters.base.method_choice]\n",
      "INFO       No numerical integration method specified for group 'synapses_13', using method 'linear' (took 0.05s). [brian2.stateupdaters.base.method_choice]\n",
      "INFO       No numerical integration method specified for group 'synapses_14', using method 'linear' (took 0.15s). [brian2.stateupdaters.base.method_choice]\n",
      "INFO       No numerical integration method specified for group 'synapses_15', using method 'linear' (took 0.15s). [brian2.stateupdaters.base.method_choice]\n",
      "INFO       No numerical integration method specified for group 'synapses_8', using method 'linear' (took 0.14s). [brian2.stateupdaters.base.method_choice]\n",
      "INFO       No numerical integration method specified for group 'synapses_9', using method 'linear' (took 0.16s). [brian2.stateupdaters.base.method_choice]\n"
     ]
    },
    {
     "name": "stdout",
     "output_type": "stream",
     "text": [
      "0.09\n",
      "('SIMULATION', 8, {'beta': 120. * msecond, 'lr': 0.1, 'c_diff': 1.0, 'Teacher_amplitude': 2.5, 'c_inp': 0.75, 'alpha': 15. * msecond, 'decay_time': 3.3 * second, 'lr_intr': 0.1, 'c_intr': 0.29999999999999999})\n",
      "train\n"
     ]
    },
    {
     "name": "stderr",
     "output_type": "stream",
     "text": [
      "INFO       No numerical integration method specified for group 'synapses_1', using method 'linear' (took 0.18s). [brian2.stateupdaters.base.method_choice]\n",
      "INFO       No numerical integration method specified for group 'synapses_2', using method 'linear' (took 0.15s). [brian2.stateupdaters.base.method_choice]\n",
      "INFO       No numerical integration method specified for group 'synapses_3', using method 'linear' (took 0.14s). [brian2.stateupdaters.base.method_choice]\n",
      "INFO       No numerical integration method specified for group 'synapses_5', using method 'linear' (took 0.05s). [brian2.stateupdaters.base.method_choice]\n",
      "INFO       No numerical integration method specified for group 'synapses_6', using method 'linear' (took 0.15s). [brian2.stateupdaters.base.method_choice]\n",
      "INFO       No numerical integration method specified for group 'synapses_7', using method 'linear' (took 0.14s). [brian2.stateupdaters.base.method_choice]\n",
      "INFO       No numerical integration method specified for group 'synapses', using method 'linear' (took 0.16s). [brian2.stateupdaters.base.method_choice]\n"
     ]
    },
    {
     "name": "stdout",
     "output_type": "stream",
     "text": [
      "test\n"
     ]
    },
    {
     "name": "stderr",
     "output_type": "stream",
     "text": [
      "INFO       No numerical integration method specified for group 'synapses_1', using method 'linear' (took 0.19s). [brian2.stateupdaters.base.method_choice]\n",
      "INFO       No numerical integration method specified for group 'synapses_2', using method 'linear' (took 0.14s). [brian2.stateupdaters.base.method_choice]\n",
      "INFO       No numerical integration method specified for group 'synapses_3', using method 'linear' (took 0.14s). [brian2.stateupdaters.base.method_choice]\n",
      "INFO       No numerical integration method specified for group 'synapses_5', using method 'linear' (took 0.05s). [brian2.stateupdaters.base.method_choice]\n",
      "INFO       No numerical integration method specified for group 'synapses_6', using method 'linear' (took 0.14s). [brian2.stateupdaters.base.method_choice]\n",
      "INFO       No numerical integration method specified for group 'synapses_7', using method 'linear' (took 0.14s). [brian2.stateupdaters.base.method_choice]\n",
      "INFO       No numerical integration method specified for group 'synapses', using method 'linear' (took 0.16s). [brian2.stateupdaters.base.method_choice]\n"
     ]
    },
    {
     "name": "stdout",
     "output_type": "stream",
     "text": [
      "0.09\n",
      "('SIMULATION', 9, {'beta': 240. * msecond, 'lr': 0.1, 'c_diff': 1.0, 'Teacher_amplitude': 3.75, 'c_inp': 0.10000000000000001, 'alpha': 30. * msecond, 'decay_time': 3.3 * second, 'lr_intr': 0.1, 'c_intr': 0.75})\n",
      "train\n"
     ]
    },
    {
     "name": "stderr",
     "output_type": "stream",
     "text": [
      "INFO       No numerical integration method specified for group 'synapses_10', using method 'linear' (took 0.19s). [brian2.stateupdaters.base.method_choice]\n",
      "INFO       No numerical integration method specified for group 'synapses_11', using method 'linear' (took 0.14s). [brian2.stateupdaters.base.method_choice]\n",
      "INFO       No numerical integration method specified for group 'synapses_13', using method 'linear' (took 0.05s). [brian2.stateupdaters.base.method_choice]\n",
      "INFO       No numerical integration method specified for group 'synapses_14', using method 'linear' (took 0.15s). [brian2.stateupdaters.base.method_choice]\n",
      "INFO       No numerical integration method specified for group 'synapses_15', using method 'linear' (took 0.15s). [brian2.stateupdaters.base.method_choice]\n",
      "INFO       No numerical integration method specified for group 'synapses_8', using method 'linear' (took 0.15s). [brian2.stateupdaters.base.method_choice]\n",
      "INFO       No numerical integration method specified for group 'synapses_9', using method 'linear' (took 0.14s). [brian2.stateupdaters.base.method_choice]\n"
     ]
    },
    {
     "name": "stdout",
     "output_type": "stream",
     "text": [
      "test\n"
     ]
    },
    {
     "name": "stderr",
     "output_type": "stream",
     "text": [
      "INFO       No numerical integration method specified for group 'synapses_10', using method 'linear' (took 0.18s). [brian2.stateupdaters.base.method_choice]\n",
      "INFO       No numerical integration method specified for group 'synapses_11', using method 'linear' (took 0.14s). [brian2.stateupdaters.base.method_choice]\n",
      "INFO       No numerical integration method specified for group 'synapses_13', using method 'linear' (took 0.06s). [brian2.stateupdaters.base.method_choice]\n",
      "INFO       No numerical integration method specified for group 'synapses_14', using method 'linear' (took 0.15s). [brian2.stateupdaters.base.method_choice]\n",
      "INFO       No numerical integration method specified for group 'synapses_15', using method 'linear' (took 0.15s). [brian2.stateupdaters.base.method_choice]\n",
      "INFO       No numerical integration method specified for group 'synapses_8', using method 'linear' (took 0.16s). [brian2.stateupdaters.base.method_choice]\n",
      "INFO       No numerical integration method specified for group 'synapses_9', using method 'linear' (took 0.15s). [brian2.stateupdaters.base.method_choice]\n"
     ]
    },
    {
     "name": "stdout",
     "output_type": "stream",
     "text": [
      "0.12\n",
      "('SIMULATION', 10, {'beta': 80. * msecond, 'lr': 0.1, 'c_diff': 1.0, 'Teacher_amplitude': 5.0, 'c_inp': 0.10000000000000001, 'alpha': 10. * msecond, 'decay_time': 15. * second, 'lr_intr': 0.1, 'c_intr': 0.29999999999999999})\n",
      "train\n"
     ]
    },
    {
     "name": "stderr",
     "output_type": "stream",
     "text": [
      "INFO       No numerical integration method specified for group 'synapses_1', using method 'linear' (took 0.20s). [brian2.stateupdaters.base.method_choice]\n",
      "INFO       No numerical integration method specified for group 'synapses_2', using method 'linear' (took 0.14s). [brian2.stateupdaters.base.method_choice]\n",
      "INFO       No numerical integration method specified for group 'synapses_3', using method 'linear' (took 0.16s). [brian2.stateupdaters.base.method_choice]\n",
      "INFO       No numerical integration method specified for group 'synapses_5', using method 'linear' (took 0.05s). [brian2.stateupdaters.base.method_choice]\n",
      "INFO       No numerical integration method specified for group 'synapses_6', using method 'linear' (took 0.15s). [brian2.stateupdaters.base.method_choice]\n",
      "INFO       No numerical integration method specified for group 'synapses_7', using method 'linear' (took 0.15s). [brian2.stateupdaters.base.method_choice]\n",
      "INFO       No numerical integration method specified for group 'synapses', using method 'linear' (took 0.14s). [brian2.stateupdaters.base.method_choice]\n"
     ]
    },
    {
     "name": "stdout",
     "output_type": "stream",
     "text": [
      "test\n"
     ]
    },
    {
     "name": "stderr",
     "output_type": "stream",
     "text": [
      "INFO       No numerical integration method specified for group 'synapses_1', using method 'linear' (took 0.19s). [brian2.stateupdaters.base.method_choice]\n",
      "INFO       No numerical integration method specified for group 'synapses_2', using method 'linear' (took 0.14s). [brian2.stateupdaters.base.method_choice]\n",
      "INFO       No numerical integration method specified for group 'synapses_3', using method 'linear' (took 0.15s). [brian2.stateupdaters.base.method_choice]\n",
      "INFO       No numerical integration method specified for group 'synapses_5', using method 'linear' (took 0.04s). [brian2.stateupdaters.base.method_choice]\n",
      "INFO       No numerical integration method specified for group 'synapses_6', using method 'linear' (took 0.15s). [brian2.stateupdaters.base.method_choice]\n",
      "INFO       No numerical integration method specified for group 'synapses_7', using method 'linear' (took 0.16s). [brian2.stateupdaters.base.method_choice]\n",
      "INFO       No numerical integration method specified for group 'synapses', using method 'linear' (took 0.14s). [brian2.stateupdaters.base.method_choice]\n"
     ]
    },
    {
     "name": "stdout",
     "output_type": "stream",
     "text": [
      "0.15\n",
      "('SIMULATION', 11, {'beta': 160. * msecond, 'lr': 0.1, 'c_diff': 1.0, 'Teacher_amplitude': 3.0, 'c_inp': 0.10000000000000001, 'alpha': 20. * msecond, 'decay_time': 10. * second, 'lr_intr': 0.1, 'c_intr': 0.5})\n",
      "train\n"
     ]
    },
    {
     "name": "stderr",
     "output_type": "stream",
     "text": [
      "INFO       No numerical integration method specified for group 'synapses_10', using method 'linear' (took 0.18s). [brian2.stateupdaters.base.method_choice]\n",
      "INFO       No numerical integration method specified for group 'synapses_11', using method 'linear' (took 0.14s). [brian2.stateupdaters.base.method_choice]\n",
      "INFO       No numerical integration method specified for group 'synapses_13', using method 'linear' (took 0.05s). [brian2.stateupdaters.base.method_choice]\n",
      "INFO       No numerical integration method specified for group 'synapses_14', using method 'linear' (took 0.15s). [brian2.stateupdaters.base.method_choice]\n",
      "INFO       No numerical integration method specified for group 'synapses_15', using method 'linear' (took 0.15s). [brian2.stateupdaters.base.method_choice]\n",
      "INFO       No numerical integration method specified for group 'synapses_8', using method 'linear' (took 0.14s). [brian2.stateupdaters.base.method_choice]\n",
      "INFO       No numerical integration method specified for group 'synapses_9', using method 'linear' (took 0.15s). [brian2.stateupdaters.base.method_choice]\n"
     ]
    },
    {
     "name": "stdout",
     "output_type": "stream",
     "text": [
      "test\n"
     ]
    },
    {
     "name": "stderr",
     "output_type": "stream",
     "text": [
      "INFO       No numerical integration method specified for group 'synapses_10', using method 'linear' (took 0.18s). [brian2.stateupdaters.base.method_choice]\n",
      "INFO       No numerical integration method specified for group 'synapses_11', using method 'linear' (took 0.15s). [brian2.stateupdaters.base.method_choice]\n",
      "INFO       No numerical integration method specified for group 'synapses_13', using method 'linear' (took 0.05s). [brian2.stateupdaters.base.method_choice]\n",
      "INFO       No numerical integration method specified for group 'synapses_14', using method 'linear' (took 0.15s). [brian2.stateupdaters.base.method_choice]\n",
      "INFO       No numerical integration method specified for group 'synapses_15', using method 'linear' (took 0.15s). [brian2.stateupdaters.base.method_choice]\n",
      "INFO       No numerical integration method specified for group 'synapses_8', using method 'linear' (took 0.14s). [brian2.stateupdaters.base.method_choice]\n",
      "INFO       No numerical integration method specified for group 'synapses_9', using method 'linear' (took 0.14s). [brian2.stateupdaters.base.method_choice]\n"
     ]
    },
    {
     "name": "stdout",
     "output_type": "stream",
     "text": [
      "0.12\n",
      "('SIMULATION', 12, {'beta': 120. * msecond, 'lr': 0.1, 'c_diff': 1.0, 'Teacher_amplitude': 0.5, 'c_inp': 0.5, 'alpha': 15. * msecond, 'decay_time': 10. * second, 'lr_intr': 0.1, 'c_intr': 0.75})\n",
      "train\n"
     ]
    },
    {
     "name": "stderr",
     "output_type": "stream",
     "text": [
      "INFO       No numerical integration method specified for group 'synapses_1', using method 'linear' (took 0.18s). [brian2.stateupdaters.base.method_choice]\n",
      "INFO       No numerical integration method specified for group 'synapses_2', using method 'linear' (took 0.14s). [brian2.stateupdaters.base.method_choice]\n",
      "INFO       No numerical integration method specified for group 'synapses_3', using method 'linear' (took 0.15s). [brian2.stateupdaters.base.method_choice]\n",
      "INFO       No numerical integration method specified for group 'synapses_5', using method 'linear' (took 0.06s). [brian2.stateupdaters.base.method_choice]\n",
      "INFO       No numerical integration method specified for group 'synapses_6', using method 'linear' (took 0.15s). [brian2.stateupdaters.base.method_choice]\n",
      "INFO       No numerical integration method specified for group 'synapses_7', using method 'linear' (took 0.16s). [brian2.stateupdaters.base.method_choice]\n",
      "INFO       No numerical integration method specified for group 'synapses', using method 'linear' (took 0.15s). [brian2.stateupdaters.base.method_choice]\n"
     ]
    },
    {
     "name": "stdout",
     "output_type": "stream",
     "text": [
      "test\n"
     ]
    },
    {
     "name": "stderr",
     "output_type": "stream",
     "text": [
      "INFO       No numerical integration method specified for group 'synapses_1', using method 'linear' (took 0.19s). [brian2.stateupdaters.base.method_choice]\n",
      "INFO       No numerical integration method specified for group 'synapses_2', using method 'linear' (took 0.14s). [brian2.stateupdaters.base.method_choice]\n",
      "INFO       No numerical integration method specified for group 'synapses_3', using method 'linear' (took 0.14s). [brian2.stateupdaters.base.method_choice]\n",
      "INFO       No numerical integration method specified for group 'synapses_5', using method 'linear' (took 0.05s). [brian2.stateupdaters.base.method_choice]\n",
      "INFO       No numerical integration method specified for group 'synapses_6', using method 'linear' (took 0.15s). [brian2.stateupdaters.base.method_choice]\n",
      "INFO       No numerical integration method specified for group 'synapses_7', using method 'linear' (took 0.16s). [brian2.stateupdaters.base.method_choice]\n",
      "INFO       No numerical integration method specified for group 'synapses', using method 'linear' (took 0.15s). [brian2.stateupdaters.base.method_choice]\n"
     ]
    },
    {
     "name": "stdout",
     "output_type": "stream",
     "text": [
      "0.09\n",
      "('SIMULATION', 13, {'beta': 200. * msecond, 'lr': 0.1, 'c_diff': 1.0, 'Teacher_amplitude': 2.5, 'c_inp': 0.10000000000000001, 'alpha': 25. * msecond, 'decay_time': 10. * second, 'lr_intr': 0.1, 'c_intr': 0.10000000000000001})\n",
      "train\n"
     ]
    },
    {
     "name": "stderr",
     "output_type": "stream",
     "text": [
      "INFO       No numerical integration method specified for group 'synapses_10', using method 'linear' (took 0.18s). [brian2.stateupdaters.base.method_choice]\n",
      "INFO       No numerical integration method specified for group 'synapses_11', using method 'linear' (took 0.14s). [brian2.stateupdaters.base.method_choice]\n",
      "INFO       No numerical integration method specified for group 'synapses_13', using method 'linear' (took 0.05s). [brian2.stateupdaters.base.method_choice]\n",
      "INFO       No numerical integration method specified for group 'synapses_14', using method 'linear' (took 0.14s). [brian2.stateupdaters.base.method_choice]\n",
      "INFO       No numerical integration method specified for group 'synapses_15', using method 'linear' (took 0.15s). [brian2.stateupdaters.base.method_choice]\n",
      "INFO       No numerical integration method specified for group 'synapses_8', using method 'linear' (took 0.15s). [brian2.stateupdaters.base.method_choice]\n",
      "INFO       No numerical integration method specified for group 'synapses_9', using method 'linear' (took 0.15s). [brian2.stateupdaters.base.method_choice]\n"
     ]
    },
    {
     "name": "stdout",
     "output_type": "stream",
     "text": [
      "test\n"
     ]
    },
    {
     "name": "stderr",
     "output_type": "stream",
     "text": [
      "INFO       No numerical integration method specified for group 'synapses_10', using method 'linear' (took 0.18s). [brian2.stateupdaters.base.method_choice]\n",
      "INFO       No numerical integration method specified for group 'synapses_11', using method 'linear' (took 0.14s). [brian2.stateupdaters.base.method_choice]\n",
      "INFO       No numerical integration method specified for group 'synapses_13', using method 'linear' (took 0.05s). [brian2.stateupdaters.base.method_choice]\n",
      "INFO       No numerical integration method specified for group 'synapses_14', using method 'linear' (took 0.19s). [brian2.stateupdaters.base.method_choice]\n",
      "INFO       No numerical integration method specified for group 'synapses_15', using method 'linear' (took 0.15s). [brian2.stateupdaters.base.method_choice]\n",
      "INFO       No numerical integration method specified for group 'synapses_8', using method 'linear' (took 0.16s). [brian2.stateupdaters.base.method_choice]\n",
      "INFO       No numerical integration method specified for group 'synapses_9', using method 'linear' (took 0.16s). [brian2.stateupdaters.base.method_choice]\n"
     ]
    },
    {
     "name": "stdout",
     "output_type": "stream",
     "text": [
      "0.09\n",
      "('SIMULATION', 14, {'beta': 120. * msecond, 'lr': 0.1, 'c_diff': 1.0, 'Teacher_amplitude': 5.0, 'c_inp': 1.0, 'alpha': 15. * msecond, 'decay_time': 3.3 * second, 'lr_intr': 0.1, 'c_intr': 0.5})\n",
      "train\n"
     ]
    },
    {
     "name": "stderr",
     "output_type": "stream",
     "text": [
      "INFO       No numerical integration method specified for group 'synapses_1', using method 'linear' (took 0.19s). [brian2.stateupdaters.base.method_choice]\n",
      "INFO       No numerical integration method specified for group 'synapses_2', using method 'linear' (took 0.14s). [brian2.stateupdaters.base.method_choice]\n",
      "INFO       No numerical integration method specified for group 'synapses_3', using method 'linear' (took 0.14s). [brian2.stateupdaters.base.method_choice]\n",
      "INFO       No numerical integration method specified for group 'synapses_5', using method 'linear' (took 0.05s). [brian2.stateupdaters.base.method_choice]\n",
      "INFO       No numerical integration method specified for group 'synapses_6', using method 'linear' (took 0.15s). [brian2.stateupdaters.base.method_choice]\n",
      "INFO       No numerical integration method specified for group 'synapses_7', using method 'linear' (took 0.16s). [brian2.stateupdaters.base.method_choice]\n",
      "INFO       No numerical integration method specified for group 'synapses', using method 'linear' (took 0.14s). [brian2.stateupdaters.base.method_choice]\n"
     ]
    },
    {
     "name": "stdout",
     "output_type": "stream",
     "text": [
      "test\n"
     ]
    },
    {
     "name": "stderr",
     "output_type": "stream",
     "text": [
      "INFO       No numerical integration method specified for group 'synapses_1', using method 'linear' (took 0.18s). [brian2.stateupdaters.base.method_choice]\n",
      "INFO       No numerical integration method specified for group 'synapses_2', using method 'linear' (took 0.14s). [brian2.stateupdaters.base.method_choice]\n",
      "INFO       No numerical integration method specified for group 'synapses_3', using method 'linear' (took 0.16s). [brian2.stateupdaters.base.method_choice]\n",
      "INFO       No numerical integration method specified for group 'synapses_5', using method 'linear' (took 0.04s). [brian2.stateupdaters.base.method_choice]\n",
      "INFO       No numerical integration method specified for group 'synapses_6', using method 'linear' (took 0.16s). [brian2.stateupdaters.base.method_choice]\n",
      "INFO       No numerical integration method specified for group 'synapses_7', using method 'linear' (took 0.14s). [brian2.stateupdaters.base.method_choice]\n",
      "INFO       No numerical integration method specified for group 'synapses', using method 'linear' (took 0.14s). [brian2.stateupdaters.base.method_choice]\n"
     ]
    },
    {
     "name": "stdout",
     "output_type": "stream",
     "text": [
      "0.11\n",
      "('SIMULATION', 15, {'beta': 120. * msecond, 'lr': 0.1, 'c_diff': 1.0, 'Teacher_amplitude': 25.0, 'c_inp': 0.29999999999999999, 'alpha': 15. * msecond, 'decay_time': 3.3 * second, 'lr_intr': 0.1, 'c_intr': 1.0})\n",
      "train\n"
     ]
    },
    {
     "name": "stderr",
     "output_type": "stream",
     "text": [
      "INFO       No numerical integration method specified for group 'synapses_10', using method 'linear' (took 0.18s). [brian2.stateupdaters.base.method_choice]\n",
      "INFO       No numerical integration method specified for group 'synapses_11', using method 'linear' (took 0.14s). [brian2.stateupdaters.base.method_choice]\n",
      "INFO       No numerical integration method specified for group 'synapses_13', using method 'linear' (took 0.05s). [brian2.stateupdaters.base.method_choice]\n",
      "INFO       No numerical integration method specified for group 'synapses_14', using method 'linear' (took 0.14s). [brian2.stateupdaters.base.method_choice]\n",
      "INFO       No numerical integration method specified for group 'synapses_15', using method 'linear' (took 0.15s). [brian2.stateupdaters.base.method_choice]\n",
      "INFO       No numerical integration method specified for group 'synapses_8', using method 'linear' (took 0.15s). [brian2.stateupdaters.base.method_choice]\n",
      "INFO       No numerical integration method specified for group 'synapses_9', using method 'linear' (took 0.14s). [brian2.stateupdaters.base.method_choice]\n"
     ]
    },
    {
     "name": "stdout",
     "output_type": "stream",
     "text": [
      "test\n"
     ]
    },
    {
     "name": "stderr",
     "output_type": "stream",
     "text": [
      "INFO       No numerical integration method specified for group 'synapses_10', using method 'linear' (took 0.18s). [brian2.stateupdaters.base.method_choice]\n",
      "INFO       No numerical integration method specified for group 'synapses_11', using method 'linear' (took 0.14s). [brian2.stateupdaters.base.method_choice]\n",
      "INFO       No numerical integration method specified for group 'synapses_13', using method 'linear' (took 0.05s). [brian2.stateupdaters.base.method_choice]\n",
      "INFO       No numerical integration method specified for group 'synapses_14', using method 'linear' (took 0.14s). [brian2.stateupdaters.base.method_choice]\n",
      "INFO       No numerical integration method specified for group 'synapses_15', using method 'linear' (took 0.14s). [brian2.stateupdaters.base.method_choice]\n",
      "INFO       No numerical integration method specified for group 'synapses_8', using method 'linear' (took 0.14s). [brian2.stateupdaters.base.method_choice]\n",
      "INFO       No numerical integration method specified for group 'synapses_9', using method 'linear' (took 0.14s). [brian2.stateupdaters.base.method_choice]\n"
     ]
    },
    {
     "name": "stdout",
     "output_type": "stream",
     "text": [
      "0.07\n",
      "('SIMULATION', 16, {'beta': 160. * msecond, 'lr': 0.1, 'c_diff': 1.0, 'Teacher_amplitude': 7.5, 'c_inp': 0.10000000000000001, 'alpha': 20. * msecond, 'decay_time': 3.3 * second, 'lr_intr': 0.1, 'c_intr': 1.0})\n",
      "train\n"
     ]
    },
    {
     "name": "stderr",
     "output_type": "stream",
     "text": [
      "INFO       No numerical integration method specified for group 'synapses_1', using method 'linear' (took 0.18s). [brian2.stateupdaters.base.method_choice]\n",
      "INFO       No numerical integration method specified for group 'synapses_2', using method 'linear' (took 0.14s). [brian2.stateupdaters.base.method_choice]\n",
      "INFO       No numerical integration method specified for group 'synapses_3', using method 'linear' (took 0.14s). [brian2.stateupdaters.base.method_choice]\n",
      "INFO       No numerical integration method specified for group 'synapses_5', using method 'linear' (took 0.05s). [brian2.stateupdaters.base.method_choice]\n",
      "INFO       No numerical integration method specified for group 'synapses_6', using method 'linear' (took 0.15s). [brian2.stateupdaters.base.method_choice]\n",
      "INFO       No numerical integration method specified for group 'synapses_7', using method 'linear' (took 0.16s). [brian2.stateupdaters.base.method_choice]\n",
      "INFO       No numerical integration method specified for group 'synapses', using method 'linear' (took 0.14s). [brian2.stateupdaters.base.method_choice]\n"
     ]
    },
    {
     "name": "stdout",
     "output_type": "stream",
     "text": [
      "test\n"
     ]
    },
    {
     "name": "stderr",
     "output_type": "stream",
     "text": [
      "INFO       No numerical integration method specified for group 'synapses_1', using method 'linear' (took 0.18s). [brian2.stateupdaters.base.method_choice]\n",
      "INFO       No numerical integration method specified for group 'synapses_2', using method 'linear' (took 0.14s). [brian2.stateupdaters.base.method_choice]\n",
      "INFO       No numerical integration method specified for group 'synapses_3', using method 'linear' (took 0.16s). [brian2.stateupdaters.base.method_choice]\n",
      "INFO       No numerical integration method specified for group 'synapses_5', using method 'linear' (took 0.05s). [brian2.stateupdaters.base.method_choice]\n",
      "INFO       No numerical integration method specified for group 'synapses_6', using method 'linear' (took 0.14s). [brian2.stateupdaters.base.method_choice]\n",
      "INFO       No numerical integration method specified for group 'synapses_7', using method 'linear' (took 0.16s). [brian2.stateupdaters.base.method_choice]\n",
      "INFO       No numerical integration method specified for group 'synapses', using method 'linear' (took 0.14s). [brian2.stateupdaters.base.method_choice]\n"
     ]
    },
    {
     "name": "stdout",
     "output_type": "stream",
     "text": [
      "0.09\n",
      "('SIMULATION', 17, {'beta': 80. * msecond, 'lr': 0.1, 'c_diff': 1.0, 'Teacher_amplitude': 2.5, 'c_inp': 0.5, 'alpha': 10. * msecond, 'decay_time': 10. * second, 'lr_intr': 0.1, 'c_intr': 0.10000000000000001})\n",
      "train\n"
     ]
    },
    {
     "name": "stderr",
     "output_type": "stream",
     "text": [
      "INFO       No numerical integration method specified for group 'synapses_10', using method 'linear' (took 0.18s). [brian2.stateupdaters.base.method_choice]\n",
      "INFO       No numerical integration method specified for group 'synapses_11', using method 'linear' (took 0.14s). [brian2.stateupdaters.base.method_choice]\n",
      "INFO       No numerical integration method specified for group 'synapses_13', using method 'linear' (took 0.05s). [brian2.stateupdaters.base.method_choice]\n",
      "INFO       No numerical integration method specified for group 'synapses_14', using method 'linear' (took 0.15s). [brian2.stateupdaters.base.method_choice]\n",
      "INFO       No numerical integration method specified for group 'synapses_15', using method 'linear' (took 0.15s). [brian2.stateupdaters.base.method_choice]\n",
      "INFO       No numerical integration method specified for group 'synapses_8', using method 'linear' (took 0.15s). [brian2.stateupdaters.base.method_choice]\n",
      "INFO       No numerical integration method specified for group 'synapses_9', using method 'linear' (took 0.16s). [brian2.stateupdaters.base.method_choice]\n"
     ]
    },
    {
     "name": "stdout",
     "output_type": "stream",
     "text": [
      "test\n"
     ]
    },
    {
     "name": "stderr",
     "output_type": "stream",
     "text": [
      "INFO       No numerical integration method specified for group 'synapses_10', using method 'linear' (took 0.19s). [brian2.stateupdaters.base.method_choice]\n",
      "INFO       No numerical integration method specified for group 'synapses_11', using method 'linear' (took 0.14s). [brian2.stateupdaters.base.method_choice]\n",
      "INFO       No numerical integration method specified for group 'synapses_13', using method 'linear' (took 0.05s). [brian2.stateupdaters.base.method_choice]\n",
      "INFO       No numerical integration method specified for group 'synapses_14', using method 'linear' (took 0.15s). [brian2.stateupdaters.base.method_choice]\n",
      "INFO       No numerical integration method specified for group 'synapses_15', using method 'linear' (took 0.16s). [brian2.stateupdaters.base.method_choice]\n",
      "INFO       No numerical integration method specified for group 'synapses_8', using method 'linear' (took 0.14s). [brian2.stateupdaters.base.method_choice]\n",
      "INFO       No numerical integration method specified for group 'synapses_9', using method 'linear' (took 0.14s). [brian2.stateupdaters.base.method_choice]\n"
     ]
    },
    {
     "name": "stdout",
     "output_type": "stream",
     "text": [
      "0.1\n",
      "('SIMULATION', 18, {'beta': 120. * msecond, 'lr': 0.1, 'c_diff': 1.0, 'Teacher_amplitude': 25.0, 'c_inp': 0.10000000000000001, 'alpha': 15. * msecond, 'decay_time': 3.3 * second, 'lr_intr': 0.1, 'c_intr': 0.75})\n",
      "train\n"
     ]
    },
    {
     "name": "stderr",
     "output_type": "stream",
     "text": [
      "INFO       No numerical integration method specified for group 'synapses_1', using method 'linear' (took 0.19s). [brian2.stateupdaters.base.method_choice]\n",
      "INFO       No numerical integration method specified for group 'synapses_2', using method 'linear' (took 0.14s). [brian2.stateupdaters.base.method_choice]\n",
      "INFO       No numerical integration method specified for group 'synapses_3', using method 'linear' (took 0.16s). [brian2.stateupdaters.base.method_choice]\n",
      "INFO       No numerical integration method specified for group 'synapses_5', using method 'linear' (took 0.05s). [brian2.stateupdaters.base.method_choice]\n",
      "INFO       No numerical integration method specified for group 'synapses_6', using method 'linear' (took 0.16s). [brian2.stateupdaters.base.method_choice]\n",
      "INFO       No numerical integration method specified for group 'synapses_7', using method 'linear' (took 0.14s). [brian2.stateupdaters.base.method_choice]\n",
      "INFO       No numerical integration method specified for group 'synapses', using method 'linear' (took 0.15s). [brian2.stateupdaters.base.method_choice]\n"
     ]
    },
    {
     "name": "stdout",
     "output_type": "stream",
     "text": [
      "test\n"
     ]
    },
    {
     "name": "stderr",
     "output_type": "stream",
     "text": [
      "INFO       No numerical integration method specified for group 'synapses_1', using method 'linear' (took 0.19s). [brian2.stateupdaters.base.method_choice]\n",
      "INFO       No numerical integration method specified for group 'synapses_2', using method 'linear' (took 0.14s). [brian2.stateupdaters.base.method_choice]\n",
      "INFO       No numerical integration method specified for group 'synapses_3', using method 'linear' (took 0.16s). [brian2.stateupdaters.base.method_choice]\n",
      "INFO       No numerical integration method specified for group 'synapses_5', using method 'linear' (took 0.05s). [brian2.stateupdaters.base.method_choice]\n",
      "INFO       No numerical integration method specified for group 'synapses_6', using method 'linear' (took 0.14s). [brian2.stateupdaters.base.method_choice]\n",
      "INFO       No numerical integration method specified for group 'synapses_7', using method 'linear' (took 0.17s). [brian2.stateupdaters.base.method_choice]\n",
      "INFO       No numerical integration method specified for group 'synapses', using method 'linear' (took 0.14s). [brian2.stateupdaters.base.method_choice]\n"
     ]
    },
    {
     "name": "stdout",
     "output_type": "stream",
     "text": [
      "0.13\n",
      "('SIMULATION', 19, {'beta': 240. * msecond, 'lr': 0.1, 'c_diff': 1.0, 'Teacher_amplitude': 2.5, 'c_inp': 0.75, 'alpha': 30. * msecond, 'decay_time': 10. * second, 'lr_intr': 0.1, 'c_intr': 0.10000000000000001})\n",
      "train\n"
     ]
    },
    {
     "name": "stderr",
     "output_type": "stream",
     "text": [
      "INFO       No numerical integration method specified for group 'synapses_10', using method 'linear' (took 0.19s). [brian2.stateupdaters.base.method_choice]\n",
      "INFO       No numerical integration method specified for group 'synapses_11', using method 'linear' (took 0.28s). [brian2.stateupdaters.base.method_choice]\n",
      "INFO       No numerical integration method specified for group 'synapses_13', using method 'linear' (took 0.04s). [brian2.stateupdaters.base.method_choice]\n",
      "INFO       No numerical integration method specified for group 'synapses_14', using method 'linear' (took 0.16s). [brian2.stateupdaters.base.method_choice]\n",
      "INFO       No numerical integration method specified for group 'synapses_15', using method 'linear' (took 0.14s). [brian2.stateupdaters.base.method_choice]\n",
      "INFO       No numerical integration method specified for group 'synapses_8', using method 'linear' (took 0.15s). [brian2.stateupdaters.base.method_choice]\n",
      "INFO       No numerical integration method specified for group 'synapses_9', using method 'linear' (took 0.18s). [brian2.stateupdaters.base.method_choice]\n"
     ]
    },
    {
     "name": "stdout",
     "output_type": "stream",
     "text": [
      "test\n"
     ]
    },
    {
     "name": "stderr",
     "output_type": "stream",
     "text": [
      "INFO       No numerical integration method specified for group 'synapses_10', using method 'linear' (took 0.19s). [brian2.stateupdaters.base.method_choice]\n",
      "INFO       No numerical integration method specified for group 'synapses_11', using method 'linear' (took 0.14s). [brian2.stateupdaters.base.method_choice]\n",
      "INFO       No numerical integration method specified for group 'synapses_13', using method 'linear' (took 0.05s). [brian2.stateupdaters.base.method_choice]\n",
      "INFO       No numerical integration method specified for group 'synapses_14', using method 'linear' (took 0.15s). [brian2.stateupdaters.base.method_choice]\n",
      "INFO       No numerical integration method specified for group 'synapses_15', using method 'linear' (took 0.15s). [brian2.stateupdaters.base.method_choice]\n",
      "INFO       No numerical integration method specified for group 'synapses_8', using method 'linear' (took 0.15s). [brian2.stateupdaters.base.method_choice]\n",
      "INFO       No numerical integration method specified for group 'synapses_9', using method 'linear' (took 0.15s). [brian2.stateupdaters.base.method_choice]\n"
     ]
    },
    {
     "name": "stdout",
     "output_type": "stream",
     "text": [
      "0.1\n",
      "('SIMULATION', 20, {'beta': 200. * msecond, 'lr': 0.1, 'c_diff': 1.0, 'Teacher_amplitude': 37.5, 'c_inp': 0.75, 'alpha': 25. * msecond, 'decay_time': 3.3 * second, 'lr_intr': 0.1, 'c_intr': 0.29999999999999999})\n",
      "train\n"
     ]
    },
    {
     "name": "stderr",
     "output_type": "stream",
     "text": [
      "INFO       No numerical integration method specified for group 'synapses_1', using method 'linear' (took 0.18s). [brian2.stateupdaters.base.method_choice]\n",
      "INFO       No numerical integration method specified for group 'synapses_2', using method 'linear' (took 0.14s). [brian2.stateupdaters.base.method_choice]\n",
      "INFO       No numerical integration method specified for group 'synapses_3', using method 'linear' (took 0.14s). [brian2.stateupdaters.base.method_choice]\n",
      "INFO       No numerical integration method specified for group 'synapses_5', using method 'linear' (took 0.05s). [brian2.stateupdaters.base.method_choice]\n",
      "INFO       No numerical integration method specified for group 'synapses_6', using method 'linear' (took 0.14s). [brian2.stateupdaters.base.method_choice]\n",
      "INFO       No numerical integration method specified for group 'synapses_7', using method 'linear' (took 0.14s). [brian2.stateupdaters.base.method_choice]\n",
      "INFO       No numerical integration method specified for group 'synapses', using method 'linear' (took 0.15s). [brian2.stateupdaters.base.method_choice]\n"
     ]
    },
    {
     "name": "stdout",
     "output_type": "stream",
     "text": [
      "test\n"
     ]
    },
    {
     "name": "stderr",
     "output_type": "stream",
     "text": [
      "INFO       No numerical integration method specified for group 'synapses_1', using method 'linear' (took 0.18s). [brian2.stateupdaters.base.method_choice]\n",
      "INFO       No numerical integration method specified for group 'synapses_2', using method 'linear' (took 0.14s). [brian2.stateupdaters.base.method_choice]\n",
      "INFO       No numerical integration method specified for group 'synapses_3', using method 'linear' (took 0.16s). [brian2.stateupdaters.base.method_choice]\n",
      "INFO       No numerical integration method specified for group 'synapses_5', using method 'linear' (took 0.05s). [brian2.stateupdaters.base.method_choice]\n",
      "INFO       No numerical integration method specified for group 'synapses_6', using method 'linear' (took 0.15s). [brian2.stateupdaters.base.method_choice]\n",
      "INFO       No numerical integration method specified for group 'synapses_7', using method 'linear' (took 0.20s). [brian2.stateupdaters.base.method_choice]\n",
      "INFO       No numerical integration method specified for group 'synapses', using method 'linear' (took 0.14s). [brian2.stateupdaters.base.method_choice]\n"
     ]
    },
    {
     "name": "stdout",
     "output_type": "stream",
     "text": [
      "0.09\n",
      "('SIMULATION', 21, {'beta': 240. * msecond, 'lr': 0.1, 'c_diff': 1.0, 'Teacher_amplitude': 18.75, 'c_inp': 1.0, 'alpha': 30. * msecond, 'decay_time': 15. * second, 'lr_intr': 0.1, 'c_intr': 0.5})\n",
      "train\n"
     ]
    },
    {
     "name": "stderr",
     "output_type": "stream",
     "text": [
      "INFO       No numerical integration method specified for group 'synapses_10', using method 'linear' (took 0.18s). [brian2.stateupdaters.base.method_choice]\n",
      "INFO       No numerical integration method specified for group 'synapses_11', using method 'linear' (took 0.14s). [brian2.stateupdaters.base.method_choice]\n",
      "INFO       No numerical integration method specified for group 'synapses_13', using method 'linear' (took 0.05s). [brian2.stateupdaters.base.method_choice]\n",
      "INFO       No numerical integration method specified for group 'synapses_14', using method 'linear' (took 0.14s). [brian2.stateupdaters.base.method_choice]\n",
      "INFO       No numerical integration method specified for group 'synapses_15', using method 'linear' (took 0.15s). [brian2.stateupdaters.base.method_choice]\n",
      "INFO       No numerical integration method specified for group 'synapses_8', using method 'linear' (took 0.14s). [brian2.stateupdaters.base.method_choice]\n",
      "INFO       No numerical integration method specified for group 'synapses_9', using method 'linear' (took 0.15s). [brian2.stateupdaters.base.method_choice]\n"
     ]
    },
    {
     "name": "stdout",
     "output_type": "stream",
     "text": [
      "test\n"
     ]
    },
    {
     "name": "stderr",
     "output_type": "stream",
     "text": [
      "INFO       No numerical integration method specified for group 'synapses_10', using method 'linear' (took 0.19s). [brian2.stateupdaters.base.method_choice]\n",
      "INFO       No numerical integration method specified for group 'synapses_11', using method 'linear' (took 0.14s). [brian2.stateupdaters.base.method_choice]\n",
      "INFO       No numerical integration method specified for group 'synapses_13', using method 'linear' (took 0.05s). [brian2.stateupdaters.base.method_choice]\n",
      "INFO       No numerical integration method specified for group 'synapses_14', using method 'linear' (took 0.15s). [brian2.stateupdaters.base.method_choice]\n",
      "INFO       No numerical integration method specified for group 'synapses_15', using method 'linear' (took 0.15s). [brian2.stateupdaters.base.method_choice]\n",
      "INFO       No numerical integration method specified for group 'synapses_8', using method 'linear' (took 0.14s). [brian2.stateupdaters.base.method_choice]\n",
      "INFO       No numerical integration method specified for group 'synapses_9', using method 'linear' (took 0.15s). [brian2.stateupdaters.base.method_choice]\n"
     ]
    },
    {
     "name": "stdout",
     "output_type": "stream",
     "text": [
      "0.07\n",
      "('SIMULATION', 22, {'beta': 80. * msecond, 'lr': 0.1, 'c_diff': 1.0, 'Teacher_amplitude': 30.0, 'c_inp': 0.29999999999999999, 'alpha': 10. * msecond, 'decay_time': 15. * second, 'lr_intr': 0.1, 'c_intr': 1.0})\n",
      "train\n"
     ]
    },
    {
     "name": "stderr",
     "output_type": "stream",
     "text": [
      "INFO       No numerical integration method specified for group 'synapses_1', using method 'linear' (took 0.18s). [brian2.stateupdaters.base.method_choice]\n",
      "INFO       No numerical integration method specified for group 'synapses_2', using method 'linear' (took 0.14s). [brian2.stateupdaters.base.method_choice]\n",
      "INFO       No numerical integration method specified for group 'synapses_3', using method 'linear' (took 0.15s). [brian2.stateupdaters.base.method_choice]\n",
      "INFO       No numerical integration method specified for group 'synapses_5', using method 'linear' (took 0.05s). [brian2.stateupdaters.base.method_choice]\n",
      "INFO       No numerical integration method specified for group 'synapses_6', using method 'linear' (took 0.15s). [brian2.stateupdaters.base.method_choice]\n",
      "INFO       No numerical integration method specified for group 'synapses_7', using method 'linear' (took 0.16s). [brian2.stateupdaters.base.method_choice]\n",
      "INFO       No numerical integration method specified for group 'synapses', using method 'linear' (took 0.14s). [brian2.stateupdaters.base.method_choice]\n"
     ]
    },
    {
     "name": "stdout",
     "output_type": "stream",
     "text": [
      "test\n"
     ]
    },
    {
     "name": "stderr",
     "output_type": "stream",
     "text": [
      "INFO       No numerical integration method specified for group 'synapses_1', using method 'linear' (took 0.18s). [brian2.stateupdaters.base.method_choice]\n",
      "INFO       No numerical integration method specified for group 'synapses_2', using method 'linear' (took 0.14s). [brian2.stateupdaters.base.method_choice]\n",
      "INFO       No numerical integration method specified for group 'synapses_3', using method 'linear' (took 0.15s). [brian2.stateupdaters.base.method_choice]\n",
      "INFO       No numerical integration method specified for group 'synapses_5', using method 'linear' (took 0.06s). [brian2.stateupdaters.base.method_choice]\n",
      "INFO       No numerical integration method specified for group 'synapses_6', using method 'linear' (took 0.15s). [brian2.stateupdaters.base.method_choice]\n",
      "INFO       No numerical integration method specified for group 'synapses_7', using method 'linear' (took 0.15s). [brian2.stateupdaters.base.method_choice]\n",
      "INFO       No numerical integration method specified for group 'synapses', using method 'linear' (took 0.14s). [brian2.stateupdaters.base.method_choice]\n"
     ]
    },
    {
     "name": "stdout",
     "output_type": "stream",
     "text": [
      "0.06\n",
      "('SIMULATION', 23, {'beta': 240. * msecond, 'lr': 0.1, 'c_diff': 1.0, 'Teacher_amplitude': 1.5, 'c_inp': 0.29999999999999999, 'alpha': 30. * msecond, 'decay_time': 3.3 * second, 'lr_intr': 0.1, 'c_intr': 0.29999999999999999})\n",
      "train\n"
     ]
    },
    {
     "name": "stderr",
     "output_type": "stream",
     "text": [
      "INFO       No numerical integration method specified for group 'synapses_10', using method 'linear' (took 0.18s). [brian2.stateupdaters.base.method_choice]\n",
      "INFO       No numerical integration method specified for group 'synapses_11', using method 'linear' (took 0.15s). [brian2.stateupdaters.base.method_choice]\n",
      "INFO       No numerical integration method specified for group 'synapses_13', using method 'linear' (took 0.06s). [brian2.stateupdaters.base.method_choice]\n",
      "INFO       No numerical integration method specified for group 'synapses_14', using method 'linear' (took 0.15s). [brian2.stateupdaters.base.method_choice]\n",
      "INFO       No numerical integration method specified for group 'synapses_15', using method 'linear' (took 0.16s). [brian2.stateupdaters.base.method_choice]\n",
      "INFO       No numerical integration method specified for group 'synapses_8', using method 'linear' (took 0.14s). [brian2.stateupdaters.base.method_choice]\n",
      "INFO       No numerical integration method specified for group 'synapses_9', using method 'linear' (took 0.14s). [brian2.stateupdaters.base.method_choice]\n"
     ]
    },
    {
     "name": "stdout",
     "output_type": "stream",
     "text": [
      "test\n"
     ]
    },
    {
     "name": "stderr",
     "output_type": "stream",
     "text": [
      "INFO       No numerical integration method specified for group 'synapses_10', using method 'linear' (took 0.18s). [brian2.stateupdaters.base.method_choice]\n",
      "INFO       No numerical integration method specified for group 'synapses_11', using method 'linear' (took 0.15s). [brian2.stateupdaters.base.method_choice]\n",
      "INFO       No numerical integration method specified for group 'synapses_13', using method 'linear' (took 0.06s). [brian2.stateupdaters.base.method_choice]\n",
      "INFO       No numerical integration method specified for group 'synapses_14', using method 'linear' (took 0.15s). [brian2.stateupdaters.base.method_choice]\n",
      "INFO       No numerical integration method specified for group 'synapses_15', using method 'linear' (took 0.16s). [brian2.stateupdaters.base.method_choice]\n",
      "INFO       No numerical integration method specified for group 'synapses_8', using method 'linear' (took 0.14s). [brian2.stateupdaters.base.method_choice]\n",
      "INFO       No numerical integration method specified for group 'synapses_9', using method 'linear' (took 0.15s). [brian2.stateupdaters.base.method_choice]\n"
     ]
    },
    {
     "name": "stdout",
     "output_type": "stream",
     "text": [
      "0.09\n",
      "('SIMULATION', 24, {'beta': 200. * msecond, 'lr': 0.1, 'c_diff': 1.0, 'Teacher_amplitude': 9.0, 'c_inp': 0.75, 'alpha': 25. * msecond, 'decay_time': 10. * second, 'lr_intr': 0.1, 'c_intr': 0.29999999999999999})\n",
      "train\n"
     ]
    },
    {
     "name": "stderr",
     "output_type": "stream",
     "text": [
      "INFO       No numerical integration method specified for group 'synapses_1', using method 'linear' (took 0.18s). [brian2.stateupdaters.base.method_choice]\n",
      "INFO       No numerical integration method specified for group 'synapses_2', using method 'linear' (took 0.14s). [brian2.stateupdaters.base.method_choice]\n",
      "INFO       No numerical integration method specified for group 'synapses_3', using method 'linear' (took 0.14s). [brian2.stateupdaters.base.method_choice]\n",
      "INFO       No numerical integration method specified for group 'synapses_5', using method 'linear' (took 0.05s). [brian2.stateupdaters.base.method_choice]\n",
      "INFO       No numerical integration method specified for group 'synapses_6', using method 'linear' (took 0.15s). [brian2.stateupdaters.base.method_choice]\n",
      "INFO       No numerical integration method specified for group 'synapses_7', using method 'linear' (took 0.15s). [brian2.stateupdaters.base.method_choice]\n",
      "INFO       No numerical integration method specified for group 'synapses', using method 'linear' (took 0.14s). [brian2.stateupdaters.base.method_choice]\n"
     ]
    },
    {
     "name": "stdout",
     "output_type": "stream",
     "text": [
      "test\n"
     ]
    },
    {
     "name": "stderr",
     "output_type": "stream",
     "text": [
      "INFO       No numerical integration method specified for group 'synapses_1', using method 'linear' (took 0.18s). [brian2.stateupdaters.base.method_choice]\n",
      "INFO       No numerical integration method specified for group 'synapses_2', using method 'linear' (took 0.14s). [brian2.stateupdaters.base.method_choice]\n",
      "INFO       No numerical integration method specified for group 'synapses_3', using method 'linear' (took 0.15s). [brian2.stateupdaters.base.method_choice]\n",
      "INFO       No numerical integration method specified for group 'synapses_5', using method 'linear' (took 0.05s). [brian2.stateupdaters.base.method_choice]\n",
      "INFO       No numerical integration method specified for group 'synapses_6', using method 'linear' (took 0.15s). [brian2.stateupdaters.base.method_choice]\n",
      "INFO       No numerical integration method specified for group 'synapses_7', using method 'linear' (took 0.15s). [brian2.stateupdaters.base.method_choice]\n",
      "INFO       No numerical integration method specified for group 'synapses', using method 'linear' (took 0.16s). [brian2.stateupdaters.base.method_choice]\n"
     ]
    },
    {
     "name": "stdout",
     "output_type": "stream",
     "text": [
      "0.1\n",
      "('SIMULATION', 25, {'beta': 120. * msecond, 'lr': 0.1, 'c_diff': 1.0, 'Teacher_amplitude': 18.75, 'c_inp': 1.0, 'alpha': 15. * msecond, 'decay_time': 3.3 * second, 'lr_intr': 0.1, 'c_intr': 0.10000000000000001})\n",
      "train\n"
     ]
    },
    {
     "name": "stderr",
     "output_type": "stream",
     "text": [
      "INFO       No numerical integration method specified for group 'synapses_10', using method 'linear' (took 0.19s). [brian2.stateupdaters.base.method_choice]\n",
      "INFO       No numerical integration method specified for group 'synapses_11', using method 'linear' (took 0.14s). [brian2.stateupdaters.base.method_choice]\n",
      "INFO       No numerical integration method specified for group 'synapses_13', using method 'linear' (took 0.05s). [brian2.stateupdaters.base.method_choice]\n",
      "INFO       No numerical integration method specified for group 'synapses_14', using method 'linear' (took 0.15s). [brian2.stateupdaters.base.method_choice]\n",
      "INFO       No numerical integration method specified for group 'synapses_15', using method 'linear' (took 0.14s). [brian2.stateupdaters.base.method_choice]\n",
      "INFO       No numerical integration method specified for group 'synapses_8', using method 'linear' (took 0.15s). [brian2.stateupdaters.base.method_choice]\n",
      "INFO       No numerical integration method specified for group 'synapses_9', using method 'linear' (took 0.15s). [brian2.stateupdaters.base.method_choice]\n"
     ]
    },
    {
     "name": "stdout",
     "output_type": "stream",
     "text": [
      "test\n"
     ]
    },
    {
     "name": "stderr",
     "output_type": "stream",
     "text": [
      "INFO       No numerical integration method specified for group 'synapses_10', using method 'linear' (took 0.18s). [brian2.stateupdaters.base.method_choice]\n",
      "INFO       No numerical integration method specified for group 'synapses_11', using method 'linear' (took 0.14s). [brian2.stateupdaters.base.method_choice]\n",
      "INFO       No numerical integration method specified for group 'synapses_13', using method 'linear' (took 0.05s). [brian2.stateupdaters.base.method_choice]\n",
      "INFO       No numerical integration method specified for group 'synapses_14', using method 'linear' (took 0.14s). [brian2.stateupdaters.base.method_choice]\n",
      "INFO       No numerical integration method specified for group 'synapses_15', using method 'linear' (took 0.14s). [brian2.stateupdaters.base.method_choice]\n",
      "INFO       No numerical integration method specified for group 'synapses_8', using method 'linear' (took 0.14s). [brian2.stateupdaters.base.method_choice]\n",
      "INFO       No numerical integration method specified for group 'synapses_9', using method 'linear' (took 0.15s). [brian2.stateupdaters.base.method_choice]\n"
     ]
    },
    {
     "name": "stdout",
     "output_type": "stream",
     "text": [
      "0.07\n",
      "('SIMULATION', 26, {'beta': 120. * msecond, 'lr': 0.1, 'c_diff': 1.0, 'Teacher_amplitude': 15.0, 'c_inp': 1.0, 'alpha': 15. * msecond, 'decay_time': 10. * second, 'lr_intr': 0.1, 'c_intr': 1.0})\n",
      "train\n"
     ]
    },
    {
     "name": "stderr",
     "output_type": "stream",
     "text": [
      "INFO       No numerical integration method specified for group 'synapses_1', using method 'linear' (took 0.18s). [brian2.stateupdaters.base.method_choice]\n",
      "INFO       No numerical integration method specified for group 'synapses_2', using method 'linear' (took 0.14s). [brian2.stateupdaters.base.method_choice]\n",
      "INFO       No numerical integration method specified for group 'synapses_3', using method 'linear' (took 0.16s). [brian2.stateupdaters.base.method_choice]\n",
      "INFO       No numerical integration method specified for group 'synapses_5', using method 'linear' (took 0.05s). [brian2.stateupdaters.base.method_choice]\n",
      "INFO       No numerical integration method specified for group 'synapses_6', using method 'linear' (took 0.14s). [brian2.stateupdaters.base.method_choice]\n",
      "INFO       No numerical integration method specified for group 'synapses_7', using method 'linear' (took 0.15s). [brian2.stateupdaters.base.method_choice]\n",
      "INFO       No numerical integration method specified for group 'synapses', using method 'linear' (took 0.15s). [brian2.stateupdaters.base.method_choice]\n"
     ]
    },
    {
     "name": "stdout",
     "output_type": "stream",
     "text": [
      "test\n"
     ]
    },
    {
     "name": "stderr",
     "output_type": "stream",
     "text": [
      "INFO       No numerical integration method specified for group 'synapses_1', using method 'linear' (took 0.18s). [brian2.stateupdaters.base.method_choice]\n",
      "INFO       No numerical integration method specified for group 'synapses_2', using method 'linear' (took 0.14s). [brian2.stateupdaters.base.method_choice]\n",
      "INFO       No numerical integration method specified for group 'synapses_3', using method 'linear' (took 0.16s). [brian2.stateupdaters.base.method_choice]\n",
      "INFO       No numerical integration method specified for group 'synapses_5', using method 'linear' (took 0.05s). [brian2.stateupdaters.base.method_choice]\n",
      "INFO       No numerical integration method specified for group 'synapses_6', using method 'linear' (took 0.15s). [brian2.stateupdaters.base.method_choice]\n",
      "INFO       No numerical integration method specified for group 'synapses_7', using method 'linear' (took 0.15s). [brian2.stateupdaters.base.method_choice]\n",
      "INFO       No numerical integration method specified for group 'synapses', using method 'linear' (took 0.14s). [brian2.stateupdaters.base.method_choice]\n"
     ]
    },
    {
     "name": "stdout",
     "output_type": "stream",
     "text": [
      "0.06\n",
      "('SIMULATION', 27, {'beta': 120. * msecond, 'lr': 0.1, 'c_diff': 1.0, 'Teacher_amplitude': 30.0, 'c_inp': 0.29999999999999999, 'alpha': 15. * msecond, 'decay_time': 10. * second, 'lr_intr': 0.1, 'c_intr': 0.5})\n",
      "train\n"
     ]
    },
    {
     "name": "stderr",
     "output_type": "stream",
     "text": [
      "INFO       No numerical integration method specified for group 'synapses_10', using method 'linear' (took 0.18s). [brian2.stateupdaters.base.method_choice]\n",
      "INFO       No numerical integration method specified for group 'synapses_11', using method 'linear' (took 0.14s). [brian2.stateupdaters.base.method_choice]\n",
      "INFO       No numerical integration method specified for group 'synapses_13', using method 'linear' (took 0.05s). [brian2.stateupdaters.base.method_choice]\n",
      "INFO       No numerical integration method specified for group 'synapses_14', using method 'linear' (took 0.15s). [brian2.stateupdaters.base.method_choice]\n",
      "INFO       No numerical integration method specified for group 'synapses_15', using method 'linear' (took 0.16s). [brian2.stateupdaters.base.method_choice]\n",
      "INFO       No numerical integration method specified for group 'synapses_8', using method 'linear' (took 0.14s). [brian2.stateupdaters.base.method_choice]\n",
      "INFO       No numerical integration method specified for group 'synapses_9', using method 'linear' (took 0.15s). [brian2.stateupdaters.base.method_choice]\n"
     ]
    },
    {
     "name": "stdout",
     "output_type": "stream",
     "text": [
      "test\n"
     ]
    },
    {
     "name": "stderr",
     "output_type": "stream",
     "text": [
      "INFO       No numerical integration method specified for group 'synapses_10', using method 'linear' (took 0.18s). [brian2.stateupdaters.base.method_choice]\n",
      "INFO       No numerical integration method specified for group 'synapses_11', using method 'linear' (took 0.14s). [brian2.stateupdaters.base.method_choice]\n",
      "INFO       No numerical integration method specified for group 'synapses_13', using method 'linear' (took 0.05s). [brian2.stateupdaters.base.method_choice]\n",
      "INFO       No numerical integration method specified for group 'synapses_14', using method 'linear' (took 0.14s). [brian2.stateupdaters.base.method_choice]\n",
      "INFO       No numerical integration method specified for group 'synapses_15', using method 'linear' (took 0.15s). [brian2.stateupdaters.base.method_choice]\n",
      "INFO       No numerical integration method specified for group 'synapses_8', using method 'linear' (took 0.16s). [brian2.stateupdaters.base.method_choice]\n",
      "INFO       No numerical integration method specified for group 'synapses_9', using method 'linear' (took 0.14s). [brian2.stateupdaters.base.method_choice]\n"
     ]
    },
    {
     "name": "stdout",
     "output_type": "stream",
     "text": [
      "0.1\n",
      "('SIMULATION', 28, {'beta': 240. * msecond, 'lr': 0.1, 'c_diff': 1.0, 'Teacher_amplitude': 1.5, 'c_inp': 0.75, 'alpha': 30. * msecond, 'decay_time': 10. * second, 'lr_intr': 0.1, 'c_intr': 0.75})\n",
      "train\n"
     ]
    },
    {
     "name": "stderr",
     "output_type": "stream",
     "text": [
      "INFO       No numerical integration method specified for group 'synapses_1', using method 'linear' (took 0.18s). [brian2.stateupdaters.base.method_choice]\n",
      "INFO       No numerical integration method specified for group 'synapses_2', using method 'linear' (took 0.14s). [brian2.stateupdaters.base.method_choice]\n",
      "INFO       No numerical integration method specified for group 'synapses_3', using method 'linear' (took 0.15s). [brian2.stateupdaters.base.method_choice]\n",
      "INFO       No numerical integration method specified for group 'synapses_5', using method 'linear' (took 0.05s). [brian2.stateupdaters.base.method_choice]\n",
      "INFO       No numerical integration method specified for group 'synapses_6', using method 'linear' (took 0.15s). [brian2.stateupdaters.base.method_choice]\n",
      "INFO       No numerical integration method specified for group 'synapses_7', using method 'linear' (took 0.14s). [brian2.stateupdaters.base.method_choice]\n",
      "INFO       No numerical integration method specified for group 'synapses', using method 'linear' (took 0.16s). [brian2.stateupdaters.base.method_choice]\n"
     ]
    },
    {
     "name": "stdout",
     "output_type": "stream",
     "text": [
      "test\n"
     ]
    },
    {
     "name": "stderr",
     "output_type": "stream",
     "text": [
      "INFO       No numerical integration method specified for group 'synapses_1', using method 'linear' (took 0.18s). [brian2.stateupdaters.base.method_choice]\n",
      "INFO       No numerical integration method specified for group 'synapses_2', using method 'linear' (took 0.15s). [brian2.stateupdaters.base.method_choice]\n",
      "INFO       No numerical integration method specified for group 'synapses_3', using method 'linear' (took 0.16s). [brian2.stateupdaters.base.method_choice]\n",
      "INFO       No numerical integration method specified for group 'synapses_5', using method 'linear' (took 0.05s). [brian2.stateupdaters.base.method_choice]\n",
      "INFO       No numerical integration method specified for group 'synapses_6', using method 'linear' (took 0.15s). [brian2.stateupdaters.base.method_choice]\n",
      "INFO       No numerical integration method specified for group 'synapses_7', using method 'linear' (took 0.14s). [brian2.stateupdaters.base.method_choice]\n",
      "INFO       No numerical integration method specified for group 'synapses', using method 'linear' (took 0.15s). [brian2.stateupdaters.base.method_choice]\n"
     ]
    },
    {
     "name": "stdout",
     "output_type": "stream",
     "text": [
      "0.13\n",
      "('SIMULATION', 29, {'beta': 240. * msecond, 'lr': 0.1, 'c_diff': 1.0, 'Teacher_amplitude': 18.75, 'c_inp': 0.29999999999999999, 'alpha': 30. * msecond, 'decay_time': 15. * second, 'lr_intr': 0.1, 'c_intr': 1.0})\n",
      "train\n"
     ]
    },
    {
     "name": "stderr",
     "output_type": "stream",
     "text": [
      "INFO       No numerical integration method specified for group 'synapses_10', using method 'linear' (took 0.18s). [brian2.stateupdaters.base.method_choice]\n",
      "INFO       No numerical integration method specified for group 'synapses_11', using method 'linear' (took 0.14s). [brian2.stateupdaters.base.method_choice]\n",
      "INFO       No numerical integration method specified for group 'synapses_13', using method 'linear' (took 0.05s). [brian2.stateupdaters.base.method_choice]\n",
      "INFO       No numerical integration method specified for group 'synapses_14', using method 'linear' (took 0.15s). [brian2.stateupdaters.base.method_choice]\n",
      "INFO       No numerical integration method specified for group 'synapses_15', using method 'linear' (took 0.14s). [brian2.stateupdaters.base.method_choice]\n",
      "INFO       No numerical integration method specified for group 'synapses_8', using method 'linear' (took 0.16s). [brian2.stateupdaters.base.method_choice]\n",
      "INFO       No numerical integration method specified for group 'synapses_9', using method 'linear' (took 0.14s). [brian2.stateupdaters.base.method_choice]\n"
     ]
    },
    {
     "name": "stdout",
     "output_type": "stream",
     "text": [
      "test\n"
     ]
    },
    {
     "name": "stderr",
     "output_type": "stream",
     "text": [
      "INFO       No numerical integration method specified for group 'synapses_10', using method 'linear' (took 0.18s). [brian2.stateupdaters.base.method_choice]\n",
      "INFO       No numerical integration method specified for group 'synapses_11', using method 'linear' (took 0.14s). [brian2.stateupdaters.base.method_choice]\n",
      "INFO       No numerical integration method specified for group 'synapses_13', using method 'linear' (took 0.05s). [brian2.stateupdaters.base.method_choice]\n",
      "INFO       No numerical integration method specified for group 'synapses_14', using method 'linear' (took 0.15s). [brian2.stateupdaters.base.method_choice]\n",
      "INFO       No numerical integration method specified for group 'synapses_15', using method 'linear' (took 0.16s). [brian2.stateupdaters.base.method_choice]\n",
      "INFO       No numerical integration method specified for group 'synapses_8', using method 'linear' (took 0.14s). [brian2.stateupdaters.base.method_choice]\n",
      "INFO       No numerical integration method specified for group 'synapses_9', using method 'linear' (took 0.16s). [brian2.stateupdaters.base.method_choice]\n"
     ]
    },
    {
     "name": "stdout",
     "output_type": "stream",
     "text": [
      "0.08\n",
      "('SIMULATION', 30, {'beta': 120. * msecond, 'lr': 0.1, 'c_diff': 1.0, 'Teacher_amplitude': 15.0, 'c_inp': 0.10000000000000001, 'alpha': 15. * msecond, 'decay_time': 10. * second, 'lr_intr': 0.1, 'c_intr': 0.10000000000000001})\n",
      "train\n"
     ]
    },
    {
     "name": "stderr",
     "output_type": "stream",
     "text": [
      "INFO       No numerical integration method specified for group 'synapses_1', using method 'linear' (took 0.18s). [brian2.stateupdaters.base.method_choice]\n",
      "INFO       No numerical integration method specified for group 'synapses_2', using method 'linear' (took 0.14s). [brian2.stateupdaters.base.method_choice]\n",
      "INFO       No numerical integration method specified for group 'synapses_3', using method 'linear' (took 0.16s). [brian2.stateupdaters.base.method_choice]\n",
      "INFO       No numerical integration method specified for group 'synapses_5', using method 'linear' (took 0.05s). [brian2.stateupdaters.base.method_choice]\n",
      "INFO       No numerical integration method specified for group 'synapses_6', using method 'linear' (took 0.14s). [brian2.stateupdaters.base.method_choice]\n",
      "INFO       No numerical integration method specified for group 'synapses_7', using method 'linear' (took 0.14s). [brian2.stateupdaters.base.method_choice]\n",
      "INFO       No numerical integration method specified for group 'synapses', using method 'linear' (took 0.15s). [brian2.stateupdaters.base.method_choice]\n"
     ]
    },
    {
     "name": "stdout",
     "output_type": "stream",
     "text": [
      "test\n"
     ]
    },
    {
     "name": "stderr",
     "output_type": "stream",
     "text": [
      "INFO       No numerical integration method specified for group 'synapses_1', using method 'linear' (took 0.18s). [brian2.stateupdaters.base.method_choice]\n",
      "INFO       No numerical integration method specified for group 'synapses_2', using method 'linear' (took 0.14s). [brian2.stateupdaters.base.method_choice]\n",
      "INFO       No numerical integration method specified for group 'synapses_3', using method 'linear' (took 0.14s). [brian2.stateupdaters.base.method_choice]\n",
      "INFO       No numerical integration method specified for group 'synapses_5', using method 'linear' (took 0.05s). [brian2.stateupdaters.base.method_choice]\n",
      "INFO       No numerical integration method specified for group 'synapses_6', using method 'linear' (took 0.15s). [brian2.stateupdaters.base.method_choice]\n",
      "INFO       No numerical integration method specified for group 'synapses_7', using method 'linear' (took 0.15s). [brian2.stateupdaters.base.method_choice]\n",
      "INFO       No numerical integration method specified for group 'synapses', using method 'linear' (took 0.17s). [brian2.stateupdaters.base.method_choice]\n"
     ]
    },
    {
     "name": "stdout",
     "output_type": "stream",
     "text": [
      "0.12\n",
      "('SIMULATION', 31, {'beta': 200. * msecond, 'lr': 0.1, 'c_diff': 1.0, 'Teacher_amplitude': 1.5, 'c_inp': 0.10000000000000001, 'alpha': 25. * msecond, 'decay_time': 10. * second, 'lr_intr': 0.1, 'c_intr': 1.0})\n",
      "train\n"
     ]
    },
    {
     "name": "stderr",
     "output_type": "stream",
     "text": [
      "INFO       No numerical integration method specified for group 'synapses_10', using method 'linear' (took 0.18s). [brian2.stateupdaters.base.method_choice]\n",
      "INFO       No numerical integration method specified for group 'synapses_11', using method 'linear' (took 0.14s). [brian2.stateupdaters.base.method_choice]\n",
      "INFO       No numerical integration method specified for group 'synapses_13', using method 'linear' (took 0.05s). [brian2.stateupdaters.base.method_choice]\n",
      "INFO       No numerical integration method specified for group 'synapses_14', using method 'linear' (took 0.15s). [brian2.stateupdaters.base.method_choice]\n",
      "INFO       No numerical integration method specified for group 'synapses_15', using method 'linear' (took 0.15s). [brian2.stateupdaters.base.method_choice]\n",
      "INFO       No numerical integration method specified for group 'synapses_8', using method 'linear' (took 0.14s). [brian2.stateupdaters.base.method_choice]\n",
      "INFO       No numerical integration method specified for group 'synapses_9', using method 'linear' (took 0.16s). [brian2.stateupdaters.base.method_choice]\n"
     ]
    },
    {
     "name": "stdout",
     "output_type": "stream",
     "text": [
      "test\n"
     ]
    },
    {
     "name": "stderr",
     "output_type": "stream",
     "text": [
      "INFO       No numerical integration method specified for group 'synapses_10', using method 'linear' (took 0.18s). [brian2.stateupdaters.base.method_choice]\n",
      "INFO       No numerical integration method specified for group 'synapses_11', using method 'linear' (took 0.14s). [brian2.stateupdaters.base.method_choice]\n",
      "INFO       No numerical integration method specified for group 'synapses_13', using method 'linear' (took 0.05s). [brian2.stateupdaters.base.method_choice]\n",
      "INFO       No numerical integration method specified for group 'synapses_14', using method 'linear' (took 0.15s). [brian2.stateupdaters.base.method_choice]\n",
      "INFO       No numerical integration method specified for group 'synapses_15', using method 'linear' (took 0.16s). [brian2.stateupdaters.base.method_choice]\n",
      "INFO       No numerical integration method specified for group 'synapses_8', using method 'linear' (took 0.14s). [brian2.stateupdaters.base.method_choice]\n",
      "INFO       No numerical integration method specified for group 'synapses_9', using method 'linear' (took 0.14s). [brian2.stateupdaters.base.method_choice]\n"
     ]
    },
    {
     "name": "stdout",
     "output_type": "stream",
     "text": [
      "0.12\n",
      "('SIMULATION', 32, {'beta': 240. * msecond, 'lr': 0.1, 'c_diff': 1.0, 'Teacher_amplitude': 5.0, 'c_inp': 0.75, 'alpha': 30. * msecond, 'decay_time': 3.3 * second, 'lr_intr': 0.1, 'c_intr': 0.5})\n",
      "train\n"
     ]
    },
    {
     "name": "stderr",
     "output_type": "stream",
     "text": [
      "INFO       No numerical integration method specified for group 'synapses_1', using method 'linear' (took 0.18s). [brian2.stateupdaters.base.method_choice]\n",
      "INFO       No numerical integration method specified for group 'synapses_2', using method 'linear' (took 0.14s). [brian2.stateupdaters.base.method_choice]\n",
      "INFO       No numerical integration method specified for group 'synapses_3', using method 'linear' (took 0.15s). [brian2.stateupdaters.base.method_choice]\n",
      "INFO       No numerical integration method specified for group 'synapses_5', using method 'linear' (took 0.05s). [brian2.stateupdaters.base.method_choice]\n",
      "INFO       No numerical integration method specified for group 'synapses_6', using method 'linear' (took 0.14s). [brian2.stateupdaters.base.method_choice]\n",
      "INFO       No numerical integration method specified for group 'synapses_7', using method 'linear' (took 0.14s). [brian2.stateupdaters.base.method_choice]\n",
      "INFO       No numerical integration method specified for group 'synapses', using method 'linear' (took 0.16s). [brian2.stateupdaters.base.method_choice]\n"
     ]
    },
    {
     "name": "stdout",
     "output_type": "stream",
     "text": [
      "test\n"
     ]
    },
    {
     "name": "stderr",
     "output_type": "stream",
     "text": [
      "INFO       No numerical integration method specified for group 'synapses_1', using method 'linear' (took 0.18s). [brian2.stateupdaters.base.method_choice]\n",
      "INFO       No numerical integration method specified for group 'synapses_2', using method 'linear' (took 0.14s). [brian2.stateupdaters.base.method_choice]\n",
      "INFO       No numerical integration method specified for group 'synapses_3', using method 'linear' (took 0.16s). [brian2.stateupdaters.base.method_choice]\n",
      "INFO       No numerical integration method specified for group 'synapses_5', using method 'linear' (took 0.05s). [brian2.stateupdaters.base.method_choice]\n",
      "INFO       No numerical integration method specified for group 'synapses_6', using method 'linear' (took 0.14s). [brian2.stateupdaters.base.method_choice]\n",
      "INFO       No numerical integration method specified for group 'synapses_7', using method 'linear' (took 0.15s). [brian2.stateupdaters.base.method_choice]\n",
      "INFO       No numerical integration method specified for group 'synapses', using method 'linear' (took 0.15s). [brian2.stateupdaters.base.method_choice]\n"
     ]
    },
    {
     "name": "stdout",
     "output_type": "stream",
     "text": [
      "0.12\n",
      "('SIMULATION', 33, {'beta': 240. * msecond, 'lr': 0.1, 'c_diff': 1.0, 'Teacher_amplitude': 3.75, 'c_inp': 0.29999999999999999, 'alpha': 30. * msecond, 'decay_time': 3.3 * second, 'lr_intr': 0.1, 'c_intr': 0.10000000000000001})\n",
      "train\n"
     ]
    },
    {
     "name": "stderr",
     "output_type": "stream",
     "text": [
      "INFO       No numerical integration method specified for group 'synapses_10', using method 'linear' (took 0.18s). [brian2.stateupdaters.base.method_choice]\n",
      "INFO       No numerical integration method specified for group 'synapses_11', using method 'linear' (took 0.14s). [brian2.stateupdaters.base.method_choice]\n",
      "INFO       No numerical integration method specified for group 'synapses_13', using method 'linear' (took 0.05s). [brian2.stateupdaters.base.method_choice]\n",
      "INFO       No numerical integration method specified for group 'synapses_14', using method 'linear' (took 0.15s). [brian2.stateupdaters.base.method_choice]\n",
      "INFO       No numerical integration method specified for group 'synapses_15', using method 'linear' (took 0.15s). [brian2.stateupdaters.base.method_choice]\n",
      "INFO       No numerical integration method specified for group 'synapses_8', using method 'linear' (took 0.14s). [brian2.stateupdaters.base.method_choice]\n",
      "INFO       No numerical integration method specified for group 'synapses_9', using method 'linear' (took 0.19s). [brian2.stateupdaters.base.method_choice]\n"
     ]
    },
    {
     "name": "stdout",
     "output_type": "stream",
     "text": [
      "test\n"
     ]
    },
    {
     "name": "stderr",
     "output_type": "stream",
     "text": [
      "INFO       No numerical integration method specified for group 'synapses_10', using method 'linear' (took 0.19s). [brian2.stateupdaters.base.method_choice]\n",
      "INFO       No numerical integration method specified for group 'synapses_11', using method 'linear' (took 0.14s). [brian2.stateupdaters.base.method_choice]\n",
      "INFO       No numerical integration method specified for group 'synapses_13', using method 'linear' (took 0.05s). [brian2.stateupdaters.base.method_choice]\n",
      "INFO       No numerical integration method specified for group 'synapses_14', using method 'linear' (took 0.15s). [brian2.stateupdaters.base.method_choice]\n",
      "INFO       No numerical integration method specified for group 'synapses_15', using method 'linear' (took 0.16s). [brian2.stateupdaters.base.method_choice]\n",
      "INFO       No numerical integration method specified for group 'synapses_8', using method 'linear' (took 0.14s). [brian2.stateupdaters.base.method_choice]\n",
      "INFO       No numerical integration method specified for group 'synapses_9', using method 'linear' (took 0.14s). [brian2.stateupdaters.base.method_choice]\n"
     ]
    },
    {
     "name": "stdout",
     "output_type": "stream",
     "text": [
      "0.05\n",
      "('SIMULATION', 34, {'beta': 120. * msecond, 'lr': 0.1, 'c_diff': 1.0, 'Teacher_amplitude': 7.5, 'c_inp': 0.29999999999999999, 'alpha': 15. * msecond, 'decay_time': 10. * second, 'lr_intr': 0.1, 'c_intr': 0.5})\n",
      "train\n"
     ]
    },
    {
     "name": "stderr",
     "output_type": "stream",
     "text": [
      "INFO       No numerical integration method specified for group 'synapses_1', using method 'linear' (took 0.19s). [brian2.stateupdaters.base.method_choice]\n",
      "INFO       No numerical integration method specified for group 'synapses_2', using method 'linear' (took 0.14s). [brian2.stateupdaters.base.method_choice]\n",
      "INFO       No numerical integration method specified for group 'synapses_3', using method 'linear' (took 0.15s). [brian2.stateupdaters.base.method_choice]\n",
      "INFO       No numerical integration method specified for group 'synapses_5', using method 'linear' (took 0.05s). [brian2.stateupdaters.base.method_choice]\n",
      "INFO       No numerical integration method specified for group 'synapses_6', using method 'linear' (took 0.15s). [brian2.stateupdaters.base.method_choice]\n",
      "INFO       No numerical integration method specified for group 'synapses_7', using method 'linear' (took 0.15s). [brian2.stateupdaters.base.method_choice]\n",
      "INFO       No numerical integration method specified for group 'synapses', using method 'linear' (took 0.15s). [brian2.stateupdaters.base.method_choice]\n"
     ]
    },
    {
     "name": "stdout",
     "output_type": "stream",
     "text": [
      "test\n"
     ]
    },
    {
     "name": "stderr",
     "output_type": "stream",
     "text": [
      "INFO       No numerical integration method specified for group 'synapses_1', using method 'linear' (took 0.19s). [brian2.stateupdaters.base.method_choice]\n",
      "INFO       No numerical integration method specified for group 'synapses_2', using method 'linear' (took 0.14s). [brian2.stateupdaters.base.method_choice]\n",
      "INFO       No numerical integration method specified for group 'synapses_3', using method 'linear' (took 0.16s). [brian2.stateupdaters.base.method_choice]\n",
      "INFO       No numerical integration method specified for group 'synapses_5', using method 'linear' (took 0.05s). [brian2.stateupdaters.base.method_choice]\n",
      "INFO       No numerical integration method specified for group 'synapses_6', using method 'linear' (took 0.15s). [brian2.stateupdaters.base.method_choice]\n",
      "INFO       No numerical integration method specified for group 'synapses_7', using method 'linear' (took 0.16s). [brian2.stateupdaters.base.method_choice]\n",
      "INFO       No numerical integration method specified for group 'synapses', using method 'linear' (took 0.15s). [brian2.stateupdaters.base.method_choice]\n"
     ]
    },
    {
     "name": "stdout",
     "output_type": "stream",
     "text": [
      "0.17\n",
      "('SIMULATION', 35, {'beta': 80. * msecond, 'lr': 0.1, 'c_diff': 1.0, 'Teacher_amplitude': 9.0, 'c_inp': 1.0, 'alpha': 10. * msecond, 'decay_time': 15. * second, 'lr_intr': 0.1, 'c_intr': 0.5})\n",
      "train\n"
     ]
    },
    {
     "name": "stderr",
     "output_type": "stream",
     "text": [
      "INFO       No numerical integration method specified for group 'synapses_10', using method 'linear' (took 0.19s). [brian2.stateupdaters.base.method_choice]\n",
      "INFO       No numerical integration method specified for group 'synapses_11', using method 'linear' (took 0.28s). [brian2.stateupdaters.base.method_choice]\n",
      "INFO       No numerical integration method specified for group 'synapses_13', using method 'linear' (took 0.05s). [brian2.stateupdaters.base.method_choice]\n",
      "INFO       No numerical integration method specified for group 'synapses_14', using method 'linear' (took 0.15s). [brian2.stateupdaters.base.method_choice]\n",
      "INFO       No numerical integration method specified for group 'synapses_15', using method 'linear' (took 0.15s). [brian2.stateupdaters.base.method_choice]\n",
      "INFO       No numerical integration method specified for group 'synapses_8', using method 'linear' (took 0.16s). [brian2.stateupdaters.base.method_choice]\n",
      "INFO       No numerical integration method specified for group 'synapses_9', using method 'linear' (took 0.14s). [brian2.stateupdaters.base.method_choice]\n"
     ]
    },
    {
     "name": "stdout",
     "output_type": "stream",
     "text": [
      "test\n"
     ]
    },
    {
     "name": "stderr",
     "output_type": "stream",
     "text": [
      "INFO       No numerical integration method specified for group 'synapses_10', using method 'linear' (took 0.18s). [brian2.stateupdaters.base.method_choice]\n",
      "INFO       No numerical integration method specified for group 'synapses_11', using method 'linear' (took 0.14s). [brian2.stateupdaters.base.method_choice]\n",
      "INFO       No numerical integration method specified for group 'synapses_13', using method 'linear' (took 0.05s). [brian2.stateupdaters.base.method_choice]\n",
      "INFO       No numerical integration method specified for group 'synapses_14', using method 'linear' (took 0.16s). [brian2.stateupdaters.base.method_choice]\n",
      "INFO       No numerical integration method specified for group 'synapses_15', using method 'linear' (took 0.14s). [brian2.stateupdaters.base.method_choice]\n",
      "INFO       No numerical integration method specified for group 'synapses_8', using method 'linear' (took 0.15s). [brian2.stateupdaters.base.method_choice]\n",
      "INFO       No numerical integration method specified for group 'synapses_9', using method 'linear' (took 0.15s). [brian2.stateupdaters.base.method_choice]\n"
     ]
    },
    {
     "name": "stdout",
     "output_type": "stream",
     "text": [
      "0.17\n",
      "('SIMULATION', 36, {'beta': 200. * msecond, 'lr': 0.1, 'c_diff': 1.0, 'Teacher_amplitude': 30.0, 'c_inp': 0.75, 'alpha': 25. * msecond, 'decay_time': 10. * second, 'lr_intr': 0.1, 'c_intr': 0.75})\n",
      "train\n"
     ]
    },
    {
     "name": "stderr",
     "output_type": "stream",
     "text": [
      "INFO       No numerical integration method specified for group 'synapses_1', using method 'linear' (took 0.18s). [brian2.stateupdaters.base.method_choice]\n",
      "INFO       No numerical integration method specified for group 'synapses_2', using method 'linear' (took 0.14s). [brian2.stateupdaters.base.method_choice]\n",
      "INFO       No numerical integration method specified for group 'synapses_3', using method 'linear' (took 0.16s). [brian2.stateupdaters.base.method_choice]\n",
      "INFO       No numerical integration method specified for group 'synapses_5', using method 'linear' (took 0.05s). [brian2.stateupdaters.base.method_choice]\n",
      "INFO       No numerical integration method specified for group 'synapses_6', using method 'linear' (took 0.15s). [brian2.stateupdaters.base.method_choice]\n",
      "INFO       No numerical integration method specified for group 'synapses_7', using method 'linear' (took 0.17s). [brian2.stateupdaters.base.method_choice]\n",
      "INFO       No numerical integration method specified for group 'synapses', using method 'linear' (took 0.15s). [brian2.stateupdaters.base.method_choice]\n"
     ]
    },
    {
     "name": "stdout",
     "output_type": "stream",
     "text": [
      "test\n"
     ]
    },
    {
     "name": "stderr",
     "output_type": "stream",
     "text": [
      "INFO       No numerical integration method specified for group 'synapses_1', using method 'linear' (took 0.18s). [brian2.stateupdaters.base.method_choice]\n",
      "INFO       No numerical integration method specified for group 'synapses_2', using method 'linear' (took 0.14s). [brian2.stateupdaters.base.method_choice]\n",
      "INFO       No numerical integration method specified for group 'synapses_3', using method 'linear' (took 0.14s). [brian2.stateupdaters.base.method_choice]\n",
      "INFO       No numerical integration method specified for group 'synapses_5', using method 'linear' (took 0.05s). [brian2.stateupdaters.base.method_choice]\n",
      "INFO       No numerical integration method specified for group 'synapses_6', using method 'linear' (took 0.15s). [brian2.stateupdaters.base.method_choice]\n",
      "INFO       No numerical integration method specified for group 'synapses_7', using method 'linear' (took 0.16s). [brian2.stateupdaters.base.method_choice]\n",
      "INFO       No numerical integration method specified for group 'synapses', using method 'linear' (took 0.14s). [brian2.stateupdaters.base.method_choice]\n"
     ]
    },
    {
     "name": "stdout",
     "output_type": "stream",
     "text": [
      "0.08\n",
      "('SIMULATION', 37, {'beta': 80. * msecond, 'lr': 0.1, 'c_diff': 1.0, 'Teacher_amplitude': 3.75, 'c_inp': 1.0, 'alpha': 10. * msecond, 'decay_time': 15. * second, 'lr_intr': 0.1, 'c_intr': 0.75})\n",
      "train\n"
     ]
    },
    {
     "name": "stderr",
     "output_type": "stream",
     "text": [
      "INFO       No numerical integration method specified for group 'synapses_10', using method 'linear' (took 0.18s). [brian2.stateupdaters.base.method_choice]\n",
      "INFO       No numerical integration method specified for group 'synapses_11', using method 'linear' (took 0.15s). [brian2.stateupdaters.base.method_choice]\n",
      "INFO       No numerical integration method specified for group 'synapses_13', using method 'linear' (took 0.05s). [brian2.stateupdaters.base.method_choice]\n",
      "INFO       No numerical integration method specified for group 'synapses_14', using method 'linear' (took 0.15s). [brian2.stateupdaters.base.method_choice]\n",
      "INFO       No numerical integration method specified for group 'synapses_15', using method 'linear' (took 0.15s). [brian2.stateupdaters.base.method_choice]\n",
      "INFO       No numerical integration method specified for group 'synapses_8', using method 'linear' (took 0.14s). [brian2.stateupdaters.base.method_choice]\n",
      "INFO       No numerical integration method specified for group 'synapses_9', using method 'linear' (took 0.15s). [brian2.stateupdaters.base.method_choice]\n"
     ]
    },
    {
     "name": "stdout",
     "output_type": "stream",
     "text": [
      "test\n"
     ]
    },
    {
     "name": "stderr",
     "output_type": "stream",
     "text": [
      "INFO       No numerical integration method specified for group 'synapses_10', using method 'linear' (took 0.18s). [brian2.stateupdaters.base.method_choice]\n",
      "INFO       No numerical integration method specified for group 'synapses_11', using method 'linear' (took 0.14s). [brian2.stateupdaters.base.method_choice]\n",
      "INFO       No numerical integration method specified for group 'synapses_13', using method 'linear' (took 0.05s). [brian2.stateupdaters.base.method_choice]\n",
      "INFO       No numerical integration method specified for group 'synapses_14', using method 'linear' (took 0.15s). [brian2.stateupdaters.base.method_choice]\n",
      "INFO       No numerical integration method specified for group 'synapses_15', using method 'linear' (took 0.15s). [brian2.stateupdaters.base.method_choice]\n",
      "INFO       No numerical integration method specified for group 'synapses_8', using method 'linear' (took 0.15s). [brian2.stateupdaters.base.method_choice]\n",
      "INFO       No numerical integration method specified for group 'synapses_9', using method 'linear' (took 0.14s). [brian2.stateupdaters.base.method_choice]\n"
     ]
    },
    {
     "name": "stdout",
     "output_type": "stream",
     "text": [
      "0.07\n",
      "('SIMULATION', 38, {'beta': 160. * msecond, 'lr': 0.1, 'c_diff': 1.0, 'Teacher_amplitude': 5.0, 'c_inp': 0.10000000000000001, 'alpha': 20. * msecond, 'decay_time': 3.3 * second, 'lr_intr': 0.1, 'c_intr': 1.0})\n",
      "train\n"
     ]
    },
    {
     "name": "stderr",
     "output_type": "stream",
     "text": [
      "INFO       No numerical integration method specified for group 'synapses_1', using method 'linear' (took 0.18s). [brian2.stateupdaters.base.method_choice]\n",
      "INFO       No numerical integration method specified for group 'synapses_2', using method 'linear' (took 0.14s). [brian2.stateupdaters.base.method_choice]\n",
      "INFO       No numerical integration method specified for group 'synapses_3', using method 'linear' (took 0.16s). [brian2.stateupdaters.base.method_choice]\n",
      "INFO       No numerical integration method specified for group 'synapses_5', using method 'linear' (took 0.05s). [brian2.stateupdaters.base.method_choice]\n",
      "INFO       No numerical integration method specified for group 'synapses_6', using method 'linear' (took 0.15s). [brian2.stateupdaters.base.method_choice]\n",
      "INFO       No numerical integration method specified for group 'synapses_7', using method 'linear' (took 0.14s). [brian2.stateupdaters.base.method_choice]\n",
      "INFO       No numerical integration method specified for group 'synapses', using method 'linear' (took 0.15s). [brian2.stateupdaters.base.method_choice]\n"
     ]
    },
    {
     "name": "stdout",
     "output_type": "stream",
     "text": [
      "test\n"
     ]
    },
    {
     "name": "stderr",
     "output_type": "stream",
     "text": [
      "INFO       No numerical integration method specified for group 'synapses_1', using method 'linear' (took 0.18s). [brian2.stateupdaters.base.method_choice]\n",
      "INFO       No numerical integration method specified for group 'synapses_2', using method 'linear' (took 0.14s). [brian2.stateupdaters.base.method_choice]\n",
      "INFO       No numerical integration method specified for group 'synapses_3', using method 'linear' (took 0.16s). [brian2.stateupdaters.base.method_choice]\n",
      "INFO       No numerical integration method specified for group 'synapses_5', using method 'linear' (took 0.05s). [brian2.stateupdaters.base.method_choice]\n",
      "INFO       No numerical integration method specified for group 'synapses_6', using method 'linear' (took 0.15s). [brian2.stateupdaters.base.method_choice]\n",
      "INFO       No numerical integration method specified for group 'synapses_7', using method 'linear' (took 0.15s). [brian2.stateupdaters.base.method_choice]\n",
      "INFO       No numerical integration method specified for group 'synapses', using method 'linear' (took 0.14s). [brian2.stateupdaters.base.method_choice]\n"
     ]
    },
    {
     "name": "stdout",
     "output_type": "stream",
     "text": [
      "0.14\n",
      "('SIMULATION', 39, {'beta': 80. * msecond, 'lr': 0.1, 'c_diff': 1.0, 'Teacher_amplitude': 1.5, 'c_inp': 0.29999999999999999, 'alpha': 10. * msecond, 'decay_time': 3.3 * second, 'lr_intr': 0.1, 'c_intr': 0.29999999999999999})\n",
      "train\n"
     ]
    },
    {
     "name": "stderr",
     "output_type": "stream",
     "text": [
      "INFO       No numerical integration method specified for group 'synapses_10', using method 'linear' (took 0.18s). [brian2.stateupdaters.base.method_choice]\n",
      "INFO       No numerical integration method specified for group 'synapses_11', using method 'linear' (took 0.14s). [brian2.stateupdaters.base.method_choice]\n",
      "INFO       No numerical integration method specified for group 'synapses_13', using method 'linear' (took 0.05s). [brian2.stateupdaters.base.method_choice]\n",
      "INFO       No numerical integration method specified for group 'synapses_14', using method 'linear' (took 0.15s). [brian2.stateupdaters.base.method_choice]\n",
      "INFO       No numerical integration method specified for group 'synapses_15', using method 'linear' (took 0.15s). [brian2.stateupdaters.base.method_choice]\n",
      "INFO       No numerical integration method specified for group 'synapses_8', using method 'linear' (took 0.15s). [brian2.stateupdaters.base.method_choice]\n",
      "INFO       No numerical integration method specified for group 'synapses_9', using method 'linear' (took 0.14s). [brian2.stateupdaters.base.method_choice]\n"
     ]
    },
    {
     "name": "stdout",
     "output_type": "stream",
     "text": [
      "test\n"
     ]
    },
    {
     "name": "stderr",
     "output_type": "stream",
     "text": [
      "INFO       No numerical integration method specified for group 'synapses_10', using method 'linear' (took 0.18s). [brian2.stateupdaters.base.method_choice]\n",
      "INFO       No numerical integration method specified for group 'synapses_11', using method 'linear' (took 0.14s). [brian2.stateupdaters.base.method_choice]\n",
      "INFO       No numerical integration method specified for group 'synapses_13', using method 'linear' (took 0.05s). [brian2.stateupdaters.base.method_choice]\n",
      "INFO       No numerical integration method specified for group 'synapses_14', using method 'linear' (took 0.15s). [brian2.stateupdaters.base.method_choice]\n",
      "INFO       No numerical integration method specified for group 'synapses_15', using method 'linear' (took 0.15s). [brian2.stateupdaters.base.method_choice]\n",
      "INFO       No numerical integration method specified for group 'synapses_8', using method 'linear' (took 0.16s). [brian2.stateupdaters.base.method_choice]\n",
      "INFO       No numerical integration method specified for group 'synapses_9', using method 'linear' (took 0.14s). [brian2.stateupdaters.base.method_choice]\n"
     ]
    },
    {
     "name": "stdout",
     "output_type": "stream",
     "text": [
      "0.1\n",
      "('SIMULATION', 40, {'beta': 200. * msecond, 'lr': 0.1, 'c_diff': 1.0, 'Teacher_amplitude': 7.5, 'c_inp': 0.29999999999999999, 'alpha': 25. * msecond, 'decay_time': 15. * second, 'lr_intr': 0.1, 'c_intr': 0.10000000000000001})\n",
      "train\n"
     ]
    },
    {
     "name": "stderr",
     "output_type": "stream",
     "text": [
      "INFO       No numerical integration method specified for group 'synapses_1', using method 'linear' (took 0.18s). [brian2.stateupdaters.base.method_choice]\n",
      "INFO       No numerical integration method specified for group 'synapses_2', using method 'linear' (took 0.14s). [brian2.stateupdaters.base.method_choice]\n",
      "INFO       No numerical integration method specified for group 'synapses_3', using method 'linear' (took 0.14s). [brian2.stateupdaters.base.method_choice]\n",
      "INFO       No numerical integration method specified for group 'synapses_5', using method 'linear' (took 0.06s). [brian2.stateupdaters.base.method_choice]\n",
      "INFO       No numerical integration method specified for group 'synapses_6', using method 'linear' (took 0.15s). [brian2.stateupdaters.base.method_choice]\n",
      "INFO       No numerical integration method specified for group 'synapses_7', using method 'linear' (took 0.16s). [brian2.stateupdaters.base.method_choice]\n",
      "INFO       No numerical integration method specified for group 'synapses', using method 'linear' (took 0.14s). [brian2.stateupdaters.base.method_choice]\n"
     ]
    },
    {
     "name": "stdout",
     "output_type": "stream",
     "text": [
      "test\n"
     ]
    },
    {
     "name": "stderr",
     "output_type": "stream",
     "text": [
      "INFO       No numerical integration method specified for group 'synapses_1', using method 'linear' (took 0.19s). [brian2.stateupdaters.base.method_choice]\n",
      "INFO       No numerical integration method specified for group 'synapses_2', using method 'linear' (took 0.14s). [brian2.stateupdaters.base.method_choice]\n",
      "INFO       No numerical integration method specified for group 'synapses_3', using method 'linear' (took 0.15s). [brian2.stateupdaters.base.method_choice]\n",
      "INFO       No numerical integration method specified for group 'synapses_5', using method 'linear' (took 0.05s). [brian2.stateupdaters.base.method_choice]\n",
      "INFO       No numerical integration method specified for group 'synapses_6', using method 'linear' (took 0.15s). [brian2.stateupdaters.base.method_choice]\n",
      "INFO       No numerical integration method specified for group 'synapses_7', using method 'linear' (took 0.15s). [brian2.stateupdaters.base.method_choice]\n",
      "INFO       No numerical integration method specified for group 'synapses', using method 'linear' (took 0.14s). [brian2.stateupdaters.base.method_choice]\n"
     ]
    },
    {
     "name": "stdout",
     "output_type": "stream",
     "text": [
      "0.1\n",
      "('SIMULATION', 41, {'beta': 160. * msecond, 'lr': 0.1, 'c_diff': 1.0, 'Teacher_amplitude': 9.0, 'c_inp': 0.10000000000000001, 'alpha': 20. * msecond, 'decay_time': 15. * second, 'lr_intr': 0.1, 'c_intr': 0.75})\n",
      "train\n"
     ]
    },
    {
     "name": "stderr",
     "output_type": "stream",
     "text": [
      "INFO       No numerical integration method specified for group 'synapses_10', using method 'linear' (took 0.18s). [brian2.stateupdaters.base.method_choice]\n",
      "INFO       No numerical integration method specified for group 'synapses_11', using method 'linear' (took 0.14s). [brian2.stateupdaters.base.method_choice]\n",
      "INFO       No numerical integration method specified for group 'synapses_13', using method 'linear' (took 0.05s). [brian2.stateupdaters.base.method_choice]\n",
      "INFO       No numerical integration method specified for group 'synapses_14', using method 'linear' (took 0.15s). [brian2.stateupdaters.base.method_choice]\n",
      "INFO       No numerical integration method specified for group 'synapses_15', using method 'linear' (took 0.16s). [brian2.stateupdaters.base.method_choice]\n",
      "INFO       No numerical integration method specified for group 'synapses_8', using method 'linear' (took 0.14s). [brian2.stateupdaters.base.method_choice]\n",
      "INFO       No numerical integration method specified for group 'synapses_9', using method 'linear' (took 0.16s). [brian2.stateupdaters.base.method_choice]\n"
     ]
    },
    {
     "name": "stdout",
     "output_type": "stream",
     "text": [
      "test\n"
     ]
    },
    {
     "name": "stderr",
     "output_type": "stream",
     "text": [
      "INFO       No numerical integration method specified for group 'synapses_10', using method 'linear' (took 0.18s). [brian2.stateupdaters.base.method_choice]\n",
      "INFO       No numerical integration method specified for group 'synapses_11', using method 'linear' (took 0.14s). [brian2.stateupdaters.base.method_choice]\n",
      "INFO       No numerical integration method specified for group 'synapses_13', using method 'linear' (took 0.05s). [brian2.stateupdaters.base.method_choice]\n",
      "INFO       No numerical integration method specified for group 'synapses_14', using method 'linear' (took 0.15s). [brian2.stateupdaters.base.method_choice]\n",
      "INFO       No numerical integration method specified for group 'synapses_15', using method 'linear' (took 0.16s). [brian2.stateupdaters.base.method_choice]\n",
      "INFO       No numerical integration method specified for group 'synapses_8', using method 'linear' (took 0.14s). [brian2.stateupdaters.base.method_choice]\n",
      "INFO       No numerical integration method specified for group 'synapses_9', using method 'linear' (took 0.15s). [brian2.stateupdaters.base.method_choice]\n"
     ]
    },
    {
     "name": "stdout",
     "output_type": "stream",
     "text": [
      "0.09\n",
      "('SIMULATION', 42, {'beta': 200. * msecond, 'lr': 0.1, 'c_diff': 1.0, 'Teacher_amplitude': 2.5, 'c_inp': 0.75, 'alpha': 25. * msecond, 'decay_time': 3.3 * second, 'lr_intr': 0.1, 'c_intr': 0.75})\n",
      "train\n"
     ]
    },
    {
     "name": "stderr",
     "output_type": "stream",
     "text": [
      "INFO       No numerical integration method specified for group 'synapses_1', using method 'linear' (took 0.18s). [brian2.stateupdaters.base.method_choice]\n",
      "INFO       No numerical integration method specified for group 'synapses_2', using method 'linear' (took 0.15s). [brian2.stateupdaters.base.method_choice]\n",
      "INFO       No numerical integration method specified for group 'synapses_3', using method 'linear' (took 0.15s). [brian2.stateupdaters.base.method_choice]\n",
      "INFO       No numerical integration method specified for group 'synapses_5', using method 'linear' (took 0.05s). [brian2.stateupdaters.base.method_choice]\n",
      "INFO       No numerical integration method specified for group 'synapses_6', using method 'linear' (took 0.14s). [brian2.stateupdaters.base.method_choice]\n",
      "INFO       No numerical integration method specified for group 'synapses_7', using method 'linear' (took 0.16s). [brian2.stateupdaters.base.method_choice]\n",
      "INFO       No numerical integration method specified for group 'synapses', using method 'linear' (took 0.14s). [brian2.stateupdaters.base.method_choice]\n"
     ]
    },
    {
     "name": "stdout",
     "output_type": "stream",
     "text": [
      "test\n"
     ]
    },
    {
     "name": "stderr",
     "output_type": "stream",
     "text": [
      "INFO       No numerical integration method specified for group 'synapses_1', using method 'linear' (took 0.18s). [brian2.stateupdaters.base.method_choice]\n",
      "INFO       No numerical integration method specified for group 'synapses_2', using method 'linear' (took 0.14s). [brian2.stateupdaters.base.method_choice]\n",
      "INFO       No numerical integration method specified for group 'synapses_3', using method 'linear' (took 0.14s). [brian2.stateupdaters.base.method_choice]\n",
      "INFO       No numerical integration method specified for group 'synapses_5', using method 'linear' (took 0.05s). [brian2.stateupdaters.base.method_choice]\n",
      "INFO       No numerical integration method specified for group 'synapses_6', using method 'linear' (took 0.14s). [brian2.stateupdaters.base.method_choice]\n",
      "INFO       No numerical integration method specified for group 'synapses_7', using method 'linear' (took 0.15s). [brian2.stateupdaters.base.method_choice]\n",
      "INFO       No numerical integration method specified for group 'synapses', using method 'linear' (took 0.14s). [brian2.stateupdaters.base.method_choice]\n"
     ]
    },
    {
     "name": "stdout",
     "output_type": "stream",
     "text": [
      "0.12\n",
      "('SIMULATION', 43, {'beta': 80. * msecond, 'lr': 0.1, 'c_diff': 1.0, 'Teacher_amplitude': 3.75, 'c_inp': 1.0, 'alpha': 10. * msecond, 'decay_time': 3.3 * second, 'lr_intr': 0.1, 'c_intr': 0.75})\n",
      "train\n"
     ]
    },
    {
     "name": "stderr",
     "output_type": "stream",
     "text": [
      "INFO       No numerical integration method specified for group 'synapses_10', using method 'linear' (took 0.19s). [brian2.stateupdaters.base.method_choice]\n",
      "INFO       No numerical integration method specified for group 'synapses_11', using method 'linear' (took 0.14s). [brian2.stateupdaters.base.method_choice]\n",
      "INFO       No numerical integration method specified for group 'synapses_13', using method 'linear' (took 0.05s). [brian2.stateupdaters.base.method_choice]\n",
      "INFO       No numerical integration method specified for group 'synapses_14', using method 'linear' (took 0.14s). [brian2.stateupdaters.base.method_choice]\n",
      "INFO       No numerical integration method specified for group 'synapses_15', using method 'linear' (took 0.14s). [brian2.stateupdaters.base.method_choice]\n",
      "INFO       No numerical integration method specified for group 'synapses_8', using method 'linear' (took 0.16s). [brian2.stateupdaters.base.method_choice]\n",
      "INFO       No numerical integration method specified for group 'synapses_9', using method 'linear' (took 0.14s). [brian2.stateupdaters.base.method_choice]\n"
     ]
    },
    {
     "name": "stdout",
     "output_type": "stream",
     "text": [
      "test\n"
     ]
    },
    {
     "name": "stderr",
     "output_type": "stream",
     "text": [
      "INFO       No numerical integration method specified for group 'synapses_10', using method 'linear' (took 0.18s). [brian2.stateupdaters.base.method_choice]\n",
      "INFO       No numerical integration method specified for group 'synapses_11', using method 'linear' (took 0.14s). [brian2.stateupdaters.base.method_choice]\n",
      "INFO       No numerical integration method specified for group 'synapses_13', using method 'linear' (took 0.05s). [brian2.stateupdaters.base.method_choice]\n",
      "INFO       No numerical integration method specified for group 'synapses_14', using method 'linear' (took 0.16s). [brian2.stateupdaters.base.method_choice]\n",
      "INFO       No numerical integration method specified for group 'synapses_15', using method 'linear' (took 0.15s). [brian2.stateupdaters.base.method_choice]\n",
      "INFO       No numerical integration method specified for group 'synapses_8', using method 'linear' (took 0.14s). [brian2.stateupdaters.base.method_choice]\n",
      "INFO       No numerical integration method specified for group 'synapses_9', using method 'linear' (took 0.15s). [brian2.stateupdaters.base.method_choice]\n"
     ]
    },
    {
     "name": "stdout",
     "output_type": "stream",
     "text": [
      "0.1\n",
      "('SIMULATION', 44, {'beta': 240. * msecond, 'lr': 0.1, 'c_diff': 1.0, 'Teacher_amplitude': 30.0, 'c_inp': 1.0, 'alpha': 30. * msecond, 'decay_time': 15. * second, 'lr_intr': 0.1, 'c_intr': 0.29999999999999999})\n",
      "train\n"
     ]
    },
    {
     "name": "stderr",
     "output_type": "stream",
     "text": [
      "INFO       No numerical integration method specified for group 'synapses_1', using method 'linear' (took 0.18s). [brian2.stateupdaters.base.method_choice]\n",
      "INFO       No numerical integration method specified for group 'synapses_2', using method 'linear' (took 0.14s). [brian2.stateupdaters.base.method_choice]\n",
      "INFO       No numerical integration method specified for group 'synapses_3', using method 'linear' (took 0.15s). [brian2.stateupdaters.base.method_choice]\n",
      "INFO       No numerical integration method specified for group 'synapses_5', using method 'linear' (took 0.05s). [brian2.stateupdaters.base.method_choice]\n",
      "INFO       No numerical integration method specified for group 'synapses_6', using method 'linear' (took 0.14s). [brian2.stateupdaters.base.method_choice]\n",
      "INFO       No numerical integration method specified for group 'synapses_7', using method 'linear' (took 0.14s). [brian2.stateupdaters.base.method_choice]\n",
      "INFO       No numerical integration method specified for group 'synapses', using method 'linear' (took 0.16s). [brian2.stateupdaters.base.method_choice]\n"
     ]
    },
    {
     "name": "stdout",
     "output_type": "stream",
     "text": [
      "test\n"
     ]
    },
    {
     "name": "stderr",
     "output_type": "stream",
     "text": [
      "INFO       No numerical integration method specified for group 'synapses_1', using method 'linear' (took 0.19s). [brian2.stateupdaters.base.method_choice]\n",
      "INFO       No numerical integration method specified for group 'synapses_2', using method 'linear' (took 0.14s). [brian2.stateupdaters.base.method_choice]\n",
      "INFO       No numerical integration method specified for group 'synapses_3', using method 'linear' (took 0.16s). [brian2.stateupdaters.base.method_choice]\n",
      "INFO       No numerical integration method specified for group 'synapses_5', using method 'linear' (took 0.05s). [brian2.stateupdaters.base.method_choice]\n",
      "INFO       No numerical integration method specified for group 'synapses_6', using method 'linear' (took 0.15s). [brian2.stateupdaters.base.method_choice]\n",
      "INFO       No numerical integration method specified for group 'synapses_7', using method 'linear' (took 0.15s). [brian2.stateupdaters.base.method_choice]\n",
      "INFO       No numerical integration method specified for group 'synapses', using method 'linear' (took 0.15s). [brian2.stateupdaters.base.method_choice]\n"
     ]
    },
    {
     "name": "stdout",
     "output_type": "stream",
     "text": [
      "0.08\n",
      "('SIMULATION', 45, {'beta': 240. * msecond, 'lr': 0.1, 'c_diff': 1.0, 'Teacher_amplitude': 15.0, 'c_inp': 1.0, 'alpha': 30. * msecond, 'decay_time': 3.3 * second, 'lr_intr': 0.1, 'c_intr': 0.5})\n",
      "train\n"
     ]
    },
    {
     "name": "stderr",
     "output_type": "stream",
     "text": [
      "INFO       No numerical integration method specified for group 'synapses_10', using method 'linear' (took 0.18s). [brian2.stateupdaters.base.method_choice]\n",
      "INFO       No numerical integration method specified for group 'synapses_11', using method 'linear' (took 0.14s). [brian2.stateupdaters.base.method_choice]\n",
      "INFO       No numerical integration method specified for group 'synapses_13', using method 'linear' (took 0.05s). [brian2.stateupdaters.base.method_choice]\n",
      "INFO       No numerical integration method specified for group 'synapses_14', using method 'linear' (took 0.15s). [brian2.stateupdaters.base.method_choice]\n",
      "INFO       No numerical integration method specified for group 'synapses_15', using method 'linear' (took 0.16s). [brian2.stateupdaters.base.method_choice]\n",
      "INFO       No numerical integration method specified for group 'synapses_8', using method 'linear' (took 0.14s). [brian2.stateupdaters.base.method_choice]\n",
      "INFO       No numerical integration method specified for group 'synapses_9', using method 'linear' (took 0.15s). [brian2.stateupdaters.base.method_choice]\n"
     ]
    },
    {
     "name": "stdout",
     "output_type": "stream",
     "text": [
      "test\n"
     ]
    },
    {
     "name": "stderr",
     "output_type": "stream",
     "text": [
      "INFO       No numerical integration method specified for group 'synapses_10', using method 'linear' (took 0.18s). [brian2.stateupdaters.base.method_choice]\n",
      "INFO       No numerical integration method specified for group 'synapses_11', using method 'linear' (took 0.14s). [brian2.stateupdaters.base.method_choice]\n",
      "INFO       No numerical integration method specified for group 'synapses_13', using method 'linear' (took 0.05s). [brian2.stateupdaters.base.method_choice]\n",
      "INFO       No numerical integration method specified for group 'synapses_14', using method 'linear' (took 0.16s). [brian2.stateupdaters.base.method_choice]\n",
      "INFO       No numerical integration method specified for group 'synapses_15', using method 'linear' (took 0.16s). [brian2.stateupdaters.base.method_choice]\n",
      "INFO       No numerical integration method specified for group 'synapses_8', using method 'linear' (took 0.14s). [brian2.stateupdaters.base.method_choice]\n",
      "INFO       No numerical integration method specified for group 'synapses_9', using method 'linear' (took 0.15s). [brian2.stateupdaters.base.method_choice]\n"
     ]
    },
    {
     "name": "stdout",
     "output_type": "stream",
     "text": [
      "0.04\n",
      "('SIMULATION', 46, {'beta': 160. * msecond, 'lr': 0.1, 'c_diff': 1.0, 'Teacher_amplitude': 25.0, 'c_inp': 0.10000000000000001, 'alpha': 20. * msecond, 'decay_time': 3.3 * second, 'lr_intr': 0.1, 'c_intr': 0.75})\n",
      "train\n"
     ]
    },
    {
     "name": "stderr",
     "output_type": "stream",
     "text": [
      "INFO       No numerical integration method specified for group 'synapses_1', using method 'linear' (took 0.19s). [brian2.stateupdaters.base.method_choice]\n",
      "INFO       No numerical integration method specified for group 'synapses_2', using method 'linear' (took 0.14s). [brian2.stateupdaters.base.method_choice]\n",
      "INFO       No numerical integration method specified for group 'synapses_3', using method 'linear' (took 0.17s). [brian2.stateupdaters.base.method_choice]\n",
      "INFO       No numerical integration method specified for group 'synapses_5', using method 'linear' (took 0.05s). [brian2.stateupdaters.base.method_choice]\n",
      "INFO       No numerical integration method specified for group 'synapses_6', using method 'linear' (took 0.15s). [brian2.stateupdaters.base.method_choice]\n",
      "INFO       No numerical integration method specified for group 'synapses_7', using method 'linear' (took 0.16s). [brian2.stateupdaters.base.method_choice]\n",
      "INFO       No numerical integration method specified for group 'synapses', using method 'linear' (took 0.14s). [brian2.stateupdaters.base.method_choice]\n"
     ]
    },
    {
     "name": "stdout",
     "output_type": "stream",
     "text": [
      "test\n"
     ]
    },
    {
     "name": "stderr",
     "output_type": "stream",
     "text": [
      "INFO       No numerical integration method specified for group 'synapses_1', using method 'linear' (took 0.18s). [brian2.stateupdaters.base.method_choice]\n",
      "INFO       No numerical integration method specified for group 'synapses_2', using method 'linear' (took 0.14s). [brian2.stateupdaters.base.method_choice]\n",
      "INFO       No numerical integration method specified for group 'synapses_3', using method 'linear' (took 0.15s). [brian2.stateupdaters.base.method_choice]\n",
      "INFO       No numerical integration method specified for group 'synapses_5', using method 'linear' (took 0.05s). [brian2.stateupdaters.base.method_choice]\n",
      "INFO       No numerical integration method specified for group 'synapses_6', using method 'linear' (took 0.15s). [brian2.stateupdaters.base.method_choice]\n",
      "INFO       No numerical integration method specified for group 'synapses_7', using method 'linear' (took 0.14s). [brian2.stateupdaters.base.method_choice]\n",
      "INFO       No numerical integration method specified for group 'synapses', using method 'linear' (took 0.17s). [brian2.stateupdaters.base.method_choice]\n"
     ]
    },
    {
     "name": "stdout",
     "output_type": "stream",
     "text": [
      "0.07\n",
      "('SIMULATION', 47, {'beta': 160. * msecond, 'lr': 0.1, 'c_diff': 1.0, 'Teacher_amplitude': 3.0, 'c_inp': 0.75, 'alpha': 20. * msecond, 'decay_time': 3.3 * second, 'lr_intr': 0.1, 'c_intr': 0.10000000000000001})\n",
      "train\n"
     ]
    },
    {
     "name": "stderr",
     "output_type": "stream",
     "text": [
      "INFO       No numerical integration method specified for group 'synapses_10', using method 'linear' (took 0.19s). [brian2.stateupdaters.base.method_choice]\n",
      "INFO       No numerical integration method specified for group 'synapses_11', using method 'linear' (took 0.14s). [brian2.stateupdaters.base.method_choice]\n",
      "INFO       No numerical integration method specified for group 'synapses_13', using method 'linear' (took 0.05s). [brian2.stateupdaters.base.method_choice]\n",
      "INFO       No numerical integration method specified for group 'synapses_14', using method 'linear' (took 0.15s). [brian2.stateupdaters.base.method_choice]\n",
      "INFO       No numerical integration method specified for group 'synapses_15', using method 'linear' (took 0.15s). [brian2.stateupdaters.base.method_choice]\n",
      "INFO       No numerical integration method specified for group 'synapses_8', using method 'linear' (took 0.14s). [brian2.stateupdaters.base.method_choice]\n",
      "INFO       No numerical integration method specified for group 'synapses_9', using method 'linear' (took 0.14s). [brian2.stateupdaters.base.method_choice]\n"
     ]
    },
    {
     "name": "stdout",
     "output_type": "stream",
     "text": [
      "test\n"
     ]
    },
    {
     "name": "stderr",
     "output_type": "stream",
     "text": [
      "INFO       No numerical integration method specified for group 'synapses_10', using method 'linear' (took 0.18s). [brian2.stateupdaters.base.method_choice]\n",
      "INFO       No numerical integration method specified for group 'synapses_11', using method 'linear' (took 0.14s). [brian2.stateupdaters.base.method_choice]\n",
      "INFO       No numerical integration method specified for group 'synapses_13', using method 'linear' (took 0.05s). [brian2.stateupdaters.base.method_choice]\n",
      "INFO       No numerical integration method specified for group 'synapses_14', using method 'linear' (took 0.14s). [brian2.stateupdaters.base.method_choice]\n",
      "INFO       No numerical integration method specified for group 'synapses_15', using method 'linear' (took 0.15s). [brian2.stateupdaters.base.method_choice]\n",
      "INFO       No numerical integration method specified for group 'synapses_8', using method 'linear' (took 0.16s). [brian2.stateupdaters.base.method_choice]\n",
      "INFO       No numerical integration method specified for group 'synapses_9', using method 'linear' (took 0.16s). [brian2.stateupdaters.base.method_choice]\n"
     ]
    },
    {
     "name": "stdout",
     "output_type": "stream",
     "text": [
      "0.08\n",
      "('SIMULATION', 48, {'beta': 240. * msecond, 'lr': 0.1, 'c_diff': 1.0, 'Teacher_amplitude': 11.25, 'c_inp': 1.0, 'alpha': 30. * msecond, 'decay_time': 10. * second, 'lr_intr': 0.1, 'c_intr': 0.10000000000000001})\n",
      "train\n"
     ]
    },
    {
     "name": "stderr",
     "output_type": "stream",
     "text": [
      "INFO       No numerical integration method specified for group 'synapses_1', using method 'linear' (took 0.18s). [brian2.stateupdaters.base.method_choice]\n",
      "INFO       No numerical integration method specified for group 'synapses_2', using method 'linear' (took 0.15s). [brian2.stateupdaters.base.method_choice]\n",
      "INFO       No numerical integration method specified for group 'synapses_3', using method 'linear' (took 0.15s). [brian2.stateupdaters.base.method_choice]\n",
      "INFO       No numerical integration method specified for group 'synapses_5', using method 'linear' (took 0.05s). [brian2.stateupdaters.base.method_choice]\n",
      "INFO       No numerical integration method specified for group 'synapses_6', using method 'linear' (took 0.14s). [brian2.stateupdaters.base.method_choice]\n",
      "INFO       No numerical integration method specified for group 'synapses_7', using method 'linear' (took 0.14s). [brian2.stateupdaters.base.method_choice]\n",
      "INFO       No numerical integration method specified for group 'synapses', using method 'linear' (took 0.15s). [brian2.stateupdaters.base.method_choice]\n"
     ]
    },
    {
     "name": "stdout",
     "output_type": "stream",
     "text": [
      "test\n"
     ]
    },
    {
     "name": "stderr",
     "output_type": "stream",
     "text": [
      "INFO       No numerical integration method specified for group 'synapses_1', using method 'linear' (took 0.18s). [brian2.stateupdaters.base.method_choice]\n",
      "INFO       No numerical integration method specified for group 'synapses_2', using method 'linear' (took 0.14s). [brian2.stateupdaters.base.method_choice]\n",
      "INFO       No numerical integration method specified for group 'synapses_3', using method 'linear' (took 0.16s). [brian2.stateupdaters.base.method_choice]\n",
      "INFO       No numerical integration method specified for group 'synapses_5', using method 'linear' (took 0.05s). [brian2.stateupdaters.base.method_choice]\n",
      "INFO       No numerical integration method specified for group 'synapses_6', using method 'linear' (took 0.14s). [brian2.stateupdaters.base.method_choice]\n",
      "INFO       No numerical integration method specified for group 'synapses_7', using method 'linear' (took 0.16s). [brian2.stateupdaters.base.method_choice]\n",
      "INFO       No numerical integration method specified for group 'synapses', using method 'linear' (took 0.14s). [brian2.stateupdaters.base.method_choice]\n"
     ]
    },
    {
     "name": "stdout",
     "output_type": "stream",
     "text": [
      "0.11\n",
      "('SIMULATION', 49, {'beta': 120. * msecond, 'lr': 0.1, 'c_diff': 1.0, 'Teacher_amplitude': 5.0, 'c_inp': 1.0, 'alpha': 15. * msecond, 'decay_time': 10. * second, 'lr_intr': 0.1, 'c_intr': 0.75})\n",
      "train\n"
     ]
    },
    {
     "name": "stderr",
     "output_type": "stream",
     "text": [
      "INFO       No numerical integration method specified for group 'synapses_10', using method 'linear' (took 0.18s). [brian2.stateupdaters.base.method_choice]\n",
      "INFO       No numerical integration method specified for group 'synapses_11', using method 'linear' (took 0.14s). [brian2.stateupdaters.base.method_choice]\n",
      "INFO       No numerical integration method specified for group 'synapses_13', using method 'linear' (took 0.05s). [brian2.stateupdaters.base.method_choice]\n",
      "INFO       No numerical integration method specified for group 'synapses_14', using method 'linear' (took 0.16s). [brian2.stateupdaters.base.method_choice]\n",
      "INFO       No numerical integration method specified for group 'synapses_15', using method 'linear' (took 0.14s). [brian2.stateupdaters.base.method_choice]\n",
      "INFO       No numerical integration method specified for group 'synapses_8', using method 'linear' (took 0.15s). [brian2.stateupdaters.base.method_choice]\n",
      "INFO       No numerical integration method specified for group 'synapses_9', using method 'linear' (took 0.14s). [brian2.stateupdaters.base.method_choice]\n"
     ]
    },
    {
     "name": "stdout",
     "output_type": "stream",
     "text": [
      "test\n"
     ]
    },
    {
     "name": "stderr",
     "output_type": "stream",
     "text": [
      "INFO       No numerical integration method specified for group 'synapses_10', using method 'linear' (took 0.18s). [brian2.stateupdaters.base.method_choice]\n",
      "INFO       No numerical integration method specified for group 'synapses_11', using method 'linear' (took 0.14s). [brian2.stateupdaters.base.method_choice]\n",
      "INFO       No numerical integration method specified for group 'synapses_13', using method 'linear' (took 0.05s). [brian2.stateupdaters.base.method_choice]\n",
      "INFO       No numerical integration method specified for group 'synapses_14', using method 'linear' (took 0.15s). [brian2.stateupdaters.base.method_choice]\n",
      "INFO       No numerical integration method specified for group 'synapses_15', using method 'linear' (took 0.17s). [brian2.stateupdaters.base.method_choice]\n",
      "INFO       No numerical integration method specified for group 'synapses_8', using method 'linear' (took 0.14s). [brian2.stateupdaters.base.method_choice]\n",
      "INFO       No numerical integration method specified for group 'synapses_9', using method 'linear' (took 0.14s). [brian2.stateupdaters.base.method_choice]\n"
     ]
    },
    {
     "name": "stdout",
     "output_type": "stream",
     "text": [
      "0.11\n",
      "('SIMULATION', 50, {'beta': 80. * msecond, 'lr': 0.1, 'c_diff': 1.0, 'Teacher_amplitude': 25.0, 'c_inp': 0.75, 'alpha': 10. * msecond, 'decay_time': 15. * second, 'lr_intr': 0.1, 'c_intr': 1.0})\n",
      "train\n"
     ]
    },
    {
     "name": "stderr",
     "output_type": "stream",
     "text": [
      "INFO       No numerical integration method specified for group 'synapses_1', using method 'linear' (took 0.19s). [brian2.stateupdaters.base.method_choice]\n",
      "INFO       No numerical integration method specified for group 'synapses_2', using method 'linear' (took 0.14s). [brian2.stateupdaters.base.method_choice]\n",
      "INFO       No numerical integration method specified for group 'synapses_3', using method 'linear' (took 0.15s). [brian2.stateupdaters.base.method_choice]\n",
      "INFO       No numerical integration method specified for group 'synapses_5', using method 'linear' (took 0.05s). [brian2.stateupdaters.base.method_choice]\n",
      "INFO       No numerical integration method specified for group 'synapses_6', using method 'linear' (took 0.15s). [brian2.stateupdaters.base.method_choice]\n",
      "INFO       No numerical integration method specified for group 'synapses_7', using method 'linear' (took 0.16s). [brian2.stateupdaters.base.method_choice]\n",
      "INFO       No numerical integration method specified for group 'synapses', using method 'linear' (took 0.15s). [brian2.stateupdaters.base.method_choice]\n"
     ]
    },
    {
     "name": "stdout",
     "output_type": "stream",
     "text": [
      "test\n"
     ]
    },
    {
     "name": "stderr",
     "output_type": "stream",
     "text": [
      "INFO       No numerical integration method specified for group 'synapses_1', using method 'linear' (took 0.19s). [brian2.stateupdaters.base.method_choice]\n",
      "INFO       No numerical integration method specified for group 'synapses_2', using method 'linear' (took 0.15s). [brian2.stateupdaters.base.method_choice]\n",
      "INFO       No numerical integration method specified for group 'synapses_3', using method 'linear' (took 0.14s). [brian2.stateupdaters.base.method_choice]\n",
      "INFO       No numerical integration method specified for group 'synapses_5', using method 'linear' (took 0.05s). [brian2.stateupdaters.base.method_choice]\n",
      "INFO       No numerical integration method specified for group 'synapses_6', using method 'linear' (took 0.15s). [brian2.stateupdaters.base.method_choice]\n",
      "INFO       No numerical integration method specified for group 'synapses_7', using method 'linear' (took 0.16s). [brian2.stateupdaters.base.method_choice]\n",
      "INFO       No numerical integration method specified for group 'synapses', using method 'linear' (took 0.14s). [brian2.stateupdaters.base.method_choice]\n"
     ]
    },
    {
     "name": "stdout",
     "output_type": "stream",
     "text": [
      "0.08\n",
      "('SIMULATION', 51, {'beta': 160. * msecond, 'lr': 0.1, 'c_diff': 1.0, 'Teacher_amplitude': 11.25, 'c_inp': 0.5, 'alpha': 20. * msecond, 'decay_time': 10. * second, 'lr_intr': 0.1, 'c_intr': 0.75})\n",
      "train\n"
     ]
    },
    {
     "name": "stderr",
     "output_type": "stream",
     "text": [
      "INFO       No numerical integration method specified for group 'synapses_10', using method 'linear' (took 0.18s). [brian2.stateupdaters.base.method_choice]\n",
      "INFO       No numerical integration method specified for group 'synapses_11', using method 'linear' (took 0.14s). [brian2.stateupdaters.base.method_choice]\n",
      "INFO       No numerical integration method specified for group 'synapses_13', using method 'linear' (took 0.05s). [brian2.stateupdaters.base.method_choice]\n",
      "INFO       No numerical integration method specified for group 'synapses_14', using method 'linear' (took 0.15s). [brian2.stateupdaters.base.method_choice]\n",
      "INFO       No numerical integration method specified for group 'synapses_15', using method 'linear' (took 0.15s). [brian2.stateupdaters.base.method_choice]\n",
      "INFO       No numerical integration method specified for group 'synapses_8', using method 'linear' (took 0.15s). [brian2.stateupdaters.base.method_choice]\n",
      "INFO       No numerical integration method specified for group 'synapses_9', using method 'linear' (took 0.14s). [brian2.stateupdaters.base.method_choice]\n"
     ]
    },
    {
     "name": "stdout",
     "output_type": "stream",
     "text": [
      "test\n"
     ]
    },
    {
     "name": "stderr",
     "output_type": "stream",
     "text": [
      "INFO       No numerical integration method specified for group 'synapses_10', using method 'linear' (took 0.18s). [brian2.stateupdaters.base.method_choice]\n",
      "INFO       No numerical integration method specified for group 'synapses_11', using method 'linear' (took 0.14s). [brian2.stateupdaters.base.method_choice]\n",
      "INFO       No numerical integration method specified for group 'synapses_13', using method 'linear' (took 0.05s). [brian2.stateupdaters.base.method_choice]\n",
      "INFO       No numerical integration method specified for group 'synapses_14', using method 'linear' (took 0.15s). [brian2.stateupdaters.base.method_choice]\n",
      "INFO       No numerical integration method specified for group 'synapses_15', using method 'linear' (took 0.15s). [brian2.stateupdaters.base.method_choice]\n",
      "INFO       No numerical integration method specified for group 'synapses_8', using method 'linear' (took 0.21s). [brian2.stateupdaters.base.method_choice]\n",
      "INFO       No numerical integration method specified for group 'synapses_9', using method 'linear' (took 0.14s). [brian2.stateupdaters.base.method_choice]\n"
     ]
    },
    {
     "name": "stdout",
     "output_type": "stream",
     "text": [
      "0.06\n",
      "('SIMULATION', 52, {'beta': 80. * msecond, 'lr': 0.1, 'c_diff': 1.0, 'Teacher_amplitude': 15.0, 'c_inp': 0.10000000000000001, 'alpha': 10. * msecond, 'decay_time': 15. * second, 'lr_intr': 0.1, 'c_intr': 0.5})\n",
      "train\n"
     ]
    },
    {
     "name": "stderr",
     "output_type": "stream",
     "text": [
      "INFO       No numerical integration method specified for group 'synapses_1', using method 'linear' (took 0.19s). [brian2.stateupdaters.base.method_choice]\n",
      "INFO       No numerical integration method specified for group 'synapses_2', using method 'linear' (took 0.14s). [brian2.stateupdaters.base.method_choice]\n",
      "INFO       No numerical integration method specified for group 'synapses_3', using method 'linear' (took 0.21s). [brian2.stateupdaters.base.method_choice]\n",
      "INFO       No numerical integration method specified for group 'synapses_5', using method 'linear' (took 0.05s). [brian2.stateupdaters.base.method_choice]\n",
      "INFO       No numerical integration method specified for group 'synapses_6', using method 'linear' (took 0.16s). [brian2.stateupdaters.base.method_choice]\n",
      "INFO       No numerical integration method specified for group 'synapses_7', using method 'linear' (took 0.14s). [brian2.stateupdaters.base.method_choice]\n",
      "INFO       No numerical integration method specified for group 'synapses', using method 'linear' (took 0.17s). [brian2.stateupdaters.base.method_choice]\n"
     ]
    },
    {
     "name": "stdout",
     "output_type": "stream",
     "text": [
      "test\n"
     ]
    },
    {
     "name": "stderr",
     "output_type": "stream",
     "text": [
      "INFO       No numerical integration method specified for group 'synapses_1', using method 'linear' (took 0.19s). [brian2.stateupdaters.base.method_choice]\n",
      "INFO       No numerical integration method specified for group 'synapses_2', using method 'linear' (took 0.14s). [brian2.stateupdaters.base.method_choice]\n",
      "INFO       No numerical integration method specified for group 'synapses_3', using method 'linear' (took 0.21s). [brian2.stateupdaters.base.method_choice]\n",
      "INFO       No numerical integration method specified for group 'synapses_5', using method 'linear' (took 0.04s). [brian2.stateupdaters.base.method_choice]\n",
      "INFO       No numerical integration method specified for group 'synapses_6', using method 'linear' (took 0.16s). [brian2.stateupdaters.base.method_choice]\n",
      "INFO       No numerical integration method specified for group 'synapses_7', using method 'linear' (took 0.15s). [brian2.stateupdaters.base.method_choice]\n",
      "INFO       No numerical integration method specified for group 'synapses', using method 'linear' (took 0.14s). [brian2.stateupdaters.base.method_choice]\n"
     ]
    },
    {
     "name": "stdout",
     "output_type": "stream",
     "text": [
      "0.13\n",
      "('SIMULATION', 53, {'beta': 240. * msecond, 'lr': 0.1, 'c_diff': 1.0, 'Teacher_amplitude': 3.0, 'c_inp': 0.29999999999999999, 'alpha': 30. * msecond, 'decay_time': 3.3 * second, 'lr_intr': 0.1, 'c_intr': 0.75})\n",
      "train\n"
     ]
    },
    {
     "name": "stderr",
     "output_type": "stream",
     "text": [
      "INFO       No numerical integration method specified for group 'synapses_10', using method 'linear' (took 0.18s). [brian2.stateupdaters.base.method_choice]\n",
      "INFO       No numerical integration method specified for group 'synapses_11', using method 'linear' (took 0.14s). [brian2.stateupdaters.base.method_choice]\n",
      "INFO       No numerical integration method specified for group 'synapses_13', using method 'linear' (took 0.07s). [brian2.stateupdaters.base.method_choice]\n",
      "INFO       No numerical integration method specified for group 'synapses_14', using method 'linear' (took 0.18s). [brian2.stateupdaters.base.method_choice]\n",
      "INFO       No numerical integration method specified for group 'synapses_15', using method 'linear' (took 0.14s). [brian2.stateupdaters.base.method_choice]\n",
      "INFO       No numerical integration method specified for group 'synapses_8', using method 'linear' (took 0.15s). [brian2.stateupdaters.base.method_choice]\n",
      "INFO       No numerical integration method specified for group 'synapses_9', using method 'linear' (took 0.14s). [brian2.stateupdaters.base.method_choice]\n"
     ]
    },
    {
     "name": "stdout",
     "output_type": "stream",
     "text": [
      "test\n"
     ]
    },
    {
     "name": "stderr",
     "output_type": "stream",
     "text": [
      "INFO       No numerical integration method specified for group 'synapses_10', using method 'linear' (took 0.18s). [brian2.stateupdaters.base.method_choice]\n",
      "INFO       No numerical integration method specified for group 'synapses_11', using method 'linear' (took 0.14s). [brian2.stateupdaters.base.method_choice]\n",
      "INFO       No numerical integration method specified for group 'synapses_13', using method 'linear' (took 0.05s). [brian2.stateupdaters.base.method_choice]\n",
      "INFO       No numerical integration method specified for group 'synapses_14', using method 'linear' (took 0.15s). [brian2.stateupdaters.base.method_choice]\n",
      "INFO       No numerical integration method specified for group 'synapses_15', using method 'linear' (took 0.14s). [brian2.stateupdaters.base.method_choice]\n",
      "INFO       No numerical integration method specified for group 'synapses_8', using method 'linear' (took 0.14s). [brian2.stateupdaters.base.method_choice]\n",
      "INFO       No numerical integration method specified for group 'synapses_9', using method 'linear' (took 0.15s). [brian2.stateupdaters.base.method_choice]\n"
     ]
    },
    {
     "name": "stdout",
     "output_type": "stream",
     "text": [
      "0.07\n",
      "('SIMULATION', 54, {'beta': 200. * msecond, 'lr': 0.1, 'c_diff': 1.0, 'Teacher_amplitude': 7.5, 'c_inp': 0.10000000000000001, 'alpha': 25. * msecond, 'decay_time': 15. * second, 'lr_intr': 0.1, 'c_intr': 0.75})\n",
      "train\n"
     ]
    },
    {
     "name": "stderr",
     "output_type": "stream",
     "text": [
      "INFO       No numerical integration method specified for group 'synapses_1', using method 'linear' (took 0.18s). [brian2.stateupdaters.base.method_choice]\n",
      "INFO       No numerical integration method specified for group 'synapses_2', using method 'linear' (took 0.14s). [brian2.stateupdaters.base.method_choice]\n",
      "INFO       No numerical integration method specified for group 'synapses_3', using method 'linear' (took 0.16s). [brian2.stateupdaters.base.method_choice]\n",
      "INFO       No numerical integration method specified for group 'synapses_5', using method 'linear' (took 0.04s). [brian2.stateupdaters.base.method_choice]\n",
      "INFO       No numerical integration method specified for group 'synapses_6', using method 'linear' (took 0.15s). [brian2.stateupdaters.base.method_choice]\n",
      "INFO       No numerical integration method specified for group 'synapses_7', using method 'linear' (took 0.14s). [brian2.stateupdaters.base.method_choice]\n",
      "INFO       No numerical integration method specified for group 'synapses', using method 'linear' (took 0.16s). [brian2.stateupdaters.base.method_choice]\n"
     ]
    },
    {
     "name": "stdout",
     "output_type": "stream",
     "text": [
      "test\n"
     ]
    },
    {
     "name": "stderr",
     "output_type": "stream",
     "text": [
      "INFO       No numerical integration method specified for group 'synapses_1', using method 'linear' (took 0.18s). [brian2.stateupdaters.base.method_choice]\n",
      "INFO       No numerical integration method specified for group 'synapses_2', using method 'linear' (took 0.15s). [brian2.stateupdaters.base.method_choice]\n",
      "INFO       No numerical integration method specified for group 'synapses_3', using method 'linear' (took 0.14s). [brian2.stateupdaters.base.method_choice]\n",
      "INFO       No numerical integration method specified for group 'synapses_5', using method 'linear' (took 0.05s). [brian2.stateupdaters.base.method_choice]\n",
      "INFO       No numerical integration method specified for group 'synapses_6', using method 'linear' (took 0.15s). [brian2.stateupdaters.base.method_choice]\n",
      "INFO       No numerical integration method specified for group 'synapses_7', using method 'linear' (took 0.15s). [brian2.stateupdaters.base.method_choice]\n",
      "INFO       No numerical integration method specified for group 'synapses', using method 'linear' (took 0.14s). [brian2.stateupdaters.base.method_choice]\n"
     ]
    },
    {
     "name": "stdout",
     "output_type": "stream",
     "text": [
      "0.11\n",
      "('SIMULATION', 55, {'beta': 200. * msecond, 'lr': 0.1, 'c_diff': 1.0, 'Teacher_amplitude': 5.0, 'c_inp': 0.29999999999999999, 'alpha': 25. * msecond, 'decay_time': 10. * second, 'lr_intr': 0.1, 'c_intr': 1.0})\n",
      "train\n"
     ]
    },
    {
     "name": "stderr",
     "output_type": "stream",
     "text": [
      "INFO       No numerical integration method specified for group 'synapses_10', using method 'linear' (took 0.18s). [brian2.stateupdaters.base.method_choice]\n",
      "INFO       No numerical integration method specified for group 'synapses_11', using method 'linear' (took 0.14s). [brian2.stateupdaters.base.method_choice]\n",
      "INFO       No numerical integration method specified for group 'synapses_13', using method 'linear' (took 0.05s). [brian2.stateupdaters.base.method_choice]\n",
      "INFO       No numerical integration method specified for group 'synapses_14', using method 'linear' (took 0.15s). [brian2.stateupdaters.base.method_choice]\n",
      "INFO       No numerical integration method specified for group 'synapses_15', using method 'linear' (took 0.16s). [brian2.stateupdaters.base.method_choice]\n",
      "INFO       No numerical integration method specified for group 'synapses_8', using method 'linear' (took 0.14s). [brian2.stateupdaters.base.method_choice]\n",
      "INFO       No numerical integration method specified for group 'synapses_9', using method 'linear' (took 0.15s). [brian2.stateupdaters.base.method_choice]\n"
     ]
    },
    {
     "name": "stdout",
     "output_type": "stream",
     "text": [
      "test\n"
     ]
    },
    {
     "name": "stderr",
     "output_type": "stream",
     "text": [
      "INFO       No numerical integration method specified for group 'synapses_10', using method 'linear' (took 0.20s). [brian2.stateupdaters.base.method_choice]\n",
      "INFO       No numerical integration method specified for group 'synapses_11', using method 'linear' (took 0.14s). [brian2.stateupdaters.base.method_choice]\n",
      "INFO       No numerical integration method specified for group 'synapses_13', using method 'linear' (took 0.05s). [brian2.stateupdaters.base.method_choice]\n",
      "INFO       No numerical integration method specified for group 'synapses_14', using method 'linear' (took 0.15s). [brian2.stateupdaters.base.method_choice]\n",
      "INFO       No numerical integration method specified for group 'synapses_15', using method 'linear' (took 0.15s). [brian2.stateupdaters.base.method_choice]\n",
      "INFO       No numerical integration method specified for group 'synapses_8', using method 'linear' (took 0.16s). [brian2.stateupdaters.base.method_choice]\n",
      "INFO       No numerical integration method specified for group 'synapses_9', using method 'linear' (took 0.15s). [brian2.stateupdaters.base.method_choice]\n"
     ]
    },
    {
     "name": "stdout",
     "output_type": "stream",
     "text": [
      "0.13\n",
      "('SIMULATION', 56, {'beta': 240. * msecond, 'lr': 0.1, 'c_diff': 1.0, 'Teacher_amplitude': 15.0, 'c_inp': 0.10000000000000001, 'alpha': 30. * msecond, 'decay_time': 3.3 * second, 'lr_intr': 0.1, 'c_intr': 0.75})\n",
      "train\n"
     ]
    },
    {
     "name": "stderr",
     "output_type": "stream",
     "text": [
      "INFO       No numerical integration method specified for group 'synapses_1', using method 'linear' (took 0.18s). [brian2.stateupdaters.base.method_choice]\n",
      "INFO       No numerical integration method specified for group 'synapses_2', using method 'linear' (took 0.14s). [brian2.stateupdaters.base.method_choice]\n",
      "INFO       No numerical integration method specified for group 'synapses_3', using method 'linear' (took 0.16s). [brian2.stateupdaters.base.method_choice]\n",
      "INFO       No numerical integration method specified for group 'synapses_5', using method 'linear' (took 0.05s). [brian2.stateupdaters.base.method_choice]\n",
      "INFO       No numerical integration method specified for group 'synapses_6', using method 'linear' (took 0.15s). [brian2.stateupdaters.base.method_choice]\n",
      "INFO       No numerical integration method specified for group 'synapses_7', using method 'linear' (took 0.14s). [brian2.stateupdaters.base.method_choice]\n",
      "INFO       No numerical integration method specified for group 'synapses', using method 'linear' (took 0.16s). [brian2.stateupdaters.base.method_choice]\n"
     ]
    },
    {
     "name": "stdout",
     "output_type": "stream",
     "text": [
      "test\n"
     ]
    },
    {
     "name": "stderr",
     "output_type": "stream",
     "text": [
      "INFO       No numerical integration method specified for group 'synapses_1', using method 'linear' (took 0.33s). [brian2.stateupdaters.base.method_choice]\n",
      "INFO       No numerical integration method specified for group 'synapses_2', using method 'linear' (took 0.14s). [brian2.stateupdaters.base.method_choice]\n",
      "INFO       No numerical integration method specified for group 'synapses_3', using method 'linear' (took 0.16s). [brian2.stateupdaters.base.method_choice]\n",
      "INFO       No numerical integration method specified for group 'synapses_5', using method 'linear' (took 0.05s). [brian2.stateupdaters.base.method_choice]\n",
      "INFO       No numerical integration method specified for group 'synapses_6', using method 'linear' (took 0.14s). [brian2.stateupdaters.base.method_choice]\n",
      "INFO       No numerical integration method specified for group 'synapses_7', using method 'linear' (took 0.14s). [brian2.stateupdaters.base.method_choice]\n",
      "INFO       No numerical integration method specified for group 'synapses', using method 'linear' (took 0.15s). [brian2.stateupdaters.base.method_choice]\n"
     ]
    },
    {
     "name": "stdout",
     "output_type": "stream",
     "text": [
      "0.13\n",
      "('SIMULATION', 57, {'beta': 80. * msecond, 'lr': 0.1, 'c_diff': 1.0, 'Teacher_amplitude': 3.0, 'c_inp': 0.75, 'alpha': 10. * msecond, 'decay_time': 15. * second, 'lr_intr': 0.1, 'c_intr': 0.75})\n",
      "train\n"
     ]
    },
    {
     "name": "stderr",
     "output_type": "stream",
     "text": [
      "INFO       No numerical integration method specified for group 'synapses_10', using method 'linear' (took 0.18s). [brian2.stateupdaters.base.method_choice]\n",
      "INFO       No numerical integration method specified for group 'synapses_11', using method 'linear' (took 0.14s). [brian2.stateupdaters.base.method_choice]\n",
      "INFO       No numerical integration method specified for group 'synapses_13', using method 'linear' (took 0.05s). [brian2.stateupdaters.base.method_choice]\n",
      "INFO       No numerical integration method specified for group 'synapses_14', using method 'linear' (took 0.15s). [brian2.stateupdaters.base.method_choice]\n",
      "INFO       No numerical integration method specified for group 'synapses_15', using method 'linear' (took 0.15s). [brian2.stateupdaters.base.method_choice]\n",
      "INFO       No numerical integration method specified for group 'synapses_8', using method 'linear' (took 0.16s). [brian2.stateupdaters.base.method_choice]\n",
      "INFO       No numerical integration method specified for group 'synapses_9', using method 'linear' (took 0.14s). [brian2.stateupdaters.base.method_choice]\n"
     ]
    },
    {
     "name": "stdout",
     "output_type": "stream",
     "text": [
      "test\n"
     ]
    },
    {
     "name": "stderr",
     "output_type": "stream",
     "text": [
      "INFO       No numerical integration method specified for group 'synapses_10', using method 'linear' (took 0.18s). [brian2.stateupdaters.base.method_choice]\n",
      "INFO       No numerical integration method specified for group 'synapses_11', using method 'linear' (took 0.14s). [brian2.stateupdaters.base.method_choice]\n",
      "INFO       No numerical integration method specified for group 'synapses_13', using method 'linear' (took 0.05s). [brian2.stateupdaters.base.method_choice]\n",
      "INFO       No numerical integration method specified for group 'synapses_14', using method 'linear' (took 0.14s). [brian2.stateupdaters.base.method_choice]\n",
      "INFO       No numerical integration method specified for group 'synapses_15', using method 'linear' (took 0.14s). [brian2.stateupdaters.base.method_choice]\n",
      "INFO       No numerical integration method specified for group 'synapses_8', using method 'linear' (took 0.15s). [brian2.stateupdaters.base.method_choice]\n",
      "INFO       No numerical integration method specified for group 'synapses_9', using method 'linear' (took 0.14s). [brian2.stateupdaters.base.method_choice]\n"
     ]
    },
    {
     "name": "stdout",
     "output_type": "stream",
     "text": [
      "0.11\n",
      "('SIMULATION', 58, {'beta': 240. * msecond, 'lr': 0.1, 'c_diff': 1.0, 'Teacher_amplitude': 37.5, 'c_inp': 0.10000000000000001, 'alpha': 30. * msecond, 'decay_time': 3.3 * second, 'lr_intr': 0.1, 'c_intr': 0.29999999999999999})\n",
      "train\n"
     ]
    },
    {
     "name": "stderr",
     "output_type": "stream",
     "text": [
      "INFO       No numerical integration method specified for group 'synapses_1', using method 'linear' (took 0.18s). [brian2.stateupdaters.base.method_choice]\n",
      "INFO       No numerical integration method specified for group 'synapses_2', using method 'linear' (took 0.14s). [brian2.stateupdaters.base.method_choice]\n",
      "INFO       No numerical integration method specified for group 'synapses_3', using method 'linear' (took 0.15s). [brian2.stateupdaters.base.method_choice]\n",
      "INFO       No numerical integration method specified for group 'synapses_5', using method 'linear' (took 0.05s). [brian2.stateupdaters.base.method_choice]\n",
      "INFO       No numerical integration method specified for group 'synapses_6', using method 'linear' (took 0.16s). [brian2.stateupdaters.base.method_choice]\n",
      "INFO       No numerical integration method specified for group 'synapses_7', using method 'linear' (took 0.14s). [brian2.stateupdaters.base.method_choice]\n",
      "INFO       No numerical integration method specified for group 'synapses', using method 'linear' (took 0.15s). [brian2.stateupdaters.base.method_choice]\n"
     ]
    },
    {
     "name": "stdout",
     "output_type": "stream",
     "text": [
      "test\n"
     ]
    },
    {
     "name": "stderr",
     "output_type": "stream",
     "text": [
      "INFO       No numerical integration method specified for group 'synapses_1', using method 'linear' (took 0.20s). [brian2.stateupdaters.base.method_choice]\n",
      "INFO       No numerical integration method specified for group 'synapses_2', using method 'linear' (took 0.14s). [brian2.stateupdaters.base.method_choice]\n",
      "INFO       No numerical integration method specified for group 'synapses_3', using method 'linear' (took 0.14s). [brian2.stateupdaters.base.method_choice]\n",
      "INFO       No numerical integration method specified for group 'synapses_5', using method 'linear' (took 0.05s). [brian2.stateupdaters.base.method_choice]\n",
      "INFO       No numerical integration method specified for group 'synapses_6', using method 'linear' (took 0.14s). [brian2.stateupdaters.base.method_choice]\n",
      "INFO       No numerical integration method specified for group 'synapses_7', using method 'linear' (took 0.15s). [brian2.stateupdaters.base.method_choice]\n",
      "INFO       No numerical integration method specified for group 'synapses', using method 'linear' (took 0.16s). [brian2.stateupdaters.base.method_choice]\n"
     ]
    },
    {
     "name": "stdout",
     "output_type": "stream",
     "text": [
      "0.08\n",
      "('SIMULATION', 59, {'beta': 240. * msecond, 'lr': 0.1, 'c_diff': 1.0, 'Teacher_amplitude': 2.5, 'c_inp': 0.5, 'alpha': 30. * msecond, 'decay_time': 15. * second, 'lr_intr': 0.1, 'c_intr': 0.29999999999999999})\n",
      "train\n"
     ]
    },
    {
     "name": "stderr",
     "output_type": "stream",
     "text": [
      "INFO       No numerical integration method specified for group 'synapses_10', using method 'linear' (took 0.18s). [brian2.stateupdaters.base.method_choice]\n",
      "INFO       No numerical integration method specified for group 'synapses_11', using method 'linear' (took 0.14s). [brian2.stateupdaters.base.method_choice]\n",
      "INFO       No numerical integration method specified for group 'synapses_13', using method 'linear' (took 0.05s). [brian2.stateupdaters.base.method_choice]\n",
      "INFO       No numerical integration method specified for group 'synapses_14', using method 'linear' (took 0.15s). [brian2.stateupdaters.base.method_choice]\n",
      "INFO       No numerical integration method specified for group 'synapses_15', using method 'linear' (took 0.15s). [brian2.stateupdaters.base.method_choice]\n",
      "INFO       No numerical integration method specified for group 'synapses_8', using method 'linear' (took 0.15s). [brian2.stateupdaters.base.method_choice]\n",
      "INFO       No numerical integration method specified for group 'synapses_9', using method 'linear' (took 0.15s). [brian2.stateupdaters.base.method_choice]\n"
     ]
    },
    {
     "name": "stdout",
     "output_type": "stream",
     "text": [
      "test\n"
     ]
    },
    {
     "name": "stderr",
     "output_type": "stream",
     "text": [
      "INFO       No numerical integration method specified for group 'synapses_10', using method 'linear' (took 0.34s). [brian2.stateupdaters.base.method_choice]\n",
      "INFO       No numerical integration method specified for group 'synapses_11', using method 'linear' (took 0.14s). [brian2.stateupdaters.base.method_choice]\n",
      "INFO       No numerical integration method specified for group 'synapses_13', using method 'linear' (took 0.05s). [brian2.stateupdaters.base.method_choice]\n",
      "INFO       No numerical integration method specified for group 'synapses_14', using method 'linear' (took 0.14s). [brian2.stateupdaters.base.method_choice]\n",
      "INFO       No numerical integration method specified for group 'synapses_15', using method 'linear' (took 0.15s). [brian2.stateupdaters.base.method_choice]\n",
      "INFO       No numerical integration method specified for group 'synapses_8', using method 'linear' (took 0.14s). [brian2.stateupdaters.base.method_choice]\n",
      "INFO       No numerical integration method specified for group 'synapses_9', using method 'linear' (took 0.15s). [brian2.stateupdaters.base.method_choice]\n"
     ]
    },
    {
     "name": "stdout",
     "output_type": "stream",
     "text": [
      "0.09\n",
      "('SIMULATION', 60, {'beta': 200. * msecond, 'lr': 0.1, 'c_diff': 1.0, 'Teacher_amplitude': 2.5, 'c_inp': 0.5, 'alpha': 25. * msecond, 'decay_time': 15. * second, 'lr_intr': 0.1, 'c_intr': 1.0})\n",
      "train\n"
     ]
    },
    {
     "name": "stderr",
     "output_type": "stream",
     "text": [
      "INFO       No numerical integration method specified for group 'synapses_1', using method 'linear' (took 0.18s). [brian2.stateupdaters.base.method_choice]\n",
      "INFO       No numerical integration method specified for group 'synapses_2', using method 'linear' (took 0.14s). [brian2.stateupdaters.base.method_choice]\n",
      "INFO       No numerical integration method specified for group 'synapses_3', using method 'linear' (took 0.16s). [brian2.stateupdaters.base.method_choice]\n",
      "INFO       No numerical integration method specified for group 'synapses_5', using method 'linear' (took 0.05s). [brian2.stateupdaters.base.method_choice]\n",
      "INFO       No numerical integration method specified for group 'synapses_6', using method 'linear' (took 0.15s). [brian2.stateupdaters.base.method_choice]\n",
      "INFO       No numerical integration method specified for group 'synapses_7', using method 'linear' (took 0.14s). [brian2.stateupdaters.base.method_choice]\n",
      "INFO       No numerical integration method specified for group 'synapses', using method 'linear' (took 0.16s). [brian2.stateupdaters.base.method_choice]\n"
     ]
    },
    {
     "name": "stdout",
     "output_type": "stream",
     "text": [
      "test\n"
     ]
    },
    {
     "name": "stderr",
     "output_type": "stream",
     "text": [
      "INFO       No numerical integration method specified for group 'synapses_1', using method 'linear' (took 0.19s). [brian2.stateupdaters.base.method_choice]\n",
      "INFO       No numerical integration method specified for group 'synapses_2', using method 'linear' (took 0.14s). [brian2.stateupdaters.base.method_choice]\n",
      "INFO       No numerical integration method specified for group 'synapses_3', using method 'linear' (took 0.14s). [brian2.stateupdaters.base.method_choice]\n",
      "INFO       No numerical integration method specified for group 'synapses_5', using method 'linear' (took 0.05s). [brian2.stateupdaters.base.method_choice]\n",
      "INFO       No numerical integration method specified for group 'synapses_6', using method 'linear' (took 0.15s). [brian2.stateupdaters.base.method_choice]\n",
      "INFO       No numerical integration method specified for group 'synapses_7', using method 'linear' (took 0.15s). [brian2.stateupdaters.base.method_choice]\n",
      "INFO       No numerical integration method specified for group 'synapses', using method 'linear' (took 0.14s). [brian2.stateupdaters.base.method_choice]\n"
     ]
    },
    {
     "name": "stdout",
     "output_type": "stream",
     "text": [
      "0.07\n",
      "('SIMULATION', 61, {'beta': 200. * msecond, 'lr': 0.1, 'c_diff': 1.0, 'Teacher_amplitude': 2.5, 'c_inp': 1.0, 'alpha': 25. * msecond, 'decay_time': 15. * second, 'lr_intr': 0.1, 'c_intr': 0.10000000000000001})\n",
      "train\n"
     ]
    },
    {
     "name": "stderr",
     "output_type": "stream",
     "text": [
      "INFO       No numerical integration method specified for group 'synapses_10', using method 'linear' (took 0.18s). [brian2.stateupdaters.base.method_choice]\n",
      "INFO       No numerical integration method specified for group 'synapses_11', using method 'linear' (took 0.14s). [brian2.stateupdaters.base.method_choice]\n",
      "INFO       No numerical integration method specified for group 'synapses_13', using method 'linear' (took 0.05s). [brian2.stateupdaters.base.method_choice]\n",
      "INFO       No numerical integration method specified for group 'synapses_14', using method 'linear' (took 0.14s). [brian2.stateupdaters.base.method_choice]\n",
      "INFO       No numerical integration method specified for group 'synapses_15', using method 'linear' (took 0.15s). [brian2.stateupdaters.base.method_choice]\n",
      "INFO       No numerical integration method specified for group 'synapses_8', using method 'linear' (took 0.14s). [brian2.stateupdaters.base.method_choice]\n",
      "INFO       No numerical integration method specified for group 'synapses_9', using method 'linear' (took 0.15s). [brian2.stateupdaters.base.method_choice]\n"
     ]
    },
    {
     "name": "stdout",
     "output_type": "stream",
     "text": [
      "test\n"
     ]
    },
    {
     "name": "stderr",
     "output_type": "stream",
     "text": [
      "INFO       No numerical integration method specified for group 'synapses_10', using method 'linear' (took 0.18s). [brian2.stateupdaters.base.method_choice]\n",
      "INFO       No numerical integration method specified for group 'synapses_11', using method 'linear' (took 0.14s). [brian2.stateupdaters.base.method_choice]\n",
      "INFO       No numerical integration method specified for group 'synapses_13', using method 'linear' (took 0.05s). [brian2.stateupdaters.base.method_choice]\n",
      "INFO       No numerical integration method specified for group 'synapses_14', using method 'linear' (took 0.15s). [brian2.stateupdaters.base.method_choice]\n",
      "INFO       No numerical integration method specified for group 'synapses_15', using method 'linear' (took 0.15s). [brian2.stateupdaters.base.method_choice]\n",
      "INFO       No numerical integration method specified for group 'synapses_8', using method 'linear' (took 0.14s). [brian2.stateupdaters.base.method_choice]\n",
      "INFO       No numerical integration method specified for group 'synapses_9', using method 'linear' (took 0.16s). [brian2.stateupdaters.base.method_choice]\n"
     ]
    },
    {
     "name": "stdout",
     "output_type": "stream",
     "text": [
      "0.07\n",
      "('SIMULATION', 62, {'beta': 160. * msecond, 'lr': 0.1, 'c_diff': 1.0, 'Teacher_amplitude': 5.0, 'c_inp': 0.75, 'alpha': 20. * msecond, 'decay_time': 15. * second, 'lr_intr': 0.1, 'c_intr': 0.75})\n",
      "train\n"
     ]
    },
    {
     "name": "stderr",
     "output_type": "stream",
     "text": [
      "INFO       No numerical integration method specified for group 'synapses_1', using method 'linear' (took 0.18s). [brian2.stateupdaters.base.method_choice]\n",
      "INFO       No numerical integration method specified for group 'synapses_2', using method 'linear' (took 0.16s). [brian2.stateupdaters.base.method_choice]\n",
      "INFO       No numerical integration method specified for group 'synapses_3', using method 'linear' (took 0.14s). [brian2.stateupdaters.base.method_choice]\n",
      "INFO       No numerical integration method specified for group 'synapses_5', using method 'linear' (took 0.05s). [brian2.stateupdaters.base.method_choice]\n",
      "INFO       No numerical integration method specified for group 'synapses_6', using method 'linear' (took 0.14s). [brian2.stateupdaters.base.method_choice]\n",
      "INFO       No numerical integration method specified for group 'synapses_7', using method 'linear' (took 0.16s). [brian2.stateupdaters.base.method_choice]\n",
      "INFO       No numerical integration method specified for group 'synapses', using method 'linear' (took 0.14s). [brian2.stateupdaters.base.method_choice]\n"
     ]
    },
    {
     "name": "stdout",
     "output_type": "stream",
     "text": [
      "test\n"
     ]
    },
    {
     "name": "stderr",
     "output_type": "stream",
     "text": [
      "INFO       No numerical integration method specified for group 'synapses_1', using method 'linear' (took 0.18s). [brian2.stateupdaters.base.method_choice]\n",
      "INFO       No numerical integration method specified for group 'synapses_2', using method 'linear' (took 0.14s). [brian2.stateupdaters.base.method_choice]\n",
      "INFO       No numerical integration method specified for group 'synapses_3', using method 'linear' (took 0.15s). [brian2.stateupdaters.base.method_choice]\n",
      "INFO       No numerical integration method specified for group 'synapses_5', using method 'linear' (took 0.05s). [brian2.stateupdaters.base.method_choice]\n",
      "INFO       No numerical integration method specified for group 'synapses_6', using method 'linear' (took 0.15s). [brian2.stateupdaters.base.method_choice]\n",
      "INFO       No numerical integration method specified for group 'synapses_7', using method 'linear' (took 0.14s). [brian2.stateupdaters.base.method_choice]\n",
      "INFO       No numerical integration method specified for group 'synapses', using method 'linear' (took 0.15s). [brian2.stateupdaters.base.method_choice]\n"
     ]
    },
    {
     "name": "stdout",
     "output_type": "stream",
     "text": [
      "0.1\n",
      "('SIMULATION', 63, {'beta': 240. * msecond, 'lr': 0.1, 'c_diff': 1.0, 'Teacher_amplitude': 3.75, 'c_inp': 0.29999999999999999, 'alpha': 30. * msecond, 'decay_time': 3.3 * second, 'lr_intr': 0.1, 'c_intr': 0.10000000000000001})\n",
      "train\n"
     ]
    },
    {
     "name": "stderr",
     "output_type": "stream",
     "text": [
      "INFO       No numerical integration method specified for group 'synapses_10', using method 'linear' (took 0.18s). [brian2.stateupdaters.base.method_choice]\n",
      "INFO       No numerical integration method specified for group 'synapses_11', using method 'linear' (took 0.14s). [brian2.stateupdaters.base.method_choice]\n",
      "INFO       No numerical integration method specified for group 'synapses_13', using method 'linear' (took 0.05s). [brian2.stateupdaters.base.method_choice]\n",
      "INFO       No numerical integration method specified for group 'synapses_14', using method 'linear' (took 0.14s). [brian2.stateupdaters.base.method_choice]\n",
      "INFO       No numerical integration method specified for group 'synapses_15', using method 'linear' (took 0.16s). [brian2.stateupdaters.base.method_choice]\n",
      "INFO       No numerical integration method specified for group 'synapses_8', using method 'linear' (took 0.14s). [brian2.stateupdaters.base.method_choice]\n",
      "INFO       No numerical integration method specified for group 'synapses_9', using method 'linear' (took 0.15s). [brian2.stateupdaters.base.method_choice]\n"
     ]
    },
    {
     "name": "stdout",
     "output_type": "stream",
     "text": [
      "test\n"
     ]
    },
    {
     "name": "stderr",
     "output_type": "stream",
     "text": [
      "INFO       No numerical integration method specified for group 'synapses_10', using method 'linear' (took 0.18s). [brian2.stateupdaters.base.method_choice]\n",
      "INFO       No numerical integration method specified for group 'synapses_11', using method 'linear' (took 0.14s). [brian2.stateupdaters.base.method_choice]\n",
      "INFO       No numerical integration method specified for group 'synapses_13', using method 'linear' (took 0.05s). [brian2.stateupdaters.base.method_choice]\n",
      "INFO       No numerical integration method specified for group 'synapses_14', using method 'linear' (took 0.16s). [brian2.stateupdaters.base.method_choice]\n",
      "INFO       No numerical integration method specified for group 'synapses_15', using method 'linear' (took 0.14s). [brian2.stateupdaters.base.method_choice]\n",
      "INFO       No numerical integration method specified for group 'synapses_8', using method 'linear' (took 0.15s). [brian2.stateupdaters.base.method_choice]\n",
      "INFO       No numerical integration method specified for group 'synapses_9', using method 'linear' (took 0.16s). [brian2.stateupdaters.base.method_choice]\n"
     ]
    },
    {
     "name": "stdout",
     "output_type": "stream",
     "text": [
      "0.13\n",
      "('SIMULATION', 64, {'beta': 160. * msecond, 'lr': 0.1, 'c_diff': 1.0, 'Teacher_amplitude': 9.0, 'c_inp': 0.5, 'alpha': 20. * msecond, 'decay_time': 3.3 * second, 'lr_intr': 0.1, 'c_intr': 0.10000000000000001})\n",
      "train\n"
     ]
    },
    {
     "name": "stderr",
     "output_type": "stream",
     "text": [
      "INFO       No numerical integration method specified for group 'synapses_1', using method 'linear' (took 0.18s). [brian2.stateupdaters.base.method_choice]\n",
      "INFO       No numerical integration method specified for group 'synapses_2', using method 'linear' (took 0.14s). [brian2.stateupdaters.base.method_choice]\n",
      "INFO       No numerical integration method specified for group 'synapses_3', using method 'linear' (took 0.14s). [brian2.stateupdaters.base.method_choice]\n",
      "INFO       No numerical integration method specified for group 'synapses_5', using method 'linear' (took 0.05s). [brian2.stateupdaters.base.method_choice]\n",
      "INFO       No numerical integration method specified for group 'synapses_6', using method 'linear' (took 0.15s). [brian2.stateupdaters.base.method_choice]\n",
      "INFO       No numerical integration method specified for group 'synapses_7', using method 'linear' (took 0.17s). [brian2.stateupdaters.base.method_choice]\n",
      "INFO       No numerical integration method specified for group 'synapses', using method 'linear' (took 0.14s). [brian2.stateupdaters.base.method_choice]\n"
     ]
    },
    {
     "name": "stdout",
     "output_type": "stream",
     "text": [
      "test\n"
     ]
    },
    {
     "name": "stderr",
     "output_type": "stream",
     "text": [
      "INFO       No numerical integration method specified for group 'synapses_1', using method 'linear' (took 0.18s). [brian2.stateupdaters.base.method_choice]\n",
      "INFO       No numerical integration method specified for group 'synapses_2', using method 'linear' (took 0.14s). [brian2.stateupdaters.base.method_choice]\n",
      "INFO       No numerical integration method specified for group 'synapses_3', using method 'linear' (took 0.15s). [brian2.stateupdaters.base.method_choice]\n",
      "INFO       No numerical integration method specified for group 'synapses_5', using method 'linear' (took 0.05s). [brian2.stateupdaters.base.method_choice]\n",
      "INFO       No numerical integration method specified for group 'synapses_6', using method 'linear' (took 0.15s). [brian2.stateupdaters.base.method_choice]\n",
      "INFO       No numerical integration method specified for group 'synapses_7', using method 'linear' (took 0.16s). [brian2.stateupdaters.base.method_choice]\n",
      "INFO       No numerical integration method specified for group 'synapses', using method 'linear' (took 0.14s). [brian2.stateupdaters.base.method_choice]\n"
     ]
    },
    {
     "name": "stdout",
     "output_type": "stream",
     "text": [
      "0.11\n",
      "('SIMULATION', 65, {'beta': 200. * msecond, 'lr': 0.1, 'c_diff': 1.0, 'Teacher_amplitude': 12.5, 'c_inp': 0.10000000000000001, 'alpha': 25. * msecond, 'decay_time': 15. * second, 'lr_intr': 0.1, 'c_intr': 0.5})\n",
      "train\n"
     ]
    },
    {
     "name": "stderr",
     "output_type": "stream",
     "text": [
      "INFO       No numerical integration method specified for group 'synapses_10', using method 'linear' (took 0.18s). [brian2.stateupdaters.base.method_choice]\n",
      "INFO       No numerical integration method specified for group 'synapses_11', using method 'linear' (took 0.14s). [brian2.stateupdaters.base.method_choice]\n",
      "INFO       No numerical integration method specified for group 'synapses_13', using method 'linear' (took 0.05s). [brian2.stateupdaters.base.method_choice]\n",
      "INFO       No numerical integration method specified for group 'synapses_14', using method 'linear' (took 0.15s). [brian2.stateupdaters.base.method_choice]\n",
      "INFO       No numerical integration method specified for group 'synapses_15', using method 'linear' (took 0.15s). [brian2.stateupdaters.base.method_choice]\n",
      "INFO       No numerical integration method specified for group 'synapses_8', using method 'linear' (took 0.15s). [brian2.stateupdaters.base.method_choice]\n",
      "INFO       No numerical integration method specified for group 'synapses_9', using method 'linear' (took 0.15s). [brian2.stateupdaters.base.method_choice]\n"
     ]
    },
    {
     "name": "stdout",
     "output_type": "stream",
     "text": [
      "test\n"
     ]
    },
    {
     "name": "stderr",
     "output_type": "stream",
     "text": [
      "INFO       No numerical integration method specified for group 'synapses_10', using method 'linear' (took 0.18s). [brian2.stateupdaters.base.method_choice]\n",
      "INFO       No numerical integration method specified for group 'synapses_11', using method 'linear' (took 0.16s). [brian2.stateupdaters.base.method_choice]\n",
      "INFO       No numerical integration method specified for group 'synapses_13', using method 'linear' (took 0.05s). [brian2.stateupdaters.base.method_choice]\n",
      "INFO       No numerical integration method specified for group 'synapses_14', using method 'linear' (took 0.15s). [brian2.stateupdaters.base.method_choice]\n",
      "INFO       No numerical integration method specified for group 'synapses_15', using method 'linear' (took 0.14s). [brian2.stateupdaters.base.method_choice]\n",
      "INFO       No numerical integration method specified for group 'synapses_8', using method 'linear' (took 0.16s). [brian2.stateupdaters.base.method_choice]\n",
      "INFO       No numerical integration method specified for group 'synapses_9', using method 'linear' (took 0.14s). [brian2.stateupdaters.base.method_choice]\n"
     ]
    },
    {
     "name": "stdout",
     "output_type": "stream",
     "text": [
      "0.06\n",
      "('SIMULATION', 66, {'beta': 120. * msecond, 'lr': 0.1, 'c_diff': 1.0, 'Teacher_amplitude': 1.5, 'c_inp': 0.5, 'alpha': 15. * msecond, 'decay_time': 15. * second, 'lr_intr': 0.1, 'c_intr': 1.0})\n",
      "train\n"
     ]
    },
    {
     "name": "stderr",
     "output_type": "stream",
     "text": [
      "INFO       No numerical integration method specified for group 'synapses_1', using method 'linear' (took 0.18s). [brian2.stateupdaters.base.method_choice]\n",
      "INFO       No numerical integration method specified for group 'synapses_2', using method 'linear' (took 0.14s). [brian2.stateupdaters.base.method_choice]\n",
      "INFO       No numerical integration method specified for group 'synapses_3', using method 'linear' (took 0.16s). [brian2.stateupdaters.base.method_choice]\n",
      "INFO       No numerical integration method specified for group 'synapses_5', using method 'linear' (took 0.05s). [brian2.stateupdaters.base.method_choice]\n",
      "INFO       No numerical integration method specified for group 'synapses_6', using method 'linear' (took 0.14s). [brian2.stateupdaters.base.method_choice]\n",
      "INFO       No numerical integration method specified for group 'synapses_7', using method 'linear' (took 0.15s). [brian2.stateupdaters.base.method_choice]\n",
      "INFO       No numerical integration method specified for group 'synapses', using method 'linear' (took 0.15s). [brian2.stateupdaters.base.method_choice]\n"
     ]
    },
    {
     "name": "stdout",
     "output_type": "stream",
     "text": [
      "test\n"
     ]
    },
    {
     "name": "stderr",
     "output_type": "stream",
     "text": [
      "INFO       No numerical integration method specified for group 'synapses_1', using method 'linear' (took 0.18s). [brian2.stateupdaters.base.method_choice]\n",
      "INFO       No numerical integration method specified for group 'synapses_2', using method 'linear' (took 0.14s). [brian2.stateupdaters.base.method_choice]\n",
      "INFO       No numerical integration method specified for group 'synapses_3', using method 'linear' (took 0.14s). [brian2.stateupdaters.base.method_choice]\n",
      "INFO       No numerical integration method specified for group 'synapses_5', using method 'linear' (took 0.05s). [brian2.stateupdaters.base.method_choice]\n",
      "INFO       No numerical integration method specified for group 'synapses_6', using method 'linear' (took 0.15s). [brian2.stateupdaters.base.method_choice]\n",
      "INFO       No numerical integration method specified for group 'synapses_7', using method 'linear' (took 0.16s). [brian2.stateupdaters.base.method_choice]\n",
      "INFO       No numerical integration method specified for group 'synapses', using method 'linear' (took 0.14s). [brian2.stateupdaters.base.method_choice]\n"
     ]
    },
    {
     "name": "stdout",
     "output_type": "stream",
     "text": [
      "0.14\n",
      "('SIMULATION', 67, {'beta': 120. * msecond, 'lr': 0.1, 'c_diff': 1.0, 'Teacher_amplitude': 7.5, 'c_inp': 0.10000000000000001, 'alpha': 15. * msecond, 'decay_time': 10. * second, 'lr_intr': 0.1, 'c_intr': 1.0})\n",
      "train\n"
     ]
    },
    {
     "name": "stderr",
     "output_type": "stream",
     "text": [
      "INFO       No numerical integration method specified for group 'synapses_10', using method 'linear' (took 0.18s). [brian2.stateupdaters.base.method_choice]\n",
      "INFO       No numerical integration method specified for group 'synapses_11', using method 'linear' (took 0.14s). [brian2.stateupdaters.base.method_choice]\n",
      "INFO       No numerical integration method specified for group 'synapses_13', using method 'linear' (took 0.05s). [brian2.stateupdaters.base.method_choice]\n",
      "INFO       No numerical integration method specified for group 'synapses_14', using method 'linear' (took 0.15s). [brian2.stateupdaters.base.method_choice]\n",
      "INFO       No numerical integration method specified for group 'synapses_15', using method 'linear' (took 0.15s). [brian2.stateupdaters.base.method_choice]\n",
      "INFO       No numerical integration method specified for group 'synapses_8', using method 'linear' (took 0.16s). [brian2.stateupdaters.base.method_choice]\n",
      "INFO       No numerical integration method specified for group 'synapses_9', using method 'linear' (took 0.14s). [brian2.stateupdaters.base.method_choice]\n"
     ]
    },
    {
     "name": "stdout",
     "output_type": "stream",
     "text": [
      "test\n"
     ]
    },
    {
     "name": "stderr",
     "output_type": "stream",
     "text": [
      "INFO       No numerical integration method specified for group 'synapses_10', using method 'linear' (took 0.18s). [brian2.stateupdaters.base.method_choice]\n",
      "INFO       No numerical integration method specified for group 'synapses_11', using method 'linear' (took 0.14s). [brian2.stateupdaters.base.method_choice]\n",
      "INFO       No numerical integration method specified for group 'synapses_13', using method 'linear' (took 0.05s). [brian2.stateupdaters.base.method_choice]\n",
      "INFO       No numerical integration method specified for group 'synapses_14', using method 'linear' (took 0.15s). [brian2.stateupdaters.base.method_choice]\n",
      "INFO       No numerical integration method specified for group 'synapses_15', using method 'linear' (took 0.15s). [brian2.stateupdaters.base.method_choice]\n",
      "INFO       No numerical integration method specified for group 'synapses_8', using method 'linear' (took 0.14s). [brian2.stateupdaters.base.method_choice]\n",
      "INFO       No numerical integration method specified for group 'synapses_9', using method 'linear' (took 0.15s). [brian2.stateupdaters.base.method_choice]\n"
     ]
    },
    {
     "name": "stdout",
     "output_type": "stream",
     "text": [
      "0.08\n",
      "('SIMULATION', 68, {'beta': 160. * msecond, 'lr': 0.1, 'c_diff': 1.0, 'Teacher_amplitude': 1.5, 'c_inp': 0.10000000000000001, 'alpha': 20. * msecond, 'decay_time': 10. * second, 'lr_intr': 0.1, 'c_intr': 0.75})\n",
      "train\n"
     ]
    },
    {
     "name": "stderr",
     "output_type": "stream",
     "text": [
      "INFO       No numerical integration method specified for group 'synapses_1', using method 'linear' (took 0.19s). [brian2.stateupdaters.base.method_choice]\n",
      "INFO       No numerical integration method specified for group 'synapses_2', using method 'linear' (took 0.14s). [brian2.stateupdaters.base.method_choice]\n",
      "INFO       No numerical integration method specified for group 'synapses_3', using method 'linear' (took 0.15s). [brian2.stateupdaters.base.method_choice]\n",
      "INFO       No numerical integration method specified for group 'synapses_5', using method 'linear' (took 0.05s). [brian2.stateupdaters.base.method_choice]\n",
      "INFO       No numerical integration method specified for group 'synapses_6', using method 'linear' (took 0.15s). [brian2.stateupdaters.base.method_choice]\n",
      "INFO       No numerical integration method specified for group 'synapses_7', using method 'linear' (took 0.16s). [brian2.stateupdaters.base.method_choice]\n",
      "INFO       No numerical integration method specified for group 'synapses', using method 'linear' (took 0.14s). [brian2.stateupdaters.base.method_choice]\n"
     ]
    },
    {
     "name": "stdout",
     "output_type": "stream",
     "text": [
      "test\n"
     ]
    },
    {
     "name": "stderr",
     "output_type": "stream",
     "text": [
      "INFO       No numerical integration method specified for group 'synapses_1', using method 'linear' (took 0.19s). [brian2.stateupdaters.base.method_choice]\n",
      "INFO       No numerical integration method specified for group 'synapses_2', using method 'linear' (took 0.14s). [brian2.stateupdaters.base.method_choice]\n",
      "INFO       No numerical integration method specified for group 'synapses_3', using method 'linear' (took 0.14s). [brian2.stateupdaters.base.method_choice]\n",
      "INFO       No numerical integration method specified for group 'synapses_5', using method 'linear' (took 0.05s). [brian2.stateupdaters.base.method_choice]\n",
      "INFO       No numerical integration method specified for group 'synapses_6', using method 'linear' (took 0.15s). [brian2.stateupdaters.base.method_choice]\n",
      "INFO       No numerical integration method specified for group 'synapses_7', using method 'linear' (took 0.16s). [brian2.stateupdaters.base.method_choice]\n",
      "INFO       No numerical integration method specified for group 'synapses', using method 'linear' (took 0.14s). [brian2.stateupdaters.base.method_choice]\n"
     ]
    },
    {
     "name": "stdout",
     "output_type": "stream",
     "text": [
      "0.1\n",
      "('SIMULATION', 69, {'beta': 240. * msecond, 'lr': 0.1, 'c_diff': 1.0, 'Teacher_amplitude': 5.0, 'c_inp': 0.29999999999999999, 'alpha': 30. * msecond, 'decay_time': 3.3 * second, 'lr_intr': 0.1, 'c_intr': 1.0})\n",
      "train\n"
     ]
    },
    {
     "name": "stderr",
     "output_type": "stream",
     "text": [
      "INFO       No numerical integration method specified for group 'synapses_10', using method 'linear' (took 0.18s). [brian2.stateupdaters.base.method_choice]\n",
      "INFO       No numerical integration method specified for group 'synapses_11', using method 'linear' (took 0.14s). [brian2.stateupdaters.base.method_choice]\n",
      "INFO       No numerical integration method specified for group 'synapses_13', using method 'linear' (took 0.05s). [brian2.stateupdaters.base.method_choice]\n",
      "INFO       No numerical integration method specified for group 'synapses_14', using method 'linear' (took 0.14s). [brian2.stateupdaters.base.method_choice]\n",
      "INFO       No numerical integration method specified for group 'synapses_15', using method 'linear' (took 0.16s). [brian2.stateupdaters.base.method_choice]\n",
      "INFO       No numerical integration method specified for group 'synapses_8', using method 'linear' (took 0.14s). [brian2.stateupdaters.base.method_choice]\n",
      "INFO       No numerical integration method specified for group 'synapses_9', using method 'linear' (took 0.17s). [brian2.stateupdaters.base.method_choice]\n"
     ]
    },
    {
     "name": "stdout",
     "output_type": "stream",
     "text": [
      "test\n"
     ]
    },
    {
     "name": "stderr",
     "output_type": "stream",
     "text": [
      "INFO       No numerical integration method specified for group 'synapses_10', using method 'linear' (took 0.18s). [brian2.stateupdaters.base.method_choice]\n",
      "INFO       No numerical integration method specified for group 'synapses_11', using method 'linear' (took 0.14s). [brian2.stateupdaters.base.method_choice]\n",
      "INFO       No numerical integration method specified for group 'synapses_13', using method 'linear' (took 0.05s). [brian2.stateupdaters.base.method_choice]\n",
      "INFO       No numerical integration method specified for group 'synapses_14', using method 'linear' (took 0.15s). [brian2.stateupdaters.base.method_choice]\n",
      "INFO       No numerical integration method specified for group 'synapses_15', using method 'linear' (took 0.15s). [brian2.stateupdaters.base.method_choice]\n",
      "INFO       No numerical integration method specified for group 'synapses_8', using method 'linear' (took 0.15s). [brian2.stateupdaters.base.method_choice]\n",
      "INFO       No numerical integration method specified for group 'synapses_9', using method 'linear' (took 0.15s). [brian2.stateupdaters.base.method_choice]\n"
     ]
    },
    {
     "name": "stdout",
     "output_type": "stream",
     "text": [
      "0.11\n",
      "('SIMULATION', 70, {'beta': 120. * msecond, 'lr': 0.1, 'c_diff': 1.0, 'Teacher_amplitude': 7.5, 'c_inp': 0.29999999999999999, 'alpha': 15. * msecond, 'decay_time': 3.3 * second, 'lr_intr': 0.1, 'c_intr': 0.75})\n",
      "train\n"
     ]
    },
    {
     "name": "stderr",
     "output_type": "stream",
     "text": [
      "INFO       No numerical integration method specified for group 'synapses_1', using method 'linear' (took 0.18s). [brian2.stateupdaters.base.method_choice]\n",
      "INFO       No numerical integration method specified for group 'synapses_2', using method 'linear' (took 0.14s). [brian2.stateupdaters.base.method_choice]\n",
      "INFO       No numerical integration method specified for group 'synapses_3', using method 'linear' (took 0.16s). [brian2.stateupdaters.base.method_choice]\n",
      "INFO       No numerical integration method specified for group 'synapses_5', using method 'linear' (took 0.05s). [brian2.stateupdaters.base.method_choice]\n",
      "INFO       No numerical integration method specified for group 'synapses_6', using method 'linear' (took 0.14s). [brian2.stateupdaters.base.method_choice]\n",
      "INFO       No numerical integration method specified for group 'synapses_7', using method 'linear' (took 0.15s). [brian2.stateupdaters.base.method_choice]\n",
      "INFO       No numerical integration method specified for group 'synapses', using method 'linear' (took 0.15s). [brian2.stateupdaters.base.method_choice]\n"
     ]
    },
    {
     "name": "stdout",
     "output_type": "stream",
     "text": [
      "test\n"
     ]
    },
    {
     "name": "stderr",
     "output_type": "stream",
     "text": [
      "INFO       No numerical integration method specified for group 'synapses_1', using method 'linear' (took 0.18s). [brian2.stateupdaters.base.method_choice]\n",
      "INFO       No numerical integration method specified for group 'synapses_2', using method 'linear' (took 0.14s). [brian2.stateupdaters.base.method_choice]\n",
      "INFO       No numerical integration method specified for group 'synapses_3', using method 'linear' (took 0.16s). [brian2.stateupdaters.base.method_choice]\n",
      "INFO       No numerical integration method specified for group 'synapses_5', using method 'linear' (took 0.05s). [brian2.stateupdaters.base.method_choice]\n",
      "INFO       No numerical integration method specified for group 'synapses_6', using method 'linear' (took 0.15s). [brian2.stateupdaters.base.method_choice]\n",
      "INFO       No numerical integration method specified for group 'synapses_7', using method 'linear' (took 0.15s). [brian2.stateupdaters.base.method_choice]\n",
      "INFO       No numerical integration method specified for group 'synapses', using method 'linear' (took 0.14s). [brian2.stateupdaters.base.method_choice]\n"
     ]
    },
    {
     "name": "stdout",
     "output_type": "stream",
     "text": [
      "0.07\n",
      "('SIMULATION', 71, {'beta': 160. * msecond, 'lr': 0.1, 'c_diff': 1.0, 'Teacher_amplitude': 1.5, 'c_inp': 0.5, 'alpha': 20. * msecond, 'decay_time': 10. * second, 'lr_intr': 0.1, 'c_intr': 0.75})\n",
      "train\n"
     ]
    },
    {
     "name": "stderr",
     "output_type": "stream",
     "text": [
      "INFO       No numerical integration method specified for group 'synapses_10', using method 'linear' (took 0.18s). [brian2.stateupdaters.base.method_choice]\n",
      "INFO       No numerical integration method specified for group 'synapses_11', using method 'linear' (took 0.14s). [brian2.stateupdaters.base.method_choice]\n",
      "INFO       No numerical integration method specified for group 'synapses_13', using method 'linear' (took 0.06s). [brian2.stateupdaters.base.method_choice]\n",
      "INFO       No numerical integration method specified for group 'synapses_14', using method 'linear' (took 0.15s). [brian2.stateupdaters.base.method_choice]\n",
      "INFO       No numerical integration method specified for group 'synapses_15', using method 'linear' (took 0.15s). [brian2.stateupdaters.base.method_choice]\n",
      "INFO       No numerical integration method specified for group 'synapses_8', using method 'linear' (took 0.16s). [brian2.stateupdaters.base.method_choice]\n",
      "INFO       No numerical integration method specified for group 'synapses_9', using method 'linear' (took 0.15s). [brian2.stateupdaters.base.method_choice]\n"
     ]
    },
    {
     "name": "stdout",
     "output_type": "stream",
     "text": [
      "test\n"
     ]
    },
    {
     "name": "stderr",
     "output_type": "stream",
     "text": [
      "INFO       No numerical integration method specified for group 'synapses_10', using method 'linear' (took 0.18s). [brian2.stateupdaters.base.method_choice]\n",
      "INFO       No numerical integration method specified for group 'synapses_11', using method 'linear' (took 0.14s). [brian2.stateupdaters.base.method_choice]\n",
      "INFO       No numerical integration method specified for group 'synapses_13', using method 'linear' (took 0.05s). [brian2.stateupdaters.base.method_choice]\n",
      "INFO       No numerical integration method specified for group 'synapses_14', using method 'linear' (took 0.15s). [brian2.stateupdaters.base.method_choice]\n",
      "INFO       No numerical integration method specified for group 'synapses_15', using method 'linear' (took 0.15s). [brian2.stateupdaters.base.method_choice]\n",
      "INFO       No numerical integration method specified for group 'synapses_8', using method 'linear' (took 0.14s). [brian2.stateupdaters.base.method_choice]\n",
      "INFO       No numerical integration method specified for group 'synapses_9', using method 'linear' (took 0.14s). [brian2.stateupdaters.base.method_choice]\n"
     ]
    },
    {
     "name": "stdout",
     "output_type": "stream",
     "text": [
      "0.1\n",
      "('SIMULATION', 72, {'beta': 160. * msecond, 'lr': 0.1, 'c_diff': 1.0, 'Teacher_amplitude': 7.5, 'c_inp': 0.10000000000000001, 'alpha': 20. * msecond, 'decay_time': 15. * second, 'lr_intr': 0.1, 'c_intr': 0.5})\n",
      "train\n"
     ]
    },
    {
     "name": "stderr",
     "output_type": "stream",
     "text": [
      "INFO       No numerical integration method specified for group 'synapses_1', using method 'linear' (took 0.18s). [brian2.stateupdaters.base.method_choice]\n",
      "INFO       No numerical integration method specified for group 'synapses_2', using method 'linear' (took 0.14s). [brian2.stateupdaters.base.method_choice]\n",
      "INFO       No numerical integration method specified for group 'synapses_3', using method 'linear' (took 0.16s). [brian2.stateupdaters.base.method_choice]\n",
      "INFO       No numerical integration method specified for group 'synapses_5', using method 'linear' (took 0.05s). [brian2.stateupdaters.base.method_choice]\n",
      "INFO       No numerical integration method specified for group 'synapses_6', using method 'linear' (took 0.15s). [brian2.stateupdaters.base.method_choice]\n",
      "INFO       No numerical integration method specified for group 'synapses_7', using method 'linear' (took 0.14s). [brian2.stateupdaters.base.method_choice]\n",
      "INFO       No numerical integration method specified for group 'synapses', using method 'linear' (took 0.16s). [brian2.stateupdaters.base.method_choice]\n"
     ]
    },
    {
     "name": "stdout",
     "output_type": "stream",
     "text": [
      "test\n"
     ]
    },
    {
     "name": "stderr",
     "output_type": "stream",
     "text": [
      "INFO       No numerical integration method specified for group 'synapses_1', using method 'linear' (took 0.19s). [brian2.stateupdaters.base.method_choice]\n",
      "INFO       No numerical integration method specified for group 'synapses_2', using method 'linear' (took 0.14s). [brian2.stateupdaters.base.method_choice]\n",
      "INFO       No numerical integration method specified for group 'synapses_3', using method 'linear' (took 0.16s). [brian2.stateupdaters.base.method_choice]\n",
      "INFO       No numerical integration method specified for group 'synapses_5', using method 'linear' (took 0.05s). [brian2.stateupdaters.base.method_choice]\n",
      "INFO       No numerical integration method specified for group 'synapses_6', using method 'linear' (took 0.15s). [brian2.stateupdaters.base.method_choice]\n",
      "INFO       No numerical integration method specified for group 'synapses_7', using method 'linear' (took 0.16s). [brian2.stateupdaters.base.method_choice]\n",
      "INFO       No numerical integration method specified for group 'synapses', using method 'linear' (took 0.14s). [brian2.stateupdaters.base.method_choice]\n"
     ]
    },
    {
     "name": "stdout",
     "output_type": "stream",
     "text": [
      "0.08\n",
      "('SIMULATION', 73, {'beta': 80. * msecond, 'lr': 0.1, 'c_diff': 1.0, 'Teacher_amplitude': 1.5, 'c_inp': 0.5, 'alpha': 10. * msecond, 'decay_time': 15. * second, 'lr_intr': 0.1, 'c_intr': 0.5})\n",
      "train\n"
     ]
    },
    {
     "name": "stderr",
     "output_type": "stream",
     "text": [
      "INFO       No numerical integration method specified for group 'synapses_10', using method 'linear' (took 0.18s). [brian2.stateupdaters.base.method_choice]\n",
      "INFO       No numerical integration method specified for group 'synapses_11', using method 'linear' (took 0.14s). [brian2.stateupdaters.base.method_choice]\n",
      "INFO       No numerical integration method specified for group 'synapses_13', using method 'linear' (took 0.05s). [brian2.stateupdaters.base.method_choice]\n",
      "INFO       No numerical integration method specified for group 'synapses_14', using method 'linear' (took 0.15s). [brian2.stateupdaters.base.method_choice]\n",
      "INFO       No numerical integration method specified for group 'synapses_15', using method 'linear' (took 0.15s). [brian2.stateupdaters.base.method_choice]\n",
      "INFO       No numerical integration method specified for group 'synapses_8', using method 'linear' (took 0.16s). [brian2.stateupdaters.base.method_choice]\n",
      "INFO       No numerical integration method specified for group 'synapses_9', using method 'linear' (took 0.14s). [brian2.stateupdaters.base.method_choice]\n"
     ]
    },
    {
     "name": "stdout",
     "output_type": "stream",
     "text": [
      "test\n"
     ]
    },
    {
     "name": "stderr",
     "output_type": "stream",
     "text": [
      "INFO       No numerical integration method specified for group 'synapses_10', using method 'linear' (took 0.18s). [brian2.stateupdaters.base.method_choice]\n",
      "INFO       No numerical integration method specified for group 'synapses_11', using method 'linear' (took 0.15s). [brian2.stateupdaters.base.method_choice]\n",
      "INFO       No numerical integration method specified for group 'synapses_13', using method 'linear' (took 0.05s). [brian2.stateupdaters.base.method_choice]\n",
      "INFO       No numerical integration method specified for group 'synapses_14', using method 'linear' (took 0.15s). [brian2.stateupdaters.base.method_choice]\n",
      "INFO       No numerical integration method specified for group 'synapses_15', using method 'linear' (took 0.15s). [brian2.stateupdaters.base.method_choice]\n",
      "INFO       No numerical integration method specified for group 'synapses_8', using method 'linear' (took 0.14s). [brian2.stateupdaters.base.method_choice]\n",
      "INFO       No numerical integration method specified for group 'synapses_9', using method 'linear' (took 0.17s). [brian2.stateupdaters.base.method_choice]\n"
     ]
    },
    {
     "name": "stdout",
     "output_type": "stream",
     "text": [
      "0.03\n",
      "('SIMULATION', 74, {'beta': 160. * msecond, 'lr': 0.1, 'c_diff': 1.0, 'Teacher_amplitude': 7.5, 'c_inp': 0.5, 'alpha': 20. * msecond, 'decay_time': 3.3 * second, 'lr_intr': 0.1, 'c_intr': 0.75})\n",
      "train\n"
     ]
    },
    {
     "name": "stderr",
     "output_type": "stream",
     "text": [
      "INFO       No numerical integration method specified for group 'synapses_1', using method 'linear' (took 0.18s). [brian2.stateupdaters.base.method_choice]\n",
      "INFO       No numerical integration method specified for group 'synapses_2', using method 'linear' (took 0.14s). [brian2.stateupdaters.base.method_choice]\n",
      "INFO       No numerical integration method specified for group 'synapses_3', using method 'linear' (took 0.16s). [brian2.stateupdaters.base.method_choice]\n",
      "INFO       No numerical integration method specified for group 'synapses_5', using method 'linear' (took 0.05s). [brian2.stateupdaters.base.method_choice]\n",
      "INFO       No numerical integration method specified for group 'synapses_6', using method 'linear' (took 0.29s). [brian2.stateupdaters.base.method_choice]\n",
      "INFO       No numerical integration method specified for group 'synapses_7', using method 'linear' (took 0.14s). [brian2.stateupdaters.base.method_choice]\n",
      "INFO       No numerical integration method specified for group 'synapses', using method 'linear' (took 0.14s). [brian2.stateupdaters.base.method_choice]\n"
     ]
    },
    {
     "name": "stdout",
     "output_type": "stream",
     "text": [
      "test\n"
     ]
    },
    {
     "name": "stderr",
     "output_type": "stream",
     "text": [
      "INFO       No numerical integration method specified for group 'synapses_1', using method 'linear' (took 0.18s). [brian2.stateupdaters.base.method_choice]\n",
      "INFO       No numerical integration method specified for group 'synapses_2', using method 'linear' (took 0.14s). [brian2.stateupdaters.base.method_choice]\n",
      "INFO       No numerical integration method specified for group 'synapses_3', using method 'linear' (took 0.15s). [brian2.stateupdaters.base.method_choice]\n",
      "INFO       No numerical integration method specified for group 'synapses_5', using method 'linear' (took 0.05s). [brian2.stateupdaters.base.method_choice]\n",
      "INFO       No numerical integration method specified for group 'synapses_6', using method 'linear' (took 0.15s). [brian2.stateupdaters.base.method_choice]\n",
      "INFO       No numerical integration method specified for group 'synapses_7', using method 'linear' (took 0.16s). [brian2.stateupdaters.base.method_choice]\n",
      "INFO       No numerical integration method specified for group 'synapses', using method 'linear' (took 0.14s). [brian2.stateupdaters.base.method_choice]\n"
     ]
    },
    {
     "name": "stdout",
     "output_type": "stream",
     "text": [
      "0.12\n",
      "('SIMULATION', 75, {'beta': 120. * msecond, 'lr': 0.1, 'c_diff': 1.0, 'Teacher_amplitude': 15.0, 'c_inp': 1.0, 'alpha': 15. * msecond, 'decay_time': 15. * second, 'lr_intr': 0.1, 'c_intr': 1.0})\n",
      "train\n"
     ]
    },
    {
     "name": "stderr",
     "output_type": "stream",
     "text": [
      "INFO       No numerical integration method specified for group 'synapses_10', using method 'linear' (took 0.18s). [brian2.stateupdaters.base.method_choice]\n",
      "INFO       No numerical integration method specified for group 'synapses_11', using method 'linear' (took 0.15s). [brian2.stateupdaters.base.method_choice]\n",
      "INFO       No numerical integration method specified for group 'synapses_13', using method 'linear' (took 0.05s). [brian2.stateupdaters.base.method_choice]\n",
      "INFO       No numerical integration method specified for group 'synapses_14', using method 'linear' (took 0.15s). [brian2.stateupdaters.base.method_choice]\n",
      "INFO       No numerical integration method specified for group 'synapses_15', using method 'linear' (took 0.15s). [brian2.stateupdaters.base.method_choice]\n",
      "INFO       No numerical integration method specified for group 'synapses_8', using method 'linear' (took 0.14s). [brian2.stateupdaters.base.method_choice]\n",
      "INFO       No numerical integration method specified for group 'synapses_9', using method 'linear' (took 0.15s). [brian2.stateupdaters.base.method_choice]\n"
     ]
    },
    {
     "name": "stdout",
     "output_type": "stream",
     "text": [
      "test\n"
     ]
    },
    {
     "name": "stderr",
     "output_type": "stream",
     "text": [
      "INFO       No numerical integration method specified for group 'synapses_10', using method 'linear' (took 0.18s). [brian2.stateupdaters.base.method_choice]\n",
      "INFO       No numerical integration method specified for group 'synapses_11', using method 'linear' (took 0.14s). [brian2.stateupdaters.base.method_choice]\n",
      "INFO       No numerical integration method specified for group 'synapses_13', using method 'linear' (took 0.05s). [brian2.stateupdaters.base.method_choice]\n",
      "INFO       No numerical integration method specified for group 'synapses_14', using method 'linear' (took 0.14s). [brian2.stateupdaters.base.method_choice]\n",
      "INFO       No numerical integration method specified for group 'synapses_15', using method 'linear' (took 0.16s). [brian2.stateupdaters.base.method_choice]\n",
      "INFO       No numerical integration method specified for group 'synapses_8', using method 'linear' (took 0.14s). [brian2.stateupdaters.base.method_choice]\n",
      "INFO       No numerical integration method specified for group 'synapses_9', using method 'linear' (took 0.15s). [brian2.stateupdaters.base.method_choice]\n"
     ]
    },
    {
     "name": "stdout",
     "output_type": "stream",
     "text": [
      "0.11\n",
      "('SIMULATION', 76, {'beta': 80. * msecond, 'lr': 0.1, 'c_diff': 1.0, 'Teacher_amplitude': 30.0, 'c_inp': 0.5, 'alpha': 10. * msecond, 'decay_time': 3.3 * second, 'lr_intr': 0.1, 'c_intr': 0.10000000000000001})\n",
      "train\n"
     ]
    },
    {
     "name": "stderr",
     "output_type": "stream",
     "text": [
      "INFO       No numerical integration method specified for group 'synapses_1', using method 'linear' (took 0.20s). [brian2.stateupdaters.base.method_choice]\n",
      "INFO       No numerical integration method specified for group 'synapses_2', using method 'linear' (took 0.14s). [brian2.stateupdaters.base.method_choice]\n",
      "INFO       No numerical integration method specified for group 'synapses_3', using method 'linear' (took 0.17s). [brian2.stateupdaters.base.method_choice]\n",
      "INFO       No numerical integration method specified for group 'synapses_5', using method 'linear' (took 0.05s). [brian2.stateupdaters.base.method_choice]\n",
      "INFO       No numerical integration method specified for group 'synapses_6', using method 'linear' (took 0.15s). [brian2.stateupdaters.base.method_choice]\n",
      "INFO       No numerical integration method specified for group 'synapses_7', using method 'linear' (took 0.15s). [brian2.stateupdaters.base.method_choice]\n",
      "INFO       No numerical integration method specified for group 'synapses', using method 'linear' (took 0.15s). [brian2.stateupdaters.base.method_choice]\n"
     ]
    },
    {
     "name": "stdout",
     "output_type": "stream",
     "text": [
      "test\n"
     ]
    },
    {
     "name": "stderr",
     "output_type": "stream",
     "text": [
      "INFO       No numerical integration method specified for group 'synapses_1', using method 'linear' (took 0.18s). [brian2.stateupdaters.base.method_choice]\n",
      "INFO       No numerical integration method specified for group 'synapses_2', using method 'linear' (took 0.14s). [brian2.stateupdaters.base.method_choice]\n",
      "INFO       No numerical integration method specified for group 'synapses_3', using method 'linear' (took 0.16s). [brian2.stateupdaters.base.method_choice]\n",
      "INFO       No numerical integration method specified for group 'synapses_5', using method 'linear' (took 0.05s). [brian2.stateupdaters.base.method_choice]\n",
      "INFO       No numerical integration method specified for group 'synapses_6', using method 'linear' (took 0.15s). [brian2.stateupdaters.base.method_choice]\n",
      "INFO       No numerical integration method specified for group 'synapses_7', using method 'linear' (took 0.15s). [brian2.stateupdaters.base.method_choice]\n",
      "INFO       No numerical integration method specified for group 'synapses', using method 'linear' (took 0.16s). [brian2.stateupdaters.base.method_choice]\n"
     ]
    },
    {
     "name": "stdout",
     "output_type": "stream",
     "text": [
      "0.06\n",
      "('SIMULATION', 77, {'beta': 200. * msecond, 'lr': 0.1, 'c_diff': 1.0, 'Teacher_amplitude': 15.0, 'c_inp': 0.10000000000000001, 'alpha': 25. * msecond, 'decay_time': 3.3 * second, 'lr_intr': 0.1, 'c_intr': 0.75})\n",
      "train\n"
     ]
    },
    {
     "name": "stderr",
     "output_type": "stream",
     "text": [
      "INFO       No numerical integration method specified for group 'synapses_10', using method 'linear' (took 0.18s). [brian2.stateupdaters.base.method_choice]\n",
      "INFO       No numerical integration method specified for group 'synapses_11', using method 'linear' (took 0.30s). [brian2.stateupdaters.base.method_choice]\n",
      "INFO       No numerical integration method specified for group 'synapses_13', using method 'linear' (took 0.04s). [brian2.stateupdaters.base.method_choice]\n",
      "INFO       No numerical integration method specified for group 'synapses_14', using method 'linear' (took 0.15s). [brian2.stateupdaters.base.method_choice]\n",
      "INFO       No numerical integration method specified for group 'synapses_15', using method 'linear' (took 0.16s). [brian2.stateupdaters.base.method_choice]\n",
      "INFO       No numerical integration method specified for group 'synapses_8', using method 'linear' (took 0.14s). [brian2.stateupdaters.base.method_choice]\n",
      "INFO       No numerical integration method specified for group 'synapses_9', using method 'linear' (took 0.14s). [brian2.stateupdaters.base.method_choice]\n"
     ]
    },
    {
     "name": "stdout",
     "output_type": "stream",
     "text": [
      "test\n"
     ]
    },
    {
     "name": "stderr",
     "output_type": "stream",
     "text": [
      "INFO       No numerical integration method specified for group 'synapses_10', using method 'linear' (took 0.18s). [brian2.stateupdaters.base.method_choice]\n",
      "INFO       No numerical integration method specified for group 'synapses_11', using method 'linear' (took 0.14s). [brian2.stateupdaters.base.method_choice]\n",
      "INFO       No numerical integration method specified for group 'synapses_13', using method 'linear' (took 0.05s). [brian2.stateupdaters.base.method_choice]\n",
      "INFO       No numerical integration method specified for group 'synapses_14', using method 'linear' (took 0.15s). [brian2.stateupdaters.base.method_choice]\n",
      "INFO       No numerical integration method specified for group 'synapses_15', using method 'linear' (took 0.14s). [brian2.stateupdaters.base.method_choice]\n",
      "INFO       No numerical integration method specified for group 'synapses_8', using method 'linear' (took 0.14s). [brian2.stateupdaters.base.method_choice]\n",
      "INFO       No numerical integration method specified for group 'synapses_9', using method 'linear' (took 0.15s). [brian2.stateupdaters.base.method_choice]\n"
     ]
    },
    {
     "name": "stdout",
     "output_type": "stream",
     "text": [
      "0.18\n",
      "('SIMULATION', 78, {'beta': 120. * msecond, 'lr': 0.1, 'c_diff': 1.0, 'Teacher_amplitude': 0.5, 'c_inp': 0.10000000000000001, 'alpha': 15. * msecond, 'decay_time': 15. * second, 'lr_intr': 0.1, 'c_intr': 0.10000000000000001})\n",
      "train\n"
     ]
    },
    {
     "name": "stderr",
     "output_type": "stream",
     "text": [
      "INFO       No numerical integration method specified for group 'synapses_1', using method 'linear' (took 0.18s). [brian2.stateupdaters.base.method_choice]\n",
      "INFO       No numerical integration method specified for group 'synapses_2', using method 'linear' (took 0.14s). [brian2.stateupdaters.base.method_choice]\n",
      "INFO       No numerical integration method specified for group 'synapses_3', using method 'linear' (took 0.15s). [brian2.stateupdaters.base.method_choice]\n",
      "INFO       No numerical integration method specified for group 'synapses_5', using method 'linear' (took 0.05s). [brian2.stateupdaters.base.method_choice]\n",
      "INFO       No numerical integration method specified for group 'synapses_6', using method 'linear' (took 0.15s). [brian2.stateupdaters.base.method_choice]\n",
      "INFO       No numerical integration method specified for group 'synapses_7', using method 'linear' (took 0.16s). [brian2.stateupdaters.base.method_choice]\n",
      "INFO       No numerical integration method specified for group 'synapses', using method 'linear' (took 0.14s). [brian2.stateupdaters.base.method_choice]\n"
     ]
    },
    {
     "name": "stdout",
     "output_type": "stream",
     "text": [
      "test\n"
     ]
    },
    {
     "name": "stderr",
     "output_type": "stream",
     "text": [
      "INFO       No numerical integration method specified for group 'synapses_1', using method 'linear' (took 0.18s). [brian2.stateupdaters.base.method_choice]\n",
      "INFO       No numerical integration method specified for group 'synapses_2', using method 'linear' (took 0.14s). [brian2.stateupdaters.base.method_choice]\n",
      "INFO       No numerical integration method specified for group 'synapses_3', using method 'linear' (took 0.15s). [brian2.stateupdaters.base.method_choice]\n",
      "INFO       No numerical integration method specified for group 'synapses_5', using method 'linear' (took 0.05s). [brian2.stateupdaters.base.method_choice]\n",
      "INFO       No numerical integration method specified for group 'synapses_6', using method 'linear' (took 0.29s). [brian2.stateupdaters.base.method_choice]\n",
      "INFO       No numerical integration method specified for group 'synapses_7', using method 'linear' (took 0.14s). [brian2.stateupdaters.base.method_choice]\n",
      "INFO       No numerical integration method specified for group 'synapses', using method 'linear' (took 0.16s). [brian2.stateupdaters.base.method_choice]\n"
     ]
    },
    {
     "name": "stdout",
     "output_type": "stream",
     "text": [
      "0.08\n",
      "('SIMULATION', 79, {'beta': 200. * msecond, 'lr': 0.1, 'c_diff': 1.0, 'Teacher_amplitude': 5.0, 'c_inp': 0.5, 'alpha': 25. * msecond, 'decay_time': 3.3 * second, 'lr_intr': 0.1, 'c_intr': 1.0})\n",
      "train\n"
     ]
    },
    {
     "name": "stderr",
     "output_type": "stream",
     "text": [
      "INFO       No numerical integration method specified for group 'synapses_10', using method 'linear' (took 0.18s). [brian2.stateupdaters.base.method_choice]\n",
      "INFO       No numerical integration method specified for group 'synapses_11', using method 'linear' (took 0.14s). [brian2.stateupdaters.base.method_choice]\n",
      "INFO       No numerical integration method specified for group 'synapses_13', using method 'linear' (took 0.05s). [brian2.stateupdaters.base.method_choice]\n",
      "INFO       No numerical integration method specified for group 'synapses_14', using method 'linear' (took 0.15s). [brian2.stateupdaters.base.method_choice]\n",
      "INFO       No numerical integration method specified for group 'synapses_15', using method 'linear' (took 0.16s). [brian2.stateupdaters.base.method_choice]\n",
      "INFO       No numerical integration method specified for group 'synapses_8', using method 'linear' (took 0.14s). [brian2.stateupdaters.base.method_choice]\n",
      "INFO       No numerical integration method specified for group 'synapses_9', using method 'linear' (took 0.15s). [brian2.stateupdaters.base.method_choice]\n"
     ]
    },
    {
     "name": "stdout",
     "output_type": "stream",
     "text": [
      "test\n"
     ]
    },
    {
     "name": "stderr",
     "output_type": "stream",
     "text": [
      "INFO       No numerical integration method specified for group 'synapses_10', using method 'linear' (took 0.18s). [brian2.stateupdaters.base.method_choice]\n",
      "INFO       No numerical integration method specified for group 'synapses_11', using method 'linear' (took 0.14s). [brian2.stateupdaters.base.method_choice]\n",
      "INFO       No numerical integration method specified for group 'synapses_13', using method 'linear' (took 0.05s). [brian2.stateupdaters.base.method_choice]\n",
      "INFO       No numerical integration method specified for group 'synapses_14', using method 'linear' (took 0.15s). [brian2.stateupdaters.base.method_choice]\n",
      "INFO       No numerical integration method specified for group 'synapses_15', using method 'linear' (took 0.15s). [brian2.stateupdaters.base.method_choice]\n",
      "INFO       No numerical integration method specified for group 'synapses_8', using method 'linear' (took 0.14s). [brian2.stateupdaters.base.method_choice]\n",
      "INFO       No numerical integration method specified for group 'synapses_9', using method 'linear' (took 0.14s). [brian2.stateupdaters.base.method_choice]\n"
     ]
    },
    {
     "name": "stdout",
     "output_type": "stream",
     "text": [
      "0.1\n",
      "('SIMULATION', 80, {'beta': 120. * msecond, 'lr': 0.1, 'c_diff': 1.0, 'Teacher_amplitude': 7.5, 'c_inp': 0.5, 'alpha': 15. * msecond, 'decay_time': 3.3 * second, 'lr_intr': 0.1, 'c_intr': 1.0})\n",
      "train\n"
     ]
    },
    {
     "name": "stderr",
     "output_type": "stream",
     "text": [
      "INFO       No numerical integration method specified for group 'synapses_1', using method 'linear' (took 0.19s). [brian2.stateupdaters.base.method_choice]\n",
      "INFO       No numerical integration method specified for group 'synapses_2', using method 'linear' (took 0.14s). [brian2.stateupdaters.base.method_choice]\n",
      "INFO       No numerical integration method specified for group 'synapses_3', using method 'linear' (took 0.17s). [brian2.stateupdaters.base.method_choice]\n",
      "INFO       No numerical integration method specified for group 'synapses_5', using method 'linear' (took 0.05s). [brian2.stateupdaters.base.method_choice]\n",
      "INFO       No numerical integration method specified for group 'synapses_6', using method 'linear' (took 0.16s). [brian2.stateupdaters.base.method_choice]\n",
      "INFO       No numerical integration method specified for group 'synapses_7', using method 'linear' (took 0.14s). [brian2.stateupdaters.base.method_choice]\n",
      "INFO       No numerical integration method specified for group 'synapses', using method 'linear' (took 0.18s). [brian2.stateupdaters.base.method_choice]\n"
     ]
    },
    {
     "name": "stdout",
     "output_type": "stream",
     "text": [
      "test\n"
     ]
    },
    {
     "name": "stderr",
     "output_type": "stream",
     "text": [
      "INFO       No numerical integration method specified for group 'synapses_1', using method 'linear' (took 0.19s). [brian2.stateupdaters.base.method_choice]\n",
      "INFO       No numerical integration method specified for group 'synapses_2', using method 'linear' (took 0.14s). [brian2.stateupdaters.base.method_choice]\n",
      "INFO       No numerical integration method specified for group 'synapses_3', using method 'linear' (took 0.17s). [brian2.stateupdaters.base.method_choice]\n",
      "INFO       No numerical integration method specified for group 'synapses_5', using method 'linear' (took 0.04s). [brian2.stateupdaters.base.method_choice]\n",
      "INFO       No numerical integration method specified for group 'synapses_6', using method 'linear' (took 0.16s). [brian2.stateupdaters.base.method_choice]\n",
      "INFO       No numerical integration method specified for group 'synapses_7', using method 'linear' (took 0.15s). [brian2.stateupdaters.base.method_choice]\n",
      "INFO       No numerical integration method specified for group 'synapses', using method 'linear' (took 0.14s). [brian2.stateupdaters.base.method_choice]\n"
     ]
    },
    {
     "name": "stdout",
     "output_type": "stream",
     "text": [
      "0.04\n",
      "('SIMULATION', 81, {'beta': 160. * msecond, 'lr': 0.1, 'c_diff': 1.0, 'Teacher_amplitude': 12.5, 'c_inp': 0.75, 'alpha': 20. * msecond, 'decay_time': 10. * second, 'lr_intr': 0.1, 'c_intr': 0.75})\n",
      "train\n"
     ]
    },
    {
     "name": "stderr",
     "output_type": "stream",
     "text": [
      "INFO       No numerical integration method specified for group 'synapses_10', using method 'linear' (took 0.18s). [brian2.stateupdaters.base.method_choice]\n",
      "INFO       No numerical integration method specified for group 'synapses_11', using method 'linear' (took 0.14s). [brian2.stateupdaters.base.method_choice]\n",
      "INFO       No numerical integration method specified for group 'synapses_13', using method 'linear' (took 0.05s). [brian2.stateupdaters.base.method_choice]\n",
      "INFO       No numerical integration method specified for group 'synapses_14', using method 'linear' (took 0.15s). [brian2.stateupdaters.base.method_choice]\n",
      "INFO       No numerical integration method specified for group 'synapses_15', using method 'linear' (took 0.14s). [brian2.stateupdaters.base.method_choice]\n",
      "INFO       No numerical integration method specified for group 'synapses_8', using method 'linear' (took 0.15s). [brian2.stateupdaters.base.method_choice]\n",
      "INFO       No numerical integration method specified for group 'synapses_9', using method 'linear' (took 0.14s). [brian2.stateupdaters.base.method_choice]\n"
     ]
    },
    {
     "name": "stdout",
     "output_type": "stream",
     "text": [
      "test\n"
     ]
    },
    {
     "name": "stderr",
     "output_type": "stream",
     "text": [
      "INFO       No numerical integration method specified for group 'synapses_10', using method 'linear' (took 0.18s). [brian2.stateupdaters.base.method_choice]\n",
      "INFO       No numerical integration method specified for group 'synapses_11', using method 'linear' (took 0.14s). [brian2.stateupdaters.base.method_choice]\n",
      "INFO       No numerical integration method specified for group 'synapses_13', using method 'linear' (took 0.05s). [brian2.stateupdaters.base.method_choice]\n",
      "INFO       No numerical integration method specified for group 'synapses_14', using method 'linear' (took 0.15s). [brian2.stateupdaters.base.method_choice]\n",
      "INFO       No numerical integration method specified for group 'synapses_15', using method 'linear' (took 0.17s). [brian2.stateupdaters.base.method_choice]\n",
      "INFO       No numerical integration method specified for group 'synapses_8', using method 'linear' (took 0.14s). [brian2.stateupdaters.base.method_choice]\n",
      "INFO       No numerical integration method specified for group 'synapses_9', using method 'linear' (took 0.15s). [brian2.stateupdaters.base.method_choice]\n"
     ]
    },
    {
     "name": "stdout",
     "output_type": "stream",
     "text": [
      "0.15\n",
      "('SIMULATION', 82, {'beta': 160. * msecond, 'lr': 0.1, 'c_diff': 1.0, 'Teacher_amplitude': 18.75, 'c_inp': 0.10000000000000001, 'alpha': 20. * msecond, 'decay_time': 3.3 * second, 'lr_intr': 0.1, 'c_intr': 0.5})\n",
      "train\n"
     ]
    },
    {
     "name": "stderr",
     "output_type": "stream",
     "text": [
      "INFO       No numerical integration method specified for group 'synapses_1', using method 'linear' (took 0.18s). [brian2.stateupdaters.base.method_choice]\n",
      "INFO       No numerical integration method specified for group 'synapses_2', using method 'linear' (took 0.14s). [brian2.stateupdaters.base.method_choice]\n",
      "INFO       No numerical integration method specified for group 'synapses_3', using method 'linear' (took 0.15s). [brian2.stateupdaters.base.method_choice]\n",
      "INFO       No numerical integration method specified for group 'synapses_5', using method 'linear' (took 0.05s). [brian2.stateupdaters.base.method_choice]\n",
      "INFO       No numerical integration method specified for group 'synapses_6', using method 'linear' (took 0.14s). [brian2.stateupdaters.base.method_choice]\n",
      "INFO       No numerical integration method specified for group 'synapses_7', using method 'linear' (took 0.15s). [brian2.stateupdaters.base.method_choice]\n",
      "INFO       No numerical integration method specified for group 'synapses', using method 'linear' (took 0.16s). [brian2.stateupdaters.base.method_choice]\n"
     ]
    },
    {
     "name": "stdout",
     "output_type": "stream",
     "text": [
      "test\n"
     ]
    },
    {
     "name": "stderr",
     "output_type": "stream",
     "text": [
      "INFO       No numerical integration method specified for group 'synapses_1', using method 'linear' (took 0.18s). [brian2.stateupdaters.base.method_choice]\n",
      "INFO       No numerical integration method specified for group 'synapses_2', using method 'linear' (took 0.14s). [brian2.stateupdaters.base.method_choice]\n",
      "INFO       No numerical integration method specified for group 'synapses_3', using method 'linear' (took 0.17s). [brian2.stateupdaters.base.method_choice]\n",
      "INFO       No numerical integration method specified for group 'synapses_5', using method 'linear' (took 0.05s). [brian2.stateupdaters.base.method_choice]\n",
      "INFO       No numerical integration method specified for group 'synapses_6', using method 'linear' (took 0.14s). [brian2.stateupdaters.base.method_choice]\n",
      "INFO       No numerical integration method specified for group 'synapses_7', using method 'linear' (took 0.15s). [brian2.stateupdaters.base.method_choice]\n",
      "INFO       No numerical integration method specified for group 'synapses', using method 'linear' (took 0.14s). [brian2.stateupdaters.base.method_choice]\n"
     ]
    },
    {
     "name": "stdout",
     "output_type": "stream",
     "text": [
      "0.06\n",
      "('SIMULATION', 83, {'beta': 80. * msecond, 'lr': 0.1, 'c_diff': 1.0, 'Teacher_amplitude': 5.0, 'c_inp': 0.10000000000000001, 'alpha': 10. * msecond, 'decay_time': 15. * second, 'lr_intr': 0.1, 'c_intr': 1.0})\n",
      "train\n"
     ]
    },
    {
     "name": "stderr",
     "output_type": "stream",
     "text": [
      "INFO       No numerical integration method specified for group 'synapses_10', using method 'linear' (took 0.18s). [brian2.stateupdaters.base.method_choice]\n",
      "INFO       No numerical integration method specified for group 'synapses_11', using method 'linear' (took 0.14s). [brian2.stateupdaters.base.method_choice]\n",
      "INFO       No numerical integration method specified for group 'synapses_13', using method 'linear' (took 0.05s). [brian2.stateupdaters.base.method_choice]\n",
      "INFO       No numerical integration method specified for group 'synapses_14', using method 'linear' (took 0.14s). [brian2.stateupdaters.base.method_choice]\n",
      "INFO       No numerical integration method specified for group 'synapses_15', using method 'linear' (took 0.15s). [brian2.stateupdaters.base.method_choice]\n",
      "INFO       No numerical integration method specified for group 'synapses_8', using method 'linear' (took 0.16s). [brian2.stateupdaters.base.method_choice]\n",
      "INFO       No numerical integration method specified for group 'synapses_9', using method 'linear' (took 0.14s). [brian2.stateupdaters.base.method_choice]\n"
     ]
    },
    {
     "name": "stdout",
     "output_type": "stream",
     "text": [
      "test\n"
     ]
    },
    {
     "name": "stderr",
     "output_type": "stream",
     "text": [
      "INFO       No numerical integration method specified for group 'synapses_10', using method 'linear' (took 0.18s). [brian2.stateupdaters.base.method_choice]\n",
      "INFO       No numerical integration method specified for group 'synapses_11', using method 'linear' (took 0.14s). [brian2.stateupdaters.base.method_choice]\n",
      "INFO       No numerical integration method specified for group 'synapses_13', using method 'linear' (took 0.05s). [brian2.stateupdaters.base.method_choice]\n",
      "INFO       No numerical integration method specified for group 'synapses_14', using method 'linear' (took 0.16s). [brian2.stateupdaters.base.method_choice]\n",
      "INFO       No numerical integration method specified for group 'synapses_15', using method 'linear' (took 0.14s). [brian2.stateupdaters.base.method_choice]\n",
      "INFO       No numerical integration method specified for group 'synapses_8', using method 'linear' (took 0.15s). [brian2.stateupdaters.base.method_choice]\n",
      "INFO       No numerical integration method specified for group 'synapses_9', using method 'linear' (took 0.14s). [brian2.stateupdaters.base.method_choice]\n"
     ]
    },
    {
     "name": "stdout",
     "output_type": "stream",
     "text": [
      "0.14\n",
      "('SIMULATION', 84, {'beta': 120. * msecond, 'lr': 0.1, 'c_diff': 1.0, 'Teacher_amplitude': 2.5, 'c_inp': 1.0, 'alpha': 15. * msecond, 'decay_time': 15. * second, 'lr_intr': 0.1, 'c_intr': 0.5})\n",
      "train\n"
     ]
    },
    {
     "name": "stderr",
     "output_type": "stream",
     "text": [
      "INFO       No numerical integration method specified for group 'synapses_1', using method 'linear' (took 0.18s). [brian2.stateupdaters.base.method_choice]\n",
      "INFO       No numerical integration method specified for group 'synapses_2', using method 'linear' (took 0.16s). [brian2.stateupdaters.base.method_choice]\n",
      "INFO       No numerical integration method specified for group 'synapses_3', using method 'linear' (took 0.16s). [brian2.stateupdaters.base.method_choice]\n",
      "INFO       No numerical integration method specified for group 'synapses_5', using method 'linear' (took 0.05s). [brian2.stateupdaters.base.method_choice]\n",
      "INFO       No numerical integration method specified for group 'synapses_6', using method 'linear' (took 0.15s). [brian2.stateupdaters.base.method_choice]\n",
      "INFO       No numerical integration method specified for group 'synapses_7', using method 'linear' (took 0.14s). [brian2.stateupdaters.base.method_choice]\n",
      "INFO       No numerical integration method specified for group 'synapses', using method 'linear' (took 0.16s). [brian2.stateupdaters.base.method_choice]\n"
     ]
    },
    {
     "name": "stdout",
     "output_type": "stream",
     "text": [
      "test\n"
     ]
    },
    {
     "name": "stderr",
     "output_type": "stream",
     "text": [
      "INFO       No numerical integration method specified for group 'synapses_1', using method 'linear' (took 0.18s). [brian2.stateupdaters.base.method_choice]\n",
      "INFO       No numerical integration method specified for group 'synapses_2', using method 'linear' (took 0.14s). [brian2.stateupdaters.base.method_choice]\n",
      "INFO       No numerical integration method specified for group 'synapses_3', using method 'linear' (took 0.15s). [brian2.stateupdaters.base.method_choice]\n",
      "INFO       No numerical integration method specified for group 'synapses_5', using method 'linear' (took 0.05s). [brian2.stateupdaters.base.method_choice]\n",
      "INFO       No numerical integration method specified for group 'synapses_6', using method 'linear' (took 0.15s). [brian2.stateupdaters.base.method_choice]\n",
      "INFO       No numerical integration method specified for group 'synapses_7', using method 'linear' (took 0.16s). [brian2.stateupdaters.base.method_choice]\n",
      "INFO       No numerical integration method specified for group 'synapses', using method 'linear' (took 0.14s). [brian2.stateupdaters.base.method_choice]\n"
     ]
    },
    {
     "name": "stdout",
     "output_type": "stream",
     "text": [
      "0.19\n",
      "('SIMULATION', 85, {'beta': 160. * msecond, 'lr': 0.1, 'c_diff': 1.0, 'Teacher_amplitude': 30.0, 'c_inp': 0.75, 'alpha': 20. * msecond, 'decay_time': 10. * second, 'lr_intr': 0.1, 'c_intr': 0.29999999999999999})\n",
      "train\n"
     ]
    },
    {
     "name": "stderr",
     "output_type": "stream",
     "text": [
      "INFO       No numerical integration method specified for group 'synapses_10', using method 'linear' (took 0.18s). [brian2.stateupdaters.base.method_choice]\n",
      "INFO       No numerical integration method specified for group 'synapses_11', using method 'linear' (took 0.16s). [brian2.stateupdaters.base.method_choice]\n",
      "INFO       No numerical integration method specified for group 'synapses_13', using method 'linear' (took 0.05s). [brian2.stateupdaters.base.method_choice]\n",
      "INFO       No numerical integration method specified for group 'synapses_14', using method 'linear' (took 0.15s). [brian2.stateupdaters.base.method_choice]\n",
      "INFO       No numerical integration method specified for group 'synapses_15', using method 'linear' (took 0.16s). [brian2.stateupdaters.base.method_choice]\n",
      "INFO       No numerical integration method specified for group 'synapses_8', using method 'linear' (took 0.14s). [brian2.stateupdaters.base.method_choice]\n",
      "INFO       No numerical integration method specified for group 'synapses_9', using method 'linear' (took 0.16s). [brian2.stateupdaters.base.method_choice]\n"
     ]
    },
    {
     "name": "stdout",
     "output_type": "stream",
     "text": [
      "test\n"
     ]
    },
    {
     "name": "stderr",
     "output_type": "stream",
     "text": [
      "INFO       No numerical integration method specified for group 'synapses_10', using method 'linear' (took 0.18s). [brian2.stateupdaters.base.method_choice]\n",
      "INFO       No numerical integration method specified for group 'synapses_11', using method 'linear' (took 0.14s). [brian2.stateupdaters.base.method_choice]\n",
      "INFO       No numerical integration method specified for group 'synapses_13', using method 'linear' (took 0.05s). [brian2.stateupdaters.base.method_choice]\n",
      "INFO       No numerical integration method specified for group 'synapses_14', using method 'linear' (took 0.15s). [brian2.stateupdaters.base.method_choice]\n",
      "INFO       No numerical integration method specified for group 'synapses_15', using method 'linear' (took 0.17s). [brian2.stateupdaters.base.method_choice]\n",
      "INFO       No numerical integration method specified for group 'synapses_8', using method 'linear' (took 0.15s). [brian2.stateupdaters.base.method_choice]\n",
      "INFO       No numerical integration method specified for group 'synapses_9', using method 'linear' (took 0.17s). [brian2.stateupdaters.base.method_choice]\n"
     ]
    },
    {
     "name": "stdout",
     "output_type": "stream",
     "text": [
      "0.1\n",
      "('SIMULATION', 86, {'beta': 160. * msecond, 'lr': 0.1, 'c_diff': 1.0, 'Teacher_amplitude': 37.5, 'c_inp': 0.75, 'alpha': 20. * msecond, 'decay_time': 3.3 * second, 'lr_intr': 0.1, 'c_intr': 0.5})\n",
      "train\n"
     ]
    },
    {
     "name": "stderr",
     "output_type": "stream",
     "text": [
      "INFO       No numerical integration method specified for group 'synapses_1', using method 'linear' (took 0.18s). [brian2.stateupdaters.base.method_choice]\n",
      "INFO       No numerical integration method specified for group 'synapses_2', using method 'linear' (took 0.14s). [brian2.stateupdaters.base.method_choice]\n",
      "INFO       No numerical integration method specified for group 'synapses_3', using method 'linear' (took 0.15s). [brian2.stateupdaters.base.method_choice]\n",
      "INFO       No numerical integration method specified for group 'synapses_5', using method 'linear' (took 0.05s). [brian2.stateupdaters.base.method_choice]\n",
      "INFO       No numerical integration method specified for group 'synapses_6', using method 'linear' (took 0.15s). [brian2.stateupdaters.base.method_choice]\n",
      "INFO       No numerical integration method specified for group 'synapses_7', using method 'linear' (took 0.14s). [brian2.stateupdaters.base.method_choice]\n",
      "INFO       No numerical integration method specified for group 'synapses', using method 'linear' (took 0.16s). [brian2.stateupdaters.base.method_choice]\n"
     ]
    },
    {
     "name": "stdout",
     "output_type": "stream",
     "text": [
      "test\n"
     ]
    },
    {
     "name": "stderr",
     "output_type": "stream",
     "text": [
      "INFO       No numerical integration method specified for group 'synapses_1', using method 'linear' (took 0.21s). [brian2.stateupdaters.base.method_choice]\n",
      "INFO       No numerical integration method specified for group 'synapses_2', using method 'linear' (took 0.14s). [brian2.stateupdaters.base.method_choice]\n",
      "INFO       No numerical integration method specified for group 'synapses_3', using method 'linear' (took 0.15s). [brian2.stateupdaters.base.method_choice]\n",
      "INFO       No numerical integration method specified for group 'synapses_5', using method 'linear' (took 0.05s). [brian2.stateupdaters.base.method_choice]\n",
      "INFO       No numerical integration method specified for group 'synapses_6', using method 'linear' (took 0.15s). [brian2.stateupdaters.base.method_choice]\n",
      "INFO       No numerical integration method specified for group 'synapses_7', using method 'linear' (took 0.16s). [brian2.stateupdaters.base.method_choice]\n",
      "INFO       No numerical integration method specified for group 'synapses', using method 'linear' (took 0.14s). [brian2.stateupdaters.base.method_choice]\n"
     ]
    },
    {
     "name": "stdout",
     "output_type": "stream",
     "text": [
      "0.16\n",
      "('SIMULATION', 87, {'beta': 240. * msecond, 'lr': 0.1, 'c_diff': 1.0, 'Teacher_amplitude': 22.5, 'c_inp': 0.75, 'alpha': 30. * msecond, 'decay_time': 10. * second, 'lr_intr': 0.1, 'c_intr': 1.0})\n",
      "train\n"
     ]
    },
    {
     "name": "stderr",
     "output_type": "stream",
     "text": [
      "INFO       No numerical integration method specified for group 'synapses_10', using method 'linear' (took 0.23s). [brian2.stateupdaters.base.method_choice]\n",
      "INFO       No numerical integration method specified for group 'synapses_11', using method 'linear' (took 0.15s). [brian2.stateupdaters.base.method_choice]\n",
      "INFO       No numerical integration method specified for group 'synapses_13', using method 'linear' (took 0.05s). [brian2.stateupdaters.base.method_choice]\n",
      "INFO       No numerical integration method specified for group 'synapses_14', using method 'linear' (took 0.15s). [brian2.stateupdaters.base.method_choice]\n",
      "INFO       No numerical integration method specified for group 'synapses_15', using method 'linear' (took 0.17s). [brian2.stateupdaters.base.method_choice]\n",
      "INFO       No numerical integration method specified for group 'synapses_8', using method 'linear' (took 0.15s). [brian2.stateupdaters.base.method_choice]\n",
      "INFO       No numerical integration method specified for group 'synapses_9', using method 'linear' (took 0.15s). [brian2.stateupdaters.base.method_choice]\n"
     ]
    },
    {
     "name": "stdout",
     "output_type": "stream",
     "text": [
      "test\n"
     ]
    },
    {
     "name": "stderr",
     "output_type": "stream",
     "text": [
      "INFO       No numerical integration method specified for group 'synapses_10', using method 'linear' (took 0.18s). [brian2.stateupdaters.base.method_choice]\n",
      "INFO       No numerical integration method specified for group 'synapses_11', using method 'linear' (took 0.16s). [brian2.stateupdaters.base.method_choice]\n",
      "INFO       No numerical integration method specified for group 'synapses_13', using method 'linear' (took 0.05s). [brian2.stateupdaters.base.method_choice]\n",
      "INFO       No numerical integration method specified for group 'synapses_14', using method 'linear' (took 0.15s). [brian2.stateupdaters.base.method_choice]\n",
      "INFO       No numerical integration method specified for group 'synapses_15', using method 'linear' (took 0.14s). [brian2.stateupdaters.base.method_choice]\n",
      "INFO       No numerical integration method specified for group 'synapses_8', using method 'linear' (took 0.15s). [brian2.stateupdaters.base.method_choice]\n",
      "INFO       No numerical integration method specified for group 'synapses_9', using method 'linear' (took 0.16s). [brian2.stateupdaters.base.method_choice]\n"
     ]
    },
    {
     "name": "stdout",
     "output_type": "stream",
     "text": [
      "0.08\n",
      "('SIMULATION', 88, {'beta': 160. * msecond, 'lr': 0.1, 'c_diff': 1.0, 'Teacher_amplitude': 11.25, 'c_inp': 1.0, 'alpha': 20. * msecond, 'decay_time': 3.3 * second, 'lr_intr': 0.1, 'c_intr': 0.10000000000000001})\n",
      "train\n"
     ]
    },
    {
     "name": "stderr",
     "output_type": "stream",
     "text": [
      "INFO       No numerical integration method specified for group 'synapses_1', using method 'linear' (took 0.19s). [brian2.stateupdaters.base.method_choice]\n",
      "INFO       No numerical integration method specified for group 'synapses_2', using method 'linear' (took 0.15s). [brian2.stateupdaters.base.method_choice]\n",
      "INFO       No numerical integration method specified for group 'synapses_3', using method 'linear' (took 0.16s). [brian2.stateupdaters.base.method_choice]\n",
      "INFO       No numerical integration method specified for group 'synapses_5', using method 'linear' (took 0.05s). [brian2.stateupdaters.base.method_choice]\n",
      "INFO       No numerical integration method specified for group 'synapses_6', using method 'linear' (took 0.15s). [brian2.stateupdaters.base.method_choice]\n",
      "INFO       No numerical integration method specified for group 'synapses_7', using method 'linear' (took 0.14s). [brian2.stateupdaters.base.method_choice]\n",
      "INFO       No numerical integration method specified for group 'synapses', using method 'linear' (took 0.14s). [brian2.stateupdaters.base.method_choice]\n"
     ]
    },
    {
     "name": "stdout",
     "output_type": "stream",
     "text": [
      "test\n"
     ]
    },
    {
     "name": "stderr",
     "output_type": "stream",
     "text": [
      "INFO       No numerical integration method specified for group 'synapses_1', using method 'linear' (took 0.18s). [brian2.stateupdaters.base.method_choice]\n",
      "INFO       No numerical integration method specified for group 'synapses_2', using method 'linear' (took 0.14s). [brian2.stateupdaters.base.method_choice]\n",
      "INFO       No numerical integration method specified for group 'synapses_3', using method 'linear' (took 0.15s). [brian2.stateupdaters.base.method_choice]\n",
      "INFO       No numerical integration method specified for group 'synapses_5', using method 'linear' (took 0.05s). [brian2.stateupdaters.base.method_choice]\n",
      "INFO       No numerical integration method specified for group 'synapses_6', using method 'linear' (took 0.15s). [brian2.stateupdaters.base.method_choice]\n",
      "INFO       No numerical integration method specified for group 'synapses_7', using method 'linear' (took 0.16s). [brian2.stateupdaters.base.method_choice]\n",
      "INFO       No numerical integration method specified for group 'synapses', using method 'linear' (took 0.14s). [brian2.stateupdaters.base.method_choice]\n"
     ]
    },
    {
     "name": "stdout",
     "output_type": "stream",
     "text": [
      "0.06\n",
      "('SIMULATION', 89, {'beta': 240. * msecond, 'lr': 0.1, 'c_diff': 1.0, 'Teacher_amplitude': 25.0, 'c_inp': 1.0, 'alpha': 30. * msecond, 'decay_time': 15. * second, 'lr_intr': 0.1, 'c_intr': 0.29999999999999999})\n",
      "train\n"
     ]
    },
    {
     "name": "stderr",
     "output_type": "stream",
     "text": [
      "INFO       No numerical integration method specified for group 'synapses_10', using method 'linear' (took 0.18s). [brian2.stateupdaters.base.method_choice]\n",
      "INFO       No numerical integration method specified for group 'synapses_11', using method 'linear' (took 0.14s). [brian2.stateupdaters.base.method_choice]\n",
      "INFO       No numerical integration method specified for group 'synapses_13', using method 'linear' (took 0.05s). [brian2.stateupdaters.base.method_choice]\n",
      "INFO       No numerical integration method specified for group 'synapses_14', using method 'linear' (took 0.15s). [brian2.stateupdaters.base.method_choice]\n",
      "INFO       No numerical integration method specified for group 'synapses_15', using method 'linear' (took 0.16s). [brian2.stateupdaters.base.method_choice]\n",
      "INFO       No numerical integration method specified for group 'synapses_8', using method 'linear' (took 0.14s). [brian2.stateupdaters.base.method_choice]\n",
      "INFO       No numerical integration method specified for group 'synapses_9', using method 'linear' (took 0.14s). [brian2.stateupdaters.base.method_choice]\n"
     ]
    },
    {
     "name": "stdout",
     "output_type": "stream",
     "text": [
      "test\n"
     ]
    },
    {
     "name": "stderr",
     "output_type": "stream",
     "text": [
      "INFO       No numerical integration method specified for group 'synapses_10', using method 'linear' (took 0.19s). [brian2.stateupdaters.base.method_choice]\n",
      "INFO       No numerical integration method specified for group 'synapses_11', using method 'linear' (took 0.14s). [brian2.stateupdaters.base.method_choice]\n",
      "INFO       No numerical integration method specified for group 'synapses_13', using method 'linear' (took 0.05s). [brian2.stateupdaters.base.method_choice]\n",
      "INFO       No numerical integration method specified for group 'synapses_14', using method 'linear' (took 0.15s). [brian2.stateupdaters.base.method_choice]\n",
      "INFO       No numerical integration method specified for group 'synapses_15', using method 'linear' (took 0.15s). [brian2.stateupdaters.base.method_choice]\n",
      "INFO       No numerical integration method specified for group 'synapses_8', using method 'linear' (took 0.15s). [brian2.stateupdaters.base.method_choice]\n",
      "INFO       No numerical integration method specified for group 'synapses_9', using method 'linear' (took 0.14s). [brian2.stateupdaters.base.method_choice]\n"
     ]
    },
    {
     "name": "stdout",
     "output_type": "stream",
     "text": [
      "0.07\n",
      "('SIMULATION', 90, {'beta': 240. * msecond, 'lr': 0.1, 'c_diff': 1.0, 'Teacher_amplitude': 25.0, 'c_inp': 0.5, 'alpha': 30. * msecond, 'decay_time': 3.3 * second, 'lr_intr': 0.1, 'c_intr': 0.75})\n",
      "train\n"
     ]
    },
    {
     "name": "stderr",
     "output_type": "stream",
     "text": [
      "INFO       No numerical integration method specified for group 'synapses_1', using method 'linear' (took 0.18s). [brian2.stateupdaters.base.method_choice]\n",
      "INFO       No numerical integration method specified for group 'synapses_2', using method 'linear' (took 0.14s). [brian2.stateupdaters.base.method_choice]\n",
      "INFO       No numerical integration method specified for group 'synapses_3', using method 'linear' (took 0.15s). [brian2.stateupdaters.base.method_choice]\n",
      "INFO       No numerical integration method specified for group 'synapses_5', using method 'linear' (took 0.05s). [brian2.stateupdaters.base.method_choice]\n",
      "INFO       No numerical integration method specified for group 'synapses_6', using method 'linear' (took 0.15s). [brian2.stateupdaters.base.method_choice]\n",
      "INFO       No numerical integration method specified for group 'synapses_7', using method 'linear' (took 0.16s). [brian2.stateupdaters.base.method_choice]\n",
      "INFO       No numerical integration method specified for group 'synapses', using method 'linear' (took 0.14s). [brian2.stateupdaters.base.method_choice]\n"
     ]
    },
    {
     "name": "stdout",
     "output_type": "stream",
     "text": [
      "test\n"
     ]
    },
    {
     "name": "stderr",
     "output_type": "stream",
     "text": [
      "INFO       No numerical integration method specified for group 'synapses_1', using method 'linear' (took 0.19s). [brian2.stateupdaters.base.method_choice]\n",
      "INFO       No numerical integration method specified for group 'synapses_2', using method 'linear' (took 0.22s). [brian2.stateupdaters.base.method_choice]\n",
      "INFO       No numerical integration method specified for group 'synapses_3', using method 'linear' (took 0.15s). [brian2.stateupdaters.base.method_choice]\n",
      "INFO       No numerical integration method specified for group 'synapses_5', using method 'linear' (took 0.05s). [brian2.stateupdaters.base.method_choice]\n",
      "INFO       No numerical integration method specified for group 'synapses_6', using method 'linear' (took 0.17s). [brian2.stateupdaters.base.method_choice]\n",
      "INFO       No numerical integration method specified for group 'synapses_7', using method 'linear' (took 0.15s). [brian2.stateupdaters.base.method_choice]\n",
      "INFO       No numerical integration method specified for group 'synapses', using method 'linear' (took 0.14s). [brian2.stateupdaters.base.method_choice]\n"
     ]
    },
    {
     "name": "stdout",
     "output_type": "stream",
     "text": [
      "0.13\n",
      "('SIMULATION', 91, {'beta': 120. * msecond, 'lr': 0.1, 'c_diff': 1.0, 'Teacher_amplitude': 15.0, 'c_inp': 0.10000000000000001, 'alpha': 15. * msecond, 'decay_time': 15. * second, 'lr_intr': 0.1, 'c_intr': 0.10000000000000001})\n",
      "train\n"
     ]
    },
    {
     "name": "stderr",
     "output_type": "stream",
     "text": [
      "INFO       No numerical integration method specified for group 'synapses_10', using method 'linear' (took 0.18s). [brian2.stateupdaters.base.method_choice]\n",
      "INFO       No numerical integration method specified for group 'synapses_11', using method 'linear' (took 0.14s). [brian2.stateupdaters.base.method_choice]\n",
      "INFO       No numerical integration method specified for group 'synapses_13', using method 'linear' (took 0.05s). [brian2.stateupdaters.base.method_choice]\n",
      "INFO       No numerical integration method specified for group 'synapses_14', using method 'linear' (took 0.14s). [brian2.stateupdaters.base.method_choice]\n",
      "INFO       No numerical integration method specified for group 'synapses_15', using method 'linear' (took 0.15s). [brian2.stateupdaters.base.method_choice]\n",
      "INFO       No numerical integration method specified for group 'synapses_8', using method 'linear' (took 0.16s). [brian2.stateupdaters.base.method_choice]\n",
      "INFO       No numerical integration method specified for group 'synapses_9', using method 'linear' (took 0.14s). [brian2.stateupdaters.base.method_choice]\n"
     ]
    },
    {
     "name": "stdout",
     "output_type": "stream",
     "text": [
      "test\n"
     ]
    },
    {
     "name": "stderr",
     "output_type": "stream",
     "text": [
      "INFO       No numerical integration method specified for group 'synapses_10', using method 'linear' (took 0.19s). [brian2.stateupdaters.base.method_choice]\n",
      "INFO       No numerical integration method specified for group 'synapses_11', using method 'linear' (took 0.14s). [brian2.stateupdaters.base.method_choice]\n",
      "INFO       No numerical integration method specified for group 'synapses_13', using method 'linear' (took 0.05s). [brian2.stateupdaters.base.method_choice]\n",
      "INFO       No numerical integration method specified for group 'synapses_14', using method 'linear' (took 0.15s). [brian2.stateupdaters.base.method_choice]\n",
      "INFO       No numerical integration method specified for group 'synapses_15', using method 'linear' (took 0.15s). [brian2.stateupdaters.base.method_choice]\n",
      "INFO       No numerical integration method specified for group 'synapses_8', using method 'linear' (took 0.16s). [brian2.stateupdaters.base.method_choice]\n",
      "INFO       No numerical integration method specified for group 'synapses_9', using method 'linear' (took 0.14s). [brian2.stateupdaters.base.method_choice]\n"
     ]
    },
    {
     "name": "stdout",
     "output_type": "stream",
     "text": [
      "0.06\n",
      "('SIMULATION', 92, {'beta': 80. * msecond, 'lr': 0.1, 'c_diff': 1.0, 'Teacher_amplitude': 5.0, 'c_inp': 0.75, 'alpha': 10. * msecond, 'decay_time': 15. * second, 'lr_intr': 0.1, 'c_intr': 0.5})\n",
      "train\n"
     ]
    },
    {
     "name": "stderr",
     "output_type": "stream",
     "text": [
      "INFO       No numerical integration method specified for group 'synapses_1', using method 'linear' (took 0.18s). [brian2.stateupdaters.base.method_choice]\n",
      "INFO       No numerical integration method specified for group 'synapses_2', using method 'linear' (took 0.14s). [brian2.stateupdaters.base.method_choice]\n",
      "INFO       No numerical integration method specified for group 'synapses_3', using method 'linear' (took 0.15s). [brian2.stateupdaters.base.method_choice]\n",
      "INFO       No numerical integration method specified for group 'synapses_5', using method 'linear' (took 0.05s). [brian2.stateupdaters.base.method_choice]\n",
      "INFO       No numerical integration method specified for group 'synapses_6', using method 'linear' (took 0.15s). [brian2.stateupdaters.base.method_choice]\n",
      "INFO       No numerical integration method specified for group 'synapses_7', using method 'linear' (took 0.15s). [brian2.stateupdaters.base.method_choice]\n",
      "INFO       No numerical integration method specified for group 'synapses', using method 'linear' (took 0.15s). [brian2.stateupdaters.base.method_choice]\n"
     ]
    },
    {
     "name": "stdout",
     "output_type": "stream",
     "text": [
      "test\n"
     ]
    },
    {
     "name": "stderr",
     "output_type": "stream",
     "text": [
      "INFO       No numerical integration method specified for group 'synapses_1', using method 'linear' (took 0.20s). [brian2.stateupdaters.base.method_choice]\n",
      "INFO       No numerical integration method specified for group 'synapses_2', using method 'linear' (took 0.14s). [brian2.stateupdaters.base.method_choice]\n",
      "INFO       No numerical integration method specified for group 'synapses_3', using method 'linear' (took 0.15s). [brian2.stateupdaters.base.method_choice]\n",
      "INFO       No numerical integration method specified for group 'synapses_5', using method 'linear' (took 0.05s). [brian2.stateupdaters.base.method_choice]\n",
      "INFO       No numerical integration method specified for group 'synapses_6', using method 'linear' (took 0.15s). [brian2.stateupdaters.base.method_choice]\n",
      "INFO       No numerical integration method specified for group 'synapses_7', using method 'linear' (took 0.16s). [brian2.stateupdaters.base.method_choice]\n",
      "INFO       No numerical integration method specified for group 'synapses', using method 'linear' (took 0.14s). [brian2.stateupdaters.base.method_choice]\n"
     ]
    },
    {
     "name": "stdout",
     "output_type": "stream",
     "text": [
      "0.13\n",
      "('SIMULATION', 93, {'beta': 200. * msecond, 'lr': 0.1, 'c_diff': 1.0, 'Teacher_amplitude': 11.25, 'c_inp': 0.5, 'alpha': 25. * msecond, 'decay_time': 10. * second, 'lr_intr': 0.1, 'c_intr': 0.5})\n",
      "train\n"
     ]
    },
    {
     "name": "stderr",
     "output_type": "stream",
     "text": [
      "INFO       No numerical integration method specified for group 'synapses_10', using method 'linear' (took 0.19s). [brian2.stateupdaters.base.method_choice]\n",
      "INFO       No numerical integration method specified for group 'synapses_11', using method 'linear' (took 0.14s). [brian2.stateupdaters.base.method_choice]\n",
      "INFO       No numerical integration method specified for group 'synapses_13', using method 'linear' (took 0.05s). [brian2.stateupdaters.base.method_choice]\n",
      "INFO       No numerical integration method specified for group 'synapses_14', using method 'linear' (took 0.14s). [brian2.stateupdaters.base.method_choice]\n",
      "INFO       No numerical integration method specified for group 'synapses_15', using method 'linear' (took 0.15s). [brian2.stateupdaters.base.method_choice]\n",
      "INFO       No numerical integration method specified for group 'synapses_8', using method 'linear' (took 0.15s). [brian2.stateupdaters.base.method_choice]\n",
      "INFO       No numerical integration method specified for group 'synapses_9', using method 'linear' (took 0.14s). [brian2.stateupdaters.base.method_choice]\n"
     ]
    },
    {
     "name": "stdout",
     "output_type": "stream",
     "text": [
      "test\n"
     ]
    },
    {
     "name": "stderr",
     "output_type": "stream",
     "text": [
      "INFO       No numerical integration method specified for group 'synapses_10', using method 'linear' (took 0.18s). [brian2.stateupdaters.base.method_choice]\n",
      "INFO       No numerical integration method specified for group 'synapses_11', using method 'linear' (took 0.14s). [brian2.stateupdaters.base.method_choice]\n",
      "INFO       No numerical integration method specified for group 'synapses_13', using method 'linear' (took 0.05s). [brian2.stateupdaters.base.method_choice]\n",
      "INFO       No numerical integration method specified for group 'synapses_14', using method 'linear' (took 0.15s). [brian2.stateupdaters.base.method_choice]\n",
      "INFO       No numerical integration method specified for group 'synapses_15', using method 'linear' (took 0.16s). [brian2.stateupdaters.base.method_choice]\n",
      "INFO       No numerical integration method specified for group 'synapses_8', using method 'linear' (took 0.14s). [brian2.stateupdaters.base.method_choice]\n",
      "INFO       No numerical integration method specified for group 'synapses_9', using method 'linear' (took 0.15s). [brian2.stateupdaters.base.method_choice]\n"
     ]
    },
    {
     "name": "stdout",
     "output_type": "stream",
     "text": [
      "0.13\n",
      "('SIMULATION', 94, {'beta': 240. * msecond, 'lr': 0.1, 'c_diff': 1.0, 'Teacher_amplitude': 15.0, 'c_inp': 0.5, 'alpha': 30. * msecond, 'decay_time': 10. * second, 'lr_intr': 0.1, 'c_intr': 0.10000000000000001})\n",
      "train\n"
     ]
    },
    {
     "name": "stderr",
     "output_type": "stream",
     "text": [
      "INFO       No numerical integration method specified for group 'synapses_1', using method 'linear' (took 0.19s). [brian2.stateupdaters.base.method_choice]\n",
      "INFO       No numerical integration method specified for group 'synapses_2', using method 'linear' (took 0.14s). [brian2.stateupdaters.base.method_choice]\n",
      "INFO       No numerical integration method specified for group 'synapses_3', using method 'linear' (took 0.16s). [brian2.stateupdaters.base.method_choice]\n",
      "INFO       No numerical integration method specified for group 'synapses_5', using method 'linear' (took 0.05s). [brian2.stateupdaters.base.method_choice]\n",
      "INFO       No numerical integration method specified for group 'synapses_6', using method 'linear' (took 0.15s). [brian2.stateupdaters.base.method_choice]\n",
      "INFO       No numerical integration method specified for group 'synapses_7', using method 'linear' (took 0.17s). [brian2.stateupdaters.base.method_choice]\n",
      "INFO       No numerical integration method specified for group 'synapses', using method 'linear' (took 0.14s). [brian2.stateupdaters.base.method_choice]\n"
     ]
    },
    {
     "name": "stdout",
     "output_type": "stream",
     "text": [
      "test\n"
     ]
    },
    {
     "name": "stderr",
     "output_type": "stream",
     "text": [
      "INFO       No numerical integration method specified for group 'synapses_1', using method 'linear' (took 0.18s). [brian2.stateupdaters.base.method_choice]\n",
      "INFO       No numerical integration method specified for group 'synapses_2', using method 'linear' (took 0.14s). [brian2.stateupdaters.base.method_choice]\n",
      "INFO       No numerical integration method specified for group 'synapses_3', using method 'linear' (took 0.16s). [brian2.stateupdaters.base.method_choice]\n",
      "INFO       No numerical integration method specified for group 'synapses_5', using method 'linear' (took 0.04s). [brian2.stateupdaters.base.method_choice]\n",
      "INFO       No numerical integration method specified for group 'synapses_6', using method 'linear' (took 0.16s). [brian2.stateupdaters.base.method_choice]\n",
      "INFO       No numerical integration method specified for group 'synapses_7', using method 'linear' (took 0.14s). [brian2.stateupdaters.base.method_choice]\n",
      "INFO       No numerical integration method specified for group 'synapses', using method 'linear' (took 0.14s). [brian2.stateupdaters.base.method_choice]\n"
     ]
    },
    {
     "name": "stdout",
     "output_type": "stream",
     "text": [
      "0.09\n",
      "('SIMULATION', 95, {'beta': 120. * msecond, 'lr': 0.1, 'c_diff': 1.0, 'Teacher_amplitude': 25.0, 'c_inp': 0.5, 'alpha': 15. * msecond, 'decay_time': 10. * second, 'lr_intr': 0.1, 'c_intr': 0.75})\n",
      "train\n"
     ]
    },
    {
     "name": "stderr",
     "output_type": "stream",
     "text": [
      "INFO       No numerical integration method specified for group 'synapses_10', using method 'linear' (took 0.18s). [brian2.stateupdaters.base.method_choice]\n",
      "INFO       No numerical integration method specified for group 'synapses_11', using method 'linear' (took 0.14s). [brian2.stateupdaters.base.method_choice]\n",
      "INFO       No numerical integration method specified for group 'synapses_13', using method 'linear' (took 0.06s). [brian2.stateupdaters.base.method_choice]\n",
      "INFO       No numerical integration method specified for group 'synapses_14', using method 'linear' (took 0.16s). [brian2.stateupdaters.base.method_choice]\n",
      "INFO       No numerical integration method specified for group 'synapses_15', using method 'linear' (took 0.14s). [brian2.stateupdaters.base.method_choice]\n",
      "INFO       No numerical integration method specified for group 'synapses_8', using method 'linear' (took 0.15s). [brian2.stateupdaters.base.method_choice]\n",
      "INFO       No numerical integration method specified for group 'synapses_9', using method 'linear' (took 0.14s). [brian2.stateupdaters.base.method_choice]\n"
     ]
    },
    {
     "name": "stdout",
     "output_type": "stream",
     "text": [
      "test\n"
     ]
    },
    {
     "name": "stderr",
     "output_type": "stream",
     "text": [
      "INFO       No numerical integration method specified for group 'synapses_10', using method 'linear' (took 0.18s). [brian2.stateupdaters.base.method_choice]\n",
      "INFO       No numerical integration method specified for group 'synapses_11', using method 'linear' (took 0.14s). [brian2.stateupdaters.base.method_choice]\n",
      "INFO       No numerical integration method specified for group 'synapses_13', using method 'linear' (took 0.05s). [brian2.stateupdaters.base.method_choice]\n",
      "INFO       No numerical integration method specified for group 'synapses_14', using method 'linear' (took 0.15s). [brian2.stateupdaters.base.method_choice]\n",
      "INFO       No numerical integration method specified for group 'synapses_15', using method 'linear' (took 0.15s). [brian2.stateupdaters.base.method_choice]\n",
      "INFO       No numerical integration method specified for group 'synapses_8', using method 'linear' (took 0.15s). [brian2.stateupdaters.base.method_choice]\n",
      "INFO       No numerical integration method specified for group 'synapses_9', using method 'linear' (took 0.14s). [brian2.stateupdaters.base.method_choice]\n"
     ]
    },
    {
     "name": "stdout",
     "output_type": "stream",
     "text": [
      "0.06\n",
      "('SIMULATION', 96, {'beta': 240. * msecond, 'lr': 0.1, 'c_diff': 1.0, 'Teacher_amplitude': 25.0, 'c_inp': 0.10000000000000001, 'alpha': 30. * msecond, 'decay_time': 15. * second, 'lr_intr': 0.1, 'c_intr': 0.29999999999999999})\n",
      "train\n"
     ]
    },
    {
     "ename": "KeyboardInterrupt",
     "evalue": "",
     "output_type": "error",
     "traceback": [
      "\u001b[0;31m---------------------------------------------------------------------------\u001b[0m",
      "\u001b[0;31mKeyboardInterrupt\u001b[0m                         Traceback (most recent call last)",
      "\u001b[0;32m<ipython-input-5-1834b70b05d1>\u001b[0m in \u001b[0;36m<module>\u001b[0;34m()\u001b[0m\n\u001b[1;32m     57\u001b[0m     \u001b[0mNN\u001b[0m\u001b[0;34m.\u001b[0m\u001b[0mmod\u001b[0m \u001b[0;34m=\u001b[0m \u001b[0mTrue\u001b[0m\u001b[0;34m\u001b[0m\u001b[0m\n\u001b[1;32m     58\u001b[0m     \u001b[0;32mprint\u001b[0m\u001b[0;34m(\u001b[0m\u001b[0;34m'train'\u001b[0m\u001b[0;34m)\u001b[0m\u001b[0;34m\u001b[0m\u001b[0m\n\u001b[0;32m---> 59\u001b[0;31m     \u001b[0mNN\u001b[0m\u001b[0;34m.\u001b[0m\u001b[0mrun\u001b[0m\u001b[0;34m(\u001b[0m\u001b[0;36m20000\u001b[0m\u001b[0;34m*\u001b[0m\u001b[0mms\u001b[0m\u001b[0;34m)\u001b[0m \u001b[0;31m#100\u001b[0m\u001b[0;34m\u001b[0m\u001b[0m\n\u001b[0m\u001b[1;32m     60\u001b[0m     \u001b[0mNN\u001b[0m\u001b[0;34m.\u001b[0m\u001b[0mmod\u001b[0m \u001b[0;34m=\u001b[0m \u001b[0mFalse\u001b[0m\u001b[0;34m\u001b[0m\u001b[0m\n\u001b[1;32m     61\u001b[0m     \u001b[0;32mprint\u001b[0m\u001b[0;34m(\u001b[0m\u001b[0;34m'test'\u001b[0m\u001b[0;34m)\u001b[0m\u001b[0;34m\u001b[0m\u001b[0m\n",
      "\u001b[0;32m<ipython-input-4-1625e5eaed37>\u001b[0m in \u001b[0;36mrun\u001b[0;34m(self, runtime)\u001b[0m\n\u001b[1;32m    607\u001b[0m \u001b[0;34m\u001b[0m\u001b[0m\n\u001b[1;32m    608\u001b[0m     \u001b[0;32mdef\u001b[0m \u001b[0mrun\u001b[0m\u001b[0;34m(\u001b[0m\u001b[0mself\u001b[0m\u001b[0;34m,\u001b[0m \u001b[0mruntime\u001b[0m\u001b[0;34m)\u001b[0m\u001b[0;34m:\u001b[0m\u001b[0;34m\u001b[0m\u001b[0m\n\u001b[0;32m--> 609\u001b[0;31m         \u001b[0mself\u001b[0m\u001b[0;34m.\u001b[0m\u001b[0mnetwork\u001b[0m\u001b[0;34m.\u001b[0m\u001b[0mrun\u001b[0m\u001b[0;34m(\u001b[0m\u001b[0mruntime\u001b[0m\u001b[0;34m)\u001b[0m\u001b[0;34m\u001b[0m\u001b[0m\n\u001b[0m\u001b[1;32m    610\u001b[0m \u001b[0;34m\u001b[0m\u001b[0m\n\u001b[1;32m    611\u001b[0m     \u001b[0;32mdef\u001b[0m \u001b[0msave_weights\u001b[0m\u001b[0;34m(\u001b[0m\u001b[0mseld\u001b[0m\u001b[0;34m,\u001b[0m \u001b[0mpath\u001b[0m\u001b[0;34m,\u001b[0m\u001b[0mencoding\u001b[0m\u001b[0;34m=\u001b[0m\u001b[0;34m\"cp1251\"\u001b[0m\u001b[0;34m)\u001b[0m\u001b[0;34m:\u001b[0m\u001b[0;34m\u001b[0m\u001b[0m\n",
      "\u001b[0;32m/home/elyha7/anaconda2/lib/python2.7/site-packages/brian2/core/base.pyc\u001b[0m in \u001b[0;36mdevice_override_decorated_function\u001b[0;34m(*args, **kwds)\u001b[0m\n\u001b[1;32m    276\u001b[0m                 \u001b[0;32mreturn\u001b[0m \u001b[0mgetattr\u001b[0m\u001b[0;34m(\u001b[0m\u001b[0mcurdev\u001b[0m\u001b[0;34m,\u001b[0m \u001b[0mname\u001b[0m\u001b[0;34m)\u001b[0m\u001b[0;34m(\u001b[0m\u001b[0;34m*\u001b[0m\u001b[0margs\u001b[0m\u001b[0;34m,\u001b[0m \u001b[0;34m**\u001b[0m\u001b[0mkwds\u001b[0m\u001b[0;34m)\u001b[0m\u001b[0;34m\u001b[0m\u001b[0m\n\u001b[1;32m    277\u001b[0m             \u001b[0;32melse\u001b[0m\u001b[0;34m:\u001b[0m\u001b[0;34m\u001b[0m\u001b[0m\n\u001b[0;32m--> 278\u001b[0;31m                 \u001b[0;32mreturn\u001b[0m \u001b[0mfunc\u001b[0m\u001b[0;34m(\u001b[0m\u001b[0;34m*\u001b[0m\u001b[0margs\u001b[0m\u001b[0;34m,\u001b[0m \u001b[0;34m**\u001b[0m\u001b[0mkwds\u001b[0m\u001b[0;34m)\u001b[0m\u001b[0;34m\u001b[0m\u001b[0m\n\u001b[0m\u001b[1;32m    279\u001b[0m \u001b[0;34m\u001b[0m\u001b[0m\n\u001b[1;32m    280\u001b[0m         \u001b[0mdevice_override_decorated_function\u001b[0m\u001b[0;34m.\u001b[0m\u001b[0m__doc__\u001b[0m \u001b[0;34m=\u001b[0m \u001b[0mfunc\u001b[0m\u001b[0;34m.\u001b[0m\u001b[0m__doc__\u001b[0m\u001b[0;34m\u001b[0m\u001b[0m\n",
      "\u001b[0;32m/home/elyha7/anaconda2/lib/python2.7/site-packages/brian2/units/fundamentalunits.pyc\u001b[0m in \u001b[0;36mnew_f\u001b[0;34m(*args, **kwds)\u001b[0m\n\u001b[1;32m   2426\u001b[0m                         raise DimensionMismatchError(error_message,\n\u001b[1;32m   2427\u001b[0m                                                      newkeyset[k])\n\u001b[0;32m-> 2428\u001b[0;31m             \u001b[0mresult\u001b[0m \u001b[0;34m=\u001b[0m \u001b[0mf\u001b[0m\u001b[0;34m(\u001b[0m\u001b[0;34m*\u001b[0m\u001b[0margs\u001b[0m\u001b[0;34m,\u001b[0m \u001b[0;34m**\u001b[0m\u001b[0mkwds\u001b[0m\u001b[0;34m)\u001b[0m\u001b[0;34m\u001b[0m\u001b[0m\n\u001b[0m\u001b[1;32m   2429\u001b[0m             \u001b[0;32mif\u001b[0m \u001b[0;34m'result'\u001b[0m \u001b[0;32min\u001b[0m \u001b[0mau\u001b[0m\u001b[0;34m:\u001b[0m\u001b[0;34m\u001b[0m\u001b[0m\n\u001b[1;32m   2430\u001b[0m                 \u001b[0;32mif\u001b[0m \u001b[0mau\u001b[0m\u001b[0;34m[\u001b[0m\u001b[0;34m'result'\u001b[0m\u001b[0;34m]\u001b[0m \u001b[0;34m==\u001b[0m \u001b[0mbool\u001b[0m\u001b[0;34m:\u001b[0m\u001b[0;34m\u001b[0m\u001b[0m\n",
      "\u001b[0;32m/home/elyha7/anaconda2/lib/python2.7/site-packages/brian2/core/network.pyc\u001b[0m in \u001b[0;36mrun\u001b[0;34m(self, duration, report, report_period, namespace, profile, level)\u001b[0m\n\u001b[1;32m    787\u001b[0m             \u001b[0mnamespace\u001b[0m \u001b[0;34m=\u001b[0m \u001b[0mget_local_namespace\u001b[0m\u001b[0;34m(\u001b[0m\u001b[0mlevel\u001b[0m\u001b[0;34m=\u001b[0m\u001b[0mlevel\u001b[0m\u001b[0;34m+\u001b[0m\u001b[0;36m3\u001b[0m\u001b[0;34m)\u001b[0m\u001b[0;34m\u001b[0m\u001b[0m\n\u001b[1;32m    788\u001b[0m \u001b[0;34m\u001b[0m\u001b[0m\n\u001b[0;32m--> 789\u001b[0;31m         \u001b[0mself\u001b[0m\u001b[0;34m.\u001b[0m\u001b[0mbefore_run\u001b[0m\u001b[0;34m(\u001b[0m\u001b[0mnamespace\u001b[0m\u001b[0;34m)\u001b[0m\u001b[0;34m\u001b[0m\u001b[0m\n\u001b[0m\u001b[1;32m    790\u001b[0m \u001b[0;34m\u001b[0m\u001b[0m\n\u001b[1;32m    791\u001b[0m         \u001b[0;32mif\u001b[0m \u001b[0mlen\u001b[0m\u001b[0;34m(\u001b[0m\u001b[0mself\u001b[0m\u001b[0;34m.\u001b[0m\u001b[0mobjects\u001b[0m\u001b[0;34m)\u001b[0m\u001b[0;34m==\u001b[0m\u001b[0;36m0\u001b[0m\u001b[0;34m:\u001b[0m\u001b[0;34m\u001b[0m\u001b[0m\n",
      "\u001b[0;32m/home/elyha7/anaconda2/lib/python2.7/site-packages/brian2/core/base.pyc\u001b[0m in \u001b[0;36mdevice_override_decorated_function\u001b[0;34m(*args, **kwds)\u001b[0m\n\u001b[1;32m    276\u001b[0m                 \u001b[0;32mreturn\u001b[0m \u001b[0mgetattr\u001b[0m\u001b[0;34m(\u001b[0m\u001b[0mcurdev\u001b[0m\u001b[0;34m,\u001b[0m \u001b[0mname\u001b[0m\u001b[0;34m)\u001b[0m\u001b[0;34m(\u001b[0m\u001b[0;34m*\u001b[0m\u001b[0margs\u001b[0m\u001b[0;34m,\u001b[0m \u001b[0;34m**\u001b[0m\u001b[0mkwds\u001b[0m\u001b[0;34m)\u001b[0m\u001b[0;34m\u001b[0m\u001b[0m\n\u001b[1;32m    277\u001b[0m             \u001b[0;32melse\u001b[0m\u001b[0;34m:\u001b[0m\u001b[0;34m\u001b[0m\u001b[0m\n\u001b[0;32m--> 278\u001b[0;31m                 \u001b[0;32mreturn\u001b[0m \u001b[0mfunc\u001b[0m\u001b[0;34m(\u001b[0m\u001b[0;34m*\u001b[0m\u001b[0margs\u001b[0m\u001b[0;34m,\u001b[0m \u001b[0;34m**\u001b[0m\u001b[0mkwds\u001b[0m\u001b[0;34m)\u001b[0m\u001b[0;34m\u001b[0m\u001b[0m\n\u001b[0m\u001b[1;32m    279\u001b[0m \u001b[0;34m\u001b[0m\u001b[0m\n\u001b[1;32m    280\u001b[0m         \u001b[0mdevice_override_decorated_function\u001b[0m\u001b[0;34m.\u001b[0m\u001b[0m__doc__\u001b[0m \u001b[0;34m=\u001b[0m \u001b[0mfunc\u001b[0m\u001b[0;34m.\u001b[0m\u001b[0m__doc__\u001b[0m\u001b[0;34m\u001b[0m\u001b[0m\n",
      "\u001b[0;32m/home/elyha7/anaconda2/lib/python2.7/site-packages/brian2/core/network.pyc\u001b[0m in \u001b[0;36mbefore_run\u001b[0;34m(self, run_namespace)\u001b[0m\n\u001b[1;32m    685\u001b[0m             \u001b[0;32mif\u001b[0m \u001b[0mobj\u001b[0m\u001b[0;34m.\u001b[0m\u001b[0mactive\u001b[0m\u001b[0;34m:\u001b[0m\u001b[0;34m\u001b[0m\u001b[0m\n\u001b[1;32m    686\u001b[0m                 \u001b[0;32mtry\u001b[0m\u001b[0;34m:\u001b[0m\u001b[0;34m\u001b[0m\u001b[0m\n\u001b[0;32m--> 687\u001b[0;31m                     \u001b[0mobj\u001b[0m\u001b[0;34m.\u001b[0m\u001b[0mbefore_run\u001b[0m\u001b[0;34m(\u001b[0m\u001b[0mrun_namespace\u001b[0m\u001b[0;34m)\u001b[0m\u001b[0;34m\u001b[0m\u001b[0m\n\u001b[0m\u001b[1;32m    688\u001b[0m                 \u001b[0;32mexcept\u001b[0m \u001b[0mException\u001b[0m \u001b[0;32mas\u001b[0m \u001b[0mex\u001b[0m\u001b[0;34m:\u001b[0m\u001b[0;34m\u001b[0m\u001b[0m\n\u001b[1;32m    689\u001b[0m                     \u001b[0;32mraise\u001b[0m \u001b[0mbrian_object_exception\u001b[0m\u001b[0;34m(\u001b[0m\u001b[0;34m\"An error occurred when preparing an object.\"\u001b[0m\u001b[0;34m,\u001b[0m \u001b[0mobj\u001b[0m\u001b[0;34m,\u001b[0m \u001b[0mex\u001b[0m\u001b[0;34m)\u001b[0m\u001b[0;34m\u001b[0m\u001b[0m\n",
      "\u001b[0;32m/home/elyha7/anaconda2/lib/python2.7/site-packages/brian2/groups/group.pyc\u001b[0m in \u001b[0;36mbefore_run\u001b[0;34m(self, run_namespace)\u001b[0m\n\u001b[1;32m   1067\u001b[0m \u001b[0;34m\u001b[0m\u001b[0m\n\u001b[1;32m   1068\u001b[0m     \u001b[0;32mdef\u001b[0m \u001b[0mbefore_run\u001b[0m\u001b[0;34m(\u001b[0m\u001b[0mself\u001b[0m\u001b[0;34m,\u001b[0m \u001b[0mrun_namespace\u001b[0m\u001b[0;34m)\u001b[0m\u001b[0;34m:\u001b[0m\u001b[0;34m\u001b[0m\u001b[0m\n\u001b[0;32m-> 1069\u001b[0;31m         \u001b[0mself\u001b[0m\u001b[0;34m.\u001b[0m\u001b[0mupdate_abstract_code\u001b[0m\u001b[0;34m(\u001b[0m\u001b[0mrun_namespace\u001b[0m\u001b[0;34m=\u001b[0m\u001b[0mrun_namespace\u001b[0m\u001b[0;34m)\u001b[0m\u001b[0;34m\u001b[0m\u001b[0m\n\u001b[0m\u001b[1;32m   1070\u001b[0m         \u001b[0;31m# If the CodeRunner has variables, add them\u001b[0m\u001b[0;34m\u001b[0m\u001b[0;34m\u001b[0m\u001b[0m\n\u001b[1;32m   1071\u001b[0m         \u001b[0;32mif\u001b[0m \u001b[0mhasattr\u001b[0m\u001b[0;34m(\u001b[0m\u001b[0mself\u001b[0m\u001b[0;34m,\u001b[0m \u001b[0;34m'variables'\u001b[0m\u001b[0;34m)\u001b[0m\u001b[0;34m:\u001b[0m\u001b[0;34m\u001b[0m\u001b[0m\n",
      "\u001b[0;32m/home/elyha7/anaconda2/lib/python2.7/site-packages/brian2/groups/neurongroup.pyc\u001b[0m in \u001b[0;36mupdate_abstract_code\u001b[0;34m(self, run_namespace)\u001b[0m\n\u001b[1;32m    155\u001b[0m                                                                        \u001b[0mvariables\u001b[0m\u001b[0;34m,\u001b[0m\u001b[0;34m\u001b[0m\u001b[0m\n\u001b[1;32m    156\u001b[0m                                                                        \u001b[0mself\u001b[0m\u001b[0;34m.\u001b[0m\u001b[0mmethod_choice\u001b[0m\u001b[0;34m,\u001b[0m\u001b[0;34m\u001b[0m\u001b[0m\n\u001b[0;32m--> 157\u001b[0;31m                                                                        group_name=self.group.name)\n\u001b[0m\u001b[1;32m    158\u001b[0m         user_code = '\\n'.join(['{var} = {expr}'.format(var=var, expr=expr)\n\u001b[1;32m    159\u001b[0m                                \u001b[0;32mfor\u001b[0m \u001b[0mvar\u001b[0m\u001b[0;34m,\u001b[0m \u001b[0mexpr\u001b[0m \u001b[0;32min\u001b[0m\u001b[0;34m\u001b[0m\u001b[0m\n",
      "\u001b[0;32m/home/elyha7/anaconda2/lib/python2.7/site-packages/brian2/stateupdaters/base.pyc\u001b[0m in \u001b[0;36mapply_stateupdater\u001b[0;34m(equations, variables, method, group_name)\u001b[0m\n\u001b[1;32m    162\u001b[0m                                  'Got %s') % type(method))\n\u001b[1;32m    163\u001b[0m             \u001b[0mstart_time\u001b[0m \u001b[0;34m=\u001b[0m \u001b[0mtime\u001b[0m\u001b[0;34m.\u001b[0m\u001b[0mtime\u001b[0m\u001b[0;34m(\u001b[0m\u001b[0;34m)\u001b[0m\u001b[0;34m\u001b[0m\u001b[0m\n\u001b[0;32m--> 164\u001b[0;31m             \u001b[0mcode\u001b[0m \u001b[0;34m=\u001b[0m \u001b[0mstateupdater\u001b[0m\u001b[0;34m(\u001b[0m\u001b[0mequations\u001b[0m\u001b[0;34m,\u001b[0m \u001b[0mvariables\u001b[0m\u001b[0;34m)\u001b[0m\u001b[0;34m\u001b[0m\u001b[0m\n\u001b[0m\u001b[1;32m    165\u001b[0m             \u001b[0mmethod_time\u001b[0m \u001b[0;34m=\u001b[0m \u001b[0mtime\u001b[0m\u001b[0;34m.\u001b[0m\u001b[0mtime\u001b[0m\u001b[0;34m(\u001b[0m\u001b[0;34m)\u001b[0m \u001b[0;34m-\u001b[0m \u001b[0mstart_time\u001b[0m\u001b[0;34m\u001b[0m\u001b[0m\n\u001b[1;32m    166\u001b[0m             \u001b[0mtiming\u001b[0m \u001b[0;34m=\u001b[0m \u001b[0;34m'took %.2fs'\u001b[0m \u001b[0;34m%\u001b[0m \u001b[0mmethod_time\u001b[0m\u001b[0;34m\u001b[0m\u001b[0m\n",
      "\u001b[0;32m/home/elyha7/anaconda2/lib/python2.7/site-packages/brian2/stateupdaters/exact.pyc\u001b[0m in \u001b[0;36m__call__\u001b[0;34m(self, equations, variables, simplify)\u001b[0m\n\u001b[1;32m    194\u001b[0m         \u001b[0mdt\u001b[0m \u001b[0;34m=\u001b[0m \u001b[0mSymbol\u001b[0m\u001b[0;34m(\u001b[0m\u001b[0;34m'dt'\u001b[0m\u001b[0;34m,\u001b[0m \u001b[0mreal\u001b[0m\u001b[0;34m=\u001b[0m\u001b[0mTrue\u001b[0m\u001b[0;34m,\u001b[0m \u001b[0mpositive\u001b[0m\u001b[0;34m=\u001b[0m\u001b[0mTrue\u001b[0m\u001b[0;34m)\u001b[0m\u001b[0;34m\u001b[0m\u001b[0m\n\u001b[1;32m    195\u001b[0m         \u001b[0;32mtry\u001b[0m\u001b[0;34m:\u001b[0m\u001b[0;34m\u001b[0m\u001b[0m\n\u001b[0;32m--> 196\u001b[0;31m             \u001b[0mA\u001b[0m \u001b[0;34m=\u001b[0m \u001b[0;34m(\u001b[0m\u001b[0mmatrix\u001b[0m \u001b[0;34m*\u001b[0m \u001b[0mdt\u001b[0m\u001b[0;34m)\u001b[0m\u001b[0;34m.\u001b[0m\u001b[0mexp\u001b[0m\u001b[0;34m(\u001b[0m\u001b[0;34m)\u001b[0m\u001b[0;34m\u001b[0m\u001b[0m\n\u001b[0m\u001b[1;32m    197\u001b[0m         \u001b[0;32mexcept\u001b[0m \u001b[0mNotImplementedError\u001b[0m\u001b[0;34m:\u001b[0m\u001b[0;34m\u001b[0m\u001b[0m\n\u001b[1;32m    198\u001b[0m             raise UnsupportedEquationsException('Cannot solve the given '\n",
      "\u001b[0;32m/home/elyha7/anaconda2/lib/python2.7/site-packages/sympy/matrices/matrices.pyc\u001b[0m in \u001b[0;36mexp\u001b[0;34m(self)\u001b[0m\n\u001b[1;32m   1957\u001b[0m                 \"Exponentiation is valid only for square matrices\")\n\u001b[1;32m   1958\u001b[0m         \u001b[0;32mtry\u001b[0m\u001b[0;34m:\u001b[0m\u001b[0;34m\u001b[0m\u001b[0m\n\u001b[0;32m-> 1959\u001b[0;31m             \u001b[0mP\u001b[0m\u001b[0;34m,\u001b[0m \u001b[0mcells\u001b[0m \u001b[0;34m=\u001b[0m \u001b[0mself\u001b[0m\u001b[0;34m.\u001b[0m\u001b[0mjordan_cells\u001b[0m\u001b[0;34m(\u001b[0m\u001b[0;34m)\u001b[0m\u001b[0;34m\u001b[0m\u001b[0m\n\u001b[0m\u001b[1;32m   1960\u001b[0m         \u001b[0;32mexcept\u001b[0m \u001b[0mMatrixError\u001b[0m\u001b[0;34m:\u001b[0m\u001b[0;34m\u001b[0m\u001b[0m\n\u001b[1;32m   1961\u001b[0m             \u001b[0;32mraise\u001b[0m \u001b[0mNotImplementedError\u001b[0m\u001b[0;34m(\u001b[0m\u001b[0;34m\"Exponentiation is implemented only for matrices for which the Jordan normal form can be computed\"\u001b[0m\u001b[0;34m)\u001b[0m\u001b[0;34m\u001b[0m\u001b[0m\n",
      "\u001b[0;32m/home/elyha7/anaconda2/lib/python2.7/site-packages/sympy/matrices/matrices.pyc\u001b[0m in \u001b[0;36mjordan_cells\u001b[0;34m(self, calc_transformation)\u001b[0m\n\u001b[1;32m   3819\u001b[0m         \u001b[0mJcells\u001b[0m \u001b[0;34m=\u001b[0m \u001b[0;34m[\u001b[0m\u001b[0;34m]\u001b[0m\u001b[0;34m\u001b[0m\u001b[0m\n\u001b[1;32m   3820\u001b[0m         \u001b[0mPcols_new\u001b[0m \u001b[0;34m=\u001b[0m \u001b[0;34m[\u001b[0m\u001b[0;34m]\u001b[0m\u001b[0;34m\u001b[0m\u001b[0m\n\u001b[0;32m-> 3821\u001b[0;31m         \u001b[0mjordan_block_structures\u001b[0m \u001b[0;34m=\u001b[0m \u001b[0mself\u001b[0m\u001b[0;34m.\u001b[0m\u001b[0m_jordan_block_structure\u001b[0m\u001b[0;34m(\u001b[0m\u001b[0;34m)\u001b[0m\u001b[0;34m\u001b[0m\u001b[0m\n\u001b[0m\u001b[1;32m   3822\u001b[0m         \u001b[0;32mfrom\u001b[0m \u001b[0msympy\u001b[0m\u001b[0;34m.\u001b[0m\u001b[0mmatrices\u001b[0m \u001b[0;32mimport\u001b[0m \u001b[0mMutableMatrix\u001b[0m\u001b[0;34m\u001b[0m\u001b[0m\n\u001b[1;32m   3823\u001b[0m \u001b[0;34m\u001b[0m\u001b[0m\n",
      "\u001b[0;32m/home/elyha7/anaconda2/lib/python2.7/site-packages/sympy/matrices/matrices.pyc\u001b[0m in \u001b[0;36m_jordan_block_structure\u001b[0;34m(self)\u001b[0m\n\u001b[1;32m   3572\u001b[0m         \u001b[0mjordan_block_structures\u001b[0m \u001b[0;34m=\u001b[0m \u001b[0;34m{\u001b[0m\u001b[0;34m}\u001b[0m\u001b[0;34m\u001b[0m\u001b[0m\n\u001b[1;32m   3573\u001b[0m         \u001b[0m_eigenvects\u001b[0m \u001b[0;34m=\u001b[0m \u001b[0mself\u001b[0m\u001b[0;34m.\u001b[0m\u001b[0meigenvects\u001b[0m\u001b[0;34m(\u001b[0m\u001b[0;34m)\u001b[0m\u001b[0;34m\u001b[0m\u001b[0m\n\u001b[0;32m-> 3574\u001b[0;31m         \u001b[0mev\u001b[0m \u001b[0;34m=\u001b[0m \u001b[0mself\u001b[0m\u001b[0;34m.\u001b[0m\u001b[0meigenvals\u001b[0m\u001b[0;34m(\u001b[0m\u001b[0;34m)\u001b[0m\u001b[0;34m\u001b[0m\u001b[0m\n\u001b[0m\u001b[1;32m   3575\u001b[0m         \u001b[0;32mif\u001b[0m \u001b[0mlen\u001b[0m\u001b[0;34m(\u001b[0m\u001b[0mev\u001b[0m\u001b[0;34m)\u001b[0m \u001b[0;34m==\u001b[0m \u001b[0;36m0\u001b[0m\u001b[0;34m:\u001b[0m\u001b[0;34m\u001b[0m\u001b[0m\n\u001b[1;32m   3576\u001b[0m             \u001b[0;32mraise\u001b[0m \u001b[0mAttributeError\u001b[0m\u001b[0;34m(\u001b[0m\u001b[0;34m\"could not compute the eigenvalues\"\u001b[0m\u001b[0;34m)\u001b[0m\u001b[0;34m\u001b[0m\u001b[0m\n",
      "\u001b[0;32m/home/elyha7/anaconda2/lib/python2.7/site-packages/sympy/matrices/matrices.pyc\u001b[0m in \u001b[0;36meigenvals\u001b[0;34m(self, **flags)\u001b[0m\n\u001b[1;32m   3044\u001b[0m \u001b[0;34m\u001b[0m\u001b[0m\n\u001b[1;32m   3045\u001b[0m         \u001b[0mflags\u001b[0m\u001b[0;34m.\u001b[0m\u001b[0mpop\u001b[0m\u001b[0;34m(\u001b[0m\u001b[0;34m'simplify'\u001b[0m\u001b[0;34m,\u001b[0m \u001b[0mNone\u001b[0m\u001b[0;34m)\u001b[0m  \u001b[0;31m# pop unsupported flag\u001b[0m\u001b[0;34m\u001b[0m\u001b[0m\n\u001b[0;32m-> 3046\u001b[0;31m         \u001b[0;32mreturn\u001b[0m \u001b[0mmat\u001b[0m\u001b[0;34m.\u001b[0m\u001b[0mberkowitz_eigenvals\u001b[0m\u001b[0;34m(\u001b[0m\u001b[0;34m**\u001b[0m\u001b[0mflags\u001b[0m\u001b[0;34m)\u001b[0m\u001b[0;34m\u001b[0m\u001b[0m\n\u001b[0m\u001b[1;32m   3047\u001b[0m \u001b[0;34m\u001b[0m\u001b[0m\n\u001b[1;32m   3048\u001b[0m     \u001b[0;32mdef\u001b[0m \u001b[0meigenvects\u001b[0m\u001b[0;34m(\u001b[0m\u001b[0mself\u001b[0m\u001b[0;34m,\u001b[0m \u001b[0;34m**\u001b[0m\u001b[0mflags\u001b[0m\u001b[0;34m)\u001b[0m\u001b[0;34m:\u001b[0m\u001b[0;34m\u001b[0m\u001b[0m\n",
      "\u001b[0;32m/home/elyha7/anaconda2/lib/python2.7/site-packages/sympy/matrices/matrices.pyc\u001b[0m in \u001b[0;36mberkowitz_eigenvals\u001b[0;34m(self, **flags)\u001b[0m\n\u001b[1;32m   3025\u001b[0m         \u001b[0mberkowitz\u001b[0m\u001b[0;34m\u001b[0m\u001b[0m\n\u001b[1;32m   3026\u001b[0m         \"\"\"\n\u001b[0;32m-> 3027\u001b[0;31m         \u001b[0;32mreturn\u001b[0m \u001b[0mroots\u001b[0m\u001b[0;34m(\u001b[0m\u001b[0mself\u001b[0m\u001b[0;34m.\u001b[0m\u001b[0mberkowitz_charpoly\u001b[0m\u001b[0;34m(\u001b[0m\u001b[0mDummy\u001b[0m\u001b[0;34m(\u001b[0m\u001b[0;34m'x'\u001b[0m\u001b[0;34m)\u001b[0m\u001b[0;34m)\u001b[0m\u001b[0;34m,\u001b[0m \u001b[0;34m**\u001b[0m\u001b[0mflags\u001b[0m\u001b[0;34m)\u001b[0m\u001b[0;34m\u001b[0m\u001b[0m\n\u001b[0m\u001b[1;32m   3028\u001b[0m \u001b[0;34m\u001b[0m\u001b[0m\n\u001b[1;32m   3029\u001b[0m     \u001b[0;32mdef\u001b[0m \u001b[0meigenvals\u001b[0m\u001b[0;34m(\u001b[0m\u001b[0mself\u001b[0m\u001b[0;34m,\u001b[0m \u001b[0;34m**\u001b[0m\u001b[0mflags\u001b[0m\u001b[0;34m)\u001b[0m\u001b[0;34m:\u001b[0m\u001b[0;34m\u001b[0m\u001b[0m\n",
      "\u001b[0;32m/home/elyha7/anaconda2/lib/python2.7/site-packages/sympy/polys/polyroots.pyc\u001b[0m in \u001b[0;36mroots\u001b[0;34m(f, *gens, **flags)\u001b[0m\n\u001b[1;32m    996\u001b[0m                 \u001b[0m_update_dict\u001b[0m\u001b[0;34m(\u001b[0m\u001b[0mresult\u001b[0m\u001b[0;34m,\u001b[0m \u001b[0mr\u001b[0m\u001b[0;34m,\u001b[0m \u001b[0;36m1\u001b[0m\u001b[0;34m)\u001b[0m\u001b[0;34m\u001b[0m\u001b[0m\n\u001b[1;32m    997\u001b[0m         \u001b[0;32melse\u001b[0m\u001b[0;34m:\u001b[0m\u001b[0;34m\u001b[0m\u001b[0m\n\u001b[0;32m--> 998\u001b[0;31m             \u001b[0m_\u001b[0m\u001b[0;34m,\u001b[0m \u001b[0mfactors\u001b[0m \u001b[0;34m=\u001b[0m \u001b[0mPoly\u001b[0m\u001b[0;34m(\u001b[0m\u001b[0mf\u001b[0m\u001b[0;34m.\u001b[0m\u001b[0mas_expr\u001b[0m\u001b[0;34m(\u001b[0m\u001b[0;34m)\u001b[0m\u001b[0;34m)\u001b[0m\u001b[0;34m.\u001b[0m\u001b[0mfactor_list\u001b[0m\u001b[0;34m(\u001b[0m\u001b[0;34m)\u001b[0m\u001b[0;34m\u001b[0m\u001b[0m\n\u001b[0m\u001b[1;32m    999\u001b[0m             \u001b[0;32mif\u001b[0m \u001b[0mlen\u001b[0m\u001b[0;34m(\u001b[0m\u001b[0mfactors\u001b[0m\u001b[0;34m)\u001b[0m \u001b[0;34m==\u001b[0m \u001b[0;36m1\u001b[0m \u001b[0;32mand\u001b[0m \u001b[0mf\u001b[0m\u001b[0;34m.\u001b[0m\u001b[0mdegree\u001b[0m\u001b[0;34m(\u001b[0m\u001b[0;34m)\u001b[0m \u001b[0;34m==\u001b[0m \u001b[0;36m2\u001b[0m\u001b[0;34m:\u001b[0m\u001b[0;34m\u001b[0m\u001b[0m\n\u001b[1;32m   1000\u001b[0m                 \u001b[0;32mfor\u001b[0m \u001b[0mr\u001b[0m \u001b[0;32min\u001b[0m \u001b[0mroots_quadratic\u001b[0m\u001b[0;34m(\u001b[0m\u001b[0mf\u001b[0m\u001b[0;34m)\u001b[0m\u001b[0;34m:\u001b[0m\u001b[0;34m\u001b[0m\u001b[0m\n",
      "\u001b[0;32m/home/elyha7/anaconda2/lib/python2.7/site-packages/sympy/polys/polytools.pyc\u001b[0m in \u001b[0;36mfactor_list\u001b[0;34m(f)\u001b[0m\n\u001b[1;32m   3097\u001b[0m         \u001b[0;32mif\u001b[0m \u001b[0mhasattr\u001b[0m\u001b[0;34m(\u001b[0m\u001b[0mf\u001b[0m\u001b[0;34m.\u001b[0m\u001b[0mrep\u001b[0m\u001b[0;34m,\u001b[0m \u001b[0;34m'factor_list'\u001b[0m\u001b[0;34m)\u001b[0m\u001b[0;34m:\u001b[0m\u001b[0;34m\u001b[0m\u001b[0m\n\u001b[1;32m   3098\u001b[0m             \u001b[0;32mtry\u001b[0m\u001b[0;34m:\u001b[0m\u001b[0;34m\u001b[0m\u001b[0m\n\u001b[0;32m-> 3099\u001b[0;31m                 \u001b[0mcoeff\u001b[0m\u001b[0;34m,\u001b[0m \u001b[0mfactors\u001b[0m \u001b[0;34m=\u001b[0m \u001b[0mf\u001b[0m\u001b[0;34m.\u001b[0m\u001b[0mrep\u001b[0m\u001b[0;34m.\u001b[0m\u001b[0mfactor_list\u001b[0m\u001b[0;34m(\u001b[0m\u001b[0;34m)\u001b[0m\u001b[0;34m\u001b[0m\u001b[0m\n\u001b[0m\u001b[1;32m   3100\u001b[0m             \u001b[0;32mexcept\u001b[0m \u001b[0mDomainError\u001b[0m\u001b[0;34m:\u001b[0m\u001b[0;34m\u001b[0m\u001b[0m\n\u001b[1;32m   3101\u001b[0m                 \u001b[0;32mreturn\u001b[0m \u001b[0mS\u001b[0m\u001b[0;34m.\u001b[0m\u001b[0mOne\u001b[0m\u001b[0;34m,\u001b[0m \u001b[0;34m[\u001b[0m\u001b[0;34m(\u001b[0m\u001b[0mf\u001b[0m\u001b[0;34m,\u001b[0m \u001b[0;36m1\u001b[0m\u001b[0;34m)\u001b[0m\u001b[0;34m]\u001b[0m\u001b[0;34m\u001b[0m\u001b[0m\n",
      "\u001b[0;32m/home/elyha7/anaconda2/lib/python2.7/site-packages/sympy/polys/polyclasses.pyc\u001b[0m in \u001b[0;36mfactor_list\u001b[0;34m(f)\u001b[0m\n\u001b[1;32m    757\u001b[0m     \u001b[0;32mdef\u001b[0m \u001b[0mfactor_list\u001b[0m\u001b[0;34m(\u001b[0m\u001b[0mf\u001b[0m\u001b[0;34m)\u001b[0m\u001b[0;34m:\u001b[0m\u001b[0;34m\u001b[0m\u001b[0m\n\u001b[1;32m    758\u001b[0m         \u001b[0;34m\"\"\"Returns a list of irreducible factors of ``f``. \"\"\"\u001b[0m\u001b[0;34m\u001b[0m\u001b[0m\n\u001b[0;32m--> 759\u001b[0;31m         \u001b[0mcoeff\u001b[0m\u001b[0;34m,\u001b[0m \u001b[0mfactors\u001b[0m \u001b[0;34m=\u001b[0m \u001b[0mdmp_factor_list\u001b[0m\u001b[0;34m(\u001b[0m\u001b[0mf\u001b[0m\u001b[0;34m.\u001b[0m\u001b[0mrep\u001b[0m\u001b[0;34m,\u001b[0m \u001b[0mf\u001b[0m\u001b[0;34m.\u001b[0m\u001b[0mlev\u001b[0m\u001b[0;34m,\u001b[0m \u001b[0mf\u001b[0m\u001b[0;34m.\u001b[0m\u001b[0mdom\u001b[0m\u001b[0;34m)\u001b[0m\u001b[0;34m\u001b[0m\u001b[0m\n\u001b[0m\u001b[1;32m    760\u001b[0m         \u001b[0;32mreturn\u001b[0m \u001b[0mcoeff\u001b[0m\u001b[0;34m,\u001b[0m \u001b[0;34m[\u001b[0m \u001b[0;34m(\u001b[0m\u001b[0mf\u001b[0m\u001b[0;34m.\u001b[0m\u001b[0mper\u001b[0m\u001b[0;34m(\u001b[0m\u001b[0mg\u001b[0m\u001b[0;34m)\u001b[0m\u001b[0;34m,\u001b[0m \u001b[0mk\u001b[0m\u001b[0;34m)\u001b[0m \u001b[0;32mfor\u001b[0m \u001b[0mg\u001b[0m\u001b[0;34m,\u001b[0m \u001b[0mk\u001b[0m \u001b[0;32min\u001b[0m \u001b[0mfactors\u001b[0m \u001b[0;34m]\u001b[0m\u001b[0;34m\u001b[0m\u001b[0m\n\u001b[1;32m    761\u001b[0m \u001b[0;34m\u001b[0m\u001b[0m\n",
      "\u001b[0;32m/home/elyha7/anaconda2/lib/python2.7/site-packages/sympy/polys/factortools.pyc\u001b[0m in \u001b[0;36mdmp_factor_list\u001b[0;34m(f, u, K0)\u001b[0m\n\u001b[1;32m   1277\u001b[0m         \u001b[0;32mif\u001b[0m \u001b[0mK\u001b[0m\u001b[0;34m.\u001b[0m\u001b[0mis_ZZ\u001b[0m\u001b[0;34m:\u001b[0m\u001b[0;34m\u001b[0m\u001b[0m\n\u001b[1;32m   1278\u001b[0m             \u001b[0mlevels\u001b[0m\u001b[0;34m,\u001b[0m \u001b[0mf\u001b[0m\u001b[0;34m,\u001b[0m \u001b[0mv\u001b[0m \u001b[0;34m=\u001b[0m \u001b[0mdmp_exclude\u001b[0m\u001b[0;34m(\u001b[0m\u001b[0mf\u001b[0m\u001b[0;34m,\u001b[0m \u001b[0mu\u001b[0m\u001b[0;34m,\u001b[0m \u001b[0mK\u001b[0m\u001b[0;34m)\u001b[0m\u001b[0;34m\u001b[0m\u001b[0m\n\u001b[0;32m-> 1279\u001b[0;31m             \u001b[0mcoeff\u001b[0m\u001b[0;34m,\u001b[0m \u001b[0mfactors\u001b[0m \u001b[0;34m=\u001b[0m \u001b[0mdmp_zz_factor\u001b[0m\u001b[0;34m(\u001b[0m\u001b[0mf\u001b[0m\u001b[0;34m,\u001b[0m \u001b[0mv\u001b[0m\u001b[0;34m,\u001b[0m \u001b[0mK\u001b[0m\u001b[0;34m)\u001b[0m\u001b[0;34m\u001b[0m\u001b[0m\n\u001b[0m\u001b[1;32m   1280\u001b[0m \u001b[0;34m\u001b[0m\u001b[0m\n\u001b[1;32m   1281\u001b[0m             \u001b[0;32mfor\u001b[0m \u001b[0mi\u001b[0m\u001b[0;34m,\u001b[0m \u001b[0;34m(\u001b[0m\u001b[0mf\u001b[0m\u001b[0;34m,\u001b[0m \u001b[0mk\u001b[0m\u001b[0;34m)\u001b[0m \u001b[0;32min\u001b[0m \u001b[0menumerate\u001b[0m\u001b[0;34m(\u001b[0m\u001b[0mfactors\u001b[0m\u001b[0;34m)\u001b[0m\u001b[0;34m:\u001b[0m\u001b[0;34m\u001b[0m\u001b[0m\n",
      "\u001b[0;32m/home/elyha7/anaconda2/lib/python2.7/site-packages/sympy/polys/factortools.pyc\u001b[0m in \u001b[0;36mdmp_zz_factor\u001b[0;34m(f, u, K)\u001b[0m\n\u001b[1;32m   1089\u001b[0m     \u001b[0;32mif\u001b[0m \u001b[0mdmp_degree\u001b[0m\u001b[0;34m(\u001b[0m\u001b[0mg\u001b[0m\u001b[0;34m,\u001b[0m \u001b[0mu\u001b[0m\u001b[0;34m)\u001b[0m \u001b[0;34m>\u001b[0m \u001b[0;36m0\u001b[0m\u001b[0;34m:\u001b[0m\u001b[0;34m\u001b[0m\u001b[0m\n\u001b[1;32m   1090\u001b[0m         \u001b[0mg\u001b[0m \u001b[0;34m=\u001b[0m \u001b[0mdmp_sqf_part\u001b[0m\u001b[0;34m(\u001b[0m\u001b[0mg\u001b[0m\u001b[0;34m,\u001b[0m \u001b[0mu\u001b[0m\u001b[0;34m,\u001b[0m \u001b[0mK\u001b[0m\u001b[0;34m)\u001b[0m\u001b[0;34m\u001b[0m\u001b[0m\n\u001b[0;32m-> 1091\u001b[0;31m         \u001b[0mH\u001b[0m \u001b[0;34m=\u001b[0m \u001b[0mdmp_zz_wang\u001b[0m\u001b[0;34m(\u001b[0m\u001b[0mg\u001b[0m\u001b[0;34m,\u001b[0m \u001b[0mu\u001b[0m\u001b[0;34m,\u001b[0m \u001b[0mK\u001b[0m\u001b[0;34m)\u001b[0m\u001b[0;34m\u001b[0m\u001b[0m\n\u001b[0m\u001b[1;32m   1092\u001b[0m         \u001b[0mfactors\u001b[0m \u001b[0;34m=\u001b[0m \u001b[0mdmp_trial_division\u001b[0m\u001b[0;34m(\u001b[0m\u001b[0mf\u001b[0m\u001b[0;34m,\u001b[0m \u001b[0mH\u001b[0m\u001b[0;34m,\u001b[0m \u001b[0mu\u001b[0m\u001b[0;34m,\u001b[0m \u001b[0mK\u001b[0m\u001b[0;34m)\u001b[0m\u001b[0;34m\u001b[0m\u001b[0m\n\u001b[1;32m   1093\u001b[0m \u001b[0;34m\u001b[0m\u001b[0m\n",
      "\u001b[0;32m/home/elyha7/anaconda2/lib/python2.7/site-packages/sympy/polys/factortools.pyc\u001b[0m in \u001b[0;36mdmp_zz_wang\u001b[0;34m(f, u, K, mod, seed)\u001b[0m\n\u001b[1;32m   1023\u001b[0m \u001b[0;34m\u001b[0m\u001b[0m\n\u001b[1;32m   1024\u001b[0m     \u001b[0;32mfor\u001b[0m \u001b[0mf\u001b[0m \u001b[0;32min\u001b[0m \u001b[0mfactors\u001b[0m\u001b[0;34m:\u001b[0m\u001b[0;34m\u001b[0m\u001b[0m\n\u001b[0;32m-> 1025\u001b[0;31m         \u001b[0m_\u001b[0m\u001b[0;34m,\u001b[0m \u001b[0mf\u001b[0m \u001b[0;34m=\u001b[0m \u001b[0mdmp_ground_primitive\u001b[0m\u001b[0;34m(\u001b[0m\u001b[0mf\u001b[0m\u001b[0;34m,\u001b[0m \u001b[0mu\u001b[0m\u001b[0;34m,\u001b[0m \u001b[0mK\u001b[0m\u001b[0;34m)\u001b[0m\u001b[0;34m\u001b[0m\u001b[0m\n\u001b[0m\u001b[1;32m   1026\u001b[0m \u001b[0;34m\u001b[0m\u001b[0m\n\u001b[1;32m   1027\u001b[0m         \u001b[0;32mif\u001b[0m \u001b[0mK\u001b[0m\u001b[0;34m.\u001b[0m\u001b[0mis_negative\u001b[0m\u001b[0;34m(\u001b[0m\u001b[0mdmp_ground_LC\u001b[0m\u001b[0;34m(\u001b[0m\u001b[0mf\u001b[0m\u001b[0;34m,\u001b[0m \u001b[0mu\u001b[0m\u001b[0;34m,\u001b[0m \u001b[0mK\u001b[0m\u001b[0;34m)\u001b[0m\u001b[0;34m)\u001b[0m\u001b[0;34m:\u001b[0m\u001b[0;34m\u001b[0m\u001b[0m\n",
      "\u001b[0;32m/home/elyha7/anaconda2/lib/python2.7/site-packages/sympy/polys/densetools.pyc\u001b[0m in \u001b[0;36mdmp_ground_primitive\u001b[0;34m(f, u, K)\u001b[0m\n\u001b[1;32m    722\u001b[0m         \u001b[0;32mreturn\u001b[0m \u001b[0mK\u001b[0m\u001b[0;34m.\u001b[0m\u001b[0mzero\u001b[0m\u001b[0;34m,\u001b[0m \u001b[0mf\u001b[0m\u001b[0;34m\u001b[0m\u001b[0m\n\u001b[1;32m    723\u001b[0m \u001b[0;34m\u001b[0m\u001b[0m\n\u001b[0;32m--> 724\u001b[0;31m     \u001b[0mcont\u001b[0m \u001b[0;34m=\u001b[0m \u001b[0mdmp_ground_content\u001b[0m\u001b[0;34m(\u001b[0m\u001b[0mf\u001b[0m\u001b[0;34m,\u001b[0m \u001b[0mu\u001b[0m\u001b[0;34m,\u001b[0m \u001b[0mK\u001b[0m\u001b[0;34m)\u001b[0m\u001b[0;34m\u001b[0m\u001b[0m\n\u001b[0m\u001b[1;32m    725\u001b[0m \u001b[0;34m\u001b[0m\u001b[0m\n\u001b[1;32m    726\u001b[0m     \u001b[0;32mif\u001b[0m \u001b[0mK\u001b[0m\u001b[0;34m.\u001b[0m\u001b[0mis_one\u001b[0m\u001b[0;34m(\u001b[0m\u001b[0mcont\u001b[0m\u001b[0;34m)\u001b[0m\u001b[0;34m:\u001b[0m\u001b[0;34m\u001b[0m\u001b[0m\n",
      "\u001b[0;32m/home/elyha7/anaconda2/lib/python2.7/site-packages/sympy/polys/densetools.pyc\u001b[0m in \u001b[0;36mdmp_ground_content\u001b[0;34m(f, u, K)\u001b[0m\n\u001b[1;32m    653\u001b[0m     \u001b[0;32melse\u001b[0m\u001b[0;34m:\u001b[0m\u001b[0;34m\u001b[0m\u001b[0m\n\u001b[1;32m    654\u001b[0m         \u001b[0;32mfor\u001b[0m \u001b[0mc\u001b[0m \u001b[0;32min\u001b[0m \u001b[0mf\u001b[0m\u001b[0;34m:\u001b[0m\u001b[0;34m\u001b[0m\u001b[0m\n\u001b[0;32m--> 655\u001b[0;31m             \u001b[0mcont\u001b[0m \u001b[0;34m=\u001b[0m \u001b[0mK\u001b[0m\u001b[0;34m.\u001b[0m\u001b[0mgcd\u001b[0m\u001b[0;34m(\u001b[0m\u001b[0mcont\u001b[0m\u001b[0;34m,\u001b[0m \u001b[0mdmp_ground_content\u001b[0m\u001b[0;34m(\u001b[0m\u001b[0mc\u001b[0m\u001b[0;34m,\u001b[0m \u001b[0mv\u001b[0m\u001b[0;34m,\u001b[0m \u001b[0mK\u001b[0m\u001b[0;34m)\u001b[0m\u001b[0;34m)\u001b[0m\u001b[0;34m\u001b[0m\u001b[0m\n\u001b[0m\u001b[1;32m    656\u001b[0m \u001b[0;34m\u001b[0m\u001b[0m\n\u001b[1;32m    657\u001b[0m             \u001b[0;32mif\u001b[0m \u001b[0mK\u001b[0m\u001b[0;34m.\u001b[0m\u001b[0mis_one\u001b[0m\u001b[0;34m(\u001b[0m\u001b[0mcont\u001b[0m\u001b[0;34m)\u001b[0m\u001b[0;34m:\u001b[0m\u001b[0;34m\u001b[0m\u001b[0m\n",
      "\u001b[0;32m/home/elyha7/anaconda2/lib/python2.7/site-packages/sympy/polys/densetools.pyc\u001b[0m in \u001b[0;36mdmp_ground_content\u001b[0;34m(f, u, K)\u001b[0m\n\u001b[1;32m    653\u001b[0m     \u001b[0;32melse\u001b[0m\u001b[0;34m:\u001b[0m\u001b[0;34m\u001b[0m\u001b[0m\n\u001b[1;32m    654\u001b[0m         \u001b[0;32mfor\u001b[0m \u001b[0mc\u001b[0m \u001b[0;32min\u001b[0m \u001b[0mf\u001b[0m\u001b[0;34m:\u001b[0m\u001b[0;34m\u001b[0m\u001b[0m\n\u001b[0;32m--> 655\u001b[0;31m             \u001b[0mcont\u001b[0m \u001b[0;34m=\u001b[0m \u001b[0mK\u001b[0m\u001b[0;34m.\u001b[0m\u001b[0mgcd\u001b[0m\u001b[0;34m(\u001b[0m\u001b[0mcont\u001b[0m\u001b[0;34m,\u001b[0m \u001b[0mdmp_ground_content\u001b[0m\u001b[0;34m(\u001b[0m\u001b[0mc\u001b[0m\u001b[0;34m,\u001b[0m \u001b[0mv\u001b[0m\u001b[0;34m,\u001b[0m \u001b[0mK\u001b[0m\u001b[0;34m)\u001b[0m\u001b[0;34m)\u001b[0m\u001b[0;34m\u001b[0m\u001b[0m\n\u001b[0m\u001b[1;32m    656\u001b[0m \u001b[0;34m\u001b[0m\u001b[0m\n\u001b[1;32m    657\u001b[0m             \u001b[0;32mif\u001b[0m \u001b[0mK\u001b[0m\u001b[0;34m.\u001b[0m\u001b[0mis_one\u001b[0m\u001b[0;34m(\u001b[0m\u001b[0mcont\u001b[0m\u001b[0;34m)\u001b[0m\u001b[0;34m:\u001b[0m\u001b[0;34m\u001b[0m\u001b[0m\n",
      "\u001b[0;32m/home/elyha7/anaconda2/lib/python2.7/site-packages/sympy/polys/densetools.pyc\u001b[0m in \u001b[0;36mdmp_ground_content\u001b[0;34m(f, u, K)\u001b[0m\n\u001b[1;32m    653\u001b[0m     \u001b[0;32melse\u001b[0m\u001b[0;34m:\u001b[0m\u001b[0;34m\u001b[0m\u001b[0m\n\u001b[1;32m    654\u001b[0m         \u001b[0;32mfor\u001b[0m \u001b[0mc\u001b[0m \u001b[0;32min\u001b[0m \u001b[0mf\u001b[0m\u001b[0;34m:\u001b[0m\u001b[0;34m\u001b[0m\u001b[0m\n\u001b[0;32m--> 655\u001b[0;31m             \u001b[0mcont\u001b[0m \u001b[0;34m=\u001b[0m \u001b[0mK\u001b[0m\u001b[0;34m.\u001b[0m\u001b[0mgcd\u001b[0m\u001b[0;34m(\u001b[0m\u001b[0mcont\u001b[0m\u001b[0;34m,\u001b[0m \u001b[0mdmp_ground_content\u001b[0m\u001b[0;34m(\u001b[0m\u001b[0mc\u001b[0m\u001b[0;34m,\u001b[0m \u001b[0mv\u001b[0m\u001b[0;34m,\u001b[0m \u001b[0mK\u001b[0m\u001b[0;34m)\u001b[0m\u001b[0;34m)\u001b[0m\u001b[0;34m\u001b[0m\u001b[0m\n\u001b[0m\u001b[1;32m    656\u001b[0m \u001b[0;34m\u001b[0m\u001b[0m\n\u001b[1;32m    657\u001b[0m             \u001b[0;32mif\u001b[0m \u001b[0mK\u001b[0m\u001b[0;34m.\u001b[0m\u001b[0mis_one\u001b[0m\u001b[0;34m(\u001b[0m\u001b[0mcont\u001b[0m\u001b[0;34m)\u001b[0m\u001b[0;34m:\u001b[0m\u001b[0;34m\u001b[0m\u001b[0m\n",
      "\u001b[0;32m/home/elyha7/anaconda2/lib/python2.7/site-packages/sympy/polys/densetools.pyc\u001b[0m in \u001b[0;36mdmp_ground_content\u001b[0;34m(f, u, K)\u001b[0m\n\u001b[1;32m    653\u001b[0m     \u001b[0;32melse\u001b[0m\u001b[0;34m:\u001b[0m\u001b[0;34m\u001b[0m\u001b[0m\n\u001b[1;32m    654\u001b[0m         \u001b[0;32mfor\u001b[0m \u001b[0mc\u001b[0m \u001b[0;32min\u001b[0m \u001b[0mf\u001b[0m\u001b[0;34m:\u001b[0m\u001b[0;34m\u001b[0m\u001b[0m\n\u001b[0;32m--> 655\u001b[0;31m             \u001b[0mcont\u001b[0m \u001b[0;34m=\u001b[0m \u001b[0mK\u001b[0m\u001b[0;34m.\u001b[0m\u001b[0mgcd\u001b[0m\u001b[0;34m(\u001b[0m\u001b[0mcont\u001b[0m\u001b[0;34m,\u001b[0m \u001b[0mdmp_ground_content\u001b[0m\u001b[0;34m(\u001b[0m\u001b[0mc\u001b[0m\u001b[0;34m,\u001b[0m \u001b[0mv\u001b[0m\u001b[0;34m,\u001b[0m \u001b[0mK\u001b[0m\u001b[0;34m)\u001b[0m\u001b[0;34m)\u001b[0m\u001b[0;34m\u001b[0m\u001b[0m\n\u001b[0m\u001b[1;32m    656\u001b[0m \u001b[0;34m\u001b[0m\u001b[0m\n\u001b[1;32m    657\u001b[0m             \u001b[0;32mif\u001b[0m \u001b[0mK\u001b[0m\u001b[0;34m.\u001b[0m\u001b[0mis_one\u001b[0m\u001b[0;34m(\u001b[0m\u001b[0mcont\u001b[0m\u001b[0;34m)\u001b[0m\u001b[0;34m:\u001b[0m\u001b[0;34m\u001b[0m\u001b[0m\n",
      "\u001b[0;32m/home/elyha7/anaconda2/lib/python2.7/site-packages/sympy/polys/densetools.pyc\u001b[0m in \u001b[0;36mdmp_ground_content\u001b[0;34m(f, u, K)\u001b[0m\n\u001b[1;32m    653\u001b[0m     \u001b[0;32melse\u001b[0m\u001b[0;34m:\u001b[0m\u001b[0;34m\u001b[0m\u001b[0m\n\u001b[1;32m    654\u001b[0m         \u001b[0;32mfor\u001b[0m \u001b[0mc\u001b[0m \u001b[0;32min\u001b[0m \u001b[0mf\u001b[0m\u001b[0;34m:\u001b[0m\u001b[0;34m\u001b[0m\u001b[0m\n\u001b[0;32m--> 655\u001b[0;31m             \u001b[0mcont\u001b[0m \u001b[0;34m=\u001b[0m \u001b[0mK\u001b[0m\u001b[0;34m.\u001b[0m\u001b[0mgcd\u001b[0m\u001b[0;34m(\u001b[0m\u001b[0mcont\u001b[0m\u001b[0;34m,\u001b[0m \u001b[0mdmp_ground_content\u001b[0m\u001b[0;34m(\u001b[0m\u001b[0mc\u001b[0m\u001b[0;34m,\u001b[0m \u001b[0mv\u001b[0m\u001b[0;34m,\u001b[0m \u001b[0mK\u001b[0m\u001b[0;34m)\u001b[0m\u001b[0;34m)\u001b[0m\u001b[0;34m\u001b[0m\u001b[0m\n\u001b[0m\u001b[1;32m    656\u001b[0m \u001b[0;34m\u001b[0m\u001b[0m\n\u001b[1;32m    657\u001b[0m             \u001b[0;32mif\u001b[0m \u001b[0mK\u001b[0m\u001b[0;34m.\u001b[0m\u001b[0mis_one\u001b[0m\u001b[0;34m(\u001b[0m\u001b[0mcont\u001b[0m\u001b[0;34m)\u001b[0m\u001b[0;34m:\u001b[0m\u001b[0;34m\u001b[0m\u001b[0m\n",
      "\u001b[0;32m/home/elyha7/anaconda2/lib/python2.7/site-packages/sympy/polys/densetools.pyc\u001b[0m in \u001b[0;36mdmp_ground_content\u001b[0;34m(f, u, K)\u001b[0m\n\u001b[1;32m    653\u001b[0m     \u001b[0;32melse\u001b[0m\u001b[0;34m:\u001b[0m\u001b[0;34m\u001b[0m\u001b[0m\n\u001b[1;32m    654\u001b[0m         \u001b[0;32mfor\u001b[0m \u001b[0mc\u001b[0m \u001b[0;32min\u001b[0m \u001b[0mf\u001b[0m\u001b[0;34m:\u001b[0m\u001b[0;34m\u001b[0m\u001b[0m\n\u001b[0;32m--> 655\u001b[0;31m             \u001b[0mcont\u001b[0m \u001b[0;34m=\u001b[0m \u001b[0mK\u001b[0m\u001b[0;34m.\u001b[0m\u001b[0mgcd\u001b[0m\u001b[0;34m(\u001b[0m\u001b[0mcont\u001b[0m\u001b[0;34m,\u001b[0m \u001b[0mdmp_ground_content\u001b[0m\u001b[0;34m(\u001b[0m\u001b[0mc\u001b[0m\u001b[0;34m,\u001b[0m \u001b[0mv\u001b[0m\u001b[0;34m,\u001b[0m \u001b[0mK\u001b[0m\u001b[0;34m)\u001b[0m\u001b[0;34m)\u001b[0m\u001b[0;34m\u001b[0m\u001b[0m\n\u001b[0m\u001b[1;32m    656\u001b[0m \u001b[0;34m\u001b[0m\u001b[0m\n\u001b[1;32m    657\u001b[0m             \u001b[0;32mif\u001b[0m \u001b[0mK\u001b[0m\u001b[0;34m.\u001b[0m\u001b[0mis_one\u001b[0m\u001b[0;34m(\u001b[0m\u001b[0mcont\u001b[0m\u001b[0;34m)\u001b[0m\u001b[0;34m:\u001b[0m\u001b[0;34m\u001b[0m\u001b[0m\n",
      "\u001b[0;32m/home/elyha7/anaconda2/lib/python2.7/site-packages/sympy/polys/domains/pythonintegerring.pyc\u001b[0m in \u001b[0;36mgcd\u001b[0;34m(self, a, b)\u001b[0m\n\u001b[1;32m     76\u001b[0m     \u001b[0;32mdef\u001b[0m \u001b[0mgcd\u001b[0m\u001b[0;34m(\u001b[0m\u001b[0mself\u001b[0m\u001b[0;34m,\u001b[0m \u001b[0ma\u001b[0m\u001b[0;34m,\u001b[0m \u001b[0mb\u001b[0m\u001b[0;34m)\u001b[0m\u001b[0;34m:\u001b[0m\u001b[0;34m\u001b[0m\u001b[0m\n\u001b[1;32m     77\u001b[0m         \u001b[0;34m\"\"\"Compute GCD of ``a`` and ``b``. \"\"\"\u001b[0m\u001b[0;34m\u001b[0m\u001b[0m\n\u001b[0;32m---> 78\u001b[0;31m         \u001b[0;32mreturn\u001b[0m \u001b[0mpython_gcd\u001b[0m\u001b[0;34m(\u001b[0m\u001b[0ma\u001b[0m\u001b[0;34m,\u001b[0m \u001b[0mb\u001b[0m\u001b[0;34m)\u001b[0m\u001b[0;34m\u001b[0m\u001b[0m\n\u001b[0m\u001b[1;32m     79\u001b[0m \u001b[0;34m\u001b[0m\u001b[0m\n\u001b[1;32m     80\u001b[0m     \u001b[0;32mdef\u001b[0m \u001b[0mlcm\u001b[0m\u001b[0;34m(\u001b[0m\u001b[0mself\u001b[0m\u001b[0;34m,\u001b[0m \u001b[0ma\u001b[0m\u001b[0;34m,\u001b[0m \u001b[0mb\u001b[0m\u001b[0;34m)\u001b[0m\u001b[0;34m:\u001b[0m\u001b[0;34m\u001b[0m\u001b[0m\n",
      "\u001b[0;32m/home/elyha7/anaconda2/lib/python2.7/site-packages/sympy/core/numbers.pyc\u001b[0m in \u001b[0;36migcd\u001b[0;34m(*args)\u001b[0m\n\u001b[1;32m    159\u001b[0m     \u001b[0;32mfor\u001b[0m \u001b[0mb\u001b[0m \u001b[0;32min\u001b[0m \u001b[0margs\u001b[0m\u001b[0;34m[\u001b[0m\u001b[0;36m1\u001b[0m\u001b[0;34m:\u001b[0m\u001b[0;34m]\u001b[0m\u001b[0;34m:\u001b[0m\u001b[0;34m\u001b[0m\u001b[0m\n\u001b[1;32m    160\u001b[0m         \u001b[0;32mtry\u001b[0m\u001b[0;34m:\u001b[0m\u001b[0;34m\u001b[0m\u001b[0m\n\u001b[0;32m--> 161\u001b[0;31m             \u001b[0ma\u001b[0m \u001b[0;34m=\u001b[0m \u001b[0m_gcdcache\u001b[0m\u001b[0;34m[\u001b[0m\u001b[0;34m(\u001b[0m\u001b[0ma\u001b[0m\u001b[0;34m,\u001b[0m \u001b[0mb\u001b[0m\u001b[0;34m)\u001b[0m\u001b[0;34m]\u001b[0m\u001b[0;34m\u001b[0m\u001b[0m\n\u001b[0m\u001b[1;32m    162\u001b[0m         \u001b[0;32mexcept\u001b[0m \u001b[0mKeyError\u001b[0m\u001b[0;34m:\u001b[0m\u001b[0;34m\u001b[0m\u001b[0m\n\u001b[1;32m    163\u001b[0m             \u001b[0ma\u001b[0m\u001b[0;34m,\u001b[0m \u001b[0mb\u001b[0m \u001b[0;34m=\u001b[0m \u001b[0mas_int\u001b[0m\u001b[0;34m(\u001b[0m\u001b[0ma\u001b[0m\u001b[0;34m)\u001b[0m\u001b[0;34m,\u001b[0m \u001b[0mas_int\u001b[0m\u001b[0;34m(\u001b[0m\u001b[0mb\u001b[0m\u001b[0;34m)\u001b[0m\u001b[0;34m\u001b[0m\u001b[0m\n",
      "\u001b[0;31mKeyboardInterrupt\u001b[0m: "
     ]
    }
   ],
   "source": [
    "accuracies = []\n",
    "inits = None #wanna use default, chosen inside of the __init__ method\n",
    "inits = [['spatial', None], ['equal_[0,1]', None], ['ones', 'i==j'], \n",
    "                     ['-ones', 'i!=j']]\n",
    "         \n",
    "monitor = {} # dict with names of objects to record and their parameters\n",
    "monitor['G_pos'] = [['a','I_inp', 'I', 'I_intr',], 1*ms, True]\n",
    "monitor['G_neg'] = [['a','I_inp'], 1*ms, True]\n",
    "monitor['H_pos'] = [['a','I_inp', 'I', 'I_intr'], 1*ms, True]\n",
    "monitor['H_neg'] = [['a','I_inp'], 1*ms, True]\n",
    "#monitor['M'] = [['a'], 1*ms, True]\n",
    "#monitor['Input_weights'] = [['w'], 25*ms, True]\n",
    "#monitor['Intrinsic_weights'] = [['w'], 25*ms, True]\n",
    "#monitor['Output_weights'] = [['w','w_rec'], 25*ms, True]\n",
    "#monitor['Intrinsic_output_weights'] = [['w'], 25*ms, True]\n",
    "\n",
    "n_hidden = 25\n",
    "n_hidden_neg=n_hidden/4\n",
    "classes = int(len(set(y)))\n",
    "\n",
    "        \n",
    "params_set = {'lr': 0.1, \n",
    "              'lr_intr': 0.1,  \n",
    "              'c_inp': 0.1, \n",
    "              'c_intr': 30., \n",
    "              'c_diff': 1.15,\n",
    "              'beta': 150. * msecond, \n",
    "              'alpha': 20. * msecond, \n",
    "              'Teacher_amplitude': 100.0,\n",
    "              'decay_time': 100000*ms,\n",
    "             }\n",
    "\n",
    "for j in np.arange(100):\n",
    "    \n",
    "    params_set['alpha'] = np.random.choice([10, 15, 20, 25, 30])*ms\n",
    "    params_set['beta'] = params_set['alpha'] * 8\n",
    "    params_set['lr'] = 0.1\n",
    "    params_set['lr_intr'] = 0.1\n",
    "    params_set['c_inp'] = np.random.choice([0.1, 0.3, 0.5, 0.75, 1.0])\n",
    "    params_set['c_intr'] = np.random.choice([0.1, 0.3, 0.5, 0.75, 1.0])\n",
    "    params_set['c_diff'] = np.random.choice([1.0])\n",
    "    params_set['Teacher_amplitude'] = c_inp*np.random.choice([15,25,50,30,5])\n",
    "    params_set['decay_time'] = np.random.choice([10000, 3300, 15000])*ms\n",
    "    \n",
    "    params_to_optimize = params_set\n",
    "    \n",
    "    NN = DeepSpatialPerceptron(X, y, params_to_optimize, \n",
    "                          time_step=time_step, \n",
    "                          time_per_image=time_per_image,\n",
    "                          inits=inits, \n",
    "                          monitor=monitor, \n",
    "                          mod=True, \n",
    "                          high_verbosity=False,\n",
    "                          web=False)\n",
    "    \n",
    "    print ('SIMULATION', j, params_to_optimize)\n",
    "    NN.mod = True\n",
    "    print('train')\n",
    "    NN.run(20000*ms) #100\n",
    "    NN.mod = False\n",
    "    print('test')\n",
    "    NN.run(20000*ms) #100\n",
    "    tries = [accuracy_score(NN.shown_labels[-100:], NN.predictions[-100:]), params_to_optimize]\n",
    "    accuracies.append(tries)\n",
    "    #accuracies.append(accuracy_score(NN.shown_labels[-100:], NN.predictions[-100:]))\n",
    "    print (accuracies[-1][0])\n",
    "    \n",
    "accs = []\n",
    "for acc in accuracies:\n",
    "    accs.append(acc[0])\n",
    "\n",
    "print('best', accuracies[np.argmax(accs)])"
   ]
  },
  {
   "cell_type": "code",
   "execution_count": null,
   "metadata": {
    "collapsed": false
   },
   "outputs": [],
   "source": [
    "NN.plot_3D_network([[NN.P, NN.G_pos, NN.input_syn], \n",
    "                    [NN.M, NN.G_pos, NN.input_inverse_syn]])\n",
    "\n",
    "plt.figure(figsize=(8,8))\n",
    "plt.scatter(np.array(NN.P.x), np.array(NN.P.y))\n",
    "plt.show()\n",
    "\n",
    "plt.figure(figsize=(8,8))\n",
    "plt.scatter(np.array(NN.G_pos.x), np.array(NN.G_pos.y))\n",
    "plt.show()\n",
    "        \n",
    "plt.figure()\n",
    "plt.hist(np.array(NN.input_syn.w),bins=20)\n",
    "plt.ylim(0,10000)\n",
    "plt.show()\n",
    "\n",
    "plt.figure()\n",
    "plt.hist(np.array(NN.output_syn.w),bins=20)\n",
    "plt.show()"
   ]
  },
  {
   "cell_type": "code",
   "execution_count": null,
   "metadata": {
    "collapsed": false,
    "scrolled": false
   },
   "outputs": [],
   "source": [
    "NN.imshow_forward_weights('G_pos', 10, 10, 28, 28)\n",
    "NN.imshow_forward_weights('H_pos', 5, 2, 10, 10)\n",
    "#NN.imshow_reciprocal_weights('H', 5, 2, 6, 5, delta=True)"
   ]
  },
  {
   "cell_type": "code",
   "execution_count": null,
   "metadata": {
    "collapsed": false,
    "scrolled": true
   },
   "outputs": [],
   "source": [
    "NN.plot_H_pos(monitor['H_pos'][0], NN.StateMonitorH_pos.t/ms, np.arange(len(NN.H_pos)))"
   ]
  },
  {
   "cell_type": "code",
   "execution_count": null,
   "metadata": {
    "collapsed": false
   },
   "outputs": [],
   "source": [
    "#NN.plot_H_neg(monitor['H_neg'][0], NN.StateMonitorH_neg.t/ms, np.arange(len(NN.H_neg)))\n",
    "NN.plot_H_neg(monitor['H_neg'][0], np.arange(12000,14000), np.arange(len(NN.H_neg)))"
   ]
  },
  {
   "cell_type": "code",
   "execution_count": null,
   "metadata": {
    "collapsed": false
   },
   "outputs": [],
   "source": [
    "NN.plot_G_pos(monitor['G_pos'][0], NN.StateMonitorG_pos.t/ms, np.arange(len(NN.G_pos)))"
   ]
  },
  {
   "cell_type": "code",
   "execution_count": null,
   "metadata": {
    "collapsed": false,
    "scrolled": true
   },
   "outputs": [],
   "source": [
    "NN.plot_G_neg(monitor['G_neg'][0], NN.StateMonitorG_neg.t/ms, np.arange(len(NN.G_neg)))"
   ]
  },
  {
   "cell_type": "code",
   "execution_count": null,
   "metadata": {
    "collapsed": true,
    "scrolled": true
   },
   "outputs": [],
   "source": [
    "NN.plot_3D_network([[NN.M, NN.G_pos, NN.input_inverse_syn]])\n",
    "                             #[NN.M, NN.G_pos, NN.input_inverse_syn], \n",
    "                             #[NN.G_pos, NN.H, NN.output_syn]])"
   ]
  },
  {
   "cell_type": "code",
   "execution_count": null,
   "metadata": {
    "collapsed": true
   },
   "outputs": [],
   "source": [
    "NN.imshow_intrinsic_weights('G', 6, 5, 6, 5)\n",
    "NN.imshow_intrinsic_weights('H', 5, 2, 5, 2)"
   ]
  },
  {
   "cell_type": "code",
   "execution_count": null,
   "metadata": {
    "collapsed": true,
    "scrolled": false
   },
   "outputs": [],
   "source": [
    "NN.plot_weights('Input_weights',NN.SynapseMonitorInput.t/ms, np.arange(100))\n",
    "NN.plot_weights('Intrinsic_weights',NN.SynapseMonitorIntrinsic.t/ms, np.arange(100))\n",
    "NN.plot_weights('Output_weights',NN.SynapseMonitorOutput.t/ms, np.arange(len(NN.output_syn)))\n",
    "NN.plot_weights('Reciprocal_weights',NN.SynapseMonitorOutput.t/ms, np.arange(len(NN.output_syn)))\n",
    "NN.plot_weights('Intrinsic_output_weights',NN.SynapseMonitorOutput.t/ms, np.arange(len(NN.H)))"
   ]
  },
  {
   "cell_type": "code",
   "execution_count": null,
   "metadata": {
    "collapsed": true
   },
   "outputs": [],
   "source": []
  },
  {
   "cell_type": "code",
   "execution_count": null,
   "metadata": {
    "collapsed": false
   },
   "outputs": [],
   "source": [
    "np.array([5,4,3,2,1])/np.array([1,2,3,4,5])"
   ]
  },
  {
   "cell_type": "code",
   "execution_count": null,
   "metadata": {
    "collapsed": false
   },
   "outputs": [],
   "source": [
    "print(np.mean(NN.input_inverse_syn.distance))"
   ]
  },
  {
   "cell_type": "code",
   "execution_count": null,
   "metadata": {
    "collapsed": true
   },
   "outputs": [],
   "source": []
  }
 ],
 "metadata": {
  "anaconda-cloud": {},
  "kernelspec": {
   "display_name": "Python [conda root]",
   "language": "python",
   "name": "conda-root-py"
  },
  "language_info": {
   "codemirror_mode": {
    "name": "ipython",
    "version": 2
   },
   "file_extension": ".py",
   "mimetype": "text/x-python",
   "name": "python",
   "nbconvert_exporter": "python",
   "pygments_lexer": "ipython2",
   "version": "2.7.12"
  }
 },
 "nbformat": 4,
 "nbformat_minor": 2
}
