{
 "cells": [
  {
   "cell_type": "code",
   "execution_count": 44,
   "metadata": {
    "collapsed": false
   },
   "outputs": [
    {
     "name": "stderr",
     "output_type": "stream",
     "text": [
      " * Running on http://127.0.0.1:5002/ (Press CTRL+C to quit)\n",
      " * Restarting with stat\n"
     ]
    },
    {
     "ename": "SystemExit",
     "evalue": "1",
     "output_type": "error",
     "traceback": [
      "An exception has occurred, use %tb to see the full traceback.\n",
      "\u001b[0;31mSystemExit\u001b[0m\u001b[0;31m:\u001b[0m 1\n"
     ]
    }
   ],
   "source": [
    "import cv2\n",
    "from flask import Flask, render_template, Response\n",
    "#from visual_api import mark_on_image,add_info_field,Face_info\n",
    "\n",
    "TIMER=0\n",
    "app = Flask(__name__)\n",
    "\n",
    "\n",
    "def gen_frame(capture):\n",
    "\t#here is the source of video set\n",
    "    cap = cv2.VideoCapture(capture)\n",
    "    \n",
    "    while True:\n",
    "        success, frame = cap.read()\n",
    "        global TIMER\n",
    "        TIMER+=1\n",
    "        # if TIMER%100==0:\n",
    "        #     print(type(frame))\n",
    "        #if timer%10!=0:\n",
    "        #     yield()\n",
    "        #place for procesing and marking\n",
    "        \"\"\"\n",
    "        Faces = get_faces(frame)#<--your func\n",
    "        frame,colors = mark_on_image(frame,Faces)\n",
    "        frame = add_info_field(frame,Faces,colors)\n",
    "        \"\"\"\n",
    "        #assert success, 'Wrong frame'\n",
    "\n",
    "        success, jpeg = cv2.imencode('.jpg', frame)\n",
    "\n",
    "        #assert success, 'Encode error'\n",
    "        if TIMER%10==0:\n",
    "            yield (b'--frame\\r\\nContent-Type: image/jpeg\\r\\n\\r\\n' + jpeg.tobytes() + b'\\r\\n\\r\\n')\n",
    "    \n",
    "\n",
    "#@app.route('/')\n",
    "def page():\n",
    "    return Response(gen_frame(0), mimetype='multipart/x-mixed-replace; boundary=frame')\n",
    "\n",
    "\n",
    "if __name__ == '__main__':\n",
    "    app.run(port =5002,debug=True) \n"
   ]
  },
  {
   "cell_type": "code",
   "execution_count": 4,
   "metadata": {
    "collapsed": false
   },
   "outputs": [
    {
     "name": "stderr",
     "output_type": "stream",
     "text": [
      "Bottle v0.12.13 server starting up (using WSGIRefServer())...\n",
      "Listening on http://localhost:8080/\n",
      "Hit Ctrl-C to quit.\n",
      "\n",
      "Traceback (most recent call last):\n",
      "  File \"/home/elyha7/anaconda2/lib/python2.7/site-packages/bottle.py\", line 862, in _handle\n",
      "    return route.call(**args)\n",
      "  File \"/home/elyha7/anaconda2/lib/python2.7/site-packages/bottle.py\", line 1740, in wrapper\n",
      "    rv = callback(*a, **ka)\n",
      "TypeError: index() takes exactly 1 argument (0 given)\n",
      "127.0.0.1 - - [02/Aug/2017 00:00:53] \"GET / HTTP/1.1\" 500 741\n"
     ]
    }
   ],
   "source": [
    "from bottle import route, run, template\n",
    "\n",
    "@route('/')\n",
    "def index(name):\n",
    "    return template('<b>Hello {{elyha7}}</b>!', name=name)\n",
    "\n",
    "run(host='localhost', port=8080)"
   ]
  },
  {
   "cell_type": "code",
   "execution_count": null,
   "metadata": {
    "collapsed": true
   },
   "outputs": [],
   "source": [
    "@route('/image')\n",
    "def video_image():\n",
    "    image_buffer = BytesIO()\n",
    "    pi_camera.capture(image_buffer, format='jpeg') # This works without a problem\n",
    "\n",
    "    image_buffer.seek(0) # this may not be needed\n",
    "    bytes = image_buffer.read()\n",
    "    response.set_header('Content-type', 'image/jpeg')\n",
    "    return bytes"
   ]
  },
  {
   "cell_type": "code",
   "execution_count": 3,
   "metadata": {
    "collapsed": true
   },
   "outputs": [],
   "source": []
  },
  {
   "cell_type": "code",
   "execution_count": 6,
   "metadata": {
    "collapsed": false
   },
   "outputs": [
    {
     "data": {
      "text/plain": [
       "0.8414709848078965"
      ]
     },
     "execution_count": 6,
     "metadata": {},
     "output_type": "execute_result"
    }
   ],
   "source": [
    "sin(1)"
   ]
  },
  {
   "cell_type": "code",
   "execution_count": null,
   "metadata": {
    "collapsed": false
   },
   "outputs": [],
   "source": [
    "sin_values"
   ]
  },
  {
   "cell_type": "code",
   "execution_count": 52,
   "metadata": {
    "collapsed": false
   },
   "outputs": [],
   "source": [
    "cv2.imshow('image',np.array(im.getdata()))\n",
    "cv2.waitKey(0)\n",
    "cv2.destroyAllWindows()\n"
   ]
  },
  {
   "cell_type": "code",
   "execution_count": 7,
   "metadata": {
    "collapsed": false
   },
   "outputs": [],
   "source": []
  },
  {
   "cell_type": "code",
   "execution_count": 8,
   "metadata": {
    "collapsed": true
   },
   "outputs": [],
   "source": [
    "from matplotlib import pyplot as plt"
   ]
  },
  {
   "cell_type": "code",
   "execution_count": 9,
   "metadata": {
    "collapsed": false
   },
   "outputs": [
    {
     "data": {
      "image/png": "[encoded data removed]",
      "text/plain": [
       "<matplotlib.figure.Figure at 0x7f6530b56210>"
      ]
     },
     "metadata": {},
     "output_type": "display_data"
    }
   ],
   "source": [
    "plt.plot(sin_values)\n",
    "plt.show()"
   ]
  },
  {
   "cell_type": "code",
   "execution_count": 14,
   "metadata": {
    "collapsed": false
   },
   "outputs": [],
   "source": [
    "import matplotlib.pyplot as plt\n",
    "import io\n",
    "from PIL import Image\n",
    "from math import sin\n",
    "import numpy as np\n",
    "\n",
    "buf=0\n",
    "sin_values=[sin(i) for i in np.linspace(0,15,1000)]\n",
    "for i in range(1):\n",
    "    plt.plot(sin_values[0:i*100])\n",
    "    plt.title(\"test\")\n",
    "    buf = io.BytesIO()\n",
    "    plt.savefig(buf, format='jpg')\n",
    "    buf.seek(0)\n",
    "    im = Image.open(buf)\n",
    "    #im.show()\n",
    "    buf.close()"
   ]
  },
  {
   "cell_type": "code",
   "execution_count": null,
   "metadata": {
    "collapsed": false
   },
   "outputs": [],
   "source": [
    "buf.getvalue()"
   ]
  },
  {
   "cell_type": "code",
   "execution_count": 40,
   "metadata": {
    "collapsed": false
   },
   "outputs": [
    {
     "data": {
      "text/plain": [
       "[<matplotlib.lines.Line2D at 0x7fd29fcde290>]"
      ]
     },
     "execution_count": 40,
     "metadata": {},
     "output_type": "execute_result"
    }
   ],
   "source": [
    "plt.plot([j for j in sin_values if j<1])"
   ]
  },
  {
   "cell_type": "code",
   "execution_count": 41,
   "metadata": {
    "collapsed": false
   },
   "outputs": [
    {
     "data": {
      "image/png": "[encoded data removed]",
      "text/plain": [
       "<matplotlib.figure.Figure at 0x7fd2a6ac52d0>"
      ]
     },
     "metadata": {},
     "output_type": "display_data"
    }
   ],
   "source": [
    "plt.show()"
   ]
  },
  {
   "cell_type": "code",
   "execution_count": 49,
   "metadata": {
    "collapsed": false
   },
   "outputs": [
    {
     "data": {
      "text/plain": [
       "array([[255, 255, 255],\n",
       "       [255, 255, 255],\n",
       "       [255, 255, 255],\n",
       "       ..., \n",
       "       [255, 255, 255],\n",
       "       [255, 255, 255],\n",
       "       [255, 255, 255]])"
      ]
     },
     "execution_count": 49,
     "metadata": {},
     "output_type": "execute_result"
    }
   ],
   "source": [
    "np.array(im.getdata())"
   ]
  },
  {
   "cell_type": "code",
   "execution_count": 6,
   "metadata": {
    "collapsed": true
   },
   "outputs": [],
   "source": [
    "from math import sin"
   ]
  },
  {
   "cell_type": "code",
   "execution_count": null,
   "metadata": {
    "collapsed": true
   },
   "outputs": [],
   "source": []
  }
 ],
 "metadata": {
  "anaconda-cloud": {},
  "kernelspec": {
   "display_name": "Python [conda root]",
   "language": "python",
   "name": "conda-root-py"
  },
  "language_info": {
   "codemirror_mode": {
    "name": "ipython",
    "version": 2
   },
   "file_extension": ".py",
   "mimetype": "text/x-python",
   "name": "python",
   "nbconvert_exporter": "python",
   "pygments_lexer": "ipython2",
   "version": "2.7.12"
  }
 },
 "nbformat": 4,
 "nbformat_minor": 1
}
