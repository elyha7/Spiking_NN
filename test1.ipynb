{
 "cells": [
  {
   "cell_type": "markdown",
   "metadata": {
    "collapsed": false
   },
   "source": [
    "Приветствую того, кто читает этот код.В качестве научной работы в университете я занимаюсь спайковыми нейронными сетями. Основной библиотекой является brian2. Так как эта область довольно новая, каких-то готовых хороших алгоритмов для решения определенных задач практически нет, поэтому многое приходится делать методом проб и ошибок, а в этом очень сильно помогает визуализация данных и наш любимый matplotlib. "
   ]
  },
  {
   "cell_type": "markdown",
   "metadata": {},
   "source": [
    "В классических нейронных сетях простейшей задачей, с которой начинают новички является классификация mnist, но для спайковых сетей эта задача пока довольно сложная, поэтому в данной работе я покажу их работу на примере двухклассовой классификации датасета digits."
   ]
  },
  {
   "cell_type": "markdown",
   "metadata": {},
   "source": [
    "Кратко о спайковых нейронных сетях. Спайковый нейрон взят из биологии и представляет из себя элемент, который получает импульсы тока и накапливает потенциал на мембране. Когда потенциал превышает определенное значение нейрон передает импульс(спайк) к другим нейронам через связи, собственно веса связей между нейронами и подбираются в процессе обучения. В отличии от классических нейронных сетей, спайковые сети принимают на вход не одну картинку, а ряд из одной картинки, то есть они как бы смотрят на картинку втечение некоторого времени, заряжая мембраны нейронов. Так же между нейронами последнего слоя можно организовать конкуренцию за ток от входных нейронов, это позволяет ускорить обучение. Архитектура сети очень простая: входной слой по нейрону на каждый пиксель картинки и выходной слой 2 нейрона."
   ]
  },
  {
   "cell_type": "code",
   "execution_count": 1,
   "metadata": {
    "collapsed": true
   },
   "outputs": [],
   "source": [
    "from brian2 import *\n",
    "#%matplotlib notebook\n",
    "import matplotlib.pyplot as plt\n",
    "from sklearn import datasets"
   ]
  },
  {
   "cell_type": "code",
   "execution_count": 2,
   "metadata": {
    "collapsed": true
   },
   "outputs": [],
   "source": [
    "#Loading dataset Normalizing data to [0,1]\n",
    "digits=datasets.load_digits(2)\n",
    "data, y = (digits.images/16),digits.target"
   ]
  },
  {
   "cell_type": "code",
   "execution_count": 3,
   "metadata": {
    "collapsed": false
   },
   "outputs": [
    {
     "data": {
      "text/plain": [
       "1.0"
      ]
     },
     "execution_count": 3,
     "metadata": {},
     "output_type": "execute_result"
    }
   ],
   "source": [
    "data.max()"
   ]
  },
  {
   "cell_type": "code",
   "execution_count": 4,
   "metadata": {
    "collapsed": false
   },
   "outputs": [
    {
     "data": {
      "image/png": "[encoded data removed]",
      "text/plain": [
       "<matplotlib.figure.Figure at 0x7feec156ed10>"
      ]
     },
     "metadata": {},
     "output_type": "display_data"
    }
   ],
   "source": [
    "figure('data')\n",
    "for j in np.arange(int(16)):\n",
    "    subplot(4, 4, j+1)\n",
    "    imshow(data[j+100].reshape(8, 8), cmap='winter', interpolation='None')\n",
    "    axis('off')\n",
    "    #print(y[j+100])\n",
    "show()\n",
    "\n",
    "data = data.reshape(-1, 64)"
   ]
  },
  {
   "cell_type": "markdown",
   "metadata": {},
   "source": [
    "Задаем правила обучения сети и значения гиперпараметров. Спайковые сети описываются дифференциальными и алгебраическими уравнениями, определяющими взаимодействие нейронов и частоту спайкования, ещё тут довольно много гиперпараметров, которые нужно подбирать для нормального обучения."
   ]
  },
  {
   "cell_type": "code",
   "execution_count": 5,
   "metadata": {
    "collapsed": true
   },
   "outputs": [],
   "source": [
    "start_scope()\n",
    "\n",
    "n_input_width = 8.\n",
    "n_input_height = n_input_width\n",
    "n_input = n_input_width* n_input_height\n",
    "\n",
    "n_hidden = 2\n",
    "\n",
    "time_step = 0.1 * ms\n",
    "alpha = 10 * ms\n",
    "beta = 100 * ms\n",
    "tau = 10*ms\n",
    "tau_I = 15*ms\n",
    "tau_h = 50*ms\n",
    "\n",
    "wmax = 1.0\n",
    "c_inp = 0.2\n",
    "c_neg = 1.7  #8.8\n",
    "lr = 0.05\n",
    "lr_n = 0.01\n",
    "decay = 0.001\n",
    "\n",
    "eqs_input_neuron = '''\n",
    "rates : Hz\n",
    "da/dt = -a/alpha : 1\n",
    "dtheta/dt = -theta/beta : 1\n",
    "diff = a - theta: 1\n",
    "train : 1\n",
    "'''\n",
    "\n",
    "eqs_hidden_neuron = '''\n",
    "dv/dt = (-v+I)/tau : 1 (unless refractory)\n",
    "dI_inp/dt = -I_inp/tau_I :1\n",
    "dI_neg/dt = -I_neg/tau_I :1\n",
    "I_teacher : 1\n",
    "I = I_inp + I_neg + I_teacher :1\n",
    "da/dt = -a/alpha : 1\n",
    "dtheta/dt = -theta/beta : 1\n",
    "diff = a - theta: 1\n",
    "dhold/dt = -hold/tau_h : 1\n",
    "train : 1\n",
    "'''\n",
    "\n",
    "reset_hidden = '''\n",
    "v = 0\n",
    "hold += 0.1 * n_hidden\n",
    "'''\n",
    "\n",
    "eqs_input_syn = '''\n",
    "w : 1\n",
    "'''\n",
    "\n",
    "# equations that describe changes if presynaptic spike of the forward-oriented synapse of input layer occures\n",
    "eqs_input_pre = '''\n",
    "I_inp_post += w * c_inp\n",
    "a_pre += 1./n_hidden *1*ms/(alpha)\n",
    "theta_pre += 1./n_hidden *1*ms/(beta)\n",
    "'''\n",
    "\n",
    "# equations that describe changes if postsynaptic spike of the forward synapse occures\n",
    "eqs_input_post = '''\n",
    "a_post += 1./n_input *1*ms/(alpha)\n",
    "theta_post += 1./n_input *1*ms/(beta)\n",
    "w = clip(w + train_pre * (-decay + lr*diff_pre), 0, wmax)\n",
    "'''\n",
    "\n",
    "eqs_neg_syn = '''\n",
    "w : 1\n",
    "'''\n",
    "\n",
    "# equations that describe changes if presynaptic spike of the forward-oriented synapse of input layer occures\n",
    "eqs_neg_pre = '''\n",
    "I_neg_post += w * c_neg\n",
    "'''\n",
    "\n",
    "#w = clip(w + train_pre*(+decay - lr_n * diff_post), -wmax, 0)\n",
    "\n",
    "# equations that describe changes if postsynaptic spike of the forward synapse occures\n",
    "eqs_neg_post = '''\n",
    "w = clip(w + train_pre*(-lr_n*diff_pre), -wmax, 0)\n",
    "'''"
   ]
  },
  {
   "cell_type": "markdown",
   "metadata": {},
   "source": [
    "Инициализируем значения параметров сети, нейронные группы и связи между нейронами."
   ]
  },
  {
   "cell_type": "code",
   "execution_count": 9,
   "metadata": {
    "collapsed": false
   },
   "outputs": [
    {
     "name": "stdout",
     "output_type": "stream",
     "text": [
      "im here\n",
      "now here\n"
     ]
    }
   ],
   "source": [
    "P = NeuronGroup(n_input, eqs_input_neuron, threshold='rand()<rates*dt', method='linear', refractory=2*ms, dt = time_step, name='P')\n",
    "P.rates = [k*250*Hz for k in data[0]]\n",
    "P.train = np.ones_like(P.train)\n",
    "P.a = np.random.rand(len(P))*0.5\n",
    "P.theta = np.random.rand(len(P))*0.5\n",
    "\n",
    "StateMonitorP = StateMonitor(P, ['rates', 'a', 'theta', 'diff'], record=True)\n",
    "\n",
    "G = NeuronGroup(n_hidden, eqs_hidden_neuron, method='linear', threshold='v > hold', reset=reset_hidden, refractory=2*ms, dt=time_step, name = 'G')\n",
    "G.train = np.ones_like(G.train)\n",
    "G.a = np.random.rand(len(G))*0.5\n",
    "G.theta = np.random.rand(len(G))*0.5     \n",
    "G.hold = np.ones_like(G.hold) * 3.\n",
    "\n",
    "StateMonitorG = StateMonitor(G, ['a', 'I', 'diff', 'I_inp', 'I_neg', 'hold'], record=True)\n",
    "\n",
    "S = Synapses(P, G, eqs_input_syn, on_pre=eqs_input_pre, on_post=eqs_input_post, dt=time_step)\n",
    "S.connect()\n",
    "S.w = np.random.rand(len(S))\n",
    "\n",
    "StateMonitorS = StateMonitor(S, ['w'], record=True)\n",
    "\n",
    "S_neg = Synapses(G, G, eqs_neg_syn, on_pre=eqs_neg_pre, on_post=eqs_neg_post, dt=time_step)\n",
    "S_neg.connect('i!=j')\n",
    "#S_neg.w = np.random.rand(len(S_neg)) * (-1.)\n",
    "S_neg.w = np.ones_like(S_neg.w) * (-1.)\n",
    "\n",
    "StateMonitorS_neg = StateMonitor(S_neg, ['w'], record=True)\n",
    "print \"im here\"\n",
    "predictions = []\n",
    "labels = []\n",
    "counter = 0\n",
    "train = 1\n",
    "@network_operation(dt=50*ms)\n",
    "def update_input():\n",
    "    global counter\n",
    "    global train\n",
    "    if counter % 2 == 0:\n",
    "        \n",
    "        #if counter:\n",
    "         #   predictions.append(np.argmax(np.mean(StateMonitorG.a[:,-50:], axis=1)))\n",
    "        \n",
    "        index = np.random.randint(1,349)\n",
    "        P.rates = [k*250*Hz for k in data[index]]\n",
    "        if train:\n",
    "            G.I_teacher = np.zeros_like(G.I_teacher)\n",
    "            G.I_teacher[int(y[index])] = 100.0\n",
    "\n",
    "        labels.append(int(y[index]))\n",
    "    else:\n",
    "        P.rates = np.zeros_like(P.rates)\n",
    "        G.I_teacher = np.zeros_like(G.I_teacher)\n",
    "        predictions.append(np.argmax(np.mean(StateMonitorG.a[:,-50:], axis=1)))\n",
    "    counter += 1\n",
    "\n",
    "run(10000*ms)\n",
    "print \"now here\"\n",
    "#add last prediction\n",
    "#predictions.append(np.argmax(np.mean(StateMonitorG.a[:,-50:], axis=1)))"
   ]
  },
  {
   "cell_type": "markdown",
   "metadata": {},
   "source": [
    "20000 милисекунд обучали сеть, посчитаем точность на трейне. Все хорошо, это единица!"
   ]
  },
  {
   "cell_type": "code",
   "execution_count": 10,
   "metadata": {
    "collapsed": false
   },
   "outputs": [
    {
     "name": "stdout",
     "output_type": "stream",
     "text": [
      "1.0\n"
     ]
    }
   ],
   "source": [
    "from sklearn.metrics import accuracy_score\n",
    "\n",
    "print accuracy_score(predictions, labels)"
   ]
  },
  {
   "cell_type": "markdown",
   "metadata": {},
   "source": [
    "Посмотрим на веса нейронов входного слоя. Они действительно становятся похожи на 1 и 0 соответственно. Это здорово!"
   ]
  },
  {
   "cell_type": "code",
   "execution_count": 11,
   "metadata": {
    "collapsed": false
   },
   "outputs": [
    {
     "data": {
      "image/png": "[encoded data removed]",
      "text/plain": [
       "<matplotlib.figure.Figure at 0x7feec0de4610>"
      ]
     },
     "metadata": {},
     "output_type": "display_data"
    }
   ],
   "source": [
    "images_input = [[S.w[r + j * int(len(G))]\n",
    "         for j in np.arange(len(P))] \n",
    "         for r in np.arange(len(G))]\n",
    "images_input = np.array(images_input).reshape(int(n_hidden), int(n_input_width), int(n_input_height))\n",
    "\n",
    "\n",
    "k=1\n",
    "figure('input Weight visualisation', figsize=(5,5))\n",
    "for image in images_input:\n",
    "    subplot(3, 1, k)\n",
    "    imshow(image, cmap='winter', interpolation='None')\n",
    "    axis('off')\n",
    "\n",
    "    k+=1\n",
    "\n",
    "show()"
   ]
  },
  {
   "cell_type": "code",
   "execution_count": 15,
   "metadata": {
    "collapsed": true
   },
   "outputs": [],
   "source": [
    "import animation"
   ]
  },
  {
   "cell_type": "code",
   "execution_count": 24,
   "metadata": {
    "collapsed": true
   },
   "outputs": [],
   "source": [
    "import numpy as np\n",
    "import matplotlib.pyplot as plt \n",
    "import matplotlib.animation as animation\n",
    "import math\n",
    "global_j=0\n",
    "global_jmax=0\n",
    "global_step = 25\n",
    "def animate_weights(G,P,StateMonitorS,end=10000,start=0,save=True,show=True,step = 25):\n",
    "    print n_hidden\n",
    "    \"\"\"\n",
    "    show(bool) : whether to show\n",
    "    save(bool) : whether to save\n",
    "    start(int) : start tick\n",
    "    end(int) : end tick\n",
    "    P,G : Neuron groups. Visualising weights from P to G\n",
    "    StateMonitorS : brian state monitor adjusted to weights you want to visualise\n",
    "    global_step(int) :global ticks from frame to next frame\n",
    "    global_j(int) : global counter\n",
    "    global_jmax : global, set to math.floor((end-start)/global_step) inside\n",
    "    \"\"\"\n",
    "    #step = 25\n",
    "    global global_step\n",
    "    global_step = step\n",
    "    def frames_generator(G,P,StateMonitorS,step=global_step,end=10000,start=0):\n",
    "        '''\n",
    "        generator for speed(hope it helps)\n",
    "        '''\n",
    "        #Reshape all weights as input images and put them all into one array.\n",
    "        toanim = []\n",
    "        frame = start\n",
    "        while frame < end:#in range(start,end,step):\n",
    "            images_input = [[StateMonitorS.w[r + j * int(len(G))][frame]\n",
    "                     for j in range(len(P))] \n",
    "                     for r in range(len(G))]\n",
    "            images_input = np.array(images_input).reshape(int(n_hidden), int(n_input_width), int(n_input_height))\n",
    "            together = np.hstack((images_input[0],np.ones((images_input[0].shape[0],1))*(np.nan),images_input[1],np.zeros((images_input[0].shape[0],1))*(np.nan),images_input[2]))\n",
    "            #toanim.append(together)\n",
    "            frame+=step\n",
    "            #if frame>\n",
    "            yield together\n",
    "\n",
    "\n",
    "    #Create animation\n",
    "    \n",
    "    #%matplotlib osx\n",
    "    global_j=0\n",
    "    global global_jmax\n",
    "    global_jmax = math.floor((end-start)/global_step)\n",
    "    def generate_data():\n",
    "        \"\"\"\n",
    "        awful piece of code\n",
    "        \"\"\"\n",
    "        #global toanim\n",
    "        global global_step\n",
    "        global global_j\n",
    "        global global_jmax\n",
    "        global_j+=1\n",
    "        if global_j>global_jmax:\n",
    "            global_j=global_jmax\n",
    "        for pic in frames_generator(G,P,StateMonitorS,step=global_step,end=end,start=global_j*global_step):\n",
    "            break\n",
    "        return pic#.reshape((8,8)) \n",
    "\n",
    "    def update(data):\n",
    "        mat.set_data(data)\n",
    "        return mat \n",
    "\n",
    "    #def data_gen():\n",
    "    #    while True:\n",
    "    #        yield frames_generator(G,P,StateMonitorS,step=25,end=10000,start=0)\n",
    "\n",
    "    fig, ax = plt.subplots()\n",
    "    mat = ax.imshow(generate_data(),cmap=\"winter\",interpolation=\"none\")\n",
    "    plt.colorbar(mat)\n",
    "    ani = animation.FuncAnimation(fig, update, frames_generator(G,P,StateMonitorS,step=global_step,end=end,start=start), interval=10,\n",
    "                                  save_count=399)\n",
    "    #Show animation\n",
    "    if show:\n",
    "        plt.show()\n",
    "    if save:\n",
    "        #Saving animation as mp4 file\n",
    "        ani.save('MaWheightsAnimation.mp4',writer=animation.FFMpegFileWriter())\n"
   ]
  },
  {
   "cell_type": "code",
   "execution_count": null,
   "metadata": {
    "collapsed": false
   },
   "outputs": [],
   "source": [
    "animate_weights(G,P,StateMonitorS,save=False,step=50)"
   ]
  },
  {
   "cell_type": "code",
   "execution_count": null,
   "metadata": {
    "collapsed": false
   },
   "outputs": [],
   "source": [
    "z = S_neg.w\n",
    "for i in np.arange(int(len(G))):\n",
    "    z = insert(z, i+int(len(G))*i, 0)\n",
    "    \n",
    "images_out_neg = np.array(z).reshape(int(len(G)), 1, 2)\n",
    "\n",
    "k=1\n",
    "figure('negative weight visualisation', figsize=(5,5))\n",
    "for image in images_out_neg:\n",
    "    subplot(3, 3, k)\n",
    "    imshow(image, cmap='RdYlGn', interpolation='None')\n",
    "    axis('off')\n",
    "    \n",
    "    k+=1\n",
    "\n",
    "show()\n"
   ]
  },
  {
   "cell_type": "code",
   "execution_count": null,
   "metadata": {
    "collapsed": false
   },
   "outputs": [],
   "source": [
    "figure('P_rates', figsize=(10,4))\n",
    "for k in np.arange(8):\n",
    "    plot(StateMonitorP.t/ms, StateMonitorP.rates[k], linewidth=1, label = str(k))\n",
    "legend(loc='best')\n",
    "show()\n",
    "\n",
    "#проверяем меняется ли вообще инпут (работает ли update_input)"
   ]
  },
  {
   "cell_type": "code",
   "execution_count": null,
   "metadata": {
    "collapsed": false,
    "scrolled": false
   },
   "outputs": [],
   "source": [
    "figure('P_a', figsize=(10,4))\n",
    "for k in np.arange(10):\n",
    "    plot(StateMonitorP.t/ms, StateMonitorP.a[k], linewidth=1, label = str(k))\n",
    "legend(loc='best')\n",
    "show()\n",
    "\n",
    "figure('P_ a-theta', figsize=(10,4))\n",
    "for k in np.arange(10):\n",
    "    plot(StateMonitorP.t/ms, StateMonitorP.diff[k], linewidth=1, label = str(k))\n",
    "legend(loc='best')\n",
    "show()\n",
    "\n",
    "figure('G_a', figsize=(10,4))\n",
    "for k in np.arange(len(G)):\n",
    "    plot(StateMonitorG.t/ms, StateMonitorG.a[k], linewidth=1, label = str(k))\n",
    "legend(loc='best')\n",
    "show()\n",
    "\n",
    "figure('G_hold', figsize=(10,4))\n",
    "for k in np.arange(len(G)):\n",
    "    plot(StateMonitorG.t/ms, StateMonitorG.hold[k], linewidth=1, label = str(k))\n",
    "legend(loc='best')\n",
    "show()\n",
    "\n",
    "figure('G_diff', figsize=(10,4))\n",
    "for k in np.arange(len(G)):\n",
    "    plot(StateMonitorG.t/ms, StateMonitorG.diff[k], linewidth=1, label = str(k))\n",
    "legend(loc='best')\n",
    "show()\n",
    "\n",
    "# #проверяем активность нейронов разных слоев (меняется ли она вообще?)"
   ]
  },
  {
   "cell_type": "code",
   "execution_count": null,
   "metadata": {
    "collapsed": false
   },
   "outputs": [],
   "source": [
    "figure('G_I', figsize=(10,4))\n",
    "for k in np.arange(len(G)):\n",
    "    plot(StateMonitorG.t/ms, StateMonitorG.I_inp[k], linewidth=1, label = 'inp' + str(k))\n",
    "    plot(StateMonitorG.t/ms, StateMonitorG.I_neg[k], linewidth=1, label = 'neg' + str(k))\n",
    "legend(loc='best')\n",
    "show()"
   ]
  },
  {
   "cell_type": "code",
   "execution_count": null,
   "metadata": {
    "collapsed": false
   },
   "outputs": [],
   "source": [
    "figure('input weights', figsize=(10,4))\n",
    "for k in np.arange(10):\n",
    "    plot(StateMonitorS.t/ms, StateMonitorS.w[k], linewidth=1, label = str(k))\n",
    "#legend(loc='best')\n",
    "show()\n",
    "\n",
    "#проверяем есть ли какие-то аномалии в изменении весов нейронов"
   ]
  },
  {
   "cell_type": "code",
   "execution_count": null,
   "metadata": {
    "collapsed": false
   },
   "outputs": [],
   "source": [
    "figure('negative intr weights', figsize=(10,4))\n",
    "for k in np.arange(len(S_neg)):\n",
    "    plot(StateMonitorS_neg.t/ms, StateMonitorS_neg.w[k], linewidth=1, label = str(k))\n",
    "legend(loc='best')\n",
    "show()\n",
    "\n",
    "#проверяем есть ли какие-то аномалии в изменении весов нейронов"
   ]
  },
  {
   "cell_type": "code",
   "execution_count": null,
   "metadata": {
    "collapsed": false
   },
   "outputs": [],
   "source": [
    "#P.rates = np.zeros_like(P.rates)\n",
    "#G.I_teacher = np.zeros_like(G.I_teacher)\n",
    "predictions = []\n",
    "labels = []\n",
    "counter = 0\n",
    "train = 0\n",
    "\n",
    "run(20000*ms)\n",
    "\n",
    "#add last prediction\n",
    "#predictions.append(np.argmax(np.mean(StateMonitorG.a[:,-50:], axis=1)))\n",
    "\n",
    "print accuracy_score(predictions, labels)"
   ]
  },
  {
   "cell_type": "code",
   "execution_count": null,
   "metadata": {
    "collapsed": false
   },
   "outputs": [],
   "source": [
    "np.argmax(np.mean(StateMonitorG.a[:,-50:], axis=1))"
   ]
  },
  {
   "cell_type": "code",
   "execution_count": null,
   "metadata": {
    "collapsed": false
   },
   "outputs": [],
   "source": [
    "figure('G_a_test', figsize=(10,4))\n",
    "for k in np.arange(len(G)):\n",
    "    plot(StateMonitorG.t/ms, StateMonitorG.a[k], linewidth=1, label = str(k))\n",
    "legend(loc='best')\n",
    "show()"
   ]
  },
  {
   "cell_type": "code",
   "execution_count": null,
   "metadata": {
    "collapsed": false
   },
   "outputs": [],
   "source": [
    "images_input = [[S.w[r + j * int(len(G))]\n",
    "         for j in np.arange(len(P))] \n",
    "         for r in np.arange(len(G))]\n",
    "images_input = np.array(images_input).reshape(int(n_hidden), int(n_input_width), int(n_input_height))\n",
    "\n",
    "\n",
    "k=1\n",
    "figure('input Weight visualisation test', figsize=(5,5))\n",
    "for image in images_input:\n",
    "    subplot(3, 1, k)\n",
    "    imshow(image, cmap='winter', interpolation='None')\n",
    "    axis('off')\n",
    "\n",
    "    k+=1\n",
    "\n",
    "show()"
   ]
  },
  {
   "cell_type": "code",
   "execution_count": null,
   "metadata": {
    "collapsed": true
   },
   "outputs": [],
   "source": []
  }
 ],
 "metadata": {
  "anaconda-cloud": {},
  "kernelspec": {
   "display_name": "Python [conda root]",
   "language": "python",
   "name": "conda-root-py"
  },
  "language_info": {
   "codemirror_mode": {
    "name": "ipython",
    "version": 2
   },
   "file_extension": ".py",
   "mimetype": "text/x-python",
   "name": "python",
   "nbconvert_exporter": "python",
   "pygments_lexer": "ipython2",
   "version": "2.7.12"
  }
 },
 "nbformat": 4,
 "nbformat_minor": 1
}
